{
 "cells": [
  {
   "cell_type": "code",
   "execution_count": 1,
   "metadata": {
    "colab": {
     "base_uri": "https://localhost:8080/",
     "height": 111,
     "resources": {
      "http://localhost:8080/nbextensions/google.colab/files.js": {
       "data": "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",
       "headers": [
        [
         "content-type",
         "application/javascript"
        ]
       ],
       "ok": true,
       "status": 200,
       "status_text": ""
      }
     }
    },
    "colab_type": "code",
    "id": "vuADsFzHmhrb",
    "outputId": "3c20e005-f51c-4b89-ca49-c17e20dbffc0"
   },
   "outputs": [
    {
     "data": {
      "text/html": [
       "\n",
       "     <input type=\"file\" id=\"files-464eb8e3-562c-476a-8a9a-0a524e9a0627\" name=\"files[]\" multiple disabled />\n",
       "     <output id=\"result-464eb8e3-562c-476a-8a9a-0a524e9a0627\">\n",
       "      Upload widget is only available when the cell has been executed in the\n",
       "      current browser session. Please rerun this cell to enable.\n",
       "      </output>\n",
       "      <script src=\"/nbextensions/google.colab/files.js\"></script> "
      ],
      "text/plain": [
       "<IPython.core.display.HTML object>"
      ]
     },
     "metadata": {
      "tags": []
     },
     "output_type": "display_data"
    },
    {
     "name": "stdout",
     "output_type": "stream",
     "text": [
      "Saving QSAR_BCF_Kow.csv to QSAR_BCF_Kow.csv\n"
     ]
    },
    {
     "data": {
      "text/plain": [
       "{'QSAR_BCF_Kow.csv': b'\\xef\\xbb\\xbfCAS,Name,SMILES,LogKOW,KOW type,logBCF\\r\\n 105-67-9,n.a.,Oc1ccc(cc1C)C,2.3,exp,1.18\\r\\n 108-39-4,n.a.,Oc1cccc(c1)C,1.96,exp,1.03\\r\\n 113136-77-9,n.a.,O=C(O)C2CC2(C(=O)Nc1ccc(cc1Cl)Cl),1.98,pred,-0.4\\r\\n 114311-32-9,n.a.,O=C(O)c2cc(cnc2(C1=NC(=O)C(N1)(C)C(C)C))COC,1.02,pred,-1\\r\\n 1689-84-5,n.a.,N#Cc1cc(c(O)c(c1)Br)Br,2.99,pred,0.84\\r\\n 178928-70-6,n.a.,OC(Cc1ccccc1Cl)(CN2N=CNC2=S)C3(CC3)Cl,2.37,pred,1.27\\r\\n 22259-30-9,n.a.,O=C(Oc1cccc(N=CN(C)C)c1)NC,0.78,pred,0\\r\\n 2460-49-3,n.a.,Oc1cc(c(cc1(OC))Cl)Cl,3.26,exp,1.98\\r\\n 25155-30-0,n.a.,O=S(=O)(O)c1ccccc1CCCCCCCCCCCC,4.87,pred,2.02\\r\\n 57057-83-7,n.a.,Oc1cc(c(c(c1(OC))Cl)Cl)Cl,3.77,exp,2.46\\r\\n 65-85-0,n.a.,O=C(O)c1ccccc1,1.87,exp,1\\r\\n 74051-80-2,n.a.,O=C1C(=C(O)CC(C1)CC(C)SCC)C(=NOCC)CCC,4.38,exp,0.93\\r\\n 74-11-3,n.a.,O=C(O)c1ccc(cc1)Cl,2.65,exp,1\\r\\n 93-72-1,n.a.,O=C(O)C(Oc1cc(c(cc1Cl)Cl)Cl)C,3.8,exp,1.76\\r\\n 93-76-5,n.a.,O=C(O)COc1cc(c(cc1Cl)Cl)Cl,3.31,exp,1.38\\r\\n100-00-5,p-Chloronitrobenzene,O=[N+](c1ccc(cc1)Cl)[O-],2.47,pred,1.46\\r\\n100-01-6,4-Nitroaniline,O=[N+](c1ccc(cc1)N)[O-],1.12,pred,0.65\\r\\n100-02-7,p-Nitrophenol,O=[N+](c1ccc(cc1)O)[O-],1.91,exp,0.74\\r\\n100-17-4,4-Nitrophenyl methylether,O=[N+](c1ccc(cc1)OC)[O-],2.03,exp,0.93\\r\\n100-18-5,n.a.,c1cc(ccc1C(C)C)C(C)C,4.61,pred,3.24\\r\\n100-25-4,n.a.,O=[N+]([O-])c1ccc(cc1)[N+](=O)[O-],1.46,exp,-0.4\\r\\n100-26-5,\"Pyridine-2,5-dicarboxylic acid\",OC(=O)c1ccc(nc1)C(=O)O,0.38,pred,0.56\\r\\n100-40-3,4-Vinyl-1-cyclohexene,C=CC1CCC=CC1,3.93,exp,2.24\\r\\n100-42-5,n.a.,C=Cc1ccccc1,2.95,exp,1.13\\r\\n100-43-6,4-Vinylpyridine,C=Cc1ccncc1,1.44,pred,1.89\\r\\n100-61-8,N-Methylaniline,CNc1ccccc1,1.66,exp,0.83\\r\\n100-80-1,n.a.,C=Cc1cccc(c1)C,3.24,pred,1.55\\r\\n101007-06-1,n.a.,N#CC(OC(=O)C1C(C=CC(=O)OC(C(F)(F)F)C(F)(F)F)C1(C)(C))c3cccc(Oc2ccccc2)c3,6.04,pred,2.73\\r\\n101-02-0,n.a.,O(c1ccccc1)P(Oc2ccccc2)Oc3ccccc3,4.1,pred,2.39\\r\\n10113-28-7,\"Tris (phenyl,monomethylphenyl,dimethylphenyl,ethylphenyl,nonylphenyl) phosphate\",O=P(OC)(OC)Oc1ccccc1,1.22,exp,2.76\\r\\n101-14-4,\"3,3\\'\\'-Dichloro-4,4\\'\\'-diaminodiphenylmethane\",Clc1c(ccc(c1)Cc1cc(c(cc1)N)Cl)N,3.91,exp,2.33\\r\\n101-20-2,Triclocarban,O=C(Nc1ccc(c(c1)Cl)Cl)Nc1ccc(cc1)Cl,3.56,exp,1.99\\r\\n101-21-3,n.a.,O=C(OC(C)C)Nc1cccc(c1)Cl,3.51,exp,2.16\\r\\n1014-70-6,n.a.,n1c(nc(nc1NCC)SC)NCC,2.8,exp,0.31\\r\\n101-53-1,4-Hydroxy diphenylmethane,Oc1ccc(cc1)Cc1ccccc1,3.47,exp,1.4\\r\\n101-77-9,\"4,4\\'\\'-Diaminodiphenylmethane\",Nc1ccc(cc1)Cc1ccc(cc1)N,1.59,exp,1.12\\r\\n101-81-5,Diphenyl methane,C(c1ccccc1)c1ccccc1,4.14,exp,2.97\\r\\n101-84-8,Diphenyl ether,O(c1ccccc1)c1ccccc1,4.21,exp,2.57\\r\\n102-06-7,\"N,N\\'\\'-Diphenylguanidine\",N=C(Nc1ccccc1)Nc1ccccc1,3.03,pred,1.05\\r\\n102-70-5,Trialiylamine,C=CCN(CC=C)CC=C,2.59,exp,0.54\\r\\n102-71-6,Triethanolamine,OCCN(CCO)CCO,-1,exp,0.35\\r\\n102-82-9,n.a.,N(CCCC)(CCCC)CCCC,4.4,pred,1.3\\r\\n102851-06-9,n.a.,N#CC(OC(=O)C(Nc1ccc(cc1Cl)C(F)(F)F)C(C)C)c3cccc(Oc2ccccc2)c3,6.99,pred,2.3\\r\\n10315-98-7,n.a.,O1CCN(CC1)CC(C)C,1.17,exp,0.23\\r\\n10319-14-9,Disperse Yellow 64,O=C1C(c2nc3c(c(c2O)Br)cccc3)C(=O)c2c1cccc2,3.93,pred,1.06\\r\\n103-44-6,2-Ethylhexylvinylether,CCC(CCCC)COC=C,3.87,pred,2.94\\r\\n103-50-4,Dibenzylether,C(c1ccccc1)OCc1ccccc1,3.31,exp,2.48\\r\\n103-69-5,N-Ethylaniline,CCNc1ccccc1,2.16,exp,1.05\\r\\n103-83-3,\"N,N-Dimethylbenzylamine\",CN(Cc1ccccc1)C,1.98,exp,1.05\\r\\n104294-16-8,\"2,2\\'\\',4,4\\'\\',6-Pentachlorodiphenyl ether\",Clc1c(c(cc(c1)Cl)Cl)Oc1ccc(cc1Cl)Cl,6.11,exp,3.95\\r\\n104-40-5,n.a.,Oc1ccc(cc1)CCCCCCCCC,5.76,exp,2.57\\r\\n10453-86-8,Resmethrin,CC(=CC1C(C1(C)C)C(=O)OCc1coc(c1)Cc1ccccc1)C,6.14,exp,3.55\\r\\n104653-34-1,n.a.,O=C2c1ccccc1SC(O)=C2C6c3ccccc3CC(c4ccc(cc4)c5ccc(cc5)Br)C6,8.52,pred,4.6\\r\\n104-88-1,n.a.,O=Cc1ccc(cc1)Cl,2.29,pred,0.32\\r\\n10496-18-1,n.a.,CCCCCCCCCCSSCCCCCCCCCC,9.85,pred,1.15\\r\\n105-05-5,p-Diethylbenzene,CCc1ccc(cc1)CC,4.05,pred,2.71\\r\\n105-06-6,n.a.,C=Cc1ccc(C=C)cc1,3.44,pred,2.48\\r\\n10541-83-0,p-(Methylamino) benzoic acid,CNc1ccc(cc1)C(=O)O,1.29,pred,0.07\\r\\n105512-06-9,n.a.,O=C(OCC#C)C(Oc2ccc(Oc1ncc(cc1(F))Cl)cc2)C,3.9,exp,1.53\\r\\n10605-21-7,Methyl benzimidazole-2-ylcarbamate,O=C(NC1=Nc2c(cccc2)N1)OC,1.52,exp,0.3\\r\\n106-37-6,p-Dibromobenzene,Brc1ccc(cc1)Br,3.79,exp,2.25\\r\\n106-41-2,p-Bromophenol,Oc1ccc(cc1)Br,2.59,exp,1.21\\r\\n106-42-3,n.a.,c1cc(ccc1C)C,3.15,exp,1.17\\r\\n106-43-4,p-Chlorotoluene,Cc1ccc(cc1)Cl,3.33,exp,1.8\\r\\n106-46-7,n.a.,c1cc(ccc1Cl)Cl,3.44,exp,2.65\\r\\n106-47-8,n.a.,Nc1ccc(cc1)Cl,1.83,exp,0.72\\r\\n106-48-9,p-Chlorophenol,Oc1ccc(cc1)Cl,2.39,exp,1.42\\r\\n1067-97-6,n.a.,O[Sn](CCCC)(CCCC)CCCC,4.4,pred,3.92\\r\\n106-93-4,\"1,2-Dibromoethane\",BrCCBr,1.96,exp,0.93\\r\\n107-05-1,Allylchloride,C=CCCl,1.73,pred,0.5\\r\\n1071-83-6,n.a.,O=C([O-])CNCP(=O)(O)O,-1.82,pred,-0.3\\r\\n1071-83-6,Glyphosate,OC(=O)CNCP(=O)(O)O,-4,exp,1.4\\r\\n107-39-1,Diisobutylene,CC(CC(=C)C)(C)C,4.55,exp,2.81\\r\\n107534-96-3,n.a.,OC(Cn1ncnc1)(CCc2ccc(cc2)Cl)C(C)(C)C,3.7,exp,2\\r\\n108-36-1,n.a.,c1cc(cc(c1)Br)Br,3.75,exp,2.8\\r\\n108-38-3,n.a.,c1cc(cc(c1)C)C,3.2,exp,1.17\\r\\n108-42-9,n.a.,Nc1cccc(c1)Cl,1.88,exp,0.33\\r\\n108-43-0,m-Chlorophenol,Oc1cc(ccc1)Cl,2.5,exp,1.14\\r\\n108-45-2,m-Phenylenediamine,Nc1cc(ccc1)N,0.17,pred,0.81\\r\\n108-57-6,m- Divinylbenzene,C=Cc1cccc(C=C)c1,3.44,pred,2.54\\r\\n108-60-1,Bis(1-methyl-2-chloroethyl)ether,CC(OC(CCl)C)CCl,2.48,exp,1.02\\r\\n108-62-3,n.a.,O1C(OC(OC(OC1C)C)C)C,0.64,pred,1.04\\r\\n108-67-8,\"1,3,5-Trimethylbenzene\",Cc1cc(cc(c1)C)C,3.52,pred,2.35\\r\\n108-70-3,\"1,3,5-Trichlorobenzene\",Clc1cc(cc(c1)Cl)Cl,4.19,exp,3.14\\r\\n108-78-1,\"2,4,6-Triamino-1,3,5-triazine\",Nc1nc(nc(n1)N)N,-1.37,exp,0.33\\r\\n108-80-5,Isocyanuric acid,Oc1nc(nc(n1)O)O,-0.49,pred,-0.48\\r\\n108-86-1,Bromobenzene,Brc1ccccc1,2.99,exp,1.4\\r\\n108-87-2,Methylcyclohexane,CC1CCCCC1,3.61,exp,2.32\\r\\n108-88-3,n.a.,c1ccc(cc1)C,2.73,exp,0.92\\r\\n108-90-7,Monochlorobenzene,Clc1ccccc1,2.84,exp,1.31\\r\\n108-95-2,n.a.,Oc1ccccc1,1.46,exp,0.9\\r\\n109-09-1,2-Chloropyridine,Clc1ccccn1,1.22,exp,1.03\\r\\n109-69-3,1-Chlorobutane,CCCCCl,2.64,exp,1.22\\r\\n110-00-9,Furan,c1cocc1,1.34,exp,0.52\\r\\n110-02-1,Thiophene,c1cscc1,1.81,exp,0.79\\r\\n110235-47-7,n.a.,C(#CC)c1nc(nc(c1)C)Nc2ccccc2,3.28,exp,2.45\\r\\n110-30-5,n.a.,O=C(NCCNC(=O)CCCCCCCCCCCCCCCCC)CCCCCCCCCCCCCCCCC,12.5,pred,0.32\\r\\n110-82-7,Cyclohexane,C1CCCCC1,3.44,exp,1.94\\r\\n110-85-0,Piperazine,C1CNCCN1,-1.5,exp,0.41\\r\\n110-91-8,n.a.,O1CCNCC1,-0.86,exp,0.22\\r\\n110-98-5,Dipropylene glycol,CC(COCC(C)O)O,-0.55,pred,0.56\\r\\n111-40-0,Bis(2-aminoethyl)amine,NCCNCCN,-1.96,pred,0.5\\r\\n111-41-1,2- (2-Aminoethylamino)ethanol,NCCNCCO,-1.74,pred,0.29\\r\\n111-44-4,\"2,2\\'\\'-Dichlorodiethyl ether\",ClCCOCCCl,1.29,exp,0.62\\r\\n111479-05-1,n.a.,O=C(OCCON=C(C)C)C(Oc3ccc(Oc1nc2ccc(cc2(nc1))Cl)cc3)C,4.6,exp,2.77\\r\\n1116-76-3,Tri n octylamine,CCCCCCCCN(CCCCCCCC)CCCCCCCC,9.81,pred,1.95\\r\\n111-84-2,n-Nonane,CCCCCCCCC,4.83,pred,3.15\\r\\n111-94-4,Bis(cyanoethyl)amine,N#CCCNCCC#N,-1.34,exp,-0.13\\r\\n112281-77-3,n.a.,FC(F)C(F)(F)OCC(c1ccc(cc1Cl)Cl)Cn2ncnc2,3.56,exp,1.55\\r\\n112-40-3,n-Dodecane,CCCCCCCCCCCC,6.1,exp,2.59\\r\\n112410-23-8,n.a.,O=C(NN(C(=O)c1cc(cc(c1)C)C)C(C)(C)C)c2ccc(cc2)CC,4.25,exp,1.84\\r\\n112-41-4,1-Dodecene,CCCCCCCCCCC=C,6.03,pred,3.4\\r\\n1141-38-4,\"2,6-Naphthalenedicarboxylic acid\",OC(=O)c1cc2ccc(cc2cc1)C(=O)O,2.35,pred,0.68\\r\\n114369-43-6,n.a.,N#CC(c1ccccc1)(Cn2ncnc2)CCc3ccc(cc3)Cl,3.23,exp,2.2\\r\\n115-28-6,\"1,4,5,6,7,7-Hexachlorobicyclo(2,2,1)-5-heptene-2,3-dicarboxylic acid\",ClC12C(C(C(C1(Cl)Cl)(C(=C2Cl)Cl)Cl)C(=O)O)C(=O)O,3.19,pred,0.08\\r\\n115-29-7,n.a.,O=S1OCC2C(CO1)C3(C(=C(C2(C3(Cl)Cl)Cl)Cl)Cl)Cl,3.83,exp,3.44\\r\\n115-32-2,\"1,1-Bis(p-chlorophenyl)-2,2,2-trichloroethanol\",OC(c1ccc(cc1)Cl)(c1ccc(cc1)Cl)C(Cl)(Cl)Cl,5.02,exp,3.78\\r\\n115-77-5,Pentaerythritol,OCC(CO)(CO)CO,-1.69,exp,0.03\\r\\n115-86-6,n.a.,O=P(Oc1ccccc1)(Oc2ccccc2)Oc3ccccc3,4.59,exp,2.38\\r\\n115-90-2,Fensulfothion,CCOP(=S)(Oc1ccc(cc1)S(=O)C)OCC,2.23,exp,1.68\\r\\n115-96-8,Tris(2-chloroethyl)phosphate,O=P(OCCCl)(OCCCl)OCCCl,1.44,exp,0.16\\r\\n1163-19-5,n.a.,O(c1c(c(c(c(c1Br)Br)Br)Br)Br)c2c(c(c(c(c2Br)Br)Br)Br)Br,10.5,pred,2.29\\r\\n116714-46-6,n.a.,O=C(NC(=O)c1c(F)cccc1(F))Nc2ccc(OC(F)(F)C(F)OC(F)(F)F)c(c2)Cl,5.27,exp,3.32\\r\\n117-18-0,n.a.,O=[N+]([O-])c1c(c(cc(c1Cl)Cl)Cl)Cl,4.29,pred,3.25\\r\\n117428-22-5,n.a.,O=C(OC)C(=COC)c1ccccc1COc2nc(ccc2)C(F)(F)F,3.8,pred,2.46\\r\\n117-79-3,2-Aminoanthraquinone,O=C1c2cc(ccc2C(=O)c2c1cccc2)N,2.6,pred,1.55\\r\\n117-81-7,\"Benzene-1,2-dicarboxylic acid bis (2-ethylhexyl) ester\",O=C(c1c(cccc1)C(=O)OCC(CCCC)CC)OCC(CCCC)CC,7.6,exp,2.38\\r\\n118134-30-8,n.a.,O1CC(OC12(CCC(CC2)C(C)(C)C))CN(CC)CCC,4.54,pred,1.9\\r\\n118-32-1,\"7-Hydroxy -1,3-naphthalene disulfonic acid\",O=S(=O)(c1cc(cc2c1cc(cc2)O)S(=O)(=O)O)O,-1.71,pred,0.5\\r\\n118-44-5,n.a.,c1ccc2c(c1)cccc2(NCC),3.45,exp,2.35\\r\\n118-74-1,Hexachlorobenzene,Clc1c(c(c(c(c1Cl)Cl)Cl)Cl)Cl,5.73,exp,4.27\\r\\n118-79-6,n.a.,Oc1c(cc(cc1Br)Br)Br,4.13,exp,2.71\\r\\n118-83-2,4-Chloro-1-nitro-2(trifluoromethyl) benzene,FC(c1c(ccc(c1)Cl)[N+](=O)[O-])(F)F,3.2,exp,1.95\\r\\n118-91-2,o-Chloro benzoic acid,Clc1c(cccc1)C(=O)O,2.05,exp,0.75\\r\\n118-96-7,n.a.,O=[N+]([O-])c1cc(c(c(c1)[N+](=O)[O-])C)[N+](=O)[O-],1.6,exp,0.99\\r\\n119-12-0,n.a.,O=C1C=CC(=NN1c2ccccc2)OP(OCC)(OCC)=S,3.51,pred,0.77\\r\\n119168-77-3,n.a.,O=C(NCc1ccc(cc1)C(C)(C)C)c2c(c(nn2C)CC)Cl,4.61,exp,1.14\\r\\n119-33-5,2-Nitro-p-cresol,Oc1ccc(cc1[N+](=O)[O-])C,2.37,exp,0.96\\r\\n119446-68-3,n.a.,n1cnn(c1)CC2(OCC(O2)C)c4ccc(Oc3ccc(cc3)Cl)cc4Cl,4.3,exp,2.5\\r\\n1194-65-6,n.a.,N#Cc1c(cccc1Cl)Cl,2.74,exp,2\\r\\n119-47-1,\"2,2\\'\\'-Methylenebis(6-t-buthyl-4-methylphenol)\",Oc1c(cc(cc1Cc1c(c(cc(c1)C)C(C)(C)C)O)C)C(C)(C)C,6.25,exp,2.67\\r\\n119-56-2,n.a.,OC(c1ccccc1)c2ccc(cc2)Cl,3.61,exp,1.82\\r\\n119-61-9,Benzophenone,O=C(c1ccccc1)c1ccccc1,3.18,exp,1.01\\r\\n119-64-2,Tetrahydronaphthalene,c1c2c(ccc1)CCCC2,3.49,exp,2.5\\r\\n119738-06-6,n.a.,O=C(OCC1OCCC1)C(Oc4ccc(Oc2nc3ccc(cc3(nc2))Cl)cc4)C,4.32,exp,2.53\\r\\n119-93-7,\"3,3\\'\\'-Dimethylbenzidine\",Cc1c(ccc(c1)c1cc(c(cc1)N)C)N,2.34,exp,1.64\\r\\n120068-37-3,n.a.,N#Cc1nn(c(N)c1S(=O)C(F)(F)F)c2c(cc(cc2Cl)C(F)(F)F)Cl,4,exp,2.51\\r\\n120116-88-3,n.a.,N#Cc2nc(c(c1ccc(cc1)C)n2S(=O)(=O)N(C)C)Cl,2.42,pred,2.46\\r\\n120-12-7,Anthracene,c1c2c(cc3c1cccc3)cccc2,4.45,exp,3.26\\r\\n120-52-5,n.a.,O=C(ON=C2C=CC(=NOC(=O)c1ccccc1)C=C2)c3ccccc3,3.78,pred,0.43\\r\\n120-54-7,n.a.,C(N1CCCCC1)(=S)SSSSC(N2CCCCC2)=S,4.7,pred,1.18\\r\\n120-71-8,1-Amino-2-methoxy-5-methyl-benzene,Nc1cc(ccc1OC)C,1.74,exp,0.69\\r\\n120-78-5,n.a.,C1=CC=C2C(=C1)N=C(S2)SSC3=NC4=CC=CC=C4S3,5.06,pred,1.29\\r\\n120-82-1,\"1,2,4-Trichlorobenzene\",Clc1c(ccc(c1)Cl)Cl,3.94,pred,3.19\\r\\n120-83-2,\"2,4-Dichlorophenol\",Clc1c(ccc(c1)Cl)O,3.06,exp,1.71\\r\\n120928-09-8,n.a.,n1cnc3ccccc3(c1OCCc2ccc(cc2)C(C)(C)C),5.51,exp,2.84\\r\\n121-14-2,n.a.,O=[N+]([O-])c1ccc(c(c1)[N+](=O)[O-])C,1.98,exp,0.9\\r\\n1212-29-9,n.a.,N(C(NC1CCCCC1)=S)C2CCCCC2,3.69,exp,0.65\\r\\n121-44-8,Triethylamine,CCN(CC)CC,1.45,exp,0.45\\r\\n121552-61-2,n.a.,n1c(nc(cc1C)C2CC2)Nc3ccccc3,4,exp,2.59\\r\\n121-69-7,\"N,N-Dimethylaniline\",CN(c1ccccc1)C,2.31,exp,0.96\\r\\n121-73-3,n.a.,O=[N+]([O-])c1cccc(c1)Cl,2.46,exp,1.89\\r\\n121-75-5,n.a.,O=C(OCC)CC(C(=O)OCC)SP(OC)(OC)=S,2.36,exp,1.26\\r\\n121-82-4,n.a.,O=[N+]([O-])N1CN([N+](=O)[O-])CN([N+](=O)[O-])C1,0.87,exp,0.3\\r\\n121-92-6,m-Nitrobenzoic acid,OC(=O)c1cccc(c1)[N+](=O)[O-],1.83,exp,0.6\\r\\n122008-85-9,n.a.,N#Cc2ccc(Oc1ccc(OC(C(=O)OCCCC)C)cc1)c(F)c2,5.01,pred,0.88\\r\\n122-14-5,\"O,O-Dimethyl-O-(3-methyl-4-nitrophenyl) phosphorothionate\",S=P(Oc1cc(c(cc1)[N+](=O)[O-])C)(OC)OC,3.3,exp,1.89\\r\\n122-20-3,Tris(2-hydroxypropyl)amine,CC(CN(CC(C)O)CC(C)O)O,-0.69,pred,-0.49\\r\\n1222-05-5,Galaxolide ,CC1COCc2c1cc1c(c2)C(C(C1(C)C)C)(C)C,5.9,exp,3.02\\r\\n122-32-7,n.a.,O=C(OCC(OC(=O)CCCCCCCC=CCCCCCCCC)COC(=O)CCCCCCCC=CCCCCCCCC)CCCCCCCC=CCCCCCCCC,18.35,pred,2.54\\r\\n122-34-9,n.a.,n1c(nc(nc1NCC)Cl)NCC,2.18,exp,0.84\\r\\n122-39-4,Diphenylamine,N(c1ccccc1)c1ccccc1,3.5,exp,2.24\\r\\n123251-96-7,\"3,3\\'\\'-Dichloro-5,5\\'\\'-benzidine disulfonic acid\",Nc1c(cc(cc1Cl)c1cc(c(c(c1)Cl)N)S(=O)(=O)O)S(=O)(=O)O,-1,pred,-0.1\\r\\n123-48-8,\"2,2,4,6,6-Pentamethyl-3-heptene\",CC(CC(=CC(C)(C)C)C)(C)C,5.42,pred,3.29\\r\\n123-63-7,p-Acetaldehyde,CC1OC(OC(O1)C)C,0.67,exp,0.28\\r\\n123-91-1,\"1,4-Dioxane\",C1COCCO1,-0.27,exp,-0.29\\r\\n124-11-8,1-Nonene,CCCCCCCC=C,5.15,exp,3.18\\r\\n1241-94-7,2-Ethylhexyldiphenyl phosphate,O=P(Oc1ccccc1)(Oc1ccccc1)OCC(CCCC)CC,5.73,exp,2.59\\r\\n124495-18-7,n.a.,Fc3ccc(Oc2ccnc1cc(cc(c12)Cl)Cl)cc3,5.23,pred,3.7\\r\\n125116-23-6,n.a.,OC3(Cn1ncnc1)(C(Cc2ccc(cc2)Cl)CCC3(C)(C)),3.93,exp,2.11\\r\\n126-30-7,\"2,2-Dimethyl-1,3-propanediol\",CC(CO)(CO)C,-0.03,pred,0.42\\r\\n126-33-0,\"Tetrahydrothiophene-1,1-dioxide\",O=S1(=O)CCCC1,-0.77,exp,0.62\\r\\n126448-41-7/135158-54-2,n.a.,OC(c2cccc1nnsc12)=S,1.54,pred,2.07\\r\\n126690-66-2,\"2,4,6-Trimethyl-3-heptene\",CC(C=C(CC(C)C)C)C,4.58,pred,3.29\\r\\n126-72-7,\"Tris(2,3-dibromopropyl)phosphate\",O=P(OCC(CBr)Br)(OCC(CBr)Br)OCC(CBr)Br,4.47,pred,0.45\\r\\n126-73-8,Tri-n-butyl phosphate,O=P(OCCCC)(OCCCC)OCCCC,4,exp,1.38\\r\\n126833-17-8,n.a.,O=C(Nc1ccc(O)c(c1Cl)Cl)C2(C)(CCCCC2),4.63,pred,2.2\\r\\n127-18-4,Tetrachloroethylene,ClC(=C(Cl)Cl)Cl,3.4,exp,1.78\\r\\n127-20-8,n.a.,O=C(O)C(C)(Cl)Cl,1.25,pred,0.76\\r\\n127-27-5,n.a.,O=C(O)C2(C)(CCCC3(C)(C1C(=CC(C=C)(C)CC1)CCC23)),5.54,pred,1.92\\r\\n127-68-4,m-nitrobenzene sulfonic acid,O=[N+]([O-])c1cccc(c1)S(=O)(=O)O,-0.52,pred,0.7\\r\\n127-90-2,\"2,3,3,3,2\\'\\',3\\'\\',3\\'\\',3\\'\\'-Octachlorodipropylether\",ClC(Cl)(Cl)C(COCC(C(Cl)(Cl)Cl)Cl)Cl,4.93,pred,3.39\\r\\n128-37-0,\"2,6-di-tert-Butyl-p-cresol\",Oc1c(cc(cc1C(C)(C)C)C)C(C)(C)C,5.1,exp,3.12\\r\\n128639-02-1,n.a.,O=C(OCC)C(Cc1cc(c(F)cc1Cl)N2N=C(N(C2(=O))C(F)F)C)Cl,3.36,exp,2.25\\r\\n128-86-9/2861-02-1,\"4,8-Diamino-9,10-dihydro-1,5-dihydroxy-9,10-dioxoanthracene-2,6-\",,,,\\r\\n\"disulphonic acid\"\"\",OS(=O)(=O)c1c(c2c(c(c1)N)C(=O)c1c(c(cc(c1O)S(=O)(=O)O)N)C2=O)O,0.31,Merged,,-2.48\\r\\n129-00-0,Pyrene,c1c2c3c4c(c1)cccc4ccc3ccc2,4.88,exp,2.97\\r\\n129-43-1,1-Hydroxyanthraquinone,O=C1c2c(cccc2O)C(=O)c2c1cccc2,3.52,exp,2.31\\r\\n129630-19-9,n.a.,O=C(OCC)COc1cc(c(F)cc1Cl)c2nn(c(OC(F)F)c2Cl)C,4.9,pred,0.38\\r\\n13029-08-8,\"2,2\\'\\'-Dichlorobiphenyl\",Clc1c(cccc1)c1c(cccc1)Cl,4.97,exp,3.64\\r\\n13071-79-9,Terbufos,CCOP(=S)(SCSC(C)(C)C)OCC,4.48,exp,2.73\\r\\n131-09-9,2-Chloroanthraquinone,O=C1c2c(ccc(c2)Cl)C(=O)c2c1cccc2,3.66,pred,2.31\\r\\n13116-53-5,\"1,2,2,3-Tetrachloropropane\",ClC(CCl)(CCl)Cl,2.72,exp,1.6\\r\\n131341-86-1,n.a.,N#Cc1c[nH]cc1c3cccc2OC(F)(F)Oc23,4.12,exp,2.56\\r\\n13150-81-7,\"2,6-Dimethyldecane\",CC(CCCC(CCCC)C)C,6.09,pred,3.18\\r\\n131-57-7,2-Hydroxy-4-methoxybenzophenone,O=C(c1c(cc(cc1)OC)O)c1ccccc1,3.79,exp,2.03\\r\\n131807-57-3,n.a.,O=C4OC(c2ccc(Oc1ccccc1)cc2)(C(=O)N4(Nc3ccccc3))C,4.65,exp,3.48\\r\\n131983-72-7,n.a.,O=C(OCC)C1CC(=O)C(C(=O)C1)=C(O)C2CC2,1.6,exp,0.78\\r\\n1322-93-6,n.a.,O=S(=O)(O)c2cc1c(cccc1C(C)C)cc2C(C)C,2.91,pred,0.6\\r\\n132-64-9,Diphenylene oxide,c1cccc2c1c1ccccc1o2,4.12,exp,3.19\\r\\n132-65-0,Dibenzothiophene,c1c2c3c(sc2ccc1)cccc3,4.38,exp,3.11\\r\\n13286-32-3,n.a.,O=P(OCC)(OCC)SCc1ccccc1,2.58,pred,1.51\\r\\n133-06-2,n.a.,O=C1N(C(=O)C2CC=CCC12)SC(Cl)(Cl)Cl,2.8,exp,1.98\\r\\n133-07-3,n.a.,O=C1c2ccccc2(C(=O)N1SC(Cl)(Cl)Cl),2.85,exp,1.75\\r\\n13356-08-6,n.a.,O([Sn](CC(c1ccccc1)(C)C)(CC(c2ccccc2)(C)C)CC(c3ccccc3)(C)C)[Sn](CC(c4ccccc4)(C)C)(CC(c5ccccc5)(C)C)CC(c6ccccc6)(C)C,10.81,pred,2.86\\r\\n13358-11-7,n.a.,O=C1N(C(=O)C3C1C2(C=CC3(CC2)C(C)C)(C))CC(CC)CCCC,5.96,exp,3.07\\r\\n133855-98-8/106325-08-0,n.a.,Fc1ccc(cc1)C3(OC3(c2ccccc2Cl))(Cn4ncnc4),3.44,exp,1.84\\r\\n134098-61-6,n.a.,O=C(OC(C)(C)C)c1ccc(cc1)CON=Cc3c(nn(c3(Oc2ccccc2))C)C,5.01,exp,3.2\\r\\n134-32-7,1-Naphthylenamine,Nc1c2c(ccc1)cccc2,2.25,exp,1.44\\r\\n134-47-4,\"6,6\\'\\'-Ureylene-bis(1-naphthol-3-sulfonic acid)\",O=C(Nc1cc2cc(cc(c2cc1)O)S(=O)(=O)O)Nc1cc2cc(cc(c2cc1)O)S(=O)(=O)O,-0.18,pred,0.02\\r\\n134-62-3,\"N,N-Diethyl-m-toluamide\",O=C(c1cc(ccc1)C)N(CC)CC,2.18,exp,0.34\\r\\n13464-24-9,n.a.,Oc1ccc(cc1)C(=C)CC(c2ccc(O)cc2)(C)C,5.09,pred,1.59\\r\\n13475-82-6,\"2,2,4,6,6-Pentamethylheptane\",CC(CC(CC(C)(C)C)C)(C)C,5.6,pred,3.1\\r\\n13540-50-6,Phenyl-xylylmethane,Cc1ccc(cc1Cc1ccccc1)C,5.65,exp,3.23\\r\\n13560-89-9,n.a.,C2(=C(C3(C1CCC4C(CCC1C2(C3(Cl)Cl)Cl)C5(C(=C(C4(C5(Cl)Cl)Cl)Cl)Cl)Cl)Cl)Cl)Cl,9.04,pred,2.03\\r\\n135-88-6,2-(N-Phenylamino)naphthalene,c1c2c(ccc1Nc1ccccc1)cccc2,4.43,pred,2.38\\r\\n136426-54-5,n.a.,O=C2c4cc(F)ccc4(N=C(n1ncnc1)N2c3ccc(cc3Cl)Cl),3.24,exp,1.94\\r\\n13654-09-6,Decabromodiphenyl,Brc1c(c(c(c(c1c1c(c(c(c(c1Br)Br)Br)Br)Br)Br)Br)Br)Br,10.38,pred,0.67\\r\\n13674-84-5,Tris(1-chloro-2-propyl)phosphate,O=P(OC(CCl)C)(OC(CCl)C)OC(CCl)C,2.59,exp,0.69\\r\\n13674-87-8,\"Tris(1,3-dichloro-2-propyl)phosphate\",O=P(OC(CCl)CCl)(OC(CCl)CCl)OC(CCl)CCl,3.65,exp,1.18\\r\\n13684-56-5,n.a.,O=C(Oc1cccc(c1)NC(=O)OCC)Nc2ccccc2,3.39,exp,2.2\\r\\n13684-63-4,n.a.,O=C(Oc1cccc(c1)NC(=O)OC)Nc2cccc(c2)C,3.59,exp,2.22\\r\\n137-26-8,n.a.,C(N(C)C)(=S)SSC(N(C)C)=S,1.73,exp,0.54\\r\\n137641-05-5,n.a.,O=C(Nc1ccc(F)cc1)c3nc(Oc2cccc(c2)C(F)(F)F)ccc3,5.06,pred,2.76\\r\\n13936-21-5,2-Pentylanthraquinone,O=C1c2c(ccc(c2)CCCCC)C(=O)c2c1cccc2,5.38,pred,3.02\\r\\n140-66-9,n.a.,Oc1ccc(cc1)C(C)(C)CC(C)(C)C,4.97,pred,2.46\\r\\n140923-17-7,n.a.,O=C(OC(C)C)NC(C(=O)NC(c1ccc(cc1)C)C)C(C)C,3.68,pred,1\\r\\n141112-29-0,n.a.,O=C(c1cnoc1C2CC2)c3ccc(cc3S(=O)(=O)C)C(F)(F)F,2.32,exp,1.04\\r\\n141517-21-7,n.a.,O=C(OC)C(=NOC)c1ccccc1CON=C(c2cccc(c2)C(F)(F)F)C,5.12,pred,2.63\\r\\n141-93-5,m-Diethylbenzene,CCc1cc(ccc1)CC,4.57,exp,2.77\\r\\n142459-58-3,n.a.,O=C(N(c1ccc(F)cc1)C(C)C)COc2nnc(C(F)(F)F)s2,3.2,exp,1.85\\r\\n142891-20-1,n.a.,O=C(OCC)C(=Cc1cc(ccc1Cl)N2C(=O)C3=C(C2(=O))CCCC3)Cl,3.83,pred,1.38\\r\\n142-96-1,n-Butylether,CCCCOCCCC,3.21,exp,1.89\\r\\n143390-89-0,n.a.,O=C(OC)C(=NOC)c1ccccc1COc2ccccc2C,3.4,exp,2.34\\r\\n143-50-0,n.a.,O=C1C2(C3(C4(C1(C5(C2(C3(C(C45Cl)(Cl)Cl)Cl)Cl)Cl)Cl)Cl)Cl)Cl,5.41,exp,3.19\\r\\n144-19-4,\"2,2,4-Trimethyl-1,3-pentanediol\",CC(C(C(C)C)O)(CO)C,1.24,exp,-0.16\\r\\n145701-23-1,n.a.,O=S(=O)(Nc1c(F)cccc1(F))c2nc3c(F)cnc(OC)n3(n2),1.84,pred,0.18\\r\\n145-73-3,n.a.,O=C(O)C2C1OC(CC1)C2(C(=O)O),1.91,exp,-0.4\\r\\n1460-02-2,\"1,3,5-Tri-tert-butylbenzene\",CC(c1cc(cc(c1)C(C)(C)C)C(C)(C)C)(C)C,6.97,pred,4.38\\r\\n1461-22-9,n.a.,CCCC[Sn](CCCC)(CCCC)Cl,4.76,exp,3.3\\r\\n1461-25-2,Tetrabutyltin,CCCC[Sn](CCCC)(CCCC)CCCC,7.7,pred,2.27\\r\\n1477-55-0,\"1,3-Bis(aminomethyl)benzene\",NCc1cc(ccc1)CN,-0.09,pred,0.19\\r\\n14800-24-9,Trymethylbenzylammonium,c1ccc(cc1)C[N+](C)(C)C,-1.66,pred,0.18\\r\\n14816-18-3,\"O,O-Diethyl-O(a-cyanobenzylideneamino) thiophosphate\",S=P(ON=C(c1ccccc1)C#N)(OCC)OCC,4.39,exp,2.89\\r\\n148477-71-8,n.a.,O=C1OC3(C(OC(=O)C(C)(C)CC)=C1c2cc(cc(c2)Cl)Cl)(CCCCC3),6.68,pred,0.15\\r\\n148-75-4,\"2-Naphthol-3,6-disulfonic acid\",OS(=O)(=O)c1c(cc2c(c1)cc(cc2)S(=O)(=O)O)O,-1.69,pred,0.3\\r\\n148-79-8,n.a.,n1cscc1c2nc3ccccc3([nH]2),2.47,exp,1.98\\r\\n1490-04-6/2216-51-5,Menthol,OC1CC(C)CCC1(C(C)C),3.33,exp,1.04\\r\\n149-30-4,2-Mercaptobenzothiazole,SC1=Nc2c(cccc2)S1,2.68,pred,0.65\\r\\n149961-52-4,n.a.,O=C(NC)C(=NOC)c1ccccc1COc2cc(ccc2C)C,4.04,pred,1.68\\r\\n150114-71-9,n.a.,O=C(O)c1nc(cc(N)c1Cl)Cl,1.02,pred,2\\r\\n1502-22-3,n.a.,O=C1CCCCC1C2=CCCCC2,3.17,exp,0.65\\r\\n1506-02-1,Tonalide ,CC1CC(C)(C)c2c(C1(C)C)cc(c(c2)C(=O)C)C,5.75,exp,2.78\\r\\n15087-24-8,n.a.,O=C2C(=Cc1ccccc1)C3CCC2(C)C3(C)(C),4.43,pred,2.47\\r\\n15258-73-8,n.a.,OCc1c(cccc1Cl)Cl,2.02,exp,0.43\\r\\n15299-99-7,n.a.,O=C(N(CC)CC)C(Oc1cccc2ccccc12)C,3.36,exp,1.99\\r\\n15302-91-7,n.a.,C[N+]1(C)(CCCCC1),-2.09,pred,0.3\\r\\n153233-91-1,n.a.,Fc1cccc(F)c1C3=NC(c2ccc(cc2(OCC))C(C)(C)C)CO3,5.52,pred,3.46\\r\\n1544-19-0,n.a.,FC(F)C(F)(F)Oc1ccc(cc1)C(c2ccc(OC(F)(F)C(F)F)cc2)(C)C,7.18,pred,4.35\\r\\n156052-68-5,n.a.,O=C(NC(C(=O)CCl)(C)CC)c1cc(c(c(c1)Cl)C)Cl,3.88,pred,2.06\\r\\n1563-66-2,n.a.,O=C(Oc2cccc1c2(OC(C)(C)C1))NC,2.32,exp,1.08\\r\\n156-43-4,4-Ethoxyaniline,CCOc1ccc(cc1)N,1.24,exp,0.76\\r\\n1570-64-5,4-Chloro-o-cresol,Cc1c(ccc(c1)Cl)O,2.63,exp,1.28\\r\\n1582-09-8,n.a.,O=[N+]([O-])c1cc(cc(c1N(CCC)CCC)[N+](=O)[O-])C(F)(F)F,5.34,exp,3.44\\r\\n15862-07-4,\"2,4,5-Trichlorobiphenyl\",Clc1c(cc(c(c1)Cl)Cl)c1ccccc1,5.81,exp,3.88\\r\\n15958-19-7,2-Chloro-5-((2-hydroxy-1-naphthyl)azo)toluene-4-sulphonic acid,Oc1ccc2c(c1N=Nc1cc(c(cc1S(=O)(=O)O)Cl)C)cccc2,3.52,pred,1.07\\r\\n15968-05-5,n.a.,c2cc(c(c1c(cccc1Cl)Cl)c(c2)Cl)Cl,5.94,exp,3.85\\r\\n15972-60-8,n.a.,O=C(N(c1c(cccc1CC)CC)COC)CCl,3.52,exp,1.12\\r\\n16014-23-6/5281-04-9,3-Hydroxy-4-((4-methyl-2-sulphophenyl)azo)-2-naphthoic acid,OC(=O)c1cc2ccccc2c(c1O)N=Nc1ccc(cc1S(=O)(=O)O)C,3.27,pred,0.84\\r\\n16090-02-1,n.a.,O=S(=O)(O)c5cc(ccc5(C=Cc1ccc(cc1S(=O)(=O)O)Nc2nc(nc(n2)N3CCOCC3)Nc4ccccc4))Nc6nc(nc(n6)N7CCOCC7)Nc8ccccc8,4.29,pred,1.1\\r\\n161050-58-4,n.a.,O=C(NN(C(=O)c1cc(cc(c1)C)C)C(C)(C)C)c2cccc(OC)c2C,3.7,exp,1.04\\r\\n16219-75-3,5-Ethylidene-2-norbornene,CC=C1C2CC(C1)C=C2,3.82,exp,2.05\\r\\n1623-19-4,Triallylphosphate,O=P(OCC=C)(OCC=C)OCC=C,1.76,exp,-0.01\\r\\n1631-58-9,n.a.,N(C)(C)C1CSSC1,1.23,pred,1.73\\r\\n1634-04-4,n.a.,O(C)C(C)(C)C,0.94,exp,0.18\\r\\n1634-78-2,n.a.,O=C(OCC)CC(C(=O)OCC)SP(=O)(OC)OC,0.77,pred,0.05\\r\\n16517-11-6,Pentatriacontafluorooctadecanoic acid,OC(=O)C(C(C(C(C(C(C(C(C(C(C(C(C(C(C(C(C(F)(F)F)(F)F)(F)F)(F)F)(F)F)(F)F)(F)F)(F)F)(F)F)(F)F)(F)F)(F)F)(F)F)(F)F)(F)F)(F)F)(F)F,2.65,exp,2.65\\r\\n16605-91-7,\"2,3-Dichlorobiphenyl\",Clc1c(cccc1Cl)c1ccccc1,5.02,exp,3.85\\r\\n16606-02-3,\"2,4\\'\\',5-Trichlorobiphenyl\",Clc1c(cc(cc1)Cl)c1ccc(cc1)Cl,5.69,exp,4.09\\r\\n16766-29-3,n.a.,O(c1cc(c(c(c1(OC))Cl)Cl)Cl)C,4.01,exp,3.5\\r\\n1678-98-4,iso-Butyl cyclohexane,CC(CC1CCCCC1)C,4.84,pred,3.3\\r\\n1687-30-5,n.a.,O=C(O)C1CCCCC1(C(=O)O),1.03,pred,0.05\\r\\n1689-83-4,n.a.,N#Cc1cc(c(O)c(c1)I)I,3.43,exp,1.46\\r\\n1702-17-6,n.a.,O=C(O)c1nc(ccc1Cl)Cl,1.06,exp,0\\r\\n17095-24-8,n.a.,O=S(=O)(O)OCCS(=O)(=O)c4ccc(N=Nc1c(O)c3c(cc1S(=O)(=O)O)cc(c(N=Nc2ccc(cc2)S(=O)(=O)CCOS(=O)(=O)O)c3(N))S(=O)(=O)O)cc4,0.23,pred,0.79\\r\\n17109-49-8,n.a.,O=P(OCC)(Sc1ccccc1)Sc2ccccc2,3.48,exp,1.51\\r\\n1712-70-5,4-Isopropenyl-chlorobenzene,Clc1ccc(cc1)C(=C)C,3.84,pred,2.87\\r\\n17302-11-3,3-Ethyl-nonane,CCC(CCCCCC)CC,5.76,pred,3.32\\r\\n173584-44-6,n.a.,O=C(OC)N(C(=O)N2N=C3c1ccc(cc1CC3(OC2)(C(=O)OC))Cl)c4ccc(OC(F)(F)F)cc4,5.3,pred,2.72\\r\\n1740-19-8,n.a.,O=C(O)C2(C)(CCCC3(c1ccc(cc1CCC23)C(C)C)(C)),6.01,pred,2.12\\r\\n1746-01-6,n.a.,O1c3cc(c(cc3(Oc2cc(c(cc12)Cl)Cl))Cl)Cl,6.8,exp,4.79\\r\\n1746-81-2,n.a.,O=C(Nc1ccc(cc1)Cl)N(OC)C,2.3,exp,1.15\\r\\n175013-18-0,n.a.,O=C(OC)N(OC)c1ccccc1COc2nn(cc2)c3ccc(cc3)Cl,4.65,pred,2.85\\r\\n175217-20-6,n.a.,O=C(NCC=C)c1c(c(C)sc1[Si](C)(C)C)C,3.83,pred,1.99\\r\\n1763-23-1,Perflurooctane sulfonic acid,FC(C(C(C(C(C(C(C(S(=O)(=O)O)(F)F)(F)F)(F)F)(F)F)(F)F)(F)F)(F)F)(F)F,2.45,exp,3.73\\r\\n17700-09-3,n.a.,O=[N+]([O-])c1ccc(c(c1Cl)Cl)Cl,3.61,exp,2.2\\r\\n1779-48-2,n.a.,OP(O)c1ccccc1,0.8,pred,0.36\\r\\n17804-35-2,n.a.,O=C(OC)Nc2nc1ccccc1n2(C(=O)NCCCC),2.12,exp,1.43\\r\\n180409-60-3,n.a.,O=C(NC(=NOCC1CC1)c2c(F)c(F)ccc2C(F)(F)F)Cc3ccccc3,4.92,pred,2.72\\r\\n1805-32-9,n.a.,OCc1ccc(c(c1)Cl)Cl,2.74,exp,0.51\\r\\n1806-26-4,p-Octylphenol,Oc1ccc(cc1)CCCCCCCC,5.41,pred,2.28\\r\\n18181-70-9,n.a.,O(c1cc(c(cc1Cl)I)Cl)P(OC)(OC)=S,5.51,exp,3.62\\r\\n1825-21-4,n.a.,O(c1c(c(c(c(c1Cl)Cl)Cl)Cl)Cl)C,5.45,exp,4.16\\r\\n1825-31-6,n.a.,c1ccc2c(c1)c(ccc2Cl)Cl,4.66,exp,3.75\\r\\n18259-05-7,\"2,3,4,5,6-Pentachlorobiphenyl\",Clc1c(c(c(c(c1c1ccccc1)Cl)Cl)Cl)Cl,6.75,exp,4.85\\r\\n1836-77-7,\"2,4,6-Trichlorophenyl (4\\'\\'-nitrophenyl)ether\",Clc1cc(cc(c1Oc1ccc(cc1)[N+](=O)[O-])Cl)Cl,4.97,exp,3.31\\r\\n1839-63-0,\"1,3,5-Trimethyl cyclohexane\",CC1CC(CC(C1)C)C,4.19,pred,3.34\\r\\n1843-05-6,2-Hydroxy-4-n-octoxybenzophenone,O=C(c1c(cc(cc1)OCCCCCCCC)O)c1ccccc1,6.53,pred,2.01\\r\\n1861-32-1,n.a.,O=C(OC)c1c(c(c(C(=O)OC)c(c1Cl)Cl)Cl)Cl,4.28,exp,3.41\\r\\n1861-40-1,n.a.,O=[N+]([O-])c1cc(cc(c1N(CC)CCCC)[N+](=O)[O-])C(F)(F)F,5.29,exp,3.2\\r\\n18708-70-8,n.a.,O=[N+]([O-])c1c(cc(cc1Cl)Cl)Cl,3.69,exp,2.6\\r\\n18854-01-8,n.a.,n1oc(cc1OP(OCC)(OCC)=S)c2ccccc2,3.73,exp,2.74\\r\\n189278-12-4,n.a.,O=C1c2cc(ccc2(N=C(OCCC)N1CCC))I,3.59,pred,2.91\\r\\n1897-45-6,n.a.,N#Cc1c(c(C#N)c(c(c1Cl)Cl)Cl)Cl,3.05,exp,1.53\\r\\n19044-88-3,n.a.,O=[N+]([O-])c1cc(cc(c1N(CCC)CCC)[N+](=O)[O-])S(=O)(=O)N,3.73,exp,1.88\\r\\n1912-24-9,n.a.,n1c(nc(nc1NC(C)C)Cl)NCC,2.61,exp,0.73\\r\\n01.02.18,n.a.,O=C(O)c1nc(c(c(N)c1Cl)Cl)Cl,1.99,pred,-1.7\\r\\n1918-16-7,n.a.,O=C(N(c1ccccc1)C(C)C)CCl,2.18,exp,1.57\\r\\n1934-21-0,n.a.,O=C(O)C2=NN(C(=O)C2(N=Nc1ccc(cc1)S(=O)(=O)O))c3ccc(cc3)S(=O)(=O)O,-0.63,pred,0.23\\r\\n19408-74-3,n.a.,O1c3cc(c(c(c3(Oc2c1cc(c(c2Cl)Cl)Cl))Cl)Cl)Cl,7.57,pred,3.92\\r\\n1945-53-5,n.a.,O=C(O)C2(C)(CCCC3(C1=C(C=C(CC1)C(C)C)CCC23)(C)),5.76,pred,1.4\\r\\n19666-30-9,n.a.,O=C1OC(=NN1c2cc(OC(C)C)c(cc2Cl)Cl)C(C)(C)C,4.8,exp,2.49\\r\\n19780-74-6,5-Ethyl-1-nonene,CCCCC(CCC=C)CC,5.47,pred,3.43\\r\\n198-55-0,Perylene,c1ccc2c3c1c1c4c(cccc4ccc1)c3ccc2,6.25,exp,2.38\\r\\n20020-02-4,Tetrachloronaphthalene,Clc1c(c(c(c2c1cccc2)Cl)Cl)Cl,5.75,exp,3.52\\r\\n2008-41-5,n.a.,O=C(N(CC(C)C)CC(C)C)SCC,4.15,exp,2.61\\r\\n2027-17-0,n.a.,c1ccc2cc(ccc2(c1))C(C)C,4.47,pred,4.11\\r\\n2032-65-7,n.a.,O=C(Oc1cc(c(c(c1)C)SC)C)NC,2.92,exp,1.88\\r\\n2042-14-0,3-Nitro-p-cresol,Cc1ccc(cc1[N+](=O)[O-])O,2.18,exp,1.02\\r\\n2050-67-1,\"3,3\\'\\'-Dichlorobiphenyl\",Clc1cccc(c1)c1cccc(c1)Cl,5.27,exp,2.63\\r\\n2050-68-2,n.a.,c1cc(ccc1c2ccc(cc2)Cl)Cl,5.23,exp,3.58\\r\\n2050-74-0,n.a.,c2cc1cccc(c1c(c2)Cl)Cl,4.3,exp,3.79\\r\\n2050-76-2,\"2,4-Dichloro-1-hydroxynaphthalene\",Oc1c(cc(c2c1cccc2)Cl)Cl,4.23,exp,1.19\\r\\n2051-24-3,n.a.,c2(c1c(c(c(c(c1Cl)Cl)Cl)Cl)Cl)c(c(c(c(c2Cl)Cl)Cl)Cl)Cl,8.27,exp,4.24\\r\\n2051-62-9,PCB-3,Clc1ccc(cc1)c1ccccc1,4.61,exp,2.43\\r\\n206-44-0,Fluoranthene,c1ccc2c3c1c1ccccc1c3ccc2,5.16,exp,3.5\\r\\n208-96-8,Acenaphthylene,c1cc2cccc3C=Cc(c1)c23,3.94,exp,2.48\\r\\n2104-64-5,O-Ethyl-O-p-nitrophenyl-phenylthiophosphonate,S=P(c1ccccc1)(Oc1ccc(cc1)[N+](=O)[O-])OCC,4.78,exp,2.84\\r\\n2104-96-3,n.a.,O(c1cc(c(cc1Cl)Br)Cl)P(OC)(OC)=S,5.21,exp,2.12\\r\\n210631-68-8,n.a.,O=C(c1cnn(c1(O))C)c3ccc(c(C2=NOCC2)c3C)S(=O)(=O)C,1.69,pred,-0.52\\r\\n21087-64-9,Metribuzin,CC(C)(C)C1=NN=C(N(C1=O)N)SC,1.7,exp,1.02\\r\\n2122-19-2,n.a.,N1C(NC(C)C1)=S,-0.03,pred,1\\r\\n2136-99-4,n.a.,c2c(c(c(c1c(c(cc(c1Cl)Cl)Cl)Cl)c(c2Cl)Cl)Cl)Cl,7.73,exp,5.82\\r\\n21564-17-0,2-(Thiocyanatemethylthio) benzothiazole,N#CSCSC1=Nc2ccccc2S1,3.3,exp,2.07\\r\\n21609-90-5,n.a.,O(c1cc(c(cc1Cl)Br)Cl)P(OC)(c2ccccc2)=S,6.31,exp,3.78\\r\\n2164-17-2,n.a.,O=C(Nc1cccc(c1)C(F)(F)F)N(C)C,2.2,pred,1.61\\r\\n2173-57-1,2-Naphthylisobuthyl ether,CC(COc1ccc2c(c1)cccc2)C,4.4,pred,2.87\\r\\n217-59-4,Triphenylene,c1cccc2c1c1ccccc1c1c2cccc1,5.49,exp,2.41\\r\\n218-01-9,Chrysene,c1cc2ccccc2c2ccc3c(c12)cccc3,5.81,exp,2.24\\r\\n218-165-4,Perfluoroundecanoic acid (PFUnDA),FC(F)(C(F)(F)C(=O)O)C(F)(F)C(F)(F)C(F)(F)C(F)(F)C(F)(F)C(F)(F)C(F)(F)C(F)(F)F,4,exp,3.46\\r\\n220899-03-6,n.a.,O=C(c1c(OC)c(OC)c(OC)cc1C)c2c(OC)ccc(c2C)Br,4.87,pred,2.72\\r\\n2216-69-5,1-Methoxynaphthalene,COc1cccc2c1cccc2,3.45,exp,2.26\\r\\n22224-92-6,n.a.,O=P(Oc1ccc(c(c1)C)SC)(OCC)NC(C)C,3.23,exp,2.04\\r\\n2234-13-1,n.a.,c12(c(c(c(c(c1Cl)Cl)Cl)Cl)c(c(c(c2Cl)Cl)Cl)Cl),8.02,pred,2.58\\r\\n2243-62-1,\"1,5-Diaminonaphthalene\",Nc1c2c(ccc1)c(ccc2)N,0.89,exp,0.46\\r\\n225-11-6,n.a.,n1c4ccccc4(cc3c1ccc2ccccc23),4.46,pred,2.02\\r\\n2255-17-6,n.a.,O=[N+]([O-])c1ccc(OP(=O)(OC)OC)cc1C,1.69,exp,0.44\\r\\n226-36-8,n.a.,n3c5ccc1ccccc1c5(cc4ccc2ccccc2c34),5.73,exp,2.03\\r\\n22907-72-8,\"1,4-Diisopropyl cyclohexane\",CC(C1CCC(CC1)C(C)C)C,5.39,pred,3.5\\r\\n23031-36-9,Prallethrin,C#CCC1=C(C)C(CC1=O)OC(=O)[C@H]1[C@@H](C1(C)C)C=C(C)C,4.49,exp,3.06\\r\\n2303-17-5,n.a.,O=C(N(C(C)C)C(C)C)SCC(=C(Cl)Cl)Cl,4.6,exp,3.15\\r\\n2310-17-0,n.a.,O=C2Oc1cc(ccc1N2CSP(OCC)(OCC)=S)Cl,4.38,exp,2.26\\r\\n23103-98-2,n.a.,O=C(Oc1nc(nc(c1C)C)N(C)C)N(C)C,1.7,exp,1.38\\r\\n2312-35-8,n.a.,O=S(OCC#C)OC2CCCCC2(Oc1ccc(cc1)C(C)(C)C),5,exp,4.14\\r\\n23135-22-0,n.a.,O=C(ON=C(C(=O)N(C)C)SC)NC,-0.48,exp,0.3\\r\\n23184-66-9,n.a.,O=C(N(c1c(cccc1CC)CC)COCCCC)CCl,4.61,pred,0.38\\r\\n2371-42-8,n.a.,OC1(C)(CC2CCC1(C)C2(C)(C)),3.03,pred,1.48\\r\\n2381-21-7,1-Methylpyrene,Cc1c2c3c4c(cccc4ccc3cc1)cc2,5.13,pred,2.73\\r\\n2385-85-5,n.a.,C13(C4(C2(C5(C(C1(C2(Cl)Cl)Cl)(C3(C(C45Cl)(Cl)Cl)Cl)Cl)Cl)Cl)Cl)Cl,7.18,exp,4.31\\r\\n24019-05-4,\"N-(3,4-Dichlorophenyl)-N\\'\\'-(2\\'\\'-(4\\'\\'\\'\\'-chloro-2\\'\\'\\'\\'-sulfophenoxy)-5\\'\\'-chlorophenyl) urea\",OS(=O)(=O)c1c(ccc(c1)Cl)Oc1c(cc(cc1)Cl)NC(=O)Nc1cc(c(cc1)Cl)Cl,4.4,pred,1.9\\r\\n2437-79-8,n.a.,c1cc(cc(c1c2ccc(cc2Cl)Cl)Cl)Cl,6.29,exp,4.39\\r\\n03.10.39,n.a.,N(=C(N)N)CCCCCCCCCCCC,4.33,pred,1.2\\r\\n2440-02-0,n.a.,C1(=C(C2(C(CC1(C2(Cl)Cl)Cl)Cl)Cl)Cl)Cl,5.03,pred,4.05\\r\\n24579-73-5,n.a.,O=C(OCCC)NCCCN(C)C,1.12,exp,1.73\\r\\n2463-84-5,n.a.,O=[N+]([O-])c1ccc(OP(OC)(OC)=S)c(c1)Cl,3.58,exp,1.89\\r\\n2465-27-2,n.a.,N=C(c1ccc(cc1)N(C)C)c2ccc(cc2)N(C)C,3.39,pred,1.07\\r\\n05.06.97,n.a.,O=S(=O)(CC)CCSP(OCC)(OCC)=S,1.87,exp,0.52\\r\\n06.07.97,n.a.,O=S(CC)CCSP(OCC)(OCC)=S,1.73,exp,0\\r\\n2498-66-0,\"Benz anthracene-7,12-quinone\",O=C1c2c(ccc3c2cccc3)C(=O)c2c1cccc2,4.4,exp,1.63\\r\\n25057-89-0,n.a.,O=C1c2ccccc2(NS(=O)(=O)N1C(C)C),2.34,exp,1.32\\r\\n25154-52-3,n.a.,Oc1ccc(cc1)C(C)CC(C)CC(C)C,5.47,pred,2.19\\r\\n25154-54-5,n.a.,O=[N+]([O-])c1ccccc1[N+](=O)[O-],1.69,exp,1.16\\r\\n25311-71-1,n.a.,O=C(OC(C)C)c1ccccc1(OP(OCC)(NC(C)C)=S),4.12,exp,2.12\\r\\n2531-84-2,n.a.,c1ccc3c(c1)ccc2cc(ccc23)C,4.86,exp,3.48\\r\\n25321-09-9,n.a.,c1ccc(c(c1)C(C)C)C(C)C,4.68,pred,3.26\\r\\n25321-14-6,n.a.,O=[N+]([O-])c1cccc(c1[N+](=O)[O-])C,2.06,pred,1.09\\r\\n25339-17-7,Isodecanol 10,CC(CCCCCCCO)C,3.77,pred,2.51\\r\\n2539-17-5,n.a.,Oc1c(OC)c(c(c(c1Cl)Cl)Cl)Cl,4.59,exp,2.56\\r\\n25567-40-2,1-Hydroxy-2-tert Butyl-4-methyl benzene,Cc1ccc(c(c1)C(C)(C)C)O,3.71,pred,2.87\\r\\n25638-17-9,n.a.,O=S(=O)(O)c2cccc1ccc(cc12)CCCC,2.36,pred,0.18\\r\\n25747-06-2,\"5-Chloro-3-((1,5-dihydroxy-2-naphthyl)azo)-2-hydroxybenzenesulphonic\",,,,\\r\\n\"acid\"\"\",OS(=O)(=O)c1c(c(cc(c1)Cl)N=Nc1c(c2cccc(c2cc1)O)O)O,0.58,Merged,,2.56\\r\\n2581-34-2,4-Nitro-m-cresol,Cc1cc(ccc1[N+](=O)[O-])O,2.48,exp,1.16\\r\\n2593-15-9,n.a.,n1c(nsc1OCC)C(Cl)(Cl)Cl,3.37,exp,2.22\\r\\n07.03.97,n.a.,O=C(OCC)C(c1ccccc1)SP(OC)(OC)=S,3.69,exp,1.8\\r\\n26002-80-2,Sumithrin,CC(=CC1C(C1(C)C)C(=O)OCc1cccc(c1)Oc1ccccc1)C,6.01,exp,2.62\\r\\n26087-47-8,n.a.,O=P(OC(C)C)(OC(C)C)SCc1ccccc1,3.34,exp,0.97\\r\\n260-94-6,n.a.,n1c3ccccc3(cc2ccccc12),3.4,exp,2.25\\r\\n26225-79-6,n.a.,O=S(=O)(Oc1ccc2OC(OCC)C(c2(c1))(C)C)C,2.69,pred,2.16\\r\\n26259-45-0,Sec-Bumeton,CCNc1nc(NC(CC)C)nc(n1)OC,3.2,exp,1.2\\r\\n26306-61-6,n.a.,O(c1ccc(N)cc1)c2c(cc(cc2Cl)Cl)Cl,4.9,pred,1.95\\r\\n2631-40-5,o-Cumenyl methylcarbamate,CC(c1ccccc1OC(=O)NC)C,2.31,exp,0.82\\r\\n2636-26-2,n.a.,N#Cc1ccc(OP(OC)(OC)=S)cc1,2.71,exp,1.56\\r\\n2642-71-9,Azinphos-ethyl,CCOP(=S)(OCC)SCN1C(=O)C2=CC=CC=C2N=N1,3.4,exp,2.27\\r\\n26444-49-5,n.a.,O=P(Oc1ccccc1)(Oc2ccccc2)Oc3ccccc3C,5.05,pred,2.51\\r\\n26530-20-1,n.a.,O=C1C=CSN1CCCCCCCC,2.45,exp,2.22\\r\\n26545-58-4,n.a.,O=S(=O)(O)c2cccc1cc(ccc12)Cc4ccc3c(cccc3S(=O)(=O)O)c4,1.24,pred,1\\r\\n2655-14-3,\"3,5-Xylyl N-methylcarbamate\",Cc1cc(cc(c1)OC(=O)NC)C,2.23,exp,0.35\\r\\n26603-23-6,n.a.,c1cc(ccc1Nc2ccc(cc2)CCCCCCCC)CCCCCCCC,10.52,pred,1.54\\r\\n26630-87-5,Disperse Red 206,O=C(c1ccccc1)Nc1c(ccc(c1)N(CCOC(=O)C)CCOC(=O)C)N=NC1=Nc2ccc(cc2S1)Cl,6.24,pred,1.22\\r\\n26644-46-2,n.a.,O=CNC(N1CCN(CC1)C(NC=O)C(Cl)(Cl)Cl)C(Cl)(Cl)Cl,2.2,exp,0\\r\\n2668-24-8,n.a.,Oc1c(OC)cc(c(c1Cl)Cl)Cl,3.72,exp,2.07\\r\\n2668-47-5,\"3,5-Di-tert-Butylbiphenyl-4-ol\",Oc1c(cc(cc1C(C)(C)C)c1ccccc1)C(C)(C)C,6.38,pred,3.88\\r\\n26761-40-0,\"Benzene-1,2-dicarboxylicacid diisodecyl\",O=C(c1c(cccc1)C(=O)OCCCCCCCC(C)C)OCCCCCCCC(C)C,9.33,pred,1.01\\r\\n26787-65-5,n.a.,O=C(OCCO)CCCCCCCCCCCCCCCCCCCCCCCCCCC,11.31,pred,1.27\\r\\n26898-17-9,n.a.,c1ccc(cc1)Cc2ccc(c(c2)C)Cc3ccccc3,6.61,pred,4\\r\\n2691-41-0,n.a.,O=[N+]([O-])N1CN([N+](=O)[O-])CN([N+](=O)[O-])CN([N+](=O)[O-])C1,2,pred,-0.3\\r\\n26967-76-0,Tris(p-isopropylphenyl)phosphate,O=P(Oc1ccc(cc1)C(C)C)(Oc1ccc(cc1)C(C)C)Oc1ccc(cc1)C(C)C,8.03,pred,1.46\\r\\n27314-13-2,n.a.,O=C1C(=C(C=NN1c2cccc(c2)C(F)(F)F)NC)Cl,2.3,exp,1.45\\r\\n27458-92-0,Isotridecanol,CC(CCCCCCCCCCO)C,5.24,pred,2.73\\r\\n2764-72-9,\"9,10-Dihydro-8a, 10a- diazoniaphenanthrene\",c1ccc[n+]2c1c1[n+](cc2)cccc1,0.61,pred,0.76\\r\\n28076-73-5,\"2,2\\'\\',4,4\\'\\'-Tetrachlorodiphenyl ether\",Clc1c(ccc(c1)Cl)Oc1c(cc(cc1)Cl)Cl,5.95,exp,4.14\\r\\n28106-30-1,Etylstyrene,CCc1ccccc1C=C,3.78,pred,2.69\\r\\n2814-20-2,2-Isopropyl-4-methyl-6-hydroxypyrimidine,CC(C1=NC(=O)C=C(N1)C)C,1.43,pred,0.11\\r\\n28249-77-6,n.a.,O=C(N(CC)CC)SCc1ccc(cc1)Cl,3.4,exp,2.25\\r\\n28299-29-8,Octadecenylsuccinic acid,O=C(C(CC(=O)O)CCCCCCCCC=CCCCCCCCC)O,7.29,pred,0.22\\r\\n283594-90-1,n.a.,O=C1OC3(C(OC(=O)CC(C)(C)C)=C1c2c(cc(cc2C)C)C)(CCCC3),6.16,pred,2.74\\r\\n28575-17-9,n.a.,c1cc(cc(c1)CC)c2cccc(c2)CC,5.67,pred,3.76\\r\\n28680-44-6,n.a.,C1(=C(C2(C(=C(C1(C2)Cl)Cl)Cl)Cl)Cl)Cl,4.62,pred,3.81\\r\\n28680-45-7,n.a.,C1=CC2(C(C1(C(C2(Cl)Cl)(Cl)Cl)Cl)Cl)Cl,5.25,pred,4.05\\r\\n2885-00-9,n.a.,CCCCCCCCCCCCCCCCCCS,8.81,pred,-0.04\\r\\n29082-74-4,n.a.,c1(c(c(c(c(c1Cl)Cl)Cl)Cl)Cl)C(=C(Cl)Cl)Cl,7.01,pred,3.91\\r\\n2921-88-2,n.a.,n1c(OP(OCC)(OCC)=S)c(cc(c1Cl)Cl)Cl,4.96,exp,3.1\\r\\n29253-36-9,n.a.,c1ccc2c(c1)cccc2C(C)C,4.47,pred,2.78\\r\\n29446-15-9,\"2,3-dichlorodibenzo-p-dioxin\",Clc1cc2c(cc1Cl)Oc1c(cccc1)O2,5.23,pred,2.88\\r\\n294-62-2,Cyclododecane,C1CCCCCCCCCCC1,5.99,pred,3.95\\r\\n29690-50-9,Isopropyldecalin,CC(C1C2C(CCC1)CCCC2)C,5.33,pred,3.58\\r\\n29761-21-5,Isodecyl diphenyl phosphate,O=P(Oc1ccccc1)(Oc1ccccc1)OCCCCCCCC(C)C,6.78,pred,2.73\\r\\n298-00-0,n.a.,O=[N+]([O-])c1ccc(OP(OC)(OC)=S)cc1,2.86,exp,1.89\\r\\n298-02-2,n.a.,O(CC)P(OCC)(=S)SCSCC,3.56,exp,2.68\\r\\n298-04-4,n.a.,O(CC)P(OCC)(=S)SCCSCC,4.02,exp,2.48\\r\\n298-06-6,n.a.,O(CC)P(OCC)(=S)S,2.22,pred,0.45\\r\\n298-07-7,Di (2-ethylhexyl) phosphoric acid,OP(=O)(OCC(CCCC)CC)OCC(CCCC)CC,5.5,pred,0.62\\r\\n299-84-3,n.a.,O(c1cc(c(cc1Cl)Cl)Cl)P(OC)(OC)=S,4.88,exp,3.58\\r\\n300-76-5,Naled,COP(=O)(OC(C(Br)(Cl)Cl)Br)OC,1.38,exp,0.93\\r\\n3010-80-8,Tris(4-chlorophenyl)methanol,OC(c1ccc(cc1)Cl)(c1ccc(cc1)Cl)c1ccc(cc1)Cl,6.26,pred,3.95\\r\\n30171-80-3,n.a.,O(c1cc(c(c(c1)Br)Br)C)CC2OC2,3.77,pred,1.11\\r\\n30560-19-1,n.a.,O=C(NP(=O)(OC)SC)C,-0.85,exp,-1.52\\r\\n306-52-5,n.a.,O=P(O)(O)OCC(Cl)(Cl)Cl,0.79,pred,0.08\\r\\n30746-58-8,\"1,2,3,4-tetrachloroDibenzo-p-dioxin\",Clc1c(c(c(c2c1Oc1c(cccc1)O2)Cl)Cl)Cl,6.42,pred,3.48\\r\\n3074-71-3,\"2,3-Dimethylheptane\",CCCCC(C)C(C)C,4.54,pred,3.32\\r\\n307-55-1,Perfluorododecanoic acid ,OC(=O)C(C(C(C(C(C(C(C(C(C(C(F)(F)F)(F)F)(F)F)(F)F)(F)F)(F)F)(F)F)(F)F)(F)F)(F)F)(F)F,5.68,pred,4.31\\r\\n3089-11-0,N-Hexamethylolmelamine hexamethylether,COCN(c1nc(nc(n1)N(COC)COC)N(COC)COC)COC,2.21,pred,0.32\\r\\n309-00-2,Aldrin,ClC12C(=C(C(C3C2C2C=CC3C2)(C1(Cl)Cl)Cl)Cl)Cl,6.5,exp,3.82\\r\\n311-89-7,Perfluorotributylamine,FC(N(C(C(C(C(F)(F)F)(F)F)(F)F)(F)F)C(C(C(C(F)(F)F)(F)F)(F)F)(F)F)(C(C(C(F)(F)F)(F)F)(F)F)F,8.34,pred,1.3\\r\\n314-40-9,n.a.,O=C1NC(=C(C(=O)N1C(C)CC)Br)C,2.11,exp,0.6\\r\\n31508-00-6,\"2,3\\'\\',4,4\\'\\',5-Pentachlorobiphenyl\",Clc1c(cc(c(c1)Cl)Cl)c1ccc(c(c1)Cl)Cl,7.12,exp,4.38\\r\\n315-18-4,n.a.,O=C(Oc1cc(c(c(c1)C)N(C)C)C)NC,2.56,exp,1.42\\r\\n320-60-5,n.a.,FC(F)(F)c1ccc(cc1Cl)Cl,4.18,pred,3.37\\r\\n3209-22-1,n.a.,O=[N+]([O-])c1cccc(c1Cl)Cl,3.05,exp,2.16\\r\\n3229-00-3,\"1,3-Dibromo-2,2-bis(bromomethyl) propane\",BrCC(CBr)(CBr)CBr,3.99,exp,2.17\\r\\n32598-10-0,\"2,3\\'\\',4,4\\'\\'-Tretrachlorobiphenyl\",Clc1c(ccc(c1)Cl)c1cc(c(cc1)Cl)Cl,6.31,exp,4.56\\r\\n32598-11-1,n.a.,c1cc(c(cc1c2cc(ccc2Cl)Cl)Cl)Cl,6.23,exp,5.08\\r\\n32598-13-3,\"3,3\\'\\',4,4\\'\\'-Tretrachlorobiphenyl\",Clc1c(ccc(c1)c1cc(c(cc1)Cl)Cl)Cl,6.63,exp,4.35\\r\\n32598-14-4,\"2,3,3\\'\\',4,4\\'\\'-Pentachlorobiphenyl\",Clc1c(c(ccc1c1cc(c(cc1)Cl)Cl)Cl)Cl,6.79,exp,4.28\\r\\n32669-06-0,2-Chloroethylbenzhydryl ether,ClCCOC(c1ccccc1)c1ccccc1,4.38,exp,2.6\\r\\n3268-87-9,n.a.,O1c3c(Oc2c1c(c(c(c2Cl)Cl)Cl)Cl)c(c(c(c3Cl)Cl)Cl)Cl,8.2,exp,3.12\\r\\n32774-16-6,n.a.,c1c(cc(c(c1Cl)Cl)Cl)c2cc(c(c(c2)Cl)Cl)Cl,7.41,exp,5.97\\r\\n32861-85-1,n.a.,O=[N+]([O-])c2ccc(Oc1ccc(cc1Cl)Cl)cc2(OC),4.83,pred,3.59\\r\\n328-84-7,n.a.,FC(F)(F)c1ccc(c(c1)Cl)Cl,4.18,pred,3.18\\r\\n3296-90-0,Dibromoneopentylglycol,OCC(CO)(CBr)CBr,1.06,exp,0.42\\r\\n330-54-1,\"3-(3,4-Dichlorophenyl)-1,1-dimethyl urea\",Clc1c(ccc(c1)NC(=O)N(C)C)Cl,2.68,exp,0.95\\r\\n330-55-2,\"N-(3,4-Dichlorophenyl)-N\\'\\'-methoxy-N\\'\\'-methyl urea\",Clc1c(ccc(c1)NC(=O)N(OC)C)Cl,3.2,exp,1.27\\r\\n33089-61-1,n.a.,N(=CN(C=Nc1ccc(cc1C)C)C)c2ccc(cc2C)C,5.5,exp,3.26\\r\\n3319-31-1,Tris(2-ethylhexyl) benzenetricarboxylate,O=C(c1c(ccc(c1)C(=O)OCC(CCCC)CC)C(=O)OCC(CCCC)CC)OCC(CCCC)CC,10.17,pred,0.6\\r\\n33284-53-6,\"2,3,4,5-Tretrachlorobiphenyl\",Clc1c(cc(c(c1Cl)Cl)Cl)c1ccccc1,6.41,exp,4.39\\r\\n33284-54-7,\"2,3,5,6-Tretrachlorobiphenyl\",Clc1c(c(c(cc1Cl)Cl)Cl)c1ccccc1,6.17,pred,4.71\\r\\n333-41-5,n.a.,n1c(OP(OCC)(OCC)=S)cc(nc1C(C)C)C,3.81,exp,1.8\\r\\n3337-71-1,n.a.,O=C(OC)NS(=O)(=O)c1ccc(N)cc1,-0.27,exp,-0.12\\r\\n33423-92-6,n.a.,O1c3cc(cc(c3(Oc2c1cc(cc2Cl)Cl))Cl)Cl,6.42,pred,3.76\\r\\n3347-22-6,n.a.,N#CC2=C(C#N)SC=1C(=O)c3ccccc3(C(=O)C=1S2),2.84,exp,1.43\\r\\n335-67-1,Perflurooctanic acid,FC(C(C(C(C(=O)O)(F)F)(F)F)(F)F)(C(C(C(F)(F)F)(F)F)(F)F)F,2.8,exp,3.12\\r\\n335-76-2,Perfluorodecanoic acid,OC(=O)C(C(C(C(C(C(C(C(C(F)(F)F)(F)F)(F)F)(F)F)(F)F)(F)F)(F)F)(F)F)(F)F,2.9,exp,2.65\\r\\n33576-92-0,n.a.,O(c1ccccc1)P(OC)(OC)=S,3.03,exp,1.89\\r\\n33629-47-9,n.a.,O=[N+]([O-])c1cc(cc(c1(NC(C)CC))[N+](=O)[O-])C(C)(C)C,4.93,exp,3.29\\r\\n3380-34-5,\"2,4,4\\'\\'-Trichloro-2\\'\\'-hydroxydiphenyl ether\",Oc1cc(ccc1Oc1c(cc(cc1)Cl)Cl)Cl,4.76,exp,1.7\\r\\n33857-26-0,\"2,7-dichlorodibenzo-p-dioxin\",Clc1cc2c(cc1)Oc1c(ccc(c1)Cl)O2,5.75,exp,2.47\\r\\n3389-71-7,n.a.,C1=CC2(C(=C(C1(C2(Cl)Cl)Cl)Cl)Cl)Cl,4.79,pred,3.81\\r\\n34014-18-1,n.a.,O=C(NC)N(c1nnc(C(C)(C)C)s1)C,1.79,exp,0.42\\r\\n34256-82-1,n.a.,O=C(N(c1c(cccc1CC)C)COCC)CCl,3.03,exp,1.3\\r\\n346-10-1,n.a.,O=C(Nc1ccc(NC(=O)C(F)(F)C(F)(F)C(F)(F)F)c(O)c1)C(Oc2ccc(cc2C(C)(C)CC)C(C)(C)CC)CC,8.4,pred,0.49\\r\\n34643-46-4,Prothiofos,CCCSP(=S)(Oc1ccc(cc1Cl)Cl)OCC,5.67,exp,3.77\\r\\n3481-20-7,n.a.,Nc1c(c(cc(c1Cl)Cl)Cl)Cl,4.1,exp,2.52\\r\\n34883-39-1,\"2,5-Dichlorobiphenyl\",Clc1c(cc(cc1)Cl)c1ccccc1,5.1,exp,3.92\\r\\n34883-41-5,\"3,5-Dichlorobiphenyl\",Clc1cc(cc(c1)c1ccccc1)Cl,5.41,exp,3.44\\r\\n35065-27-1,n.a.,c2c(c1cc(c(cc1Cl)Cl)Cl)c(cc(c2Cl)Cl)Cl,7.75,exp,5.56\\r\\n35065-28-2,PCB-138,Clc1cc(Cl)c(cc1c1ccc(c(c1Cl)Cl)Cl)Cl,7.44,exp,5.88\\r\\n35065-29-3,PCB-180,Clc1cc(Cl)c(cc1c1cc(Cl)c(c(c1Cl)Cl)Cl)Cl,6.89,exp,6.06\\r\\n3520-72-7,n.a.,O=C5N(N=C(C)C5(N=Nc1ccc(cc1Cl)c4ccc(N=NC2C(=O)N(NC2(C))c3ccccc3)c(c4)Cl))c6ccccc6,8.15,pred,0.6\\r\\n35367-38-5,n.a.,O=C(NC(=O)c1c(F)cccc1(F))Nc2ccc(cc2)Cl,3.88,exp,2.35\\r\\n355-46-4,Perflurohexane sulfonic acid,O=S(=O)(O)C(F)(F)C(F)(F)C(F)(F)C(F)(F)C(F)(F)C(F)(F)F,3.75,pred,3.6\\r\\n35554-44-0,n.a.,n1ccn(c1)CC(OCC=C)c2ccc(cc2Cl)Cl,3.82,exp,1.81\\r\\n35693-99-3,\"2,2\\'\\',5,5\\'\\'-Tretrachlorobiphenyl\",Clc1c(cc(cc1)Cl)c1c(ccc(c1)Cl)Cl,6.09,exp,4.45\\r\\n35694-08-7,PCB-194,Clc1cc(c(c(c1Cl)Cl)Cl)c1cc(Cl)c(c(c1Cl)Cl)Cl,8.68,exp,5.81\\r\\n35822-46-9,n.a.,O1c3cc(c(c(c3(Oc2c1c(c(c(c2Cl)Cl)Cl)Cl))Cl)Cl)Cl,8.2,exp,3.67\\r\\n35860-37-8,n.a.,c2cc1c(cc(cc1C(C)C)C(C)C)c(c2)C(C)C,6.82,pred,3.7\\r\\n36065-30-2,n.a.,O(c1c(cc(cc1Br)Br)Br)CC(C)(CBr)Br,6.19,pred,4.32\\r\\n361377-29-9,n.a.,Fc2c(ncnc2(Oc1ccccc1Cl))Oc4ccccc4(C(=NOC)C3=NOCCO3),5.67,pred,1.72\\r\\n36335-67-8,n.a.,O=[N+]([O-])c1ccc(cc1(OP(OCC)(NC(C)CC)=S))C,4.62,exp,2.46\\r\\n3648-21-3,\"Benzene-1,2-dicarboxylicacid diheptyl\",O=C(c1c(cccc1)C(=O)OCCCCCCC)OCCCCCCC,7.25,pred,0.88\\r\\n36559-22-5,\"2,2\\'\\',3,4\\'\\'-Tretrachlorobiphenyl\",Clc1cc(ccc1c1c(c(ccc1)Cl)Cl)Cl,6.19,pred,4.53\\r\\n36734-19-7,n.a.,O=C(NC(C)C)N2C(=O)N(c1cc(cc(c1)Cl)Cl)C(=O)C2,3,exp,2.19\\r\\n3674-75-7,n.a.,c1ccc2c(c1)cc(c3ccccc23)CC,5.21,pred,2.71\\r\\n374726-62-2,n.a.,O=C(NCCc1ccc(OCC#C)c(OC)c1)C(OCC#C)c2ccc(cc2)Cl,4.31,pred,1.68\\r\\n375-95-1,Perfluoro-n-nonanoic acid,OC(=O)C(C(C(C(C(C(C(C(F)(F)F)(F)F)(F)F)(F)F)(F)F)(F)F)(F)F)(F)F,2.57,exp,3.4\\r\\n376-06-7,Perfluorotetradecanoic acid ,OC(=O)C(C(C(C(C(C(C(C(C(C(C(C(C(F)(F)F)(F)F)(F)F)(F)F)(F)F)(F)F)(F)F)(F)F)(F)F)(F)F)(F)F)(F)F)(F)F,5.1,exp,4.26\\r\\n3761-41-9,n.a.,O=S(c1ccc(OP(OC)(OC)=S)cc1C)C,2.17,pred,0.13\\r\\n3761-42-0,n.a.,O=S(=O)(c1ccc(OP(OC)(OC)=S)cc1C)C,2.43,pred,0.5\\r\\n3766-81-2,n.a.,O=C(Oc1ccccc1C(C)CC)NC,2.78,exp,0.94\\r\\n37680-65-2,n.a.,c1ccc(c(c1)c2cc(ccc2Cl)Cl)Cl,5.55,exp,4.23\\r\\n37680-73-2,\"2,2\\'\\',4,5,5\\'\\'-Pentachlorobiphenyl\",Clc1c(cc(c(c1)Cl)Cl)c1cc(ccc1Cl)Cl,6.8,exp,5.05\\r\\n3811-49-2,n.a.,O2c1ccccc1COP2(OC)=S,2.67,exp,1.35\\r\\n06.05.13,n.a.,O=C(O)CN2C(=O)Sc1cccc(c12)Cl,1.34,exp,1.56\\r\\n38380-02-8,\"2,3,4,2\\'\\',5\\'\\'-Pentachlorobiphenyl\",Clc1c(ccc(c1Cl)Cl)c1cc(ccc1Cl)Cl,6.85,exp,4.7\\r\\n38380-03-9,PCB-110,Clc1cc(ccc1Cl)c1c(Cl)ccc(c1Cl)Cl,6.22,exp,5.18\\r\\n38380-07-3,PCB-128,Clc1c(ccc(c1Cl)Cl)c1ccc(c(c1Cl)Cl)Cl,7.31,exp,5.77\\r\\n38380-08-4,PCB-155,Clc1ccc(cc1Cl)c1cc(Cl)c(c(c1Cl)Cl)Cl,7.6,exp,5.88\\r\\n38411-22-2,PCB-136,Clc1ccc(c(c1c1c(Cl)ccc(c1Cl)Cl)Cl)Cl,7.12,exp,5.43\\r\\n38444-86-9,PCB-33,Clc1cc(ccc1Cl)c1ccccc1Cl,5.87,exp,4.57\\r\\n38444-90-5,PCB-37,Clc1ccc(cc1)c1ccc(c(c1)Cl)Cl,5.9,exp,4.58\\r\\n38444-93-8,\"2,2\\'\\',3,3\\'\\'-Tretrachlorobiphenyl\",Clc1c(cccc1Cl)c1c(c(ccc1)Cl)Cl,6.18,exp,4.2\\r\\n3846-71-7,n.a.,Oc1c(cc(cc1C(C)(C)C)C(C)(C)C)n2nc3ccccc3(n2),5.62,pred,3.68\\r\\n38640-62-9,n.a.,c2cc1ccc(cc1c(c2)C(C)C)C(C)C,5.63,pred,3.27\\r\\n3864-99-1,\"2-(2\\'\\'-Hydroxy-3\\'\\',5\\'\\'-di-t-butylphenyl)-5-chlorobenzotriazole\",Oc1c(cc(cc1C(C)(C)C)C(C)(C)C)n1nc2c(n1)cc(cc2)Cl,6.27,pred,3.57\\r\\n39001-02-0,n.a.,o1c3c(c2c1c(c(c(c2Cl)Cl)Cl)Cl)c(c(c(c3Cl)Cl)Cl)Cl,8.6,exp,2.89\\r\\n39227-28-6,n.a.,O1c3ccc(c(c3(Oc2c1c(c(c(c2Cl)Cl)Cl)Cl))Cl)Cl,7.56,pred,4\\r\\n39227-58-2,\"1,2,4-trichloroDibenzo-p-dioxin\",Clc1c(cc(c2c1Oc1c(cccc1)O2)Cl)Cl,6.35,exp,2.83\\r\\n39515-41-8/64257-84-7,n.a.,N#CC(OC(=O)C1C(C)(C)C1(C)(C))c3cccc(Oc2ccccc2)c3,5.7,exp,3.04\\r\\n39569-21-6,Tetrabromo-2-chlorotoluene,Cc1c(c(c(c(c1Cl)Br)Br)Br)Br,6.16,pred,3.98\\r\\n39807-15-3,n.a.,O=C1OC(=NN1c2cc(OCC#C)c(cc2Cl)Cl)C(C)(C)C,3.95,exp,2.82\\r\\n40186-71-8,PCB-201,Clc1cc(Cl)c(c(c1Cl)Cl)c1c(Cl)c(Cl)cc(c1Cl)Cl,7.31,exp,5.88\\r\\n40321-76-4,n.a.,O1c3cc(c(cc3(Oc2c1cc(c(c2Cl)Cl)Cl))Cl)Cl,6.64,exp,4.26\\r\\n40487-42-1,n.a.,O=[N+]([O-])c1cc(c(c(c1(NC(CC)CC))[N+](=O)[O-])C)C,5.18,exp,3.71\\r\\n4051-66-5,n.a.,O=C(NCCCCCCCCCCCCCCCCCC)NCCCCCCCCCCCCCCCCCC,13.73,pred,1.48\\r\\n40690-89-9,Disperse Orange 73,N#CCCN(c1ccc(cc1)N=Nc1ccc(cc1)[N+](=O)[O-])CCOC(=O)c1ccccc1,5.5,pred,0.83\\r\\n4101-68-2,\"1,10-Dibromodecane\",BrCCCCCCCCCCBr,6.12,exp,1.93\\r\\n41083-11-8,n.a.,n1cnn(c1)[Sn](C2CCCCC2)(C3CCCCC3)C4CCCCC4,5.3,exp,3.88\\r\\n41122-70-7,n.a.,N#Cc1ccc(cc1)c2ccc(cc2)CCCCCC,6.15,pred,3.59\\r\\n4130-42-1,\"2,6-di-t-Butyl-4-ethylphenol\",Oc1c(cc(cc1C(C)(C)C)CC)C(C)(C)C,5.76,pred,3.53\\r\\n41464-39-5,n.a.,c2cc(c1cc(ccc1Cl)Cl)c(c(c2)Cl)Cl,5.81,exp,4.84\\r\\n41464-40-8,\"2,2\\'\\',4,5\\'\\'-Tretrachlorobiphenyl\",Clc1ccc(cc1c1c(cc(cc1)Cl)Cl)Cl,6.22,exp,4.26\\r\\n41464-41-9,\"2,2\\'\\',5,6\\'\\'-Tretrachlorobiphenyl\",Clc1c(cc(cc1)Cl)c1c(cccc1Cl)Cl,6.19,pred,4.46\\r\\n41464-42-0,\"2,3\\'\\',5,5\\'\\'-Tretrachlorobiphenyl\",Clc1c(cc(cc1)Cl)c1cc(cc(c1)Cl)Cl,6.19,pred,4.85\\r\\n41464-51-1,PCB-97,Clc1cc(Cl)c(cc1c1cccc(c1Cl)Cl)Cl,6.67,exp,5.43\\r\\n41483-43-6,n.a.,O=S(=O)(Oc1nc(nc(c1CCCC)C)NCC)N(C)C,2.7,exp,2.27\\r\\n4162-45-2,n.a.,OCCOc1c(cc(cc1Br)C(c2cc(c(OCCO)c(c2)Br)Br)(C)C)Br,6.53,pred,2.26\\r\\n4175-54-6,\"1,2,3,4-Tetrahydro-1,4-dimethyl naphthalene\",CC1c2ccccc2C(CC1)C,4.49,pred,3.12\\r\\n42240-73-3,n.a.,Nc2ccc(c1ccc(N)c(c1Cl)Cl)c(c2Cl)Cl,4.69,pred,3.41\\r\\n42576-02-3,n.a.,O=C(OC)c2cc(Oc1ccc(cc1Cl)Cl)ccc2[N+](=O)[O-],4.48,exp,3.18\\r\\n42874-03-3,n.a.,O=[N+]([O-])c2ccc(Oc1ccc(cc1Cl)C(F)(F)F)cc2(OCC),4.73,exp,3.21\\r\\n4292-75-5,n-Hexyl cyclohexane,CCCCCCC1CCCCC1,5.95,pred,3.29\\r\\n43121-43-3,n.a.,O=C(C(Oc1ccc(cc1)Cl)n2ncnc2)C(C)(C)C,2.77,exp,1.81\\r\\n43222-48-6,n.a.,c1ccc(cc1)c3cc(c2ccccc2)[n+](n3C)C,3.07,pred,1.3\\r\\n09.04.90,\"2,2,4,4,6,8,8-Heptamethylnonane\",CC(CC(C)(C)C)(CC(CC(C)(C)C)C)C,7.04,pred,2.85\\r\\n461-58-5,1-Cyanoguanidine,NC(=N)NC#N,-1.11,pred,0.24\\r\\n462-08-8,3-Aminopyridine,Nc1cnccc1,0,pred,0.07\\r\\n01.01.40,Triclosan-methyl,COc1cc(Cl)ccc1Oc1ccc(cc1Cl)Cl,5,exp,3.5\\r\\n4685-14-7,\"N,N\\'\\'-Dimethyl-4,4\\'\\'-bipyridinium dichloride\",C[n+]1ccc(cc1)c1cc[n+](cc1)C,-2.65,pred,0.28\\r\\n471-77-2,n.a.,O=C(O)C2(C)(CCCC3(C)(C1C(=CC(=C(C)C)CC1)CCC23)),5.66,pred,2.17\\r\\n47377-16-2,4-tetradecyl-Benzenesulfonic acid,OS(=O)(=O)c1ccc(cc1)CCCCCCCCCCCCCC,5.83,pred,0.52\\r\\n475-03-6,\"1,1,6-Trimethyl tetralin\",Cc1ccc2c(c1)CCCC2(C)C,4.97,pred,3.33\\r\\n479-27-6,\"1,8-Diaminonaphthalene\",Nc1cccc2cccc(c12)N,1.78,exp,0.78\\r\\n4821-19-6,\"2,6-Dicyclohexylphenol\",Oc1c(cccc1C1CCCCC1)C1CCCCC1,6.51,pred,3.07\\r\\n482-89-3,n.a.,O=C1c4ccccc4(NC1=C2Nc3ccccc3(C2(=O))),2.51,pred,0.46\\r\\n488-23-3,\"1,2,3,4-Tetramethyl benzene\",Cc1c(ccc(c1C)C)C,4,exp,2.82\\r\\n4883-72-1,N-Cyclohexyl-N-nitroso hydroxylamine,ON(C1CCCCC1)N=O,1.29,pred,0.45\\r\\n4904-61-4,\"1,5,9-Cyclododecatriene\",C1CC=CCCC=CCCC=C1,4.9,pred,3.91\\r\\n493-01-6/493-02-7,c-Decalin/t-Decalin,C1CCC2CCCCC2(C1),4.41,pred,3.37\\r\\n496-10-6,Bicyclo[4.3.0]nonane,C1C2C(CC1)CCCC2,3.94,pred,2.91\\r\\n500-28-7,n.a.,O=[N+]([O-])c1ccc(OP(OC)(OC)=S)cc1Cl,3.45,exp,1.55\\r\\n50-29-3,\"4,4\\'\\'-Dichlorodiphenyltrichloroethane\",ClC(C(c1ccc(cc1)Cl)c1ccc(cc1)Cl)(Cl)Cl,6.91,exp,3.95\\r\\n50-30-6,n.a.,O=C(O)c1c(cccc1Cl)Cl,2.23,exp,0.02\\r\\n50-31-7,\"2,3,6-Trichlorobenzoic acid\",Clc1c(ccc(c1C(=O)O)Cl)Cl,3.51,pred,0.31\\r\\n50-32-8,Benzo[a]pyrene,c1cc2c3c4c(cc5c(c14)cccc5)ccc3ccc2,6.13,exp,2.73\\r\\n50375-10-5,n.a.,O(c1c(ccc(c1Cl)Cl)Cl)C,3.64,exp,2.53\\r\\n504-03-0,n.a.,N1C(C)CCCC1C,1.79,pred,0.45\\r\\n504-24-5,4-Aminopyridine,Nc1ccncc1,0.26,exp,0.44\\r\\n504-29-0,2-Aminopyridine,Nc1ncccc1,0.26,pred,1.04\\r\\n50512-35-1,n.a.,O=C(OC(C)C)C(C(=O)OC(C)C)=C1SCCS1,2.88,exp,1.57\\r\\n50853-70-8,\"Methyl-5-norbornene-2,3-dicarboxylic acid\",CC1=CC2CC1C(C2C(=O)O)C(=O)O,1.01,pred,0.74\\r\\n50876-32-9,\"cis-1,1,3,5-Tetramethyl cyclohexane\",CC1(CC(CC(C1)C)C)C,4.55,pred,3.65\\r\\n50925-42-3,n.a.,O=S(=O)(O)c7cccc6c7(cc(N=Nc1ccc(cc1C)Nc2nc(nc(n2)NCCO)Nc5ccc(N=Nc4cc3c(cccc3S(=O)(=O)O)c(c4)S(=O)(=O)O)c(c5)C)cc6S(=O)(=O)O),3.89,pred,0.5\\r\\n510-15-6,\"4,4\\'\\'-Dichlorobenzilic acid ethyl ester\",OC(c1ccc(cc1)Cl)(c1ccc(cc1)Cl)C(=O)OCC,4.74,exp,2.71\\r\\n51207-31-9,\"2,3,7,8-Tetrachlorodibenzofuran\",Clc1cc2c(oc3c2cc(c(c3)Cl)Cl)cc1Cl,6.53,exp,3.69\\r\\n51235-04-2,n.a.,O=C1N=C(N(C(=O)N1C2CCCCC2)C)N(C)C,1.85,exp,0.84\\r\\n5124-25-4,Disperse Yellow 42,O=[N+](c1c(ccc(c1)S(=O)(=O)Nc1ccccc1)Nc1ccccc1)[O-],4.6,exp,1.58\\r\\n512-56-1,Trimethyl phosphate,O=P(OC)(OC)OC,-0.65,exp,-0.06\\r\\n51-28-5,\"2,4-Dinitrophenol\",Oc1c(cc(cc1)[N+](=O)[O-])[N+](=O)[O-],1.67,exp,0.31\\r\\n514-10-3,n.a.,O=C(O)C2(C)(CCCC3(C)(C1C(C=C(CC1)C(C)C)=CCC23)),5.72,pred,1.97\\r\\n51-44-5,n.a.,O=C(O)c1ccc(c(c1)Cl)Cl,3.25,exp,0.1\\r\\n51630-58-1,n.a.,N#CC(OC(=O)C(c1ccc(cc1)Cl)C(C)C)c3cccc(Oc2ccccc2)c3,6.2,exp,3.01\\r\\n51892-26-3,n.a.,O(c1ccccc1)c2ccc(cc2Cl)Cl,4.93,exp,3.97\\r\\n52315-07-8,n.a.,N#CC(OC(=O)C1C(C=C(Cl)Cl)C1(C)(C))c3cccc(Oc2ccccc2)c3,6.04,exp,2.5\\r\\n52322-80-2,n.a.,O(c1ccccc1)c2cc(c(cc2Cl)Cl)Cl,5.44,exp,3.64\\r\\n52663-63-5,n.a.,c1cc(c(cc1Cl)c2c(c(cc(c2Cl)Cl)Cl)Cl)Cl,7.41,pred,5.54\\r\\n526-73-8,n.a.,c1cc(c(c(c1)C)C)C,3.66,exp,2.31\\r\\n526-78-3,\"2,3-Dibromo succinic acid\",O=C(C(C(C(=O)O)Br)Br)O,0.81,pred,0.62\\r\\n52-68-6,Trichlorfon,COP(=O)(C(C(Cl)(Cl)Cl)O)OC,0.51,exp,-0.39\\r\\n52712-04-6,PCB-141,Clc1ccc(c(c1)c1cc(Cl)c(c(c1Cl)Cl)Cl)Cl,7.19,exp,5.81\\r\\n52712-05-7,PCB-185,Clc1ccc(c(c1)c1c(Cl)c(Cl)c(c(c1Cl)Cl)Cl)Cl,7.93,exp,5.93\\r\\n527-20-8,n.a.,Nc1c(c(c(c(c1Cl)Cl)Cl)Cl)Cl,4.82,exp,2.71\\r\\n527-60-6,\"2,4,6-Trimethylphenol\",Oc1c(cc(cc1C)C)C,2.73,exp,0.91\\r\\n52888-80-9,n.a.,O=C(N(CCC)CCC)SCc1ccccc1,4.65,exp,2.84\\r\\n52918-63-5,n.a.,N#CC(OC(=O)C1C(C=C(Br)Br)C1(C)(C))c3cccc(Oc2ccccc2)c3,6.2,exp,2.83\\r\\n534-52-1,n.a.,O=[N+]([O-])c1cc(c(O)c(c1)C)[N+](=O)[O-],2.12,exp,0.25\\r\\n535-77-3,m-Cymene,CC(c1cc(ccc1)C)C,4.5,exp,2.75\\r\\n53-70-3,\"Dibenzo[a,h]anthracene\",c1c2c(cc3ccc4c(c13)cccc4)c1ccccc1cc2,6.75,exp,2.8\\r\\n538-75-0,\"N,N-Dicyclohexylcarbodiimide\",N(=C=NC1CCCCC1)C1CCCCC1,4.85,pred,0.09\\r\\n5409-83-6,\"2,8-Dichlorodibenzofuran\",Clc1cc2c(oc3c2cc(cc3)Cl)cc1,4.97,pred,3.66\\r\\n54135-80-7,n.a.,O(c1ccc(c(c1Cl)Cl)Cl)C,3.74,exp,2.96\\r\\n54135-81-8,n.a.,OCc1cc(cc(c1Cl)Cl)Cl,3.14,pred,3.07\\r\\n54135-82-9,n.a.,O(c1cc(c(c(c1)Cl)Cl)Cl)C,4.22,exp,3.09\\r\\n541-73-1,\"1,3-Dichlorobenzene\",Clc1cc(ccc1)Cl,3.53,exp,2.44\\r\\n542-18-7,Chlorocyclohexane,ClC1CCCCC1,3.09,exp,2.35\\r\\n5428-54-6,5-Nitro-o-cresol,O=[N+](c1cc(c(cc1)C)O)[O-],2.47,exp,0.86\\r\\n544-01-4,Diisopentylether,CC(CCOCCC(C)C)C,3.71,pred,2.3\\r\\n544-76-3,n.a.,CCCCCCCCCCCCCCCC,8.17,pred,2.68\\r\\n5510-99-6,\"2,6-di-sec-Butylphenol\",Oc1c(cccc1C(CC)C)C(CC)C,4.36,exp,2.47\\r\\n55179-31-2/70585-36-3,n.a.,OC(C(Oc1ccc(cc1)c2ccccc2)n3ncnc3)C(C)(C)C,4.16,exp,2.31\\r\\n55219-65-3,n.a.,OC(C(Oc1ccc(cc1)Cl)n2ncnc2)C(C)(C)C,3.09,exp,1.32\\r\\n55285-14-8,n.a.,O=C(Oc2cccc1c2(OC(C)(C)C1))N(C)SN(CCCC)CCCC,5.71,pred,3\\r\\n55290-64-7,n.a.,O=S1(=O)(C(=C(C)S(=O)(=O)CC1)C),-0.17,exp,0.63\\r\\n55335-06-3,n.a.,O=C(O)COc1nc(c(cc1Cl)Cl)Cl,2.71,pred,-0.1\\r\\n55-38-9,n.a.,O(c1ccc(c(c1)C)SC)P(OC)(OC)=S,4.09,exp,2.39\\r\\n554-00-7,\"2,4-Dichloroaniline\",Clc1c(ccc(c1)Cl)N,2.78,exp,1.38\\r\\n554-84-7,n.a.,O=[N+]([O-])c1cccc(O)c1,2,exp,1.4\\r\\n555-03-3,m-Nitroanisole,O=[N+](c1cc(ccc1)OC)[O-],2.16,exp,0.75\\r\\n55512-33-9,n.a.,O=C(Oc1cc(nnc1c2ccccc2)Cl)SCCCCCCCC,6.05,pred,2.06\\r\\n5566-34-7,n.a.,C2(=C(C3(C1CC(CC1C2(C3(Cl)Cl)Cl)(Cl)Cl)Cl)Cl)Cl,5.85,pred,4.3\\r\\n556-67-2,n.a.,O1[Si](O[Si](O[Si](O[Si]1(C)C)(C)C)(C)C)(C)C,5.1,exp,4.08\\r\\n55720-37-1,n.a.,c1cc(cc2c1cc(cc2Cl)Cl)Cl,5.35,exp,4.43\\r\\n5586-15-2,n.a.,c1ccc2cc(ccc2(c1))SSc3ccc4ccccc4(c3),6.53,pred,0.38\\r\\n5598-13-0,n.a.,n1c(OP(OC)(OC)=S)c(cc(c1Cl)Cl)Cl,4.18,pred,3.26\\r\\n56113-42-9,Tetrachlorophthalic acid monoamide,O=C(c1c(c(c(c(c1Cl)Cl)Cl)Cl)C(=O)O)N,2.98,pred,0.49\\r\\n56-23-5,Carbontetrachloride,ClC(Cl)(Cl)Cl,2.83,exp,0.95\\r\\n56348-72-2,\"3,3\\'\\',4,4\\'\\'-Tetrachlorodiphenyl ether\",Clc1cc(ccc1Cl)Oc1ccc(c(c1)Cl)Cl,6.36,exp,4.43\\r\\n56-35-9,Bis(n-tributyltin)oxide,CCCC[Sn](O[Sn](CCCC)(CCCC)CCCC)(CCCC)CCCC,7.28,pred,3.99\\r\\n56-38-2,n.a.,O=[N+]([O-])c1ccc(OP(OCC)(OCC)=S)cc1,3.83,exp,2.05\\r\\n56425-91-3,n.a.,FC(F)(F)Oc1ccc(cc1)C(O)(c2cncnc2)C(C)C,3.34,exp,1.54\\r\\n56-55-3,Benz[a]anthracene,c1c2c(cc3ccc4c(c13)cccc4)cccc2,5.76,exp,2.48\\r\\n56558-16-8,\"2,2\\'\\',4,6,6\\'\\'-Pentachlorobiphenyl\",Clc1cc(cc(c1c1c(cccc1Cl)Cl)Cl)Cl,6.81,pred,4.81\\r\\n56558-17-9,\"2,3\\'\\',4,4\\'\\',6-Pentachlorobiphenyl\",Clc1c(cc(cc1)c1c(cc(cc1Cl)Cl)Cl)Cl,6.8,pred,4.81\\r\\n56-72-4,Coumaphos,CCOP(=S)(Oc1ccc2c(c1)oc(=O)c(c2C)Cl)OCC,4.12,exp,2.73\\r\\n569-64-2,n.a.,c1ccc(cc1)C(c2ccc(cc2)N(C)C)=C3C=CC(C=C3)=[N+](C)C,3.86,pred,1.86\\r\\n57018-04-9,n.a.,O(c1c(cc(cc1Cl)C)Cl)P(OC)(OC)=S,4.56,exp,2.85\\r\\n57055-39-7,n.a.,O=C(O)C2(C)(CCCC3(c1cc(c(c(c1CCC23)Cl)C(C)C)Cl)(C)),6.99,pred,2.18\\r\\n5707-44-8,n.a.,c1ccc(cc1)c2ccc(cc2)CC,4.71,pred,2.82\\r\\n57117-31-4,n.a.,o2c1cc(c(cc1c3cc(c(c(c23)Cl)Cl)Cl)Cl)Cl,6.92,exp,4.13\\r\\n57117-39-2,n.a.,o2c1cc(c(cc1c3ccc(c(c23)Cl)Cl)Cl)Cl,6.31,exp,2.72\\r\\n57117-41-6,n.a.,o2c1cc(c(cc1c3c2cc(c(c3Cl)Cl)Cl)Cl)Cl,6.79,exp,3.58\\r\\n57117-43-8,n.a.,o2c1c(ccc(c1Cl)Cl)c3cc(c(c(c23)Cl)Cl)Cl,6.75,pred,3.57\\r\\n57117-44-9,n.a.,o2c1cc(c(c(c1c3cc(c(c(c23)Cl)Cl)Cl)Cl)Cl)Cl,7.32,pred,3.94\\r\\n57-15-8,\"1,1,1-Trichloro-2-methyl-2-propanol\",CC(C(Cl)(Cl)Cl)(C)O,2.03,exp,0.27\\r\\n57465-28-8,\"3,3\\'\\',4,4\\'\\',5-Pentachlorobiphenyl\",Clc1c(ccc(c1)c1cc(c(c(c1)Cl)Cl)Cl)Cl,6.8,pred,4.68\\r\\n575-41-7,\"1,3-Dimethylnaphthalene\",Cc1cc(cc2c1cccc2)C,4.42,exp,3.37\\r\\n57567-84-7,n.a.,O=C(O)C1CCC(C)CC1(C(=O)O),1.34,pred,0.11\\r\\n576-24-9,\"2,3-Dichlorophenol\",Clc1c(cccc1Cl)O,2.84,exp,1.23\\r\\n57653-85-7,n.a.,O1c3cc(c(c(c3(Oc2cc(c(c(c12)Cl)Cl)Cl))Cl)Cl)Cl,7.58,pred,3.93\\r\\n577-11-7,n.a.,O=C(OCC(CC)CCCC)CC(C(=O)OCC(CC)CCCC)S(=O)(=O)O,3.83,pred,0.72\\r\\n57-74-9,Chlordane,ClC12C3C(C(C1(Cl)Cl)(C(=C2Cl)Cl)Cl)C(C(C3)Cl)Cl,6.16,exp,4.29\\r\\n57837-19-1,n.a.,O=C(OC)C(N(C(=O)COC)c1c(cccc1C)C)C,1.68,exp,0.84\\r\\n579-10-2,N-Methylacetanilide,CN(c1ccccc1)C(=O)C,1.12,exp,0.07\\r\\n57960-19-7,n.a.,O=C(OC=1C(=O)c2ccccc2(C(=O)C=1CCCCCCCCCCCC))C,6.95,pred,2.38\\r\\n581-40-8,\"2,3-Dimethylnaphthalene\",Cc1cc2c(cc1C)cccc2,4.4,exp,2.71\\r\\n583-39-1,2-Mercaptobenzimidazole,SC1=Nc2c(cccc2)N1,2.13,pred,0.41\\r\\n5835-26-7,n.a.,O=C(O)C1(C)(CCCC2(C)(C3C(=CCC12)CC(C=C)(C)CC3)),5.65,pred,1.63\\r\\n583-78-8,\"2,5-Dichlorophenol\",Oc1c(ccc(c1)Cl)Cl,2.94,pred,1.11\\r\\n58-90-2,\"2,3,4,6-Tetrachlorophenol\",Clc1c(c(cc(c1Cl)Cl)Cl)O,4.45,exp,2.16\\r\\n5902-51-2,n.a.,O=C1NC(=C(C(=O)N1C(C)(C)C)Cl)C,1.89,exp,0.78\\r\\n59039-21-3,\"2,4,4\\'\\'-Trichlorodiphenyl ether\",Clc1c(ccc(c1)Cl)Oc1ccc(cc1)Cl,5.53,exp,3.79\\r\\n59080-33-0,n.a.,c1ccc(cc1)c2c(cc(cc2Br)Br)Br,6.05,pred,3.87\\r\\n59080-37-4,n.a.,c2cc(c(c1c(cccc1Br)Br)c(c2)Br)Br,6.71,pred,4.97\\r\\n591-20-8,m-Bromophenol,Oc1cccc(c1)Br,2.39,pred,1.1\\r\\n591-27-5,3-Aminophenol,Nc1cc(ccc1)O,0.21,exp,1.22\\r\\n591-35-5,\"3,5-Dichlorophenol\",Oc1cc(cc(c1)Cl)Cl,3.62,exp,1.92\\r\\n5915-41-3,n.a.,n1c(nc(nc1NC(C)(C)C)Cl)NCC,3.21,exp,0.84\\r\\n59261-08-4,n.a.,c2c(cc(c(c1c(cc(cc1Br)Br)Br)c2Br)Br)Br,7.98,pred,4.66\\r\\n59365-60-5,\"1-Chloro-2-(1,2-ethane diol) benzene\",Clc1c(cccc1)C(O)CO,1.17,exp,0.39\\r\\n59-50-7,4-Chloro-m-cresol,Cc1cc(ccc1Cl)O,3.1,exp,0.98\\r\\n59669-26-0,n.a.,O=C(ON=C(C)SC)N(C)SN(C(=O)ON=C(C)SC)C,1.7,exp,0.8\\r\\n59722-76-8,Disperse Red 207,O=C1c2ccccc2C(=O)c2c1c(cc(c2N)Oc1ccc(cc1)Br)O,4.44,pred,2.02\\r\\n60123-64-0,\"2,2\\'\\',4,4\\'\\',5-Pentachlorodiphenyl ether\",Clc1c(cc(c(c1)Cl)Cl)Oc1ccc(cc1Cl)Cl,6.38,exp,4.21\\r\\n60123-65-1,\"3,3\\'\\',4,4\\'\\',6-Pentachlorodiphenyl ether\",Clc1cc(ccc1Cl)Oc1c(cc(c(c1)Cl)Cl)Cl,6.6,exp,4.08\\r\\n60145-21-3,\"2,2\\'\\',4,5\\'\\',6-Pentachlorobiphenyl\",Clc1cc(c(cc1)Cl)c1c(cc(cc1Cl)Cl)Cl,6.81,pred,4.58\\r\\n60168-88-9,n.a.,OC(c1cncnc1)(c2ccc(cc2)Cl)c3ccccc3Cl,3.6,exp,2.05\\r\\n60207-90-1,n.a.,n1cnn(c1)CC2(OCC(O2)CCC)c3ccc(cc3Cl)Cl,3.72,exp,2.06\\r\\n60-29-7,Diethyl ether,CCOCC,0.89,exp,0.61\\r\\n603-11-2,3-Nitrophthalic acid,O=C(c1cccc(c1C(=O)O)[N+](=O)[O-])O,0.75,exp,0.55\\r\\n605-02-7,1-Phenyl naphthalene,c1c(c2c(cc1)cccc2)c1ccccc1,4.78,pred,3.51\\r\\n60-51-5,\"O,O-Dimethyl-S-(N-methylcarbamoylmethyl) phosphorodithioate\",S=P(SCC(=O)NC)(OC)OC,0.78,exp,0.18\\r\\n60-57-1/72-20-8,Endrin,O1C2C1C3CC2C4C3C5(C(=C(C4(C5(Cl)Cl)Cl)Cl)Cl)Cl,5.3,exp,3.89\\r\\n606-20-2,n.a.,O=[N+]([O-])c1cccc(c1C)[N+](=O)[O-],2.1,exp,1.34\\r\\n606-28-0,2-Benzoyl benzoic acid methyl ester,O=C(c1ccccc1C(=O)OC)c1ccccc1,3.09,pred,1.01\\r\\n60628-17-3,Diphenylmonotridecylphosphite,CCCCCCCCCCCCCOP(Oc1ccccc1)Oc1ccccc1,7.98,pred,1.55\\r\\n60782-58-3,Trihexylsilanol,CCCCCC[Si](CCCCCC)(CCCCCC)O,8.76,pred,2.11\\r\\n60851-34-5,n.a.,o2c1c(cc(c(c1Cl)Cl)Cl)c3cc(c(c(c23)Cl)Cl)Cl,7.32,pred,3.98\\r\\n608-73-1,\"1,2,3,4,5,6-Hexachlorocyclohexane\",C1(C(C(C(C(C1Cl)Cl)Cl)Cl)Cl)Cl,3.86,exp,2.81\\r\\n608-93-5,Pentachlorobenzene,Clc1c(c(cc(c1Cl)Cl)Cl)Cl,5.17,exp,3.84\\r\\n609-89-2,\"2,4-Dichloro-6-nitrophenol\",Oc1c(cc(cc1Cl)Cl)[N+](=O)[O-],2.83,pred,1.35\\r\\n610-39-9,\"3,4-Dinitrotoluene\",O=[N+](c1ccc(cc1[N+](=O)[O-])C)[O-],2.08,exp,0.21\\r\\n611-06-3,n.a.,O=[N+]([O-])c1ccc(cc1Cl)Cl,3.07,exp,2.07\\r\\n611-21-2,N-Methyl-o-toluidine,Cc1ccccc1NC,2.16,exp,0.9\\r\\n61213-25-0,n.a.,O=C2N(c1cccc(c1)C(F)(F)F)CC(CCl)C2Cl,3.36,exp,2.46\\r\\n612-22-6,o-Ethylnitrobenzene,CCc1c(cccc1)[N+](=O)[O-],2.82,pred,1.14\\r\\n6130-75-2,n.a.,O(c1cc(c(cc1Cl)Cl)Cl)C,3.85,exp,2.8\\r\\n613-12-7,2-Methyl anthracene,Cc1cc2c(cc3c(c2)cccc3)cc1,4.69,pred,2.41\\r\\n61328-45-8,\"2,4,4\\'\\',5-Tetrachlorodiphenyl ether\",Clc1c(cc(c(c1)Cl)Cl)Oc1ccc(cc1)Cl,5.99,exp,4.11\\r\\n61328-46-9,\"2,3\\'\\',4,4\\'\\'-Tetrachlorodiphenyl ether\",Clc1cc(ccc1Cl)Oc1c(cc(cc1)Cl)Cl,6.23,pred,4.24\\r\\n615-54-3,\"1,2,4-Tribromobenzene\",Brc1cc(ccc1Br)Br,4.39,pred,3.52\\r\\n615-74-7,6-Chloro-m-cresol,Oc1cc(ccc1Cl)C,2.9,exp,0.62\\r\\n616-44-4,3-Methylthiophene,Cc1cscc1,2.34,exp,0.72\\r\\n6165-51-1,n.a.,c1ccc(cc1)C(c2cc(ccc2C)C)C,5.53,pred,2.86\\r\\n61-82-5,\"3-Amino-1,2,4-triazole\",C1=NN=C(N1)N,-0.86,exp,0.24\\r\\n618-62-2,n.a.,O=[N+]([O-])c1cc(cc(c1)Cl)Cl,3.09,exp,2.23\\r\\n61949-76-6,n.a.,O=C(OCc2cccc(Oc1ccccc1)c2)C3C(C=C(Cl)Cl)C3(C)(C),6.5,exp,2.65\\r\\n61968-52-3,Disperse Red 167,O=C(OCCN(c1cc(c(cc1)N=Nc1ccc(cc1Cl)[N+](=O)[O-])NC(=O)CC)CCOC(=O)C)C,4.67,pred,0.73\\r\\n622-57-1,N-Ethyl-p-toluidine,CCNc1ccc(cc1)C,2.6,pred,0.52\\r\\n622-97-9,n.a.,C=Cc1ccc(cc1)C,3.24,pred,1.5\\r\\n623-26-7,Therephthalonitrile,N#Cc1ccc(cc1)C#N,0.93,exp,0.23\\r\\n62338-09-4,\"2,2,3-Trimethyl decane\",CCCCCCCC(C(C)(C)C)C,6.27,pred,3.34\\r\\n62-44-2,N-Acetyl-4-ethoxyaniline,CC(=O)Nc1ccc(cc1)OCC,1.58,exp,1.23\\r\\n62-53-3,n.a.,Nc1ccccc1,0.9,exp,0.26\\r\\n62-56-6,Thiourea,NC(=S)N,-1.08,exp,0.05\\r\\n62615-08-1,\"1,2,3,8-Tetrachlorodibenzofuran\",Clc1c(c2c(oc3c2cc(cc3)Cl)cc1Cl)Cl,6.17,pred,3.11\\r\\n626-17-5,\"1,3-Dicyanobenzene\",N#Cc1cc(ccc1)C#N,0.8,exp,0.58\\r\\n626-39-1,\"1,3,5-Tribromobenzene\",Brc1cc(cc(c1)Br)Br,4.51,exp,3.62\\r\\n626-67-5,1-Methylpiperidine,CN1CCCCC1,1.3,exp,0.51\\r\\n62-73-7,n.a.,O=P(OC=C(Cl)Cl)(OC)OC,1.47,exp,-0.25\\r\\n629-25-4,n.a.,O=C(O)CCCCCCCCCCC,4.6,exp,2.4\\r\\n629-62-9,n-Pentadecane,CCCCCCCCCCCCCCC,7.7,pred,1.38\\r\\n63-25-2,n.a.,O=C(Oc1cccc2ccccc12)NC,2.36,exp,1.3\\r\\n634-66-2,\"1,2,3,4-Tetrachlorobenzene\",Clc1c(ccc(c1Cl)Cl)Cl,4.56,pred,3.52\\r\\n634-67-3,n.a.,Nc1ccc(c(c1Cl)Cl)Cl,3.33,exp,2\\r\\n634-83-3,n.a.,Nc1cc(c(c(c1Cl)Cl)Cl)Cl,4.27,exp,2.21\\r\\n634-90-2,n.a.,c1c(cc(c(c1Cl)Cl)Cl)Cl,4.56,exp,3.36\\r\\n634-91-3,n.a.,Nc1cc(c(c(c1)Cl)Cl)Cl,3.32,exp,2.36\\r\\n634-93-5,\"2,4,6-Trichloroaniline\",Nc1c(cc(cc1Cl)Cl)Cl,3.52,exp,2.04\\r\\n6358-85-6,n.a.,O=C(Nc1ccccc1)C(N=Nc2ccc(cc2Cl)c4ccc(N=NC(C(=O)Nc3ccccc3)C(=O)C)c(c4)Cl)C(=O)C,6.86,pred,0.62\\r\\n636-28-2,n.a.,c1c(c(cc(c1Br)Br)Br)Br,5.13,exp,3.7\\r\\n636-30-6,n.a.,Nc1cc(c(cc1Cl)Cl)Cl,3.19,pred,2.33\\r\\n639-58-7,n.a.,c1ccc(cc1)[Sn](c2ccccc2)(c3ccccc3)Cl,4.19,exp,3.14\\r\\n6459-94-5,n.a.,O=S(=O)(O)c6cc5ccc(O)c(N=Nc1ccc(cc1C)c4ccc(N=Nc3ccc(OS(=O)(=O)c2ccc(cc2)C)cc3)c(c4)C)c5c(c6)S(=O)(=O)O,5.68,pred,1.84\\r\\n64628-44-0,n.a.,O=C(NC(=O)c1ccccc1Cl)Nc2ccc(OC(F)(F)F)cc2,4.91,exp,2.79\\r\\n65733-16-6,n.a.,O=C(OC(C)C)C=C(C=CCC(C)CCCC(OC)(C)C)C,5.5,exp,2.66\\r\\n66063-05-6,n.a.,O=C(Nc1ccccc1)N(Cc2ccc(cc2)Cl)C3CCCC3,4.82,exp,2.35\\r\\n66215-27-8,n.a.,n1c(nc(nc1N)NC2CC2)N,0.1,pred,0\\r\\n66246-88-6,n.a.,n1cnn(c1)CC(c2ccc(cc2Cl)Cl)CCC,4.45,pred,1.97\\r\\n66332-96-5,n.a.,O=C(Nc1cccc(OC(C)C)c1)c2ccccc2C(F)(F)F,3.7,exp,1.65\\r\\n6639-30-1,n.a.,c1c(c(cc(c1Cl)Cl)Cl)C,4.56,exp,3.78\\r\\n66441-23-4,n.a.,O=C(OCC)C(Oc3ccc(Oc1nc2ccc(cc2(o1))Cl)cc3)C,4.58,exp,0.69\\r\\n66735-04-4,n.a.,O=C(O)C(C)Cc1ccc(cc1)C(C)(C)C,4.15,pred,0.63\\r\\n66-81-9,n.a.,O=C1NC(=O)CC(C1)CC(O)C2C(=O)C(C)CC(C)C2,0.55,exp,0.21\\r\\n66841-25-6,n.a.,N#CC(OC(=O)C1C(C(C(Br)(Br)Br)Br)C1(C)(C))c3cccc(Oc2ccccc2)c3,6.83,pred,3.08\\r\\n67028-18-6,\"1,2,3,7-tetrachloroDibenzo-p-dioxin\",Clc1c(c(cc2c1Oc1c(cc(cc1)Cl)O2)Cl)Cl,6.42,pred,3.35\\r\\n67306-00-7,n.a.,c1cc(ccc1CC(C)CN2CCCCC2)C(C)(C)C,6.02,pred,2.2\\r\\n6731-36-8,\"1,1-Bis(tert-butyldioxy)-3,3,5-trimethyl cyclohexane\",CC(OOC1(OOC(C)(C)C)CC(CC(C1)(C)C)C)(C)C,6.34,pred,3.99\\r\\n67485-29-4,n.a.,FC(F)(F)c3ccc(C=CC(=NNC1=NCC(C)(C)CN1)C=Cc2ccc(cc2)C(F)(F)F)cc3,6.01,pred,4.54\\r\\n67562-39-4,n.a.,o2c1c(cc(c(c1Cl)Cl)Cl)c3c2c(c(c(c3Cl)Cl)Cl)Cl,7.92,exp,3.45\\r\\n67564-91-4,n.a.,O1C(C)CN(CC1C)CC(C)Cc2ccc(cc2)C(C)(C)C,4.93,exp,3.03\\r\\n67-66-3,Trichlorometane,ClC(Cl)Cl,1.97,exp,0.96\\r\\n67-68-5,Dimethyl sulfoxide,CS(=O)C,-1.35,exp,0.35\\r\\n67-72-1,Hexachloroethane,ClC(C(Cl)(Cl)Cl)(Cl)Cl,4.14,exp,2.42\\r\\n67747-09-5,n.a.,O=C(n1cncc1)N(CCOc2c(cc(cc2Cl)Cl)Cl)CCC,4.1,exp,2.59\\r\\n67905-19-5,Hentriacontafluorohexadecanoic acid,OC(=O)C(C(C(C(C(C(C(C(C(C(C(C(C(C(C(F)(F)F)(F)F)(F)F)(F)F)(F)F)(F)F)(F)F)(F)F)(F)F)(F)F)(F)F)(F)F)(F)F)(F)F)(F)F,6.86,pred,3.72\\r\\n680-31-9,n.a.,O=P(N(C)C)(N(C)C)N(C)C,0.28,exp,-0.55\\r\\n68085-85-8,n.a.,N#CC(OC(=O)C1C(C=C(C(F)(F)F)Cl)C1(C)(C))c3cccc(Oc2ccccc2)c3,6.9,exp,3.29\\r\\n68-12-2,Dimethylformamide,CN(C=O)C,-1.01,exp,-0.11\\r\\n68359-37-5,n.a.,N#CC(OC(=O)C1C(C=C(Cl)Cl)C1(C)(C))c3ccc(F)c(Oc2ccccc2)c3,5.95,exp,2.7\\r\\n6842-15-5,n.a.,C(=CC(C)CC(C)CC(C)C)C,5.59,pred,3.25\\r\\n69327-76-0,n.a.,O=C2N(c1ccccc1)CSC(=NC(C)(C)C)N2C(C)C,4.3,exp,2.71\\r\\n6936-40-9,n.a.,O(c1c(c(cc(c1Cl)Cl)Cl)Cl)C,4.68,exp,3.69\\r\\n69377-81-7,n.a.,O=C(O)COc1nc(F)c(c(N)c1Cl)Cl,1.33,pred,1.79\\r\\n696-44-6,N-Methyl-m-toluidine,Cc1cccc(c1)NC,2.19,exp,0.86\\r\\n69806-40-2,n.a.,O=C(OC)C(Oc2ccc(Oc1ncc(cc1Cl)C(F)(F)F)cc2)C,4.05,exp,1.23\\r\\n7012-37-5,\"2,4,4\\'\\'-Trichlorobiphenyl\",Clc1c(ccc(c1)Cl)c1ccc(cc1)Cl,5.62,exp,4.33\\r\\n70124-77-5,Flucythrinate,N#CC(c1cccc(c1)Oc1ccccc1)OC(=O)C(c1ccc(cc1)OC(F)F)C(C)C,6.2,exp,3.6\\r\\n70-30-4,\"Bis(2,3,5-trichloro-6-hydoroxyphenyl)methane\",Oc1c(c(c(cc1Cl)Cl)Cl)Cc1c(c(cc(c1O)Cl)Cl)Cl,7.54,exp,2.1\\r\\n70648-26-9,n.a.,o2c1cc(c(cc1c3c2c(c(c(c3Cl)Cl)Cl)Cl)Cl)Cl,7.32,pred,3.9\\r\\n7085-19-0,n.a.,O=C(O)C(Oc1ccc(cc1C)Cl)C,3.13,exp,0.48\\r\\n709-98-8,n.a.,O=C(Nc1ccc(c(c1)Cl)Cl)CC,3.07,exp,1.94\\r\\n71-43-2,n.a.,c1ccccc1,2.13,exp,0.63\\r\\n71-55-6,\"1,1,1-Trichloroethane\",CC(Cl)(Cl)Cl,2.49,exp,0.59\\r\\n71626-11-4,n.a.,O=C(OC)C(N(C(=O)Cc1ccccc1)c2c(cccc2C)C)C,3.4,exp,1.76\\r\\n\"71751-41-2 (65195-55-3 B1a, 65195-56-4 B1b)\",n.a.,O=C5OC2CC(OC1(OCC(C)CC1)C2)CC=C(C)C(OC4OC(C)C(OC3OC(C)C(O)C(OC)C3)C(OC)C4)C(C=CC=C6COC7C(O)C(=CC5C67(O))C)C,3.43,pred,1.84\\r\\n71767-67-4,Disperse Yellow 163,[O-][N+](=O)c1cc(c(c(c1)Cl)N=Nc1ccc(cc1)N(CCC#N)CCC#N)Cl,5.21,pred,1.58\\r\\n72178-02-0,n.a.,O=C(NS(=O)(=O)C)c2cc(Oc1ccc(cc1Cl)C(F)(F)F)ccc2[N+](=O)[O-],2.9,exp,0.78\\r\\n72-43-5,n.a.,O(c1ccc(cc1)C(c2ccc(OC)cc2)C(Cl)(Cl)Cl)C,5.08,exp,2.5\\r\\n72-55-9,\"p,p\\'\\'-Dichlorodiphenyldichloroethylene\",ClC(=C(c1ccc(cc1)Cl)c1ccc(cc1)Cl)Cl,6.51,exp,4.3\\r\\n7267-11-0,\"4,5-Dichloronaphtalene-1,8-dicarboxylic acid\",O=C(c1c2c(ccc(c2c(cc1)Cl)Cl)C(=O)O)O,3.49,pred,-0.01\\r\\n7287-19-6,n.a.,n1c(nc(nc1NC(C)C)SC)NC(C)C,3.51,exp,1.93\\r\\n731-27-1,n.a.,O=S(=O)(N(c1ccc(cc1)C)SC(F)(Cl)Cl)N(C)C,3.9,exp,1.87\\r\\n732-11-6,n.a.,O=C1c2ccccc2(C(=O)N1CSP(OC)(OC)=S),2.78,exp,0.41\\r\\n732-26-3,\"2,4,6-tri-tert-Buthylphenol\",Oc1c(cc(cc1C(C)(C)C)C(C)(C)C)C(C)(C)C,6.06,exp,4.16\\r\\n74070-46-5,n.a.,O=[N+]([O-])c2ccc(Oc1ccccc1)c(c2(N))Cl,4.04,exp,3.46\\r\\n74115-24-5,n.a.,n1nc(nnc1c2ccccc2Cl)c3ccccc3Cl,3.1,exp,2.39\\r\\n741-58-2,n.a.,O=S(=O)(NCCSP(OC(C)C)(OC(C)C)=S)c1ccccc1,4.2,exp,2.94\\r\\n74223-64-6,n.a.,O=C(OC)c1ccccc1S(=O)(=O)NC(=O)Nc2nc(nc(n2)C)OC,2.2,exp,0\\r\\n74-31-7,N.N\\'\\'-Diphenyl-p-phenylenediamine,N(c1ccc(cc1)Nc1ccccc1)c1ccccc1,4.75,pred,3.13\\r\\n74918-40-4,\"3,6-Dichlorodibenzofuran\",Clc1cc2c(c3c(o2)c(ccc3)Cl)cc1,4.99,pred,3.01\\r\\n74-97-5,Bromochloromethane,ClCBr,1.41,exp,0.53\\r\\n75-09-2,Dichloromethane,ClCCl,1.25,exp,1.22\\r\\n75-15-0,n.a.,C(=S)=S,1.94,exp,1.29\\r\\n75-25-2,Tribromomethane,BrC(Br)Br,2.4,exp,1.18\\r\\n75-35-4,\"1,1-Dichloroethylene\",C=C(Cl)Cl,2.13,exp,1\\r\\n75627-02-0,n.a.,o2c1c(cc(c(c1c3c2c(c(cc3Cl)Cl)Cl)Cl)Cl)Cl,7.31,pred,2.96\\r\\n75-65-0,tert-Butyl alcohol,CC(C)(C)O,0.35,exp,0.54\\r\\n75-71-8,n.a.,FC(F)(Cl)Cl,2.3,pred,0.84\\r\\n75-98-9,n.a.,O=C(O)C(C)(C)C,1.48,exp,0.23\\r\\n760-23-6,n.a.,C=CC(CCl)Cl,2.39,pred,0.86\\r\\n76-03-9,Trichloroacetic acid,ClC(C(=O)O)(Cl)Cl,1.33,exp,0.13\\r\\n76-12-0,\"1,1,2,2-Tetrachloro-1,2-difluoroethane\",FC(C(F)(Cl)Cl)(Cl)Cl,3.26,pred,1.84\\r\\n76-13-1,\"1,1,2-Trichloro-1,2,2-trifluoroethane\",FC(C(F)(Cl)Cl)(F)Cl,3.16,exp,1.66\\r\\n764-13-6,\"2,5-Dimethylhexa-2,4-diene\",CC(=CC=C(C)C)C,3.5,exp,2.41\\r\\n76-44-8,Heptachlor,ClC12C3C(C(C1(Cl)Cl)(C(=C2Cl)Cl)Cl)C=CC3Cl,6.1,exp,3.95\\r\\n767-00-0,n.a.,N#Cc1ccc(O)cc1,1.6,exp,0.91\\r\\n76738-62-0,n.a.,OC(C(n1ncnc1)Cc2ccc(cc2)Cl)C(C)(C)C,3.2,exp,1.64\\r\\n76-83-5,Chloro-triphenyl-methane,ClC(c1ccccc1)(c1ccccc1)c1ccccc1,5.25,exp,2.63\\r\\n76-87-9,Triphenyltin hydroxide,O[Sn](c1ccccc1)(c1ccccc1)c1ccccc1,3.53,exp,3.49\\r\\n76-93-7,\"2,2-Diphenyl-2-hydroxyacetic acid\",OC(c1ccccc1)(c1ccccc1)C(=O)O,2.3,exp,0.02\\r\\n77-47-4,n.a.,C=1(C(=C(C(C=1Cl)(Cl)Cl)Cl)Cl)Cl,5.04,exp,1.18\\r\\n7756-94-7,n.a.,C=C(C)CCC(C)CCC(C)C,5.6,pred,3.42\\r\\n77-73-6,Dicyclopentadiene,C1C2C(C3CC2C=C3)C=C1,2.64,pred,2.38\\r\\n779-02-2,9-Methyl anthracene,Cc1c2c(cc3c1cccc3)cccc2,5.07,exp,2.72\\r\\n782-74-1,\"2,2\\'\\'-Dichlorohydrazobenzene\",Clc1c(cccc1)NNc1c(cccc1)Cl,4.3,pred,3.68\\r\\n78-30-8,n.a.,O=P(Oc1ccccc1C)(Oc2ccccc2C)Oc3ccccc3C,5.85,pred,2.9\\r\\n78-40-0,Triethyl phosphate,O=P(OCC)(OCC)OCC,0.8,exp,0.01\\r\\n78-42-2,Tris(2-ethylhexyl)phosphate,O=P(OCC(CCCC)CC)(OCC(CCCC)CC)OCC(CCCC)CC,8.57,pred,1.36\\r\\n78-48-8,n.a.,O=P(SCCCC)(SCCCC)SCCCC,5.7,exp,3.48\\r\\n78-51-3,\"Ethanol,2-butoxy-,phosphate (3:1)\",O=P(OCCOCCCC)(OCCOCCCC)OCCOCCCC,3.75,exp,0.67\\r\\n78587-05-0,n.a.,O=C(NC1CCCCC1)N3C(=O)SC(c2ccc(cc2)Cl)C3C,4.57,pred,3.04\\r\\n78-59-1,\"1,5,5-Trimethyl-1-cyclohexen-3-one\",CC1(C)CC(=CC(=O)C1)C,1.7,exp,0.35\\r\\n78-63-7,n.a.,O(OC(C)(C)CCC(OOC(C)(C)C)(C)C)C(C)(C)C,5.91,pred,3.48\\r\\n78-79-5,Isoprene,CC(=C)C=C,2.42,exp,1.22\\r\\n78-87-5,\"1,2-Dichloropropane\",CC(CCl)Cl,1.98,exp,0.71\\r\\n79-00-5,\"1,1,2-Trichloroethane\",ClC(CCl)Cl,1.89,exp,0.62\\r\\n79-01-6,Trichloroethylene,ClC(=CCl)Cl,2.42,exp,1.16\\r\\n79060-60-9,n.a.,o2c1c(ccc(c1Cl)Cl)c3c2c(c(c(c3Cl)Cl)Cl)Cl,7.32,pred,2.78\\r\\n79127-80-3,n.a.,O=C(OCC)NCCOc2ccc(Oc1ccccc1)cc2,4.3,exp,2.33\\r\\n791-31-1,n.a.,O[Si](c1ccccc1)(c2ccccc2)c3ccccc3,5.72,pred,2.85\\r\\n79-27-6,\"1,1,2,2-Tetrabromoethane\",BrC(C(Br)Br)Br,3.06,pred,0.76\\r\\n79277-27-3,n.a.,O=C(OC)c1c(ccs1)S(=O)(=O)NC(=O)Nc2nc(nc(n2)C)OC,1.56,exp,-0.1\\r\\n79-34-5,\"1,1,2,2-Tetrachloroethane\",ClC(C(Cl)Cl)Cl,2.39,exp,1.07\\r\\n79-46-9,2-Nitropropane,CC([N+](=O)[O-])C,0.93,exp,0.62\\r\\n79538-32-2,n.a.,O=C(OCc1c(F)c(F)c(c(F)c1(F))C)C2C(C=C(C(F)(F)F)Cl)C2(C)(C),6.5,exp,3.48\\r\\n79622-59-6,n.a.,O=[N+]([O-])c2cc(c(c(c2(Nc1ncc(cc1Cl)C(F)(F)F))[N+](=O)[O-])Cl)C(F)(F)F,3.56,exp,3.01\\r\\n79-92-5,Camphene,CC1(C2CC(C1=C)CC2)C,4.22,exp,2.98\\r\\n79-94-7,\"2,2-Bis(4\\'\\'-hydroxy-3\\'\\',5\\'\\'-dibromophenyl) propane\",CC(c1cc(c(c(c1)Br)O)Br)(c1cc(c(c(c1)Br)O)Br)C,7,pred,2.46\\r\\n80-05-7,\"2,2-Bis(4\\'\\'-hydroxyphenyl) propane\",CC(c1ccc(cc1)O)(c1ccc(cc1)O)C,3.32,exp,1.52\\r\\n80-43-3,Dicumylperoxide,CC(c1ccccc1)(OOC(c1ccccc1)(C)C)C,5.56,pred,2.75\\r\\n80844-07-1,Etofenprox,CCOc1ccc(cc1)C(COCc1cccc(c1)Oc1ccccc1)(C)C,7.05,exp,3.6\\r\\n81-11-8,\"4,4\\'\\'-diamino-2.2\\'\\'-stilbene disulfonic acid\",OS(=O)(=O)c1c(ccc(c1)N)C=Cc1c(cc(cc1)N)S(=O)(=O)O,-1.73,pred,0.28\\r\\n81-14-1,Musk ketone,[O-][N+](=O)c1c(C)c(C(=O)C)c(c(c1C(C)(C)C)[N+](=O)[O-])C,4.25,exp,3.09\\r\\n81-15-2,n.a.,O=[N+]([O-])c1c(c(c(c(c1C)[N+](=O)[O-])C(C)(C)C)[N+](=O)[O-])C,3.79,pred,3.63\\r\\n81-16-3,2-Naphthylaminesulfonic acid,Nc1ccc2c(c1S(=O)(=O)O)cccc2,-1.16,exp,0.53\\r\\n81335-77-5,n.a.,O=C(O)c2cc(cnc2(C1=NC(C(=O)N1)(C)C(C)C))CC,2.01,pred,0.2\\r\\n81777-89-1,n.a.,O=C1N(OCC1(C)C)Cc2ccccc2Cl,2.5,exp,1.6\\r\\n81-88-9,n.a.,O=C(O)c1ccccc1C=3c4ccc(cc4(OC2=CC(C=CC2=3)=[N+](CC)CC))N(CC)CC,6.58,pred,-0.23\\r\\n82-05-3,Benzanthrone,O=c1c2c3c(cccc3ccc2)c2ccccc12,4.81,exp,2.12\\r\\n82097-50-5,n.a.,O=C(Nc1nc(nc(n1)C)OC)NS(=O)(=O)c2ccccc2(OCCCl),2.24,pred,0.11\\r\\n82-44-0,1-Chloroanthraquinone,O=C1c2c(cccc2C(=O)c2c1cccc2)Cl,3.66,pred,2.36\\r\\n82-45-1,1-Aminoanthraquinone,O=C1c2c(cccc2N)C(=O)c2c1cccc2,3.74,exp,2.03\\r\\n82-47-3,n.a.,O=S(=O)(O)c1cc(c2cccc(O)c2(c1(N)))S(=O)(=O)O,-2.31,pred,0.9\\r\\n82558-50-7,n.a.,O=C(Nc1onc(c1)C(C)(CC)CC)c2c(OC)cccc2(OC),3.94,exp,1.85\\r\\n82560-54-1,n.a.,O=C(Oc2cccc1c2(OC(C)(C)C1))N(C)SN(CCC(=O)OCC)C(C)C,4.3,exp,1.95\\r\\n82657-04-3,Bifenthrin,O=C(C1C(C1(C)C)/C=C(/C(F)(F)F)\\\\Cl)OCc1cccc(c1C)c1ccccc1,5,exp,3.78\\r\\n82-68-8,n.a.,O=[N+]([O-])c1c(c(c(c(c1Cl)Cl)Cl)Cl)Cl,4.64,exp,2.74\\r\\n829-26-5,\"2,3,6-trimethylnaphthalene\",Cc1cc2c(cc1C)ccc(c2)C,4.73,exp,3\\r\\n83055-99-6,n.a.,O=C(OC)c1ccccc1CS(=O)(=O)NC(=O)Nc2nc(OC)cc(n2)OC,2.45,exp,0.2\\r\\n83121-18-0,n.a.,O=C(NC(=O)c1c(F)cccc1(F))Nc2cc(c(F)c(c2(F))Cl)Cl,4.56,exp,2.81\\r\\n83164-33-4,n.a.,O=C(Nc1ccc(F)cc1(F))c3cccnc3(Oc2cccc(c2)C(F)(F)F),4.9,exp,3.11\\r\\n832-69-9,1-Methylphenanthrene,Cc1cccc2c1ccc1c2cccc1,5.08,exp,3.18\\r\\n83-32-9,Acenaphthene,C1c2cccc3c2c(ccc3)C1,3.92,exp,2.92\\r\\n834-12-8,n.a.,n1c(nc(nc1NC(C)C)SC)NCC,2.98,exp,1.52\\r\\n83-42-1,n.a.,O=[N+]([O-])c1cccc(c1C)Cl,3.09,exp,1.99\\r\\n83704-22-7,\"1,2,3,7-Tetrachlorodibenzofuran\",Clc1c(c2c(oc3c2ccc(c3)Cl)cc1Cl)Cl,6.17,pred,3.41\\r\\n83-79-4,n.a.,O=C3c5ccc1OC(C(=C)C)Cc1c5(OC4COc2cc(OC)c(OC)cc2C34),4.1,exp,1.41\\r\\n839-90-7,\"1,3,5-Tris(2\\'\\'-hydroxyethyl)isocyanuric acid\",O=C1N(C(=O)N(C(=O)N1CCO)CCO)CCO,-0.86,pred,-0.05\\r\\n84087-01-4,n.a.,O=C(O)c1c2ncc(cc2(ccc1Cl))Cl,2.6,pred,-0.1\\r\\n84-15-1,n.a.,c1ccc(cc1)c3ccccc3(c2ccccc2),5.42,pred,3.3\\r\\n84-51-5,2-Ethylanthraquinone,O=C1c2c(ccc(c2)CC)C(=O)c2c1cccc2,4.37,exp,1.6\\r\\n84-57-1,n.a.,O=C1N(N=C(C)C1)c2cc(c(cc2Cl)S(=O)(=O)O)Cl,0.91,pred,1.16\\r\\n84-65-1,n.a.,O=C1c3ccccc3(C(=O)c2ccccc12),3.39,exp,2\\r\\n84-74-2,n.a.,O=C(OCCCC)c1ccccc1(C(=O)OCCCC),4.5,exp,2.23\\r\\n84852-15-3,n.a.,Oc1ccc(cc1)CCCCCCC(C)C,5.81,pred,2.4\\r\\n84-86-6,Naphthionic acid,O=S(=O)(O)c2ccc(N)c1ccccc12,-0.29,pred,0.78\\r\\n84-87-7,1-Naphthol-4-sulfonic acid,O=S(=O)(O)c2ccc(O)c1ccccc12,-0.44,exp,1.11\\r\\n85-01-8,Phenanthrene,c1cccc2ccc3c(c12)cccc3,4.46,exp,3.36\\r\\n85-22-3,n.a.,c1(c(c(c(c(c1Br)Br)Br)Br)Br)CC,6.73,pred,2.52\\r\\n85509-19-9,n.a.,Fc1ccc(cc1)[Si](c2ccc(F)cc2)(C)Cn3ncnc3,3.7,exp,2.4\\r\\n85-68-7,n.a.,O=C(OCc1ccccc1)c2ccccc2(C(=O)OCCCC),4.73,exp,1.01\\r\\n85-83-6,n.a.,Oc3ccc4ccccc4(c3(N=Nc2ccc(N=Nc1ccccc1C)cc2C)),7.87,pred,0.75\\r\\n86-30-6,N-Nitrosodiphenylamine,O=NN(c1ccccc1)c1ccccc1,3.13,exp,1.41\\r\\n86-50-0,Azinphos-methyl,COP(=S)(OC)SCN1C(=O)C2=CC=CC=C2N=N1,2.75,exp,1.54\\r\\n86-73-7,Fluorene,c1ccc3c(c1)c2ccccc2C3,4.18,exp,2.77\\r\\n86-74-8,Carbazole,C1=CC=C2C(=C1)C3=CC=CC=C3N2,3.72,exp,2.18\\r\\n86-87-3,1-Naphthaleneacetic acid,OC(=O)Cc1c2c(ccc1)cccc2,2.24,exp,0.29\\r\\n87-02-5,7-Amino-4-hydroxy-2-naphthalenesulfonic acid,Oc1cc(cc2c1ccc(c2)N)S(=O)(=O)O,-0.47,pred,0.11\\r\\n87130-20-9,n.a.,O=C(OC(C)C)Nc1ccc(OCC)c(OCC)c1,2.91,exp,2.52\\r\\n872-05-9,1-Decene,CCCCCCCCC=C,5.7,exp,3.22\\r\\n873-63-2,n.a.,OCc1cccc(c1)Cl,1.94,exp,1.32\\r\\n87-40-1,n.a.,O(c1c(cc(cc1Cl)Cl)Cl)C,4.11,exp,2.84\\r\\n87-61-6,\"1,2,3-Trichlorobenzene\",Clc1c(cccc1Cl)Cl,3.94,pred,2.89\\r\\n87-65-0,\"2,6-Dichlorophenol\",Oc1c(cccc1Cl)Cl,2.75,exp,1.17\\r\\n87-68-3,Hexachlorobutadiene,ClC(=C(Cl)Cl)C(=C(Cl)Cl)Cl,4.78,exp,3.82\\r\\n877-10-1,n.a.,c1(c(c(c(c(c1Cl)Cl)C)Cl)Cl)C,5.61,pred,3.62\\r\\n877-11-2,n.a.,c1(c(c(c(c(c1Cl)Cl)Cl)Cl)Cl)C,5.62,exp,3.83\\r\\n87820-88-0,n.a.,O=C2C(C(=O)CC(c1c(cc(cc1C)C)C)C2)=C(NOCC)CC,3.37,pred,1.5\\r\\n87-82-1,n.a.,c1(c(c(c(c(c1Br)Br)Br)Br)Br)Br,6.07,exp,3\\r\\n87-83-2,Pentabromotoluene,Cc1c(c(c(c(c1Br)Br)Br)Br)Br,6.26,pred,2.45\\r\\n87-84-3,\"1,2,3,4,5-Pentabromo-6-chlorocyclohexane\",ClC1C(C(C(C(C1Br)Br)Br)Br)Br,4.72,exp,2.43\\r\\n87-86-5,Pentachlorophenol,Oc1c(c(c(c(c1Cl)Cl)Cl)Cl)Cl,5.12,exp,2.67\\r\\n879-39-0,n.a.,O=[N+]([O-])c1cc(c(c(c1Cl)Cl)Cl)Cl,3.93,exp,1.9\\r\\n88-06-2,n.a.,Oc1c(cc(cc1Cl)Cl)Cl,3.69,exp,1.92\\r\\n88-19-7,o-Toluenesulfonamide,Cc1c(cccc1)S(=O)(=O)N,0.84,exp,0.29\\r\\n883-20-5,n.a.,c1ccc2c(c1)cc(c3ccccc23)C,4.69,pred,2.56\\r\\n88-44-8,n.a.,O=S(=O)(O)c1cc(ccc1(N))C,-0.79,pred,0.35\\r\\n886-50-0,Terbutryn,CCNc1nc(SC)nc(n1)NC(C)(C)C,3.74,exp,1.95\\r\\n88-72-2,o-Nitrotoluene,Cc1c(cccc1)[N+](=O)[O-],2.3,pred,1.3\\r\\n88-73-3,o-Chloronitrobenzene,Clc1c(cccc1)[N+](=O)[O-],2.44,pred,1.44\\r\\n88-74-4,2-Nitroaniline,Nc1c(cccc1)[N+](=O)[O-],1.1,pred,0.85\\r\\n88-75-5,o-Nitrophenol,Oc1c(cccc1)[N+](=O)[O-],1.79,exp,1.17\\r\\n88-85-7,n.a.,O=[N+]([O-])c1cc(c(O)c(c1)C(C)CC)[N+](=O)[O-],3.56,exp,1.14\\r\\n88-89-1,n.a.,O=[N+]([O-])c1cc(c(O)c(c1)[N+](=O)[O-])[N+](=O)[O-],1.33,exp,0.1\\r\\n88-98-2,\"4-Cyclohexene-1,2-dicarboxylic acid\",OC(=O)C1C(CC=CC1)C(=O)O,0.62,pred,0.05\\r\\n89-59-8,n.a.,O=[N+]([O-])c1cc(ccc1C)Cl,3.05,exp,1.92\\r\\n89-61-2,n.a.,O=[N+]([O-])c1cc(ccc1Cl)Cl,3.09,exp,2.05\\r\\n89-63-4,4-Chloro-2-nitroaniline,Nc1c(cc(cc1)Cl)[N+](=O)[O-],2.72,exp,1.06\\r\\n89-69-0,n.a.,O=[N+]([O-])c1cc(c(cc1Cl)Cl)Cl,3.72,pred,1.84\\r\\n89-93-0,alpha-Methylbenzylamine,Cc1ccccc1CN,1.48,pred,0.57\\r\\n900-95-8,n.a.,O=C(O[Sn](c1ccccc1)(c2ccccc2)c3ccccc3)C,4.37,pred,3.4\\r\\n90-12-0,n.a.,c1ccc2c(c1)cccc2C,3.87,exp,1.73\\r\\n9014-90-8,n.a.,O=S(=O)(O)OCCOCCOCCOCCOCCOCCOc1ccc(cc1)CCCCCCCCC,1.93,pred,2.18\\r\\n90-20-0,\"1-Amino-8-naphthol-3,6-disulfonic acid\",O=S(=O)(O)c1cc(O)c2c(N)cc(cc2(c1))S(=O)(=O)O,-2.31,pred,0.46\\r\\n90-30-2,1-(N-Phenylamino)naphthalene,N(c1c2c(ccc1)cccc2)c1ccccc1,4.2,exp,3.28\\r\\n90-41-5,o-Aminobiphenyl,Nc1c(cccc1)c1ccccc1,2.84,exp,1.44\\r\\n90-43-7,n.a.,Oc1ccccc1c2ccccc2,3.09,exp,1.34\\r\\n90-51-7,2-Amino-8-naphthol-6-sulfonic acid,Oc1cc(cc2c1cc(cc2)N)S(=O)(=O)O,-0.47,pred,0.39\\r\\n90-94-8,n.a.,O=C(c1ccc(cc1)N(C)C)c2ccc(cc2)N(C)C,3.87,exp,1.52\\r\\n91-15-6,o-Phthalonitrile,N#Cc1c(cccc1)C#N,0.99,exp,0.55\\r\\n91-20-3,Naphthalene,c1c2c(ccc1)cccc2,3.3,exp,2.15\\r\\n91-22-5,Quinoline,c1cccc2ncccc12,2.03,exp,0.49\\r\\n91-23-6,o-Nitroanizole,COc1c(cccc1)[N+](=O)[O-],1.73,exp,0.6\\r\\n91-57-6,2-Methylnaphthalene,Cc1ccc2c(c1)cccc2,3.86,exp,2.49\\r\\n91-58-7,n.a.,c1ccc2cc(ccc2(c1))Cl,3.98,exp,3.63\\r\\n91-66-7,\"N,N-Diethylaniline\",CCN(c1ccccc1)CC,3.31,exp,2.04\\r\\n91-94-1,\"3,3\\'\\'-Dichlorobenzidine\",Clc1c(ccc(c1)c1cc(c(cc1)N)Cl)N,3.51,exp,2.23\\r\\n91-96-3,Azoic CC5,O=C(Nc1ccc(cc1C)c1cc(c(cc1)NC(=O)CC(=O)C)C)CC(=O)C,1.75,exp,-0.03\\r\\n920-66-1,\"1,1,1,3,3,3-Hexafluoro-2-propanol\",FC(C(C(F)(F)F)O)(F)F,1.66,exp,0.32\\r\\n92341-06-5,n.a.,o2c1cc(c(c(c1c3c2c(c(cc3Cl)Cl)Cl)Cl)Cl)Cl,7.32,pred,3.2\\r\\n92-52-4,n.a.,c1ccc(cc1)c2ccccc2,3.98,exp,2.64\\r\\n92-69-3,p-Phenylphenol,Oc1ccc(cc1)c1ccccc1,3.2,exp,1.64\\r\\n92-70-6,3-Hydroxy 2-naphthoic acid,Oc1c(cc2c(c1)cccc2)C(=O)O,3.05,exp,0.46\\r\\n92-77-3,Azoic CC2,O=C(c1cc2ccccc2cc1O)Nc1ccccc1,3.91,pred,0.76\\r\\n92-84-2,Phenothiazine,N1c2c(cccc2)Sc2c1cccc2,4.15,exp,2.61\\r\\n92-86-4,\"4,4\\'\\'-Dibromobiphenyl\",Brc1ccc(cc1)c1ccc(cc1)Br,5.72,exp,3.96\\r\\n92-94-4,n.a.,c1ccc(cc1)c2ccc(cc2)c3ccccc3,6.03,exp,1.77\\r\\n933-12-0,\"Cyclohexene, 3,5,5-trimethyl-\",CC1(CC(C=CC1)C)C,3.88,pred,2.87\\r\\n935-95-5,n.a.,Oc1c(c(cc(c1Cl)Cl)Cl)Cl,3.88,exp,2.15\\r\\n938-22-7,n.a.,O(c1c(cc(c(c1Cl)Cl)Cl)Cl)C,4.75,exp,3.34\\r\\n938-86-3,n.a.,O(c1cc(c(c(c1Cl)Cl)Cl)Cl)C,4.51,exp,3.51\\r\\n94125-34-5,n.a.,O=C(Nc1nc(nc(n1)C)OC)NS(=O)(=O)c2ccccc2CCC(F)(F)F,3.08,pred,-0.89\\r\\n94361-06-5,n.a.,OC(c1ccc(cc1)Cl)(Cn2ncnc2)C(C)C3CC3,2.9,exp,1.45\\r\\n944-22-9,Fonofos,CCP(=S)(Sc1ccccc1)OCC,3.94,exp,1.89\\r\\n944-61-6,n.a.,O(c1c(OC)c(c(c(c1Cl)Cl)Cl)Cl)C,4.86,exp,4.4\\r\\n94-52-0,5-Nitrobenzimidazole,O=[N+](c1cc2c(cc1)NC=N2)[O-],1.5,exp,0.32\\r\\n947-04-6,n.a.,O=C1NCCCCCCCCCCC1,2.92,exp,0.29\\r\\n94-74-6,n.a.,O=C(O)COc1ccc(cc1C)Cl,3.25,exp,0\\r\\n94-75-7,n.a.,O=C(O)COc1ccc(cc1Cl)Cl,2.81,exp,-0.5\\r\\n947-72-8,n.a.,c1ccc2c(c1)cc(c3ccccc23)Cl,4.83,pred,3.48\\r\\n950-37-8,n.a.,O=C1N(N=C(OC)S1)CSP(OC)(OC)=S,2.2,exp,0.72\\r\\n95-16-9,Benzothiazole,N1=CSc2c1cccc2,2.01,exp,0.8\\r\\n95465-99-9,n.a.,O=P(OCC)(SC(C)CC)SC(C)CC,3.9,exp,2.34\\r\\n95-47-6,n.a.,c1ccc(c(c1)C)C,3.12,exp,1.15\\r\\n95-48-7,n.a.,Oc1ccccc1C,1.95,exp,1.03\\r\\n95-49-8,o-Chlorotoluene,Cc1c(cccc1)Cl,3.42,exp,1.86\\r\\n95-50-1,o-Dichlorobenzene,Clc1c(cccc1)Cl,3.43,exp,2.47\\r\\n95-51-2,o-Chloroaniline,Nc1c(cccc1)Cl,1.9,exp,0.93\\r\\n95-56-7,o-Bromophenol,Oc1ccccc1Br,2.35,exp,1.52\\r\\n95-57-8,o-Chlorophenol,Oc1c(cccc1)Cl,2.15,exp,1.21\\r\\n95-63-6,\"1,2,4-Trimethylbenzene\",Cc1c(ccc(c1)C)C,3.63,exp,2.17\\r\\n95-64-7,\"3,4-Dimethylaniline\",Cc1c(ccc(c1)N)C,1.84,exp,0.8\\r\\n95-69-2,Chloromethylaniline,Cc1c(ccc(c1)Cl)N,2.29,pred,1.37\\r\\n95737-68-1,n.a.,n1ccccc1OC(C)COc3ccc(Oc2ccccc2)cc3,5.07,pred,3.14\\r\\n95-76-1,\"3,4-Dichloroaniline\",Clc1c(ccc(c1)N)Cl,2.69,exp,1.13\\r\\n95-77-2,\"3,4-Dichlorophenol\",Clc1c(ccc(c1)O)Cl,3.33,exp,1.75\\r\\n95-78-3,\"2,5-Dimethyl aniline\",Nc1c(ccc(c1)C)C,2.01,pred,0.54\\r\\n95-80-7,\"4-Methylphenylene-1,3-diamine\",Nc1c(ccc(c1)N)C,0.14,exp,1.45\\r\\n95-82-9,\"2,5-Dichloroaniline\",Nc1c(ccc(c1)Cl)Cl,2.5,pred,1.24\\r\\n95-94-3,\"1,2,4,5-Tetrachlorobenzene\",Clc1c(cc(c(c1)Cl)Cl)Cl,4.56,pred,3.57\\r\\n95-95-4,\"2,4,5-Trichlorophenol\",Oc1c(cc(c(c1)Cl)Cl)Cl,3.72,exp,2.6\\r\\n95977-29-0,n.a.,O=C(O)C(Oc2ccc(Oc1ncc(cc1Cl)C(F)(F)F)cc2)C,4.16,pred,0.94\\r\\n961-11-5,\"2-Chloro-1-(2,4,5-trichlorophenyl) vinyl dimethylphosphate\",Clc1c(cc(c(c1)Cl)Cl)C(=CCl)OP(=O)(OC)OC,3.53,exp,1.63\\r\\n96-12-8,n.a.,C(C(CBr)Br)Cl,2.96,exp,1.11\\r\\n96-18-4,\"1,2,3-Trichloropropane\",ClC(CCl)CCl,2.27,exp,1.07\\r\\n962-58-3,n.a.,O=P(Oc1nc(nc(c1)C)C(C)C)(OCC)OCC,2.07,exp,-0.35\\r\\n96-29-7,2-Butanone oxime,CC(=NO)CC,0.63,exp,0.44\\r\\n96-45-7,n.a.,N1C(NCC1)=S,-0.66,exp,-0.02\\r\\n96489-71-3,n.a.,O=C1C(=C(C=NN1C(C)(C)C)SCc2ccc(cc2)C(C)(C)C)Cl,6.37,exp,1.68\\r\\n96525-23-4,n.a.,O=C2C(c1cccc(c1)C(F)(F)F)=C(OC2c3ccccc3)NC,3.19,pred,1.44\\r\\n96-69-5,\"4,4\\'\\'-Thiobis (6-t-butyl-m-cresol)\",CC(c1c(cc(c(c1)Sc1c(cc(c(c1)C(C)(C)C)O)C)C)O)(C)C,7.2,pred,0.82\\r\\n96-73-1,4-nitrochlorobenzene sulfonic acid,O=S(=O)(c1c(ccc(c1)[N+](=O)[O-])Cl)O,0.14,pred,0.48\\r\\n96-76-4,\"2,4-di-tert-Butylphenol\",Oc1ccc(cc1C(C)(C)C)C(C)(C)C,5.19,exp,2.46\\r\\n96-91-3,n.a.,O=[N+]([O-])c1cc(N)c(O)c(c1)[N+](=O)[O-],0.93,exp,0.47\\r\\n96-96-8,2-Nitro-p-anisidine,[O-][N+](=O)c1cc(ccc1N)OC,1.94,exp,0.79\\r\\n97-23-4,\"2,2\\'\\'-Dihydroxy-5,5\\'\\'-dichlorodiphenylmethane\",Oc1c(cc(cc1)Cl)Cc1cc(ccc1O)Cl,4.26,exp,2.19\\r\\n98-08-8,Benzotrifluoride,FC(c1ccccc1)(F)F,2.88,pred,1.67\\r\\n98-10-2,Benzenesulfonamide,NS(=O)(=O)c1ccccc1,0.31,exp,0.52\\r\\n98-15-7,3-Trifluoromethyl-chlorobenzene,FC(c1cc(ccc1)Cl)(F)F,3.54,pred,2.34\\r\\n98-54-4,p-tert-Butylphenol,CC(c1ccc(cc1)O)(C)C,3.31,exp,1.79\\r\\n98-73-7,p-t-Butyl benzoic acid,CC(c1ccc(cc1)C(=O)O)(C)C,3.85,exp,0.5\\r\\n98-82-8,n.a.,c1ccc(cc1)C(C)C,3.66,exp,1.55\\r\\n98-83-9,alpha-Methylstyrene,CC(=C)c1ccccc1,3.48,exp,1.89\\r\\n98-84-0,n.a.,NC(c1ccccc1)C,1.39,pred,0.73\\r\\n98886-44-3,n.a.,O=C1N(CCS1)P(=O)(OCC)SC(C)CC,1.68,exp,0.5\\r\\n98-95-3,Nitrobenzene,O=[N+](c1ccccc1)[O-],1.85,exp,0.66\\r\\n99-08-1,m-Nitrotoluene,O=[N+](c1cc(ccc1)C)[O-],2.3,pred,1.02\\r\\n99-09-2,3-Nitroaniline,O=[N+](c1cccc(c1)N)[O-],1.13,pred,0.51\\r\\n99129-21-2,n.a.,O=C1C(C(=O)CC(C1)CC(C)SCC)=C(NOCC=CCl)CC,2.93,pred,0.32\\r\\n99-30-9,n.a.,O=[N+]([O-])c1cc(c(N)c(c1)Cl)Cl,2.8,exp,1.88\\r\\n99387-89-0,n.a.,FC(F)(F)c2cc(ccc2(N=C(n1cncc1)COCCC))Cl,1.4,exp,2.59\\r\\n99-54-7,\"1,2-Dichloro-4-nitrobenzene\",O=[N+](c1cc(c(cc1)Cl)Cl)[O-],3.09,pred,1.82\\r\\n99-62-7,n.a.,c1cc(cc(c1)C(C)C)C(C)C,4.61,pred,3.22\\r\\n99-65-0,n.a.,O=[N+]([O-])c1cccc(c1)[N+](=O)[O-],1.49,exp,0.77\\r\\n99-71-8,p-sec-Butylphenol,CC(c1ccc(cc1)O)CC,3.08,exp,1.35\\r\\n99-99-0,p-Nitrotoluene,O=[N+](c1ccc(cc1)C)[O-],2.37,exp,0.91\\r\\nCAE_NA- R-A_NA_01,\"p-sec-Butylphenyl-2,3-dihydroxypropylether\",CCC(c1ccc(cc1)OCC(CO)O)C,2.35,pred,0.63\\r\\nCAE_NA- R-A_NA_02,\"1-Isobutyl 2,5 dimethyl cyclohexane\",CC(CC1C(CCC(C1)C)C)C,5.54,pred,3.37\\r\\nCAE_NA- R-A_NA_03,\"1,2,3,4-Tetrabromobenzene\",Brc1c(c(ccc1Br)Br)Br,5.14,pred,3.18\\r\\nCAE_NA- R-A_NA_04,4-Chlorophenylpropargylformal,C#CCOCOc1ccc(cc1)Cl,2.88,pred,2.03\\r\\nCAE_NA_01,\"2,2-Dichloropropionic acid\",CC(C(=O)O)(Cl)Cl,1.25,pred,0.85\\r\\nV-Mey_NA_01,n.a.,OCCOCCOCCOCCOCCOCCOCCOCCOCCCCCCCCCCCCC,3.63,pred,1.5\\r\\nV-Mey_NA_02,n.a.,N#Cc1cc(ccc1(OP(OC)(OC)=S))Cl,3.31,pred,2.33\\r\\nV-Mey_NA_03,n.a.,FC(F)C(F)(F)Oc1ccc(cc1)CCCCCCC,6.5,pred,2.96\\r\\nV-Mey_NA_04,n.a.,FC(F)C(F)(F)Oc1ccc(cc1)C(C)(C)C(C)C(C)C,6.46,pred,3.71\\r\\nV-Mey_NA_05,n.a.,FC(F)C(F)(F)Oc1ccc(cc1)C(C)(C)CC(C)(C)C,6.51,pred,3.92\\r\\nV-Mey_NA_06,n.a.,FC(F)C(F)(F)Oc1ccc(cc1)C(c2ccc(OC(F)(F)C(F)F)cc2)(C)CC(C)C,8.21,pred,3.76\\r\\nV-Mey_NA_07,n.a.,FC(F)C(F)(F)Oc1ccc(cc1)C(c2ccc(OC(F)(F)C(F)F)cc2)C(CC)CCCC,9.14,pred,3.19\\r\\nV-Mey_NA_08,n.a.,FC(F)C(F)(F)Oc1ccc(cc1)C(c2ccc(OC(F)(F)C(F)F)cc2)(C)CCCCCC,9.14,pred,2.85'}"
      ]
     },
     "execution_count": 1,
     "metadata": {
      "tags": []
     },
     "output_type": "execute_result"
    }
   ],
   "source": [
    "from google.colab import files\n",
    "files.upload()"
   ]
  },
  {
   "cell_type": "markdown",
   "metadata": {
    "colab_type": "text",
    "id": "nvzyBwj4KrRn"
   },
   "source": [
    "#Part-1"
   ]
  },
  {
   "cell_type": "markdown",
   "metadata": {
    "colab_type": "text",
    "id": "6ZNLwokpzEcf"
   },
   "source": [
    "Importing the libraries"
   ]
  },
  {
   "cell_type": "code",
   "execution_count": 0,
   "metadata": {
    "colab": {},
    "colab_type": "code",
    "id": "zzolMbUIzILq"
   },
   "outputs": [],
   "source": [
    "import pandas as pd\n",
    "import numpy as np\n",
    "import matplotlib.pyplot as plt\n"
   ]
  },
  {
   "cell_type": "markdown",
   "metadata": {
    "colab_type": "text",
    "id": "8oACZJJJz2T4"
   },
   "source": [
    "Creating the dataset"
   ]
  },
  {
   "cell_type": "code",
   "execution_count": 0,
   "metadata": {
    "colab": {},
    "colab_type": "code",
    "id": "2wyjymZuy5HV"
   },
   "outputs": [],
   "source": [
    "dataset=pd.read_csv(\"QSAR_BCF_Kow.csv\")"
   ]
  },
  {
   "cell_type": "code",
   "execution_count": 4,
   "metadata": {
    "colab": {
     "base_uri": "https://localhost:8080/",
     "height": 402
    },
    "colab_type": "code",
    "id": "R9W7_RrQ0Fzq",
    "outputId": "dd5e012f-bb1a-4849-f464-5270dfa176ee"
   },
   "outputs": [
    {
     "data": {
      "text/html": [
       "<div>\n",
       "<style scoped>\n",
       "    .dataframe tbody tr th:only-of-type {\n",
       "        vertical-align: middle;\n",
       "    }\n",
       "\n",
       "    .dataframe tbody tr th {\n",
       "        vertical-align: top;\n",
       "    }\n",
       "\n",
       "    .dataframe thead th {\n",
       "        text-align: right;\n",
       "    }\n",
       "</style>\n",
       "<table border=\"1\" class=\"dataframe\">\n",
       "  <thead>\n",
       "    <tr style=\"text-align: right;\">\n",
       "      <th></th>\n",
       "      <th>CAS</th>\n",
       "      <th>Name</th>\n",
       "      <th>SMILES</th>\n",
       "      <th>LogKOW</th>\n",
       "      <th>KOW type</th>\n",
       "      <th>logBCF</th>\n",
       "    </tr>\n",
       "  </thead>\n",
       "  <tbody>\n",
       "    <tr>\n",
       "      <th>0</th>\n",
       "      <td>105-67-9</td>\n",
       "      <td>n.a.</td>\n",
       "      <td>Oc1ccc(cc1C)C</td>\n",
       "      <td>2.3</td>\n",
       "      <td>exp</td>\n",
       "      <td>1.18</td>\n",
       "    </tr>\n",
       "    <tr>\n",
       "      <th>1</th>\n",
       "      <td>108-39-4</td>\n",
       "      <td>n.a.</td>\n",
       "      <td>Oc1cccc(c1)C</td>\n",
       "      <td>1.96</td>\n",
       "      <td>exp</td>\n",
       "      <td>1.03</td>\n",
       "    </tr>\n",
       "    <tr>\n",
       "      <th>2</th>\n",
       "      <td>113136-77-9</td>\n",
       "      <td>n.a.</td>\n",
       "      <td>O=C(O)C2CC2(C(=O)Nc1ccc(cc1Cl)Cl)</td>\n",
       "      <td>1.98</td>\n",
       "      <td>pred</td>\n",
       "      <td>-0.40</td>\n",
       "    </tr>\n",
       "    <tr>\n",
       "      <th>3</th>\n",
       "      <td>114311-32-9</td>\n",
       "      <td>n.a.</td>\n",
       "      <td>O=C(O)c2cc(cnc2(C1=NC(=O)C(N1)(C)C(C)C))COC</td>\n",
       "      <td>1.02</td>\n",
       "      <td>pred</td>\n",
       "      <td>-1.00</td>\n",
       "    </tr>\n",
       "    <tr>\n",
       "      <th>4</th>\n",
       "      <td>1689-84-5</td>\n",
       "      <td>n.a.</td>\n",
       "      <td>N#Cc1cc(c(O)c(c1)Br)Br</td>\n",
       "      <td>2.99</td>\n",
       "      <td>pred</td>\n",
       "      <td>0.84</td>\n",
       "    </tr>\n",
       "    <tr>\n",
       "      <th>...</th>\n",
       "      <td>...</td>\n",
       "      <td>...</td>\n",
       "      <td>...</td>\n",
       "      <td>...</td>\n",
       "      <td>...</td>\n",
       "      <td>...</td>\n",
       "    </tr>\n",
       "    <tr>\n",
       "      <th>1053</th>\n",
       "      <td>V-Mey_NA_04</td>\n",
       "      <td>n.a.</td>\n",
       "      <td>FC(F)C(F)(F)Oc1ccc(cc1)C(C)(C)C(C)C(C)C</td>\n",
       "      <td>6.46</td>\n",
       "      <td>pred</td>\n",
       "      <td>3.71</td>\n",
       "    </tr>\n",
       "    <tr>\n",
       "      <th>1054</th>\n",
       "      <td>V-Mey_NA_05</td>\n",
       "      <td>n.a.</td>\n",
       "      <td>FC(F)C(F)(F)Oc1ccc(cc1)C(C)(C)CC(C)(C)C</td>\n",
       "      <td>6.51</td>\n",
       "      <td>pred</td>\n",
       "      <td>3.92</td>\n",
       "    </tr>\n",
       "    <tr>\n",
       "      <th>1055</th>\n",
       "      <td>V-Mey_NA_06</td>\n",
       "      <td>n.a.</td>\n",
       "      <td>FC(F)C(F)(F)Oc1ccc(cc1)C(c2ccc(OC(F)(F)C(F)F)c...</td>\n",
       "      <td>8.21</td>\n",
       "      <td>pred</td>\n",
       "      <td>3.76</td>\n",
       "    </tr>\n",
       "    <tr>\n",
       "      <th>1056</th>\n",
       "      <td>V-Mey_NA_07</td>\n",
       "      <td>n.a.</td>\n",
       "      <td>FC(F)C(F)(F)Oc1ccc(cc1)C(c2ccc(OC(F)(F)C(F)F)c...</td>\n",
       "      <td>9.14</td>\n",
       "      <td>pred</td>\n",
       "      <td>3.19</td>\n",
       "    </tr>\n",
       "    <tr>\n",
       "      <th>1057</th>\n",
       "      <td>V-Mey_NA_08</td>\n",
       "      <td>n.a.</td>\n",
       "      <td>FC(F)C(F)(F)Oc1ccc(cc1)C(c2ccc(OC(F)(F)C(F)F)c...</td>\n",
       "      <td>9.14</td>\n",
       "      <td>pred</td>\n",
       "      <td>2.85</td>\n",
       "    </tr>\n",
       "  </tbody>\n",
       "</table>\n",
       "<p>1058 rows × 6 columns</p>\n",
       "</div>"
      ],
      "text/plain": [
       "               CAS  Name  ... KOW type logBCF\n",
       "0         105-67-9  n.a.  ...      exp   1.18\n",
       "1         108-39-4  n.a.  ...      exp   1.03\n",
       "2      113136-77-9  n.a.  ...     pred  -0.40\n",
       "3      114311-32-9  n.a.  ...     pred  -1.00\n",
       "4        1689-84-5  n.a.  ...     pred   0.84\n",
       "...            ...   ...  ...      ...    ...\n",
       "1053   V-Mey_NA_04  n.a.  ...     pred   3.71\n",
       "1054   V-Mey_NA_05  n.a.  ...     pred   3.92\n",
       "1055   V-Mey_NA_06  n.a.  ...     pred   3.76\n",
       "1056   V-Mey_NA_07  n.a.  ...     pred   3.19\n",
       "1057   V-Mey_NA_08  n.a.  ...     pred   2.85\n",
       "\n",
       "[1058 rows x 6 columns]"
      ]
     },
     "execution_count": 4,
     "metadata": {
      "tags": []
     },
     "output_type": "execute_result"
    }
   ],
   "source": [
    "dataset"
   ]
  },
  {
   "cell_type": "markdown",
   "metadata": {
    "colab_type": "text",
    "id": "HRolQnSkz92t"
   },
   "source": [
    "Dropping columns SMILES and KOW "
   ]
  },
  {
   "cell_type": "code",
   "execution_count": 5,
   "metadata": {
    "colab": {
     "base_uri": "https://localhost:8080/",
     "height": 402
    },
    "colab_type": "code",
    "id": "3EVd-t540DqN",
    "outputId": "09003ddc-79ea-4c71-f77e-77e26096178d"
   },
   "outputs": [
    {
     "data": {
      "text/html": [
       "<div>\n",
       "<style scoped>\n",
       "    .dataframe tbody tr th:only-of-type {\n",
       "        vertical-align: middle;\n",
       "    }\n",
       "\n",
       "    .dataframe tbody tr th {\n",
       "        vertical-align: top;\n",
       "    }\n",
       "\n",
       "    .dataframe thead th {\n",
       "        text-align: right;\n",
       "    }\n",
       "</style>\n",
       "<table border=\"1\" class=\"dataframe\">\n",
       "  <thead>\n",
       "    <tr style=\"text-align: right;\">\n",
       "      <th></th>\n",
       "      <th>CAS</th>\n",
       "      <th>Name</th>\n",
       "      <th>LogKOW</th>\n",
       "      <th>logBCF</th>\n",
       "    </tr>\n",
       "  </thead>\n",
       "  <tbody>\n",
       "    <tr>\n",
       "      <th>0</th>\n",
       "      <td>105-67-9</td>\n",
       "      <td>n.a.</td>\n",
       "      <td>2.3</td>\n",
       "      <td>1.18</td>\n",
       "    </tr>\n",
       "    <tr>\n",
       "      <th>1</th>\n",
       "      <td>108-39-4</td>\n",
       "      <td>n.a.</td>\n",
       "      <td>1.96</td>\n",
       "      <td>1.03</td>\n",
       "    </tr>\n",
       "    <tr>\n",
       "      <th>2</th>\n",
       "      <td>113136-77-9</td>\n",
       "      <td>n.a.</td>\n",
       "      <td>1.98</td>\n",
       "      <td>-0.40</td>\n",
       "    </tr>\n",
       "    <tr>\n",
       "      <th>3</th>\n",
       "      <td>114311-32-9</td>\n",
       "      <td>n.a.</td>\n",
       "      <td>1.02</td>\n",
       "      <td>-1.00</td>\n",
       "    </tr>\n",
       "    <tr>\n",
       "      <th>4</th>\n",
       "      <td>1689-84-5</td>\n",
       "      <td>n.a.</td>\n",
       "      <td>2.99</td>\n",
       "      <td>0.84</td>\n",
       "    </tr>\n",
       "    <tr>\n",
       "      <th>...</th>\n",
       "      <td>...</td>\n",
       "      <td>...</td>\n",
       "      <td>...</td>\n",
       "      <td>...</td>\n",
       "    </tr>\n",
       "    <tr>\n",
       "      <th>1053</th>\n",
       "      <td>V-Mey_NA_04</td>\n",
       "      <td>n.a.</td>\n",
       "      <td>6.46</td>\n",
       "      <td>3.71</td>\n",
       "    </tr>\n",
       "    <tr>\n",
       "      <th>1054</th>\n",
       "      <td>V-Mey_NA_05</td>\n",
       "      <td>n.a.</td>\n",
       "      <td>6.51</td>\n",
       "      <td>3.92</td>\n",
       "    </tr>\n",
       "    <tr>\n",
       "      <th>1055</th>\n",
       "      <td>V-Mey_NA_06</td>\n",
       "      <td>n.a.</td>\n",
       "      <td>8.21</td>\n",
       "      <td>3.76</td>\n",
       "    </tr>\n",
       "    <tr>\n",
       "      <th>1056</th>\n",
       "      <td>V-Mey_NA_07</td>\n",
       "      <td>n.a.</td>\n",
       "      <td>9.14</td>\n",
       "      <td>3.19</td>\n",
       "    </tr>\n",
       "    <tr>\n",
       "      <th>1057</th>\n",
       "      <td>V-Mey_NA_08</td>\n",
       "      <td>n.a.</td>\n",
       "      <td>9.14</td>\n",
       "      <td>2.85</td>\n",
       "    </tr>\n",
       "  </tbody>\n",
       "</table>\n",
       "<p>1058 rows × 4 columns</p>\n",
       "</div>"
      ],
      "text/plain": [
       "               CAS  Name LogKOW  logBCF\n",
       "0         105-67-9  n.a.    2.3    1.18\n",
       "1         108-39-4  n.a.   1.96    1.03\n",
       "2      113136-77-9  n.a.   1.98   -0.40\n",
       "3      114311-32-9  n.a.   1.02   -1.00\n",
       "4        1689-84-5  n.a.   2.99    0.84\n",
       "...            ...   ...    ...     ...\n",
       "1053   V-Mey_NA_04  n.a.   6.46    3.71\n",
       "1054   V-Mey_NA_05  n.a.   6.51    3.92\n",
       "1055   V-Mey_NA_06  n.a.   8.21    3.76\n",
       "1056   V-Mey_NA_07  n.a.   9.14    3.19\n",
       "1057   V-Mey_NA_08  n.a.   9.14    2.85\n",
       "\n",
       "[1058 rows x 4 columns]"
      ]
     },
     "execution_count": 5,
     "metadata": {
      "tags": []
     },
     "output_type": "execute_result"
    }
   ],
   "source": [
    "dataset=dataset.drop(columns=[\"SMILES\",\"KOW type\"],axis=1)\n",
    "dataset"
   ]
  },
  {
   "cell_type": "markdown",
   "metadata": {
    "colab_type": "text",
    "id": "fv8euDKo0sMg"
   },
   "source": [
    "Remove the values in column titled “LogKOW” corresponding to the values starting with V-Mey_NA  in the column titled “CAS”"
   ]
  },
  {
   "cell_type": "code",
   "execution_count": 6,
   "metadata": {
    "colab": {
     "base_uri": "https://localhost:8080/",
     "height": 284
    },
    "colab_type": "code",
    "id": "U8Te2Hup0ddH",
    "outputId": "e0977d0a-84ce-4bd0-e326-3d680c998e20"
   },
   "outputs": [
    {
     "data": {
      "text/html": [
       "<div>\n",
       "<style scoped>\n",
       "    .dataframe tbody tr th:only-of-type {\n",
       "        vertical-align: middle;\n",
       "    }\n",
       "\n",
       "    .dataframe tbody tr th {\n",
       "        vertical-align: top;\n",
       "    }\n",
       "\n",
       "    .dataframe thead th {\n",
       "        text-align: right;\n",
       "    }\n",
       "</style>\n",
       "<table border=\"1\" class=\"dataframe\">\n",
       "  <thead>\n",
       "    <tr style=\"text-align: right;\">\n",
       "      <th></th>\n",
       "      <th>CAS</th>\n",
       "      <th>Name</th>\n",
       "      <th>LogKOW</th>\n",
       "      <th>logBCF</th>\n",
       "    </tr>\n",
       "  </thead>\n",
       "  <tbody>\n",
       "    <tr>\n",
       "      <th>1050</th>\n",
       "      <td>V-Mey_NA_01</td>\n",
       "      <td>n.a.</td>\n",
       "      <td>3.63</td>\n",
       "      <td>1.50</td>\n",
       "    </tr>\n",
       "    <tr>\n",
       "      <th>1051</th>\n",
       "      <td>V-Mey_NA_02</td>\n",
       "      <td>n.a.</td>\n",
       "      <td>3.31</td>\n",
       "      <td>2.33</td>\n",
       "    </tr>\n",
       "    <tr>\n",
       "      <th>1052</th>\n",
       "      <td>V-Mey_NA_03</td>\n",
       "      <td>n.a.</td>\n",
       "      <td>6.5</td>\n",
       "      <td>2.96</td>\n",
       "    </tr>\n",
       "    <tr>\n",
       "      <th>1053</th>\n",
       "      <td>V-Mey_NA_04</td>\n",
       "      <td>n.a.</td>\n",
       "      <td>6.46</td>\n",
       "      <td>3.71</td>\n",
       "    </tr>\n",
       "    <tr>\n",
       "      <th>1054</th>\n",
       "      <td>V-Mey_NA_05</td>\n",
       "      <td>n.a.</td>\n",
       "      <td>6.51</td>\n",
       "      <td>3.92</td>\n",
       "    </tr>\n",
       "    <tr>\n",
       "      <th>1055</th>\n",
       "      <td>V-Mey_NA_06</td>\n",
       "      <td>n.a.</td>\n",
       "      <td>8.21</td>\n",
       "      <td>3.76</td>\n",
       "    </tr>\n",
       "    <tr>\n",
       "      <th>1056</th>\n",
       "      <td>V-Mey_NA_07</td>\n",
       "      <td>n.a.</td>\n",
       "      <td>9.14</td>\n",
       "      <td>3.19</td>\n",
       "    </tr>\n",
       "    <tr>\n",
       "      <th>1057</th>\n",
       "      <td>V-Mey_NA_08</td>\n",
       "      <td>n.a.</td>\n",
       "      <td>9.14</td>\n",
       "      <td>2.85</td>\n",
       "    </tr>\n",
       "  </tbody>\n",
       "</table>\n",
       "</div>"
      ],
      "text/plain": [
       "              CAS  Name LogKOW  logBCF\n",
       "1050  V-Mey_NA_01  n.a.   3.63    1.50\n",
       "1051  V-Mey_NA_02  n.a.   3.31    2.33\n",
       "1052  V-Mey_NA_03  n.a.    6.5    2.96\n",
       "1053  V-Mey_NA_04  n.a.   6.46    3.71\n",
       "1054  V-Mey_NA_05  n.a.   6.51    3.92\n",
       "1055  V-Mey_NA_06  n.a.   8.21    3.76\n",
       "1056  V-Mey_NA_07  n.a.   9.14    3.19\n",
       "1057  V-Mey_NA_08  n.a.   9.14    2.85"
      ]
     },
     "execution_count": 6,
     "metadata": {
      "tags": []
     },
     "output_type": "execute_result"
    }
   ],
   "source": [
    "dataset[dataset['CAS'].astype(str).str.match(\"^V-Mey_NA.[a-z0-9A-Z]+\")]"
   ]
  },
  {
   "cell_type": "code",
   "execution_count": 0,
   "metadata": {
    "colab": {},
    "colab_type": "code",
    "id": "ETQO-BGq2wQ6"
   },
   "outputs": [],
   "source": [
    "index_CAS=dataset[dataset['CAS'].astype(str).str.match(\"^V-Mey_NA.[a-z0-9A-Z]+\")].index\n",
    "dataset=dataset.drop(index_CAS)\n"
   ]
  },
  {
   "cell_type": "code",
   "execution_count": 8,
   "metadata": {
    "colab": {
     "base_uri": "https://localhost:8080/",
     "height": 402
    },
    "colab_type": "code",
    "id": "LumW2hOK3d5-",
    "outputId": "e25d9bdb-6157-4936-98bf-bdcd52a706e1"
   },
   "outputs": [
    {
     "data": {
      "text/html": [
       "<div>\n",
       "<style scoped>\n",
       "    .dataframe tbody tr th:only-of-type {\n",
       "        vertical-align: middle;\n",
       "    }\n",
       "\n",
       "    .dataframe tbody tr th {\n",
       "        vertical-align: top;\n",
       "    }\n",
       "\n",
       "    .dataframe thead th {\n",
       "        text-align: right;\n",
       "    }\n",
       "</style>\n",
       "<table border=\"1\" class=\"dataframe\">\n",
       "  <thead>\n",
       "    <tr style=\"text-align: right;\">\n",
       "      <th></th>\n",
       "      <th>CAS</th>\n",
       "      <th>Name</th>\n",
       "      <th>LogKOW</th>\n",
       "      <th>logBCF</th>\n",
       "    </tr>\n",
       "  </thead>\n",
       "  <tbody>\n",
       "    <tr>\n",
       "      <th>0</th>\n",
       "      <td>105-67-9</td>\n",
       "      <td>n.a.</td>\n",
       "      <td>2.3</td>\n",
       "      <td>1.18</td>\n",
       "    </tr>\n",
       "    <tr>\n",
       "      <th>1</th>\n",
       "      <td>108-39-4</td>\n",
       "      <td>n.a.</td>\n",
       "      <td>1.96</td>\n",
       "      <td>1.03</td>\n",
       "    </tr>\n",
       "    <tr>\n",
       "      <th>2</th>\n",
       "      <td>113136-77-9</td>\n",
       "      <td>n.a.</td>\n",
       "      <td>1.98</td>\n",
       "      <td>-0.40</td>\n",
       "    </tr>\n",
       "    <tr>\n",
       "      <th>3</th>\n",
       "      <td>114311-32-9</td>\n",
       "      <td>n.a.</td>\n",
       "      <td>1.02</td>\n",
       "      <td>-1.00</td>\n",
       "    </tr>\n",
       "    <tr>\n",
       "      <th>4</th>\n",
       "      <td>1689-84-5</td>\n",
       "      <td>n.a.</td>\n",
       "      <td>2.99</td>\n",
       "      <td>0.84</td>\n",
       "    </tr>\n",
       "    <tr>\n",
       "      <th>...</th>\n",
       "      <td>...</td>\n",
       "      <td>...</td>\n",
       "      <td>...</td>\n",
       "      <td>...</td>\n",
       "    </tr>\n",
       "    <tr>\n",
       "      <th>1045</th>\n",
       "      <td>CAE_NA- R-A_NA_01</td>\n",
       "      <td>p-sec-Butylphenyl-2,3-dihydroxypropylether</td>\n",
       "      <td>2.35</td>\n",
       "      <td>0.63</td>\n",
       "    </tr>\n",
       "    <tr>\n",
       "      <th>1046</th>\n",
       "      <td>CAE_NA- R-A_NA_02</td>\n",
       "      <td>1-Isobutyl 2,5 dimethyl cyclohexane</td>\n",
       "      <td>5.54</td>\n",
       "      <td>3.37</td>\n",
       "    </tr>\n",
       "    <tr>\n",
       "      <th>1047</th>\n",
       "      <td>CAE_NA- R-A_NA_03</td>\n",
       "      <td>1,2,3,4-Tetrabromobenzene</td>\n",
       "      <td>5.14</td>\n",
       "      <td>3.18</td>\n",
       "    </tr>\n",
       "    <tr>\n",
       "      <th>1048</th>\n",
       "      <td>CAE_NA- R-A_NA_04</td>\n",
       "      <td>4-Chlorophenylpropargylformal</td>\n",
       "      <td>2.88</td>\n",
       "      <td>2.03</td>\n",
       "    </tr>\n",
       "    <tr>\n",
       "      <th>1049</th>\n",
       "      <td>CAE_NA_01</td>\n",
       "      <td>2,2-Dichloropropionic acid</td>\n",
       "      <td>1.25</td>\n",
       "      <td>0.85</td>\n",
       "    </tr>\n",
       "  </tbody>\n",
       "</table>\n",
       "<p>1050 rows × 4 columns</p>\n",
       "</div>"
      ],
      "text/plain": [
       "                    CAS  ... logBCF\n",
       "0              105-67-9  ...   1.18\n",
       "1              108-39-4  ...   1.03\n",
       "2           113136-77-9  ...  -0.40\n",
       "3           114311-32-9  ...  -1.00\n",
       "4             1689-84-5  ...   0.84\n",
       "...                 ...  ...    ...\n",
       "1045  CAE_NA- R-A_NA_01  ...   0.63\n",
       "1046  CAE_NA- R-A_NA_02  ...   3.37\n",
       "1047  CAE_NA- R-A_NA_03  ...   3.18\n",
       "1048  CAE_NA- R-A_NA_04  ...   2.03\n",
       "1049          CAE_NA_01  ...   0.85\n",
       "\n",
       "[1050 rows x 4 columns]"
      ]
     },
     "execution_count": 8,
     "metadata": {
      "tags": []
     },
     "output_type": "execute_result"
    }
   ],
   "source": [
    "dataset"
   ]
  },
  {
   "cell_type": "markdown",
   "metadata": {
    "colab_type": "text",
    "id": "wCTQHMzP3x3T"
   },
   "source": [
    "Check for missing values. If available, fill it with zeros, ones and mean of column. "
   ]
  },
  {
   "cell_type": "code",
   "execution_count": 9,
   "metadata": {
    "colab": {
     "base_uri": "https://localhost:8080/",
     "height": 202
    },
    "colab_type": "code",
    "id": "HChH5P-833fh",
    "outputId": "e86dd173-be87-43ce-a07c-6f840497a7de"
   },
   "outputs": [
    {
     "name": "stdout",
     "output_type": "stream",
     "text": [
      "<class 'pandas.core.frame.DataFrame'>\n",
      "Int64Index: 1050 entries, 0 to 1049\n",
      "Data columns (total 4 columns):\n",
      " #   Column  Non-Null Count  Dtype  \n",
      "---  ------  --------------  -----  \n",
      " 0   CAS     1050 non-null   object \n",
      " 1   Name    1050 non-null   object \n",
      " 2   LogKOW  1048 non-null   object \n",
      " 3   logBCF  1048 non-null   float64\n",
      "dtypes: float64(1), object(3)\n",
      "memory usage: 41.0+ KB\n"
     ]
    }
   ],
   "source": [
    "dataset.info()"
   ]
  },
  {
   "cell_type": "code",
   "execution_count": 0,
   "metadata": {
    "colab": {},
    "colab_type": "code",
    "id": "oOHDer5v6Sds"
   },
   "outputs": [],
   "source": [
    "total = dataset['logBCF'].sum(skipna=True)\n",
    "mean=total/dataset['logBCF'].shape[0]\n",
    "dataset[\"logBCF\"].fillna(mean, inplace = True)"
   ]
  },
  {
   "cell_type": "code",
   "execution_count": 0,
   "metadata": {
    "colab": {},
    "colab_type": "code",
    "id": "zxqkKlSh9RvQ"
   },
   "outputs": [],
   "source": [
    "dataset[\"LogKOW\"].fillna(0, inplace = True)"
   ]
  },
  {
   "cell_type": "code",
   "execution_count": 0,
   "metadata": {
    "colab": {},
    "colab_type": "code",
    "id": "LcH8zPG2-1Jd"
   },
   "outputs": [],
   "source": [
    "index_merged=dataset[dataset['LogKOW'].astype(str).str.match(\"^Merged\")].index\n",
    "dataset=dataset.drop(index_merged)"
   ]
  },
  {
   "cell_type": "code",
   "execution_count": 0,
   "metadata": {
    "colab": {},
    "colab_type": "code",
    "id": "1IpcG_JIANI2"
   },
   "outputs": [],
   "source": [
    "dataset['LogKOW']=dataset[\"LogKOW\"].astype(float)"
   ]
  },
  {
   "cell_type": "code",
   "execution_count": 14,
   "metadata": {
    "colab": {
     "base_uri": "https://localhost:8080/",
     "height": 202
    },
    "colab_type": "code",
    "id": "19n1rpGV9Z_9",
    "outputId": "baee883b-bbf6-4173-8211-1e82deac9c40"
   },
   "outputs": [
    {
     "name": "stdout",
     "output_type": "stream",
     "text": [
      "<class 'pandas.core.frame.DataFrame'>\n",
      "Int64Index: 1048 entries, 0 to 1049\n",
      "Data columns (total 4 columns):\n",
      " #   Column  Non-Null Count  Dtype  \n",
      "---  ------  --------------  -----  \n",
      " 0   CAS     1048 non-null   object \n",
      " 1   Name    1048 non-null   object \n",
      " 2   LogKOW  1048 non-null   float64\n",
      " 3   logBCF  1048 non-null   float64\n",
      "dtypes: float64(2), object(2)\n",
      "memory usage: 40.9+ KB\n"
     ]
    }
   ],
   "source": [
    "dataset.info()"
   ]
  },
  {
   "cell_type": "markdown",
   "metadata": {
    "colab_type": "text",
    "id": "AgYwOrEjAeKZ"
   },
   "source": [
    "Remove the column titled “CAS”."
   ]
  },
  {
   "cell_type": "code",
   "execution_count": 15,
   "metadata": {
    "colab": {
     "base_uri": "https://localhost:8080/",
     "height": 402
    },
    "colab_type": "code",
    "id": "z1Ua7Hd1AiMM",
    "outputId": "189e2230-39a3-4cb9-cc50-e1f06ddd7fcb"
   },
   "outputs": [
    {
     "data": {
      "text/html": [
       "<div>\n",
       "<style scoped>\n",
       "    .dataframe tbody tr th:only-of-type {\n",
       "        vertical-align: middle;\n",
       "    }\n",
       "\n",
       "    .dataframe tbody tr th {\n",
       "        vertical-align: top;\n",
       "    }\n",
       "\n",
       "    .dataframe thead th {\n",
       "        text-align: right;\n",
       "    }\n",
       "</style>\n",
       "<table border=\"1\" class=\"dataframe\">\n",
       "  <thead>\n",
       "    <tr style=\"text-align: right;\">\n",
       "      <th></th>\n",
       "      <th>Name</th>\n",
       "      <th>LogKOW</th>\n",
       "      <th>logBCF</th>\n",
       "    </tr>\n",
       "  </thead>\n",
       "  <tbody>\n",
       "    <tr>\n",
       "      <th>0</th>\n",
       "      <td>n.a.</td>\n",
       "      <td>2.30</td>\n",
       "      <td>1.18</td>\n",
       "    </tr>\n",
       "    <tr>\n",
       "      <th>1</th>\n",
       "      <td>n.a.</td>\n",
       "      <td>1.96</td>\n",
       "      <td>1.03</td>\n",
       "    </tr>\n",
       "    <tr>\n",
       "      <th>2</th>\n",
       "      <td>n.a.</td>\n",
       "      <td>1.98</td>\n",
       "      <td>-0.40</td>\n",
       "    </tr>\n",
       "    <tr>\n",
       "      <th>3</th>\n",
       "      <td>n.a.</td>\n",
       "      <td>1.02</td>\n",
       "      <td>-1.00</td>\n",
       "    </tr>\n",
       "    <tr>\n",
       "      <th>4</th>\n",
       "      <td>n.a.</td>\n",
       "      <td>2.99</td>\n",
       "      <td>0.84</td>\n",
       "    </tr>\n",
       "    <tr>\n",
       "      <th>...</th>\n",
       "      <td>...</td>\n",
       "      <td>...</td>\n",
       "      <td>...</td>\n",
       "    </tr>\n",
       "    <tr>\n",
       "      <th>1045</th>\n",
       "      <td>p-sec-Butylphenyl-2,3-dihydroxypropylether</td>\n",
       "      <td>2.35</td>\n",
       "      <td>0.63</td>\n",
       "    </tr>\n",
       "    <tr>\n",
       "      <th>1046</th>\n",
       "      <td>1-Isobutyl 2,5 dimethyl cyclohexane</td>\n",
       "      <td>5.54</td>\n",
       "      <td>3.37</td>\n",
       "    </tr>\n",
       "    <tr>\n",
       "      <th>1047</th>\n",
       "      <td>1,2,3,4-Tetrabromobenzene</td>\n",
       "      <td>5.14</td>\n",
       "      <td>3.18</td>\n",
       "    </tr>\n",
       "    <tr>\n",
       "      <th>1048</th>\n",
       "      <td>4-Chlorophenylpropargylformal</td>\n",
       "      <td>2.88</td>\n",
       "      <td>2.03</td>\n",
       "    </tr>\n",
       "    <tr>\n",
       "      <th>1049</th>\n",
       "      <td>2,2-Dichloropropionic acid</td>\n",
       "      <td>1.25</td>\n",
       "      <td>0.85</td>\n",
       "    </tr>\n",
       "  </tbody>\n",
       "</table>\n",
       "<p>1048 rows × 3 columns</p>\n",
       "</div>"
      ],
      "text/plain": [
       "                                            Name  LogKOW  logBCF\n",
       "0                                           n.a.    2.30    1.18\n",
       "1                                           n.a.    1.96    1.03\n",
       "2                                           n.a.    1.98   -0.40\n",
       "3                                           n.a.    1.02   -1.00\n",
       "4                                           n.a.    2.99    0.84\n",
       "...                                          ...     ...     ...\n",
       "1045  p-sec-Butylphenyl-2,3-dihydroxypropylether    2.35    0.63\n",
       "1046         1-Isobutyl 2,5 dimethyl cyclohexane    5.54    3.37\n",
       "1047                   1,2,3,4-Tetrabromobenzene    5.14    3.18\n",
       "1048               4-Chlorophenylpropargylformal    2.88    2.03\n",
       "1049                  2,2-Dichloropropionic acid    1.25    0.85\n",
       "\n",
       "[1048 rows x 3 columns]"
      ]
     },
     "execution_count": 15,
     "metadata": {
      "tags": []
     },
     "output_type": "execute_result"
    }
   ],
   "source": [
    "dataset=dataset.drop(columns=\"CAS\",axis=1)\n",
    "dataset"
   ]
  },
  {
   "cell_type": "code",
   "execution_count": 16,
   "metadata": {
    "colab": {
     "base_uri": "https://localhost:8080/",
     "height": 402
    },
    "colab_type": "code",
    "id": "-lh5JSZPAu_6",
    "outputId": "45c8fa9d-8f60-4b66-aeec-491059b16548"
   },
   "outputs": [
    {
     "data": {
      "text/html": [
       "<div>\n",
       "<style scoped>\n",
       "    .dataframe tbody tr th:only-of-type {\n",
       "        vertical-align: middle;\n",
       "    }\n",
       "\n",
       "    .dataframe tbody tr th {\n",
       "        vertical-align: top;\n",
       "    }\n",
       "\n",
       "    .dataframe thead th {\n",
       "        text-align: right;\n",
       "    }\n",
       "</style>\n",
       "<table border=\"1\" class=\"dataframe\">\n",
       "  <thead>\n",
       "    <tr style=\"text-align: right;\">\n",
       "      <th></th>\n",
       "      <th>LogKOW</th>\n",
       "      <th>logBCF</th>\n",
       "    </tr>\n",
       "  </thead>\n",
       "  <tbody>\n",
       "    <tr>\n",
       "      <th>0</th>\n",
       "      <td>2.30</td>\n",
       "      <td>1.18</td>\n",
       "    </tr>\n",
       "    <tr>\n",
       "      <th>1</th>\n",
       "      <td>1.96</td>\n",
       "      <td>1.03</td>\n",
       "    </tr>\n",
       "    <tr>\n",
       "      <th>2</th>\n",
       "      <td>1.98</td>\n",
       "      <td>-0.40</td>\n",
       "    </tr>\n",
       "    <tr>\n",
       "      <th>3</th>\n",
       "      <td>1.02</td>\n",
       "      <td>-1.00</td>\n",
       "    </tr>\n",
       "    <tr>\n",
       "      <th>4</th>\n",
       "      <td>2.99</td>\n",
       "      <td>0.84</td>\n",
       "    </tr>\n",
       "    <tr>\n",
       "      <th>...</th>\n",
       "      <td>...</td>\n",
       "      <td>...</td>\n",
       "    </tr>\n",
       "    <tr>\n",
       "      <th>1045</th>\n",
       "      <td>2.35</td>\n",
       "      <td>0.63</td>\n",
       "    </tr>\n",
       "    <tr>\n",
       "      <th>1046</th>\n",
       "      <td>5.54</td>\n",
       "      <td>3.37</td>\n",
       "    </tr>\n",
       "    <tr>\n",
       "      <th>1047</th>\n",
       "      <td>5.14</td>\n",
       "      <td>3.18</td>\n",
       "    </tr>\n",
       "    <tr>\n",
       "      <th>1048</th>\n",
       "      <td>2.88</td>\n",
       "      <td>2.03</td>\n",
       "    </tr>\n",
       "    <tr>\n",
       "      <th>1049</th>\n",
       "      <td>1.25</td>\n",
       "      <td>0.85</td>\n",
       "    </tr>\n",
       "  </tbody>\n",
       "</table>\n",
       "<p>1048 rows × 2 columns</p>\n",
       "</div>"
      ],
      "text/plain": [
       "      LogKOW  logBCF\n",
       "0       2.30    1.18\n",
       "1       1.96    1.03\n",
       "2       1.98   -0.40\n",
       "3       1.02   -1.00\n",
       "4       2.99    0.84\n",
       "...      ...     ...\n",
       "1045    2.35    0.63\n",
       "1046    5.54    3.37\n",
       "1047    5.14    3.18\n",
       "1048    2.88    2.03\n",
       "1049    1.25    0.85\n",
       "\n",
       "[1048 rows x 2 columns]"
      ]
     },
     "execution_count": 16,
     "metadata": {
      "tags": []
     },
     "output_type": "execute_result"
    }
   ],
   "source": [
    "data=dataset.drop(columns=\"Name\",axis=1)\n",
    "data"
   ]
  },
  {
   "cell_type": "markdown",
   "metadata": {
    "colab_type": "text",
    "id": "rZIvCjUUA9YW"
   },
   "source": [
    "Perform linearity analysis on the resultant dataset. "
   ]
  },
  {
   "cell_type": "code",
   "execution_count": 17,
   "metadata": {
    "colab": {
     "base_uri": "https://localhost:8080/",
     "height": 312
    },
    "colab_type": "code",
    "id": "DJAzuQRPBAVl",
    "outputId": "a8e4fb3a-7549-40a5-9d44-4b2324d1ac1a"
   },
   "outputs": [
    {
     "name": "stderr",
     "output_type": "stream",
     "text": [
      "No handles with labels found to put in legend.\n"
     ]
    },
    {
     "data": {
      "image/png": "[encoded data removed]",
      "text/plain": [
       "<Figure size 432x288 with 1 Axes>"
      ]
     },
     "metadata": {
      "needs_background": "light",
      "tags": []
     },
     "output_type": "display_data"
    }
   ],
   "source": [
    "plt.scatter(data[\"LogKOW\"],data[\"logBCF\"])\n",
    "plt.title(\"Linearity Analysis\")\n",
    "plt.legend()\n",
    "plt.xlabel(\"LogKOW\")\n",
    "plt.ylabel(\"logBCF\")\n",
    "plt.show()"
   ]
  },
  {
   "cell_type": "markdown",
   "metadata": {
    "colab_type": "text",
    "id": "CawfPAe7BvAc"
   },
   "source": [
    "Drawing heatmap"
   ]
  },
  {
   "cell_type": "code",
   "execution_count": 18,
   "metadata": {
    "colab": {
     "base_uri": "https://localhost:8080/",
     "height": 339
    },
    "colab_type": "code",
    "id": "fe4wLCxBBpoJ",
    "outputId": "79878239-9fc7-417c-b560-dadfaa364b07"
   },
   "outputs": [
    {
     "name": "stderr",
     "output_type": "stream",
     "text": [
      "/usr/local/lib/python3.6/dist-packages/statsmodels/tools/_testing.py:19: FutureWarning: pandas.util.testing is deprecated. Use the functions in the public API at pandas.testing instead.\n",
      "  import pandas.util.testing as tm\n"
     ]
    },
    {
     "data": {
      "text/plain": [
       "<matplotlib.axes._subplots.AxesSubplot at 0x7fa2c2147eb8>"
      ]
     },
     "execution_count": 18,
     "metadata": {
      "tags": []
     },
     "output_type": "execute_result"
    },
    {
     "data": {
      "image/png": "[encoded data removed]",
      "text/plain": [
       "<Figure size 432x288 with 2 Axes>"
      ]
     },
     "metadata": {
      "needs_background": "light",
      "tags": []
     },
     "output_type": "display_data"
    }
   ],
   "source": [
    "import seaborn as sns\n",
    "data_corr=data.corr()\n",
    "sns.heatmap(data_corr,annot=True)"
   ]
  },
  {
   "cell_type": "markdown",
   "metadata": {
    "colab_type": "text",
    "id": "KRiN4ZD_Da-_"
   },
   "source": [
    "Normalize the values using min-max normalization."
   ]
  },
  {
   "cell_type": "code",
   "execution_count": 19,
   "metadata": {
    "colab": {
     "base_uri": "https://localhost:8080/",
     "height": 639
    },
    "colab_type": "code",
    "id": "oH84lNTDB96K",
    "outputId": "de9ef8e1-6ffd-4123-84e9-b4a9b7c98c3b"
   },
   "outputs": [
    {
     "data": {
      "text/html": [
       "<div>\n",
       "<style scoped>\n",
       "    .dataframe tbody tr th:only-of-type {\n",
       "        vertical-align: middle;\n",
       "    }\n",
       "\n",
       "    .dataframe tbody tr th {\n",
       "        vertical-align: top;\n",
       "    }\n",
       "\n",
       "    .dataframe thead th {\n",
       "        text-align: right;\n",
       "    }\n",
       "</style>\n",
       "<table border=\"1\" class=\"dataframe\">\n",
       "  <thead>\n",
       "    <tr style=\"text-align: right;\">\n",
       "      <th></th>\n",
       "      <th>LogKOW</th>\n",
       "      <th>logBCF</th>\n",
       "    </tr>\n",
       "  </thead>\n",
       "  <tbody>\n",
       "    <tr>\n",
       "      <th>0</th>\n",
       "      <td>0.281879</td>\n",
       "      <td>0.371134</td>\n",
       "    </tr>\n",
       "    <tr>\n",
       "      <th>1</th>\n",
       "      <td>0.266667</td>\n",
       "      <td>0.351804</td>\n",
       "    </tr>\n",
       "    <tr>\n",
       "      <th>2</th>\n",
       "      <td>0.267562</td>\n",
       "      <td>0.167526</td>\n",
       "    </tr>\n",
       "    <tr>\n",
       "      <th>3</th>\n",
       "      <td>0.224609</td>\n",
       "      <td>0.090206</td>\n",
       "    </tr>\n",
       "    <tr>\n",
       "      <th>4</th>\n",
       "      <td>0.312752</td>\n",
       "      <td>0.327320</td>\n",
       "    </tr>\n",
       "    <tr>\n",
       "      <th>5</th>\n",
       "      <td>0.285011</td>\n",
       "      <td>0.382732</td>\n",
       "    </tr>\n",
       "    <tr>\n",
       "      <th>6</th>\n",
       "      <td>0.213870</td>\n",
       "      <td>0.219072</td>\n",
       "    </tr>\n",
       "    <tr>\n",
       "      <th>7</th>\n",
       "      <td>0.324832</td>\n",
       "      <td>0.474227</td>\n",
       "    </tr>\n",
       "    <tr>\n",
       "      <th>8</th>\n",
       "      <td>0.396868</td>\n",
       "      <td>0.479381</td>\n",
       "    </tr>\n",
       "    <tr>\n",
       "      <th>9</th>\n",
       "      <td>0.347651</td>\n",
       "      <td>0.536082</td>\n",
       "    </tr>\n",
       "    <tr>\n",
       "      <th>10</th>\n",
       "      <td>0.262640</td>\n",
       "      <td>0.347938</td>\n",
       "    </tr>\n",
       "    <tr>\n",
       "      <th>11</th>\n",
       "      <td>0.374944</td>\n",
       "      <td>0.338918</td>\n",
       "    </tr>\n",
       "    <tr>\n",
       "      <th>12</th>\n",
       "      <td>0.297539</td>\n",
       "      <td>0.347938</td>\n",
       "    </tr>\n",
       "    <tr>\n",
       "      <th>13</th>\n",
       "      <td>0.348993</td>\n",
       "      <td>0.445876</td>\n",
       "    </tr>\n",
       "    <tr>\n",
       "      <th>14</th>\n",
       "      <td>0.327069</td>\n",
       "      <td>0.396907</td>\n",
       "    </tr>\n",
       "    <tr>\n",
       "      <th>15</th>\n",
       "      <td>0.289485</td>\n",
       "      <td>0.407216</td>\n",
       "    </tr>\n",
       "    <tr>\n",
       "      <th>16</th>\n",
       "      <td>0.229083</td>\n",
       "      <td>0.302835</td>\n",
       "    </tr>\n",
       "    <tr>\n",
       "      <th>17</th>\n",
       "      <td>0.264430</td>\n",
       "      <td>0.314433</td>\n",
       "    </tr>\n",
       "    <tr>\n",
       "      <th>18</th>\n",
       "      <td>0.269799</td>\n",
       "      <td>0.338918</td>\n",
       "    </tr>\n",
       "    <tr>\n",
       "      <th>19</th>\n",
       "      <td>0.385235</td>\n",
       "      <td>0.636598</td>\n",
       "    </tr>\n",
       "  </tbody>\n",
       "</table>\n",
       "</div>"
      ],
      "text/plain": [
       "      LogKOW    logBCF\n",
       "0   0.281879  0.371134\n",
       "1   0.266667  0.351804\n",
       "2   0.267562  0.167526\n",
       "3   0.224609  0.090206\n",
       "4   0.312752  0.327320\n",
       "5   0.285011  0.382732\n",
       "6   0.213870  0.219072\n",
       "7   0.324832  0.474227\n",
       "8   0.396868  0.479381\n",
       "9   0.347651  0.536082\n",
       "10  0.262640  0.347938\n",
       "11  0.374944  0.338918\n",
       "12  0.297539  0.347938\n",
       "13  0.348993  0.445876\n",
       "14  0.327069  0.396907\n",
       "15  0.289485  0.407216\n",
       "16  0.229083  0.302835\n",
       "17  0.264430  0.314433\n",
       "18  0.269799  0.338918\n",
       "19  0.385235  0.636598"
      ]
     },
     "execution_count": 19,
     "metadata": {
      "tags": []
     },
     "output_type": "execute_result"
    }
   ],
   "source": [
    "data['LogKOW']=((data['LogKOW']-data['LogKOW'].min())/(data['LogKOW'].max()-data['LogKOW'].min()))\n",
    "data['logBCF']=((data['logBCF']-data['logBCF'].min())/(data['logBCF'].max()-data['logBCF'].min()))\n",
    "data.head(20)"
   ]
  },
  {
   "cell_type": "markdown",
   "metadata": {
    "colab_type": "text",
    "id": "IhzAbR16EzP7"
   },
   "source": [
    "Construct a regression equation, y=mx+c with LogKOW as independent attribute(x) and logBCF as dependent attribute(y). "
   ]
  },
  {
   "cell_type": "code",
   "execution_count": 20,
   "metadata": {
    "colab": {
     "base_uri": "https://localhost:8080/",
     "height": 34
    },
    "colab_type": "code",
    "id": "X5HIO5fiEyg_",
    "outputId": "443f898a-f101-4880-df8e-9a826c8c311e"
   },
   "outputs": [
    {
     "data": {
      "text/plain": [
       "LinearRegression(copy_X=True, fit_intercept=True, n_jobs=None, normalize=False)"
      ]
     },
     "execution_count": 20,
     "metadata": {
      "tags": []
     },
     "output_type": "execute_result"
    }
   ],
   "source": [
    "from sklearn.linear_model import LinearRegression\n",
    "X=data.iloc[:,:-1].values\n",
    "y=data.iloc[:,1].values\n",
    "regressor=LinearRegression()\n",
    "regressor.fit(X,y)"
   ]
  },
  {
   "cell_type": "code",
   "execution_count": 21,
   "metadata": {
    "colab": {
     "base_uri": "https://localhost:8080/",
     "height": 34
    },
    "colab_type": "code",
    "id": "n_JrWYhrJqVf",
    "outputId": "f9ba9b4c-82b3-4377-d7c8-24019f49cc9d"
   },
   "outputs": [
    {
     "data": {
      "text/plain": [
       "1.155471144926913"
      ]
     },
     "execution_count": 21,
     "metadata": {
      "tags": []
     },
     "output_type": "execute_result"
    }
   ],
   "source": [
    "regressor.coef_[0]"
   ]
  },
  {
   "cell_type": "code",
   "execution_count": 22,
   "metadata": {
    "colab": {
     "base_uri": "https://localhost:8080/",
     "height": 34
    },
    "colab_type": "code",
    "id": "MQ6trCWtJ1B_",
    "outputId": "b5d75ffd-3070-4d8f-90a5-5d620c9eeaeb"
   },
   "outputs": [
    {
     "data": {
      "text/plain": [
       "0.0754914295570075"
      ]
     },
     "execution_count": 22,
     "metadata": {
      "tags": []
     },
     "output_type": "execute_result"
    }
   ],
   "source": [
    "regressor.intercept_"
   ]
  },
  {
   "cell_type": "markdown",
   "metadata": {
    "colab_type": "text",
    "id": "lDVWMMKEHUfK"
   },
   "source": [
    "**Plotting regression equation**"
   ]
  },
  {
   "cell_type": "code",
   "execution_count": 23,
   "metadata": {
    "colab": {
     "base_uri": "https://localhost:8080/",
     "height": 295
    },
    "colab_type": "code",
    "id": "x9ANxYx4FOTp",
    "outputId": "5bcd58e8-3d9e-4114-dc82-4371280b41c6"
   },
   "outputs": [
    {
     "data": {
      "image/png": "[encoded data removed]",
      "text/plain": [
       "<Figure size 432x288 with 1 Axes>"
      ]
     },
     "metadata": {
      "needs_background": "light",
      "tags": []
     },
     "output_type": "display_data"
    }
   ],
   "source": [
    "plt.scatter(data.LogKOW, data.logBCF,  color='blue',label=\"Actual\")\n",
    "plt.plot(X, regressor.coef_[0]*X + regressor.intercept_, '-r',label=\"Predicted\")\n",
    "plt.title(\"Regression plot\")\n",
    "plt.legend()\n",
    "plt.xlabel(\"LogKOW\")\n",
    "plt.ylabel(\"logBCF\")\n",
    "plt.show()"
   ]
  },
  {
   "cell_type": "markdown",
   "metadata": {
    "colab_type": "text",
    "id": "rs02jAG-KCrY"
   },
   "source": [
    "Identify MAE,MSE and R2 scores. What are you inferring from the scores"
   ]
  },
  {
   "cell_type": "code",
   "execution_count": 24,
   "metadata": {
    "colab": {
     "base_uri": "https://localhost:8080/",
     "height": 67
    },
    "colab_type": "code",
    "id": "Esht64pdJih_",
    "outputId": "35f33409-46ab-4174-ffbc-80c727c9e389"
   },
   "outputs": [
    {
     "name": "stdout",
     "output_type": "stream",
     "text": [
      "Mean Absolute Error: 0.09779273507043532\n",
      "Mean Squared Error: 0.01701920682855145\n",
      "Root Mean Squared Error: 0.13045768213697287\n"
     ]
    }
   ],
   "source": [
    "from sklearn import metrics\n",
    "print('Mean Absolute Error:', metrics.mean_absolute_error(y, regressor.predict(X)))\n",
    "print('Mean Squared Error:', metrics.mean_squared_error(y,regressor.predict(X)))\n",
    "print('Root Mean Squared Error:', np.sqrt(metrics.mean_squared_error(y,regressor.predict(X))))"
   ]
  },
  {
   "cell_type": "markdown",
   "metadata": {
    "colab_type": "text",
    "id": "BZ7fZT4RKoHV"
   },
   "source": [
    "#Part-2"
   ]
  },
  {
   "cell_type": "markdown",
   "metadata": {
    "colab_type": "text",
    "id": "aZIHxb2YzU4o"
   },
   "source": [
    "Repeat Initial steps"
   ]
  },
  {
   "cell_type": "code",
   "execution_count": 0,
   "metadata": {
    "colab": {},
    "colab_type": "code",
    "id": "7I1gGDcUz9Zp"
   },
   "outputs": [],
   "source": [
    "dataset=pd.read_csv(\"QSAR_BCF_Kow.csv\")"
   ]
  },
  {
   "cell_type": "code",
   "execution_count": 26,
   "metadata": {
    "colab": {
     "base_uri": "https://localhost:8080/",
     "height": 402
    },
    "colab_type": "code",
    "id": "NBqHfUnVz9Z3",
    "outputId": "8f789325-97ae-4ba5-d2be-393b070a9a58"
   },
   "outputs": [
    {
     "data": {
      "text/html": [
       "<div>\n",
       "<style scoped>\n",
       "    .dataframe tbody tr th:only-of-type {\n",
       "        vertical-align: middle;\n",
       "    }\n",
       "\n",
       "    .dataframe tbody tr th {\n",
       "        vertical-align: top;\n",
       "    }\n",
       "\n",
       "    .dataframe thead th {\n",
       "        text-align: right;\n",
       "    }\n",
       "</style>\n",
       "<table border=\"1\" class=\"dataframe\">\n",
       "  <thead>\n",
       "    <tr style=\"text-align: right;\">\n",
       "      <th></th>\n",
       "      <th>CAS</th>\n",
       "      <th>Name</th>\n",
       "      <th>SMILES</th>\n",
       "      <th>LogKOW</th>\n",
       "      <th>KOW type</th>\n",
       "      <th>logBCF</th>\n",
       "    </tr>\n",
       "  </thead>\n",
       "  <tbody>\n",
       "    <tr>\n",
       "      <th>0</th>\n",
       "      <td>105-67-9</td>\n",
       "      <td>n.a.</td>\n",
       "      <td>Oc1ccc(cc1C)C</td>\n",
       "      <td>2.3</td>\n",
       "      <td>exp</td>\n",
       "      <td>1.18</td>\n",
       "    </tr>\n",
       "    <tr>\n",
       "      <th>1</th>\n",
       "      <td>108-39-4</td>\n",
       "      <td>n.a.</td>\n",
       "      <td>Oc1cccc(c1)C</td>\n",
       "      <td>1.96</td>\n",
       "      <td>exp</td>\n",
       "      <td>1.03</td>\n",
       "    </tr>\n",
       "    <tr>\n",
       "      <th>2</th>\n",
       "      <td>113136-77-9</td>\n",
       "      <td>n.a.</td>\n",
       "      <td>O=C(O)C2CC2(C(=O)Nc1ccc(cc1Cl)Cl)</td>\n",
       "      <td>1.98</td>\n",
       "      <td>pred</td>\n",
       "      <td>-0.40</td>\n",
       "    </tr>\n",
       "    <tr>\n",
       "      <th>3</th>\n",
       "      <td>114311-32-9</td>\n",
       "      <td>n.a.</td>\n",
       "      <td>O=C(O)c2cc(cnc2(C1=NC(=O)C(N1)(C)C(C)C))COC</td>\n",
       "      <td>1.02</td>\n",
       "      <td>pred</td>\n",
       "      <td>-1.00</td>\n",
       "    </tr>\n",
       "    <tr>\n",
       "      <th>4</th>\n",
       "      <td>1689-84-5</td>\n",
       "      <td>n.a.</td>\n",
       "      <td>N#Cc1cc(c(O)c(c1)Br)Br</td>\n",
       "      <td>2.99</td>\n",
       "      <td>pred</td>\n",
       "      <td>0.84</td>\n",
       "    </tr>\n",
       "    <tr>\n",
       "      <th>...</th>\n",
       "      <td>...</td>\n",
       "      <td>...</td>\n",
       "      <td>...</td>\n",
       "      <td>...</td>\n",
       "      <td>...</td>\n",
       "      <td>...</td>\n",
       "    </tr>\n",
       "    <tr>\n",
       "      <th>1053</th>\n",
       "      <td>V-Mey_NA_04</td>\n",
       "      <td>n.a.</td>\n",
       "      <td>FC(F)C(F)(F)Oc1ccc(cc1)C(C)(C)C(C)C(C)C</td>\n",
       "      <td>6.46</td>\n",
       "      <td>pred</td>\n",
       "      <td>3.71</td>\n",
       "    </tr>\n",
       "    <tr>\n",
       "      <th>1054</th>\n",
       "      <td>V-Mey_NA_05</td>\n",
       "      <td>n.a.</td>\n",
       "      <td>FC(F)C(F)(F)Oc1ccc(cc1)C(C)(C)CC(C)(C)C</td>\n",
       "      <td>6.51</td>\n",
       "      <td>pred</td>\n",
       "      <td>3.92</td>\n",
       "    </tr>\n",
       "    <tr>\n",
       "      <th>1055</th>\n",
       "      <td>V-Mey_NA_06</td>\n",
       "      <td>n.a.</td>\n",
       "      <td>FC(F)C(F)(F)Oc1ccc(cc1)C(c2ccc(OC(F)(F)C(F)F)c...</td>\n",
       "      <td>8.21</td>\n",
       "      <td>pred</td>\n",
       "      <td>3.76</td>\n",
       "    </tr>\n",
       "    <tr>\n",
       "      <th>1056</th>\n",
       "      <td>V-Mey_NA_07</td>\n",
       "      <td>n.a.</td>\n",
       "      <td>FC(F)C(F)(F)Oc1ccc(cc1)C(c2ccc(OC(F)(F)C(F)F)c...</td>\n",
       "      <td>9.14</td>\n",
       "      <td>pred</td>\n",
       "      <td>3.19</td>\n",
       "    </tr>\n",
       "    <tr>\n",
       "      <th>1057</th>\n",
       "      <td>V-Mey_NA_08</td>\n",
       "      <td>n.a.</td>\n",
       "      <td>FC(F)C(F)(F)Oc1ccc(cc1)C(c2ccc(OC(F)(F)C(F)F)c...</td>\n",
       "      <td>9.14</td>\n",
       "      <td>pred</td>\n",
       "      <td>2.85</td>\n",
       "    </tr>\n",
       "  </tbody>\n",
       "</table>\n",
       "<p>1058 rows × 6 columns</p>\n",
       "</div>"
      ],
      "text/plain": [
       "               CAS  Name  ... KOW type logBCF\n",
       "0         105-67-9  n.a.  ...      exp   1.18\n",
       "1         108-39-4  n.a.  ...      exp   1.03\n",
       "2      113136-77-9  n.a.  ...     pred  -0.40\n",
       "3      114311-32-9  n.a.  ...     pred  -1.00\n",
       "4        1689-84-5  n.a.  ...     pred   0.84\n",
       "...            ...   ...  ...      ...    ...\n",
       "1053   V-Mey_NA_04  n.a.  ...     pred   3.71\n",
       "1054   V-Mey_NA_05  n.a.  ...     pred   3.92\n",
       "1055   V-Mey_NA_06  n.a.  ...     pred   3.76\n",
       "1056   V-Mey_NA_07  n.a.  ...     pred   3.19\n",
       "1057   V-Mey_NA_08  n.a.  ...     pred   2.85\n",
       "\n",
       "[1058 rows x 6 columns]"
      ]
     },
     "execution_count": 26,
     "metadata": {
      "tags": []
     },
     "output_type": "execute_result"
    }
   ],
   "source": [
    "dataset"
   ]
  },
  {
   "cell_type": "markdown",
   "metadata": {
    "colab_type": "text",
    "id": "4LjH0hdiz9aD"
   },
   "source": [
    "Dropping columns SMILES and KOW "
   ]
  },
  {
   "cell_type": "code",
   "execution_count": 27,
   "metadata": {
    "colab": {
     "base_uri": "https://localhost:8080/",
     "height": 402
    },
    "colab_type": "code",
    "id": "aK_0SHSPz9aE",
    "outputId": "62e7f536-2b04-450f-9659-0b4912d0f4bb"
   },
   "outputs": [
    {
     "data": {
      "text/html": [
       "<div>\n",
       "<style scoped>\n",
       "    .dataframe tbody tr th:only-of-type {\n",
       "        vertical-align: middle;\n",
       "    }\n",
       "\n",
       "    .dataframe tbody tr th {\n",
       "        vertical-align: top;\n",
       "    }\n",
       "\n",
       "    .dataframe thead th {\n",
       "        text-align: right;\n",
       "    }\n",
       "</style>\n",
       "<table border=\"1\" class=\"dataframe\">\n",
       "  <thead>\n",
       "    <tr style=\"text-align: right;\">\n",
       "      <th></th>\n",
       "      <th>CAS</th>\n",
       "      <th>Name</th>\n",
       "      <th>LogKOW</th>\n",
       "      <th>logBCF</th>\n",
       "    </tr>\n",
       "  </thead>\n",
       "  <tbody>\n",
       "    <tr>\n",
       "      <th>0</th>\n",
       "      <td>105-67-9</td>\n",
       "      <td>n.a.</td>\n",
       "      <td>2.3</td>\n",
       "      <td>1.18</td>\n",
       "    </tr>\n",
       "    <tr>\n",
       "      <th>1</th>\n",
       "      <td>108-39-4</td>\n",
       "      <td>n.a.</td>\n",
       "      <td>1.96</td>\n",
       "      <td>1.03</td>\n",
       "    </tr>\n",
       "    <tr>\n",
       "      <th>2</th>\n",
       "      <td>113136-77-9</td>\n",
       "      <td>n.a.</td>\n",
       "      <td>1.98</td>\n",
       "      <td>-0.40</td>\n",
       "    </tr>\n",
       "    <tr>\n",
       "      <th>3</th>\n",
       "      <td>114311-32-9</td>\n",
       "      <td>n.a.</td>\n",
       "      <td>1.02</td>\n",
       "      <td>-1.00</td>\n",
       "    </tr>\n",
       "    <tr>\n",
       "      <th>4</th>\n",
       "      <td>1689-84-5</td>\n",
       "      <td>n.a.</td>\n",
       "      <td>2.99</td>\n",
       "      <td>0.84</td>\n",
       "    </tr>\n",
       "    <tr>\n",
       "      <th>...</th>\n",
       "      <td>...</td>\n",
       "      <td>...</td>\n",
       "      <td>...</td>\n",
       "      <td>...</td>\n",
       "    </tr>\n",
       "    <tr>\n",
       "      <th>1053</th>\n",
       "      <td>V-Mey_NA_04</td>\n",
       "      <td>n.a.</td>\n",
       "      <td>6.46</td>\n",
       "      <td>3.71</td>\n",
       "    </tr>\n",
       "    <tr>\n",
       "      <th>1054</th>\n",
       "      <td>V-Mey_NA_05</td>\n",
       "      <td>n.a.</td>\n",
       "      <td>6.51</td>\n",
       "      <td>3.92</td>\n",
       "    </tr>\n",
       "    <tr>\n",
       "      <th>1055</th>\n",
       "      <td>V-Mey_NA_06</td>\n",
       "      <td>n.a.</td>\n",
       "      <td>8.21</td>\n",
       "      <td>3.76</td>\n",
       "    </tr>\n",
       "    <tr>\n",
       "      <th>1056</th>\n",
       "      <td>V-Mey_NA_07</td>\n",
       "      <td>n.a.</td>\n",
       "      <td>9.14</td>\n",
       "      <td>3.19</td>\n",
       "    </tr>\n",
       "    <tr>\n",
       "      <th>1057</th>\n",
       "      <td>V-Mey_NA_08</td>\n",
       "      <td>n.a.</td>\n",
       "      <td>9.14</td>\n",
       "      <td>2.85</td>\n",
       "    </tr>\n",
       "  </tbody>\n",
       "</table>\n",
       "<p>1058 rows × 4 columns</p>\n",
       "</div>"
      ],
      "text/plain": [
       "               CAS  Name LogKOW  logBCF\n",
       "0         105-67-9  n.a.    2.3    1.18\n",
       "1         108-39-4  n.a.   1.96    1.03\n",
       "2      113136-77-9  n.a.   1.98   -0.40\n",
       "3      114311-32-9  n.a.   1.02   -1.00\n",
       "4        1689-84-5  n.a.   2.99    0.84\n",
       "...            ...   ...    ...     ...\n",
       "1053   V-Mey_NA_04  n.a.   6.46    3.71\n",
       "1054   V-Mey_NA_05  n.a.   6.51    3.92\n",
       "1055   V-Mey_NA_06  n.a.   8.21    3.76\n",
       "1056   V-Mey_NA_07  n.a.   9.14    3.19\n",
       "1057   V-Mey_NA_08  n.a.   9.14    2.85\n",
       "\n",
       "[1058 rows x 4 columns]"
      ]
     },
     "execution_count": 27,
     "metadata": {
      "tags": []
     },
     "output_type": "execute_result"
    }
   ],
   "source": [
    "dataset=dataset.drop(columns=[\"SMILES\",\"KOW type\"],axis=1)\n",
    "dataset"
   ]
  },
  {
   "cell_type": "markdown",
   "metadata": {
    "colab_type": "text",
    "id": "o8-UqFOqz9aP"
   },
   "source": [
    "Remove the values in column titled “LogKOW” corresponding to the values starting with V-Mey_NA  in the column titled “CAS”"
   ]
  },
  {
   "cell_type": "code",
   "execution_count": 28,
   "metadata": {
    "colab": {
     "base_uri": "https://localhost:8080/",
     "height": 284
    },
    "colab_type": "code",
    "id": "YqPDtJIGz9aQ",
    "outputId": "fd62eada-be2c-4e56-e8f6-a8855abefc7a"
   },
   "outputs": [
    {
     "data": {
      "text/html": [
       "<div>\n",
       "<style scoped>\n",
       "    .dataframe tbody tr th:only-of-type {\n",
       "        vertical-align: middle;\n",
       "    }\n",
       "\n",
       "    .dataframe tbody tr th {\n",
       "        vertical-align: top;\n",
       "    }\n",
       "\n",
       "    .dataframe thead th {\n",
       "        text-align: right;\n",
       "    }\n",
       "</style>\n",
       "<table border=\"1\" class=\"dataframe\">\n",
       "  <thead>\n",
       "    <tr style=\"text-align: right;\">\n",
       "      <th></th>\n",
       "      <th>CAS</th>\n",
       "      <th>Name</th>\n",
       "      <th>LogKOW</th>\n",
       "      <th>logBCF</th>\n",
       "    </tr>\n",
       "  </thead>\n",
       "  <tbody>\n",
       "    <tr>\n",
       "      <th>1050</th>\n",
       "      <td>V-Mey_NA_01</td>\n",
       "      <td>n.a.</td>\n",
       "      <td>3.63</td>\n",
       "      <td>1.50</td>\n",
       "    </tr>\n",
       "    <tr>\n",
       "      <th>1051</th>\n",
       "      <td>V-Mey_NA_02</td>\n",
       "      <td>n.a.</td>\n",
       "      <td>3.31</td>\n",
       "      <td>2.33</td>\n",
       "    </tr>\n",
       "    <tr>\n",
       "      <th>1052</th>\n",
       "      <td>V-Mey_NA_03</td>\n",
       "      <td>n.a.</td>\n",
       "      <td>6.5</td>\n",
       "      <td>2.96</td>\n",
       "    </tr>\n",
       "    <tr>\n",
       "      <th>1053</th>\n",
       "      <td>V-Mey_NA_04</td>\n",
       "      <td>n.a.</td>\n",
       "      <td>6.46</td>\n",
       "      <td>3.71</td>\n",
       "    </tr>\n",
       "    <tr>\n",
       "      <th>1054</th>\n",
       "      <td>V-Mey_NA_05</td>\n",
       "      <td>n.a.</td>\n",
       "      <td>6.51</td>\n",
       "      <td>3.92</td>\n",
       "    </tr>\n",
       "    <tr>\n",
       "      <th>1055</th>\n",
       "      <td>V-Mey_NA_06</td>\n",
       "      <td>n.a.</td>\n",
       "      <td>8.21</td>\n",
       "      <td>3.76</td>\n",
       "    </tr>\n",
       "    <tr>\n",
       "      <th>1056</th>\n",
       "      <td>V-Mey_NA_07</td>\n",
       "      <td>n.a.</td>\n",
       "      <td>9.14</td>\n",
       "      <td>3.19</td>\n",
       "    </tr>\n",
       "    <tr>\n",
       "      <th>1057</th>\n",
       "      <td>V-Mey_NA_08</td>\n",
       "      <td>n.a.</td>\n",
       "      <td>9.14</td>\n",
       "      <td>2.85</td>\n",
       "    </tr>\n",
       "  </tbody>\n",
       "</table>\n",
       "</div>"
      ],
      "text/plain": [
       "              CAS  Name LogKOW  logBCF\n",
       "1050  V-Mey_NA_01  n.a.   3.63    1.50\n",
       "1051  V-Mey_NA_02  n.a.   3.31    2.33\n",
       "1052  V-Mey_NA_03  n.a.    6.5    2.96\n",
       "1053  V-Mey_NA_04  n.a.   6.46    3.71\n",
       "1054  V-Mey_NA_05  n.a.   6.51    3.92\n",
       "1055  V-Mey_NA_06  n.a.   8.21    3.76\n",
       "1056  V-Mey_NA_07  n.a.   9.14    3.19\n",
       "1057  V-Mey_NA_08  n.a.   9.14    2.85"
      ]
     },
     "execution_count": 28,
     "metadata": {
      "tags": []
     },
     "output_type": "execute_result"
    }
   ],
   "source": [
    "dataset[dataset['CAS'].astype(str).str.match(\"^V-Mey_NA.[a-z0-9A-Z]+\")]"
   ]
  },
  {
   "cell_type": "code",
   "execution_count": 0,
   "metadata": {
    "colab": {},
    "colab_type": "code",
    "id": "QMC1k0jhz9aW"
   },
   "outputs": [],
   "source": [
    "index_CAS=dataset[dataset['CAS'].astype(str).str.match(\"^V-Mey_NA.[a-z0-9A-Z]+\")].index\n",
    "dataset=dataset.drop(index_CAS)\n"
   ]
  },
  {
   "cell_type": "code",
   "execution_count": 30,
   "metadata": {
    "colab": {
     "base_uri": "https://localhost:8080/",
     "height": 402
    },
    "colab_type": "code",
    "id": "_jHnXG4az9aa",
    "outputId": "803162a8-8aaa-402e-e1b2-33c4eb03713c"
   },
   "outputs": [
    {
     "data": {
      "text/html": [
       "<div>\n",
       "<style scoped>\n",
       "    .dataframe tbody tr th:only-of-type {\n",
       "        vertical-align: middle;\n",
       "    }\n",
       "\n",
       "    .dataframe tbody tr th {\n",
       "        vertical-align: top;\n",
       "    }\n",
       "\n",
       "    .dataframe thead th {\n",
       "        text-align: right;\n",
       "    }\n",
       "</style>\n",
       "<table border=\"1\" class=\"dataframe\">\n",
       "  <thead>\n",
       "    <tr style=\"text-align: right;\">\n",
       "      <th></th>\n",
       "      <th>CAS</th>\n",
       "      <th>Name</th>\n",
       "      <th>LogKOW</th>\n",
       "      <th>logBCF</th>\n",
       "    </tr>\n",
       "  </thead>\n",
       "  <tbody>\n",
       "    <tr>\n",
       "      <th>0</th>\n",
       "      <td>105-67-9</td>\n",
       "      <td>n.a.</td>\n",
       "      <td>2.3</td>\n",
       "      <td>1.18</td>\n",
       "    </tr>\n",
       "    <tr>\n",
       "      <th>1</th>\n",
       "      <td>108-39-4</td>\n",
       "      <td>n.a.</td>\n",
       "      <td>1.96</td>\n",
       "      <td>1.03</td>\n",
       "    </tr>\n",
       "    <tr>\n",
       "      <th>2</th>\n",
       "      <td>113136-77-9</td>\n",
       "      <td>n.a.</td>\n",
       "      <td>1.98</td>\n",
       "      <td>-0.40</td>\n",
       "    </tr>\n",
       "    <tr>\n",
       "      <th>3</th>\n",
       "      <td>114311-32-9</td>\n",
       "      <td>n.a.</td>\n",
       "      <td>1.02</td>\n",
       "      <td>-1.00</td>\n",
       "    </tr>\n",
       "    <tr>\n",
       "      <th>4</th>\n",
       "      <td>1689-84-5</td>\n",
       "      <td>n.a.</td>\n",
       "      <td>2.99</td>\n",
       "      <td>0.84</td>\n",
       "    </tr>\n",
       "    <tr>\n",
       "      <th>...</th>\n",
       "      <td>...</td>\n",
       "      <td>...</td>\n",
       "      <td>...</td>\n",
       "      <td>...</td>\n",
       "    </tr>\n",
       "    <tr>\n",
       "      <th>1045</th>\n",
       "      <td>CAE_NA- R-A_NA_01</td>\n",
       "      <td>p-sec-Butylphenyl-2,3-dihydroxypropylether</td>\n",
       "      <td>2.35</td>\n",
       "      <td>0.63</td>\n",
       "    </tr>\n",
       "    <tr>\n",
       "      <th>1046</th>\n",
       "      <td>CAE_NA- R-A_NA_02</td>\n",
       "      <td>1-Isobutyl 2,5 dimethyl cyclohexane</td>\n",
       "      <td>5.54</td>\n",
       "      <td>3.37</td>\n",
       "    </tr>\n",
       "    <tr>\n",
       "      <th>1047</th>\n",
       "      <td>CAE_NA- R-A_NA_03</td>\n",
       "      <td>1,2,3,4-Tetrabromobenzene</td>\n",
       "      <td>5.14</td>\n",
       "      <td>3.18</td>\n",
       "    </tr>\n",
       "    <tr>\n",
       "      <th>1048</th>\n",
       "      <td>CAE_NA- R-A_NA_04</td>\n",
       "      <td>4-Chlorophenylpropargylformal</td>\n",
       "      <td>2.88</td>\n",
       "      <td>2.03</td>\n",
       "    </tr>\n",
       "    <tr>\n",
       "      <th>1049</th>\n",
       "      <td>CAE_NA_01</td>\n",
       "      <td>2,2-Dichloropropionic acid</td>\n",
       "      <td>1.25</td>\n",
       "      <td>0.85</td>\n",
       "    </tr>\n",
       "  </tbody>\n",
       "</table>\n",
       "<p>1050 rows × 4 columns</p>\n",
       "</div>"
      ],
      "text/plain": [
       "                    CAS  ... logBCF\n",
       "0              105-67-9  ...   1.18\n",
       "1              108-39-4  ...   1.03\n",
       "2           113136-77-9  ...  -0.40\n",
       "3           114311-32-9  ...  -1.00\n",
       "4             1689-84-5  ...   0.84\n",
       "...                 ...  ...    ...\n",
       "1045  CAE_NA- R-A_NA_01  ...   0.63\n",
       "1046  CAE_NA- R-A_NA_02  ...   3.37\n",
       "1047  CAE_NA- R-A_NA_03  ...   3.18\n",
       "1048  CAE_NA- R-A_NA_04  ...   2.03\n",
       "1049          CAE_NA_01  ...   0.85\n",
       "\n",
       "[1050 rows x 4 columns]"
      ]
     },
     "execution_count": 30,
     "metadata": {
      "tags": []
     },
     "output_type": "execute_result"
    }
   ],
   "source": [
    "dataset"
   ]
  },
  {
   "cell_type": "markdown",
   "metadata": {
    "colab_type": "text",
    "id": "PzKeG5dDz9ad"
   },
   "source": [
    "Check for missing values. If available, fill it with zeros, ones and mean of column. "
   ]
  },
  {
   "cell_type": "code",
   "execution_count": 31,
   "metadata": {
    "colab": {
     "base_uri": "https://localhost:8080/",
     "height": 202
    },
    "colab_type": "code",
    "id": "OYTb_rvCz9ae",
    "outputId": "b8d1da8f-39c2-44c1-b58f-0173c1406438"
   },
   "outputs": [
    {
     "name": "stdout",
     "output_type": "stream",
     "text": [
      "<class 'pandas.core.frame.DataFrame'>\n",
      "Int64Index: 1050 entries, 0 to 1049\n",
      "Data columns (total 4 columns):\n",
      " #   Column  Non-Null Count  Dtype  \n",
      "---  ------  --------------  -----  \n",
      " 0   CAS     1050 non-null   object \n",
      " 1   Name    1050 non-null   object \n",
      " 2   LogKOW  1048 non-null   object \n",
      " 3   logBCF  1048 non-null   float64\n",
      "dtypes: float64(1), object(3)\n",
      "memory usage: 41.0+ KB\n"
     ]
    }
   ],
   "source": [
    "dataset.info()"
   ]
  },
  {
   "cell_type": "code",
   "execution_count": 0,
   "metadata": {
    "colab": {},
    "colab_type": "code",
    "id": "CUEs7XKEz9ah"
   },
   "outputs": [],
   "source": [
    "total = dataset['logBCF'].sum(skipna=True)\n",
    "mean=total/dataset['logBCF'].shape[0]\n",
    "dataset[\"logBCF\"].fillna(mean, inplace = True)"
   ]
  },
  {
   "cell_type": "code",
   "execution_count": 0,
   "metadata": {
    "colab": {},
    "colab_type": "code",
    "id": "hWdz5Borz9am"
   },
   "outputs": [],
   "source": [
    "dataset[\"LogKOW\"].fillna(0, inplace = True)"
   ]
  },
  {
   "cell_type": "code",
   "execution_count": 0,
   "metadata": {
    "colab": {},
    "colab_type": "code",
    "id": "u2OojRR8z9ao"
   },
   "outputs": [],
   "source": [
    "index_merged=dataset[dataset['LogKOW'].astype(str).str.match(\"^Merged\")].index\n",
    "dataset=dataset.drop(index_merged)"
   ]
  },
  {
   "cell_type": "code",
   "execution_count": 0,
   "metadata": {
    "colab": {},
    "colab_type": "code",
    "id": "-HGZFMwBz9ar"
   },
   "outputs": [],
   "source": [
    "dataset['LogKOW']=dataset[\"LogKOW\"].astype(float)"
   ]
  },
  {
   "cell_type": "code",
   "execution_count": 36,
   "metadata": {
    "colab": {
     "base_uri": "https://localhost:8080/",
     "height": 202
    },
    "colab_type": "code",
    "id": "WlYtySW8z9at",
    "outputId": "868a3446-5790-4b90-885c-99f30e73d59a"
   },
   "outputs": [
    {
     "name": "stdout",
     "output_type": "stream",
     "text": [
      "<class 'pandas.core.frame.DataFrame'>\n",
      "Int64Index: 1048 entries, 0 to 1049\n",
      "Data columns (total 4 columns):\n",
      " #   Column  Non-Null Count  Dtype  \n",
      "---  ------  --------------  -----  \n",
      " 0   CAS     1048 non-null   object \n",
      " 1   Name    1048 non-null   object \n",
      " 2   LogKOW  1048 non-null   float64\n",
      " 3   logBCF  1048 non-null   float64\n",
      "dtypes: float64(2), object(2)\n",
      "memory usage: 40.9+ KB\n"
     ]
    }
   ],
   "source": [
    "dataset.info()"
   ]
  },
  {
   "cell_type": "markdown",
   "metadata": {
    "colab_type": "text",
    "id": "j76p6Yclz9aw"
   },
   "source": [
    "Remove the column titled “CAS”."
   ]
  },
  {
   "cell_type": "code",
   "execution_count": 37,
   "metadata": {
    "colab": {
     "base_uri": "https://localhost:8080/",
     "height": 402
    },
    "colab_type": "code",
    "id": "3zn7Y79Jz9aw",
    "outputId": "8f6512b4-9a4e-49d4-cd95-509d8f1b9e6d"
   },
   "outputs": [
    {
     "data": {
      "text/html": [
       "<div>\n",
       "<style scoped>\n",
       "    .dataframe tbody tr th:only-of-type {\n",
       "        vertical-align: middle;\n",
       "    }\n",
       "\n",
       "    .dataframe tbody tr th {\n",
       "        vertical-align: top;\n",
       "    }\n",
       "\n",
       "    .dataframe thead th {\n",
       "        text-align: right;\n",
       "    }\n",
       "</style>\n",
       "<table border=\"1\" class=\"dataframe\">\n",
       "  <thead>\n",
       "    <tr style=\"text-align: right;\">\n",
       "      <th></th>\n",
       "      <th>Name</th>\n",
       "      <th>LogKOW</th>\n",
       "      <th>logBCF</th>\n",
       "    </tr>\n",
       "  </thead>\n",
       "  <tbody>\n",
       "    <tr>\n",
       "      <th>0</th>\n",
       "      <td>n.a.</td>\n",
       "      <td>2.30</td>\n",
       "      <td>1.18</td>\n",
       "    </tr>\n",
       "    <tr>\n",
       "      <th>1</th>\n",
       "      <td>n.a.</td>\n",
       "      <td>1.96</td>\n",
       "      <td>1.03</td>\n",
       "    </tr>\n",
       "    <tr>\n",
       "      <th>2</th>\n",
       "      <td>n.a.</td>\n",
       "      <td>1.98</td>\n",
       "      <td>-0.40</td>\n",
       "    </tr>\n",
       "    <tr>\n",
       "      <th>3</th>\n",
       "      <td>n.a.</td>\n",
       "      <td>1.02</td>\n",
       "      <td>-1.00</td>\n",
       "    </tr>\n",
       "    <tr>\n",
       "      <th>4</th>\n",
       "      <td>n.a.</td>\n",
       "      <td>2.99</td>\n",
       "      <td>0.84</td>\n",
       "    </tr>\n",
       "    <tr>\n",
       "      <th>...</th>\n",
       "      <td>...</td>\n",
       "      <td>...</td>\n",
       "      <td>...</td>\n",
       "    </tr>\n",
       "    <tr>\n",
       "      <th>1045</th>\n",
       "      <td>p-sec-Butylphenyl-2,3-dihydroxypropylether</td>\n",
       "      <td>2.35</td>\n",
       "      <td>0.63</td>\n",
       "    </tr>\n",
       "    <tr>\n",
       "      <th>1046</th>\n",
       "      <td>1-Isobutyl 2,5 dimethyl cyclohexane</td>\n",
       "      <td>5.54</td>\n",
       "      <td>3.37</td>\n",
       "    </tr>\n",
       "    <tr>\n",
       "      <th>1047</th>\n",
       "      <td>1,2,3,4-Tetrabromobenzene</td>\n",
       "      <td>5.14</td>\n",
       "      <td>3.18</td>\n",
       "    </tr>\n",
       "    <tr>\n",
       "      <th>1048</th>\n",
       "      <td>4-Chlorophenylpropargylformal</td>\n",
       "      <td>2.88</td>\n",
       "      <td>2.03</td>\n",
       "    </tr>\n",
       "    <tr>\n",
       "      <th>1049</th>\n",
       "      <td>2,2-Dichloropropionic acid</td>\n",
       "      <td>1.25</td>\n",
       "      <td>0.85</td>\n",
       "    </tr>\n",
       "  </tbody>\n",
       "</table>\n",
       "<p>1048 rows × 3 columns</p>\n",
       "</div>"
      ],
      "text/plain": [
       "                                            Name  LogKOW  logBCF\n",
       "0                                           n.a.    2.30    1.18\n",
       "1                                           n.a.    1.96    1.03\n",
       "2                                           n.a.    1.98   -0.40\n",
       "3                                           n.a.    1.02   -1.00\n",
       "4                                           n.a.    2.99    0.84\n",
       "...                                          ...     ...     ...\n",
       "1045  p-sec-Butylphenyl-2,3-dihydroxypropylether    2.35    0.63\n",
       "1046         1-Isobutyl 2,5 dimethyl cyclohexane    5.54    3.37\n",
       "1047                   1,2,3,4-Tetrabromobenzene    5.14    3.18\n",
       "1048               4-Chlorophenylpropargylformal    2.88    2.03\n",
       "1049                  2,2-Dichloropropionic acid    1.25    0.85\n",
       "\n",
       "[1048 rows x 3 columns]"
      ]
     },
     "execution_count": 37,
     "metadata": {
      "tags": []
     },
     "output_type": "execute_result"
    }
   ],
   "source": [
    "dataset=dataset.drop(columns=\"CAS\",axis=1)\n",
    "dataset"
   ]
  },
  {
   "cell_type": "code",
   "execution_count": 38,
   "metadata": {
    "colab": {
     "base_uri": "https://localhost:8080/",
     "height": 402
    },
    "colab_type": "code",
    "id": "Yndv9AhYz9ay",
    "outputId": "f907fd35-6941-47c2-f869-308f74b6f593"
   },
   "outputs": [
    {
     "data": {
      "text/html": [
       "<div>\n",
       "<style scoped>\n",
       "    .dataframe tbody tr th:only-of-type {\n",
       "        vertical-align: middle;\n",
       "    }\n",
       "\n",
       "    .dataframe tbody tr th {\n",
       "        vertical-align: top;\n",
       "    }\n",
       "\n",
       "    .dataframe thead th {\n",
       "        text-align: right;\n",
       "    }\n",
       "</style>\n",
       "<table border=\"1\" class=\"dataframe\">\n",
       "  <thead>\n",
       "    <tr style=\"text-align: right;\">\n",
       "      <th></th>\n",
       "      <th>LogKOW</th>\n",
       "      <th>logBCF</th>\n",
       "    </tr>\n",
       "  </thead>\n",
       "  <tbody>\n",
       "    <tr>\n",
       "      <th>0</th>\n",
       "      <td>2.30</td>\n",
       "      <td>1.18</td>\n",
       "    </tr>\n",
       "    <tr>\n",
       "      <th>1</th>\n",
       "      <td>1.96</td>\n",
       "      <td>1.03</td>\n",
       "    </tr>\n",
       "    <tr>\n",
       "      <th>2</th>\n",
       "      <td>1.98</td>\n",
       "      <td>-0.40</td>\n",
       "    </tr>\n",
       "    <tr>\n",
       "      <th>3</th>\n",
       "      <td>1.02</td>\n",
       "      <td>-1.00</td>\n",
       "    </tr>\n",
       "    <tr>\n",
       "      <th>4</th>\n",
       "      <td>2.99</td>\n",
       "      <td>0.84</td>\n",
       "    </tr>\n",
       "    <tr>\n",
       "      <th>...</th>\n",
       "      <td>...</td>\n",
       "      <td>...</td>\n",
       "    </tr>\n",
       "    <tr>\n",
       "      <th>1045</th>\n",
       "      <td>2.35</td>\n",
       "      <td>0.63</td>\n",
       "    </tr>\n",
       "    <tr>\n",
       "      <th>1046</th>\n",
       "      <td>5.54</td>\n",
       "      <td>3.37</td>\n",
       "    </tr>\n",
       "    <tr>\n",
       "      <th>1047</th>\n",
       "      <td>5.14</td>\n",
       "      <td>3.18</td>\n",
       "    </tr>\n",
       "    <tr>\n",
       "      <th>1048</th>\n",
       "      <td>2.88</td>\n",
       "      <td>2.03</td>\n",
       "    </tr>\n",
       "    <tr>\n",
       "      <th>1049</th>\n",
       "      <td>1.25</td>\n",
       "      <td>0.85</td>\n",
       "    </tr>\n",
       "  </tbody>\n",
       "</table>\n",
       "<p>1048 rows × 2 columns</p>\n",
       "</div>"
      ],
      "text/plain": [
       "      LogKOW  logBCF\n",
       "0       2.30    1.18\n",
       "1       1.96    1.03\n",
       "2       1.98   -0.40\n",
       "3       1.02   -1.00\n",
       "4       2.99    0.84\n",
       "...      ...     ...\n",
       "1045    2.35    0.63\n",
       "1046    5.54    3.37\n",
       "1047    5.14    3.18\n",
       "1048    2.88    2.03\n",
       "1049    1.25    0.85\n",
       "\n",
       "[1048 rows x 2 columns]"
      ]
     },
     "execution_count": 38,
     "metadata": {
      "tags": []
     },
     "output_type": "execute_result"
    }
   ],
   "source": [
    "data=dataset.drop(columns=\"Name\",axis=1)\n",
    "data"
   ]
  },
  {
   "cell_type": "markdown",
   "metadata": {
    "colab_type": "text",
    "id": "6iwQkxd-z9a1"
   },
   "source": [
    "Perform linearity analysis on the resultant dataset. "
   ]
  },
  {
   "cell_type": "code",
   "execution_count": 39,
   "metadata": {
    "colab": {
     "base_uri": "https://localhost:8080/",
     "height": 312
    },
    "colab_type": "code",
    "id": "yWhQS85Sz9a2",
    "outputId": "c288be77-0eba-47f8-e94b-76ba5cfdaa11"
   },
   "outputs": [
    {
     "name": "stderr",
     "output_type": "stream",
     "text": [
      "No handles with labels found to put in legend.\n"
     ]
    },
    {
     "data": {
      "image/png": "[encoded data removed]",
      "text/plain": [
       "<Figure size 432x288 with 1 Axes>"
      ]
     },
     "metadata": {
      "needs_background": "light",
      "tags": []
     },
     "output_type": "display_data"
    }
   ],
   "source": [
    "plt.scatter(data[\"LogKOW\"],data[\"logBCF\"])\n",
    "plt.title(\"Linearity Analysis\")\n",
    "plt.legend()\n",
    "plt.xlabel(\"LogKOW\")\n",
    "plt.ylabel(\"logBCF\")\n",
    "plt.show()"
   ]
  },
  {
   "cell_type": "markdown",
   "metadata": {
    "colab_type": "text",
    "id": "YnI08aCiz9a4"
   },
   "source": [
    "Drawing heatmap"
   ]
  },
  {
   "cell_type": "code",
   "execution_count": 40,
   "metadata": {
    "colab": {
     "base_uri": "https://localhost:8080/",
     "height": 286
    },
    "colab_type": "code",
    "id": "9nUK2BWWz9a4",
    "outputId": "eea78151-ea87-4866-fb06-61eee9776b14"
   },
   "outputs": [
    {
     "data": {
      "text/plain": [
       "<matplotlib.axes._subplots.AxesSubplot at 0x7fa2bde49cc0>"
      ]
     },
     "execution_count": 40,
     "metadata": {
      "tags": []
     },
     "output_type": "execute_result"
    },
    {
     "data": {
      "image/png": "[encoded data removed]",
      "text/plain": [
       "<Figure size 432x288 with 2 Axes>"
      ]
     },
     "metadata": {
      "needs_background": "light",
      "tags": []
     },
     "output_type": "display_data"
    }
   ],
   "source": [
    "import seaborn as sns\n",
    "data_corr=data.corr()\n",
    "sns.heatmap(data_corr,annot=True)"
   ]
  },
  {
   "cell_type": "markdown",
   "metadata": {
    "colab_type": "text",
    "id": "iukxcxx4z9a7"
   },
   "source": [
    "Normalize the values using min-max normalization."
   ]
  },
  {
   "cell_type": "code",
   "execution_count": 41,
   "metadata": {
    "colab": {
     "base_uri": "https://localhost:8080/",
     "height": 639
    },
    "colab_type": "code",
    "id": "h5U815q7z9a7",
    "outputId": "1399e4c0-ab06-496a-b4c9-d4c651f48042"
   },
   "outputs": [
    {
     "data": {
      "text/html": [
       "<div>\n",
       "<style scoped>\n",
       "    .dataframe tbody tr th:only-of-type {\n",
       "        vertical-align: middle;\n",
       "    }\n",
       "\n",
       "    .dataframe tbody tr th {\n",
       "        vertical-align: top;\n",
       "    }\n",
       "\n",
       "    .dataframe thead th {\n",
       "        text-align: right;\n",
       "    }\n",
       "</style>\n",
       "<table border=\"1\" class=\"dataframe\">\n",
       "  <thead>\n",
       "    <tr style=\"text-align: right;\">\n",
       "      <th></th>\n",
       "      <th>LogKOW</th>\n",
       "      <th>logBCF</th>\n",
       "    </tr>\n",
       "  </thead>\n",
       "  <tbody>\n",
       "    <tr>\n",
       "      <th>0</th>\n",
       "      <td>0.281879</td>\n",
       "      <td>0.371134</td>\n",
       "    </tr>\n",
       "    <tr>\n",
       "      <th>1</th>\n",
       "      <td>0.266667</td>\n",
       "      <td>0.351804</td>\n",
       "    </tr>\n",
       "    <tr>\n",
       "      <th>2</th>\n",
       "      <td>0.267562</td>\n",
       "      <td>0.167526</td>\n",
       "    </tr>\n",
       "    <tr>\n",
       "      <th>3</th>\n",
       "      <td>0.224609</td>\n",
       "      <td>0.090206</td>\n",
       "    </tr>\n",
       "    <tr>\n",
       "      <th>4</th>\n",
       "      <td>0.312752</td>\n",
       "      <td>0.327320</td>\n",
       "    </tr>\n",
       "    <tr>\n",
       "      <th>5</th>\n",
       "      <td>0.285011</td>\n",
       "      <td>0.382732</td>\n",
       "    </tr>\n",
       "    <tr>\n",
       "      <th>6</th>\n",
       "      <td>0.213870</td>\n",
       "      <td>0.219072</td>\n",
       "    </tr>\n",
       "    <tr>\n",
       "      <th>7</th>\n",
       "      <td>0.324832</td>\n",
       "      <td>0.474227</td>\n",
       "    </tr>\n",
       "    <tr>\n",
       "      <th>8</th>\n",
       "      <td>0.396868</td>\n",
       "      <td>0.479381</td>\n",
       "    </tr>\n",
       "    <tr>\n",
       "      <th>9</th>\n",
       "      <td>0.347651</td>\n",
       "      <td>0.536082</td>\n",
       "    </tr>\n",
       "    <tr>\n",
       "      <th>10</th>\n",
       "      <td>0.262640</td>\n",
       "      <td>0.347938</td>\n",
       "    </tr>\n",
       "    <tr>\n",
       "      <th>11</th>\n",
       "      <td>0.374944</td>\n",
       "      <td>0.338918</td>\n",
       "    </tr>\n",
       "    <tr>\n",
       "      <th>12</th>\n",
       "      <td>0.297539</td>\n",
       "      <td>0.347938</td>\n",
       "    </tr>\n",
       "    <tr>\n",
       "      <th>13</th>\n",
       "      <td>0.348993</td>\n",
       "      <td>0.445876</td>\n",
       "    </tr>\n",
       "    <tr>\n",
       "      <th>14</th>\n",
       "      <td>0.327069</td>\n",
       "      <td>0.396907</td>\n",
       "    </tr>\n",
       "    <tr>\n",
       "      <th>15</th>\n",
       "      <td>0.289485</td>\n",
       "      <td>0.407216</td>\n",
       "    </tr>\n",
       "    <tr>\n",
       "      <th>16</th>\n",
       "      <td>0.229083</td>\n",
       "      <td>0.302835</td>\n",
       "    </tr>\n",
       "    <tr>\n",
       "      <th>17</th>\n",
       "      <td>0.264430</td>\n",
       "      <td>0.314433</td>\n",
       "    </tr>\n",
       "    <tr>\n",
       "      <th>18</th>\n",
       "      <td>0.269799</td>\n",
       "      <td>0.338918</td>\n",
       "    </tr>\n",
       "    <tr>\n",
       "      <th>19</th>\n",
       "      <td>0.385235</td>\n",
       "      <td>0.636598</td>\n",
       "    </tr>\n",
       "  </tbody>\n",
       "</table>\n",
       "</div>"
      ],
      "text/plain": [
       "      LogKOW    logBCF\n",
       "0   0.281879  0.371134\n",
       "1   0.266667  0.351804\n",
       "2   0.267562  0.167526\n",
       "3   0.224609  0.090206\n",
       "4   0.312752  0.327320\n",
       "5   0.285011  0.382732\n",
       "6   0.213870  0.219072\n",
       "7   0.324832  0.474227\n",
       "8   0.396868  0.479381\n",
       "9   0.347651  0.536082\n",
       "10  0.262640  0.347938\n",
       "11  0.374944  0.338918\n",
       "12  0.297539  0.347938\n",
       "13  0.348993  0.445876\n",
       "14  0.327069  0.396907\n",
       "15  0.289485  0.407216\n",
       "16  0.229083  0.302835\n",
       "17  0.264430  0.314433\n",
       "18  0.269799  0.338918\n",
       "19  0.385235  0.636598"
      ]
     },
     "execution_count": 41,
     "metadata": {
      "tags": []
     },
     "output_type": "execute_result"
    }
   ],
   "source": [
    "data['LogKOW']=((data['LogKOW']-data['LogKOW'].min())/(data['LogKOW'].max()-data['LogKOW'].min()))\n",
    "data['logBCF']=((data['logBCF']-data['logBCF'].min())/(data['logBCF'].max()-data['logBCF'].min()))\n",
    "data.head(20)"
   ]
  },
  {
   "cell_type": "markdown",
   "metadata": {
    "colab_type": "text",
    "id": "PXiUbch80f1b"
   },
   "source": [
    " Divide the dataset into having 750 and 308 rows.(It is a 70:30 ratio) Randomization may be applied"
   ]
  },
  {
   "cell_type": "code",
   "execution_count": 0,
   "metadata": {
    "colab": {},
    "colab_type": "code",
    "id": "LRTjV3Bq1DfU"
   },
   "outputs": [],
   "source": [
    "X=data.iloc[:,:-1].values\n",
    "y=data.iloc[:,1].values"
   ]
  },
  {
   "cell_type": "code",
   "execution_count": 0,
   "metadata": {
    "colab": {},
    "colab_type": "code",
    "id": "YodnFrgt0gKb"
   },
   "outputs": [],
   "source": [
    "from sklearn.model_selection import train_test_split\n",
    "X_train,X_test,y_train,y_test=train_test_split(X,y,test_size=0.3,random_state=42)"
   ]
  },
  {
   "cell_type": "markdown",
   "metadata": {
    "colab_type": "text",
    "id": "bNXmuznx1zFe"
   },
   "source": [
    "Predict the value of y, dependent value using the calculated m and c values and store in predicted_y.Compare the difference between actual_y and predicted_y."
   ]
  },
  {
   "cell_type": "code",
   "execution_count": 44,
   "metadata": {
    "colab": {
     "base_uri": "https://localhost:8080/",
     "height": 34
    },
    "colab_type": "code",
    "id": "2BZRvDC_1xyU",
    "outputId": "c28bc1b1-319a-437d-eb8d-3bae624b18f5"
   },
   "outputs": [
    {
     "data": {
      "text/plain": [
       "LinearRegression(copy_X=True, fit_intercept=True, n_jobs=None, normalize=False)"
      ]
     },
     "execution_count": 44,
     "metadata": {
      "tags": []
     },
     "output_type": "execute_result"
    }
   ],
   "source": [
    "from sklearn.linear_model import LinearRegression\n",
    "regressor=LinearRegression()\n",
    "regressor.fit(X_train,y_train)"
   ]
  },
  {
   "cell_type": "code",
   "execution_count": 45,
   "metadata": {
    "colab": {
     "base_uri": "https://localhost:8080/",
     "height": 1000
    },
    "colab_type": "code",
    "id": "t6djlviu2Sa9",
    "outputId": "617b43cf-58e9-4444-bcc5-1025baab6f4c"
   },
   "outputs": [
    {
     "data": {
      "text/plain": [
       "array([0.45317679, 0.45047414, 0.39588058, 0.35588133, 0.46723058,\n",
       "       0.49209498, 0.54344536, 0.38290785, 0.20237071, 0.74830636,\n",
       "       1.01694993, 0.34723285, 0.35317868, 0.66290256, 0.52236467,\n",
       "       0.4337177 , 0.30236883, 0.36615141, 0.59641733, 0.44723096,\n",
       "       0.34182754, 0.58290407, 0.40128588, 0.40398853, 0.53858058,\n",
       "       0.35696239, 0.3304764 , 0.17642526, 0.55371543, 0.51641884,\n",
       "       0.46993323, 0.48777073, 0.43155558, 0.48344649, 0.16885783,\n",
       "       0.3499355 , 0.39371845, 0.38939421, 0.60939006, 0.46885217,\n",
       "       0.38182679, 0.40128588, 0.33534118, 0.32344951, 0.37642148,\n",
       "       0.55047225, 0.43642035, 0.62182226, 0.40290747, 0.50722983,\n",
       "       0.52128361, 0.56722869, 0.608309  , 0.6385787 , 0.53804005,\n",
       "       0.31858474, 0.60506582, 0.51695937, 0.43047452, 0.48993285,\n",
       "       0.48777073, 0.45966316, 0.66992946, 0.62776809, 0.37588095,\n",
       "       0.60939006, 0.63965976, 0.39912376, 0.40723171, 0.40398853,\n",
       "       0.71641507, 0.39858323, 0.51155407, 0.39966429, 0.64128135,\n",
       "       0.58560672, 0.44182565, 0.41425861, 0.66398362, 0.43696088,\n",
       "       0.42236656, 0.44182565, 0.27318019, 0.26507223, 0.50290558,\n",
       "       0.4515552 , 0.70614499, 0.643984  , 0.85911507, 0.9504647 ,\n",
       "       0.2839908 , 0.36831353, 0.52398627, 0.49750028, 0.61101165,\n",
       "       0.58884991, 0.22831617, 0.53047263, 0.4461499 , 0.43047452,\n",
       "       0.41479914, 0.48614914, 0.52020255, 0.57209347, 0.80722416,\n",
       "       0.43425823, 0.48452755, 0.44939308, 0.60452529, 0.44452831,\n",
       "       0.36939459, 0.51101354, 0.32993587, 0.5958768 , 0.38344838,\n",
       "       0.28993663, 0.37696201, 0.53966165, 0.51047301, 0.36669194,\n",
       "       0.33426012, 0.40236694, 0.59641733, 0.45858209, 0.31101731,\n",
       "       0.53155369, 0.48560861, 0.16183094, 0.45479838, 0.34723285,\n",
       "       0.58560672, 0.24507261, 0.41317755, 0.64236241, 0.47263588,\n",
       "       0.55749915, 0.4266908 , 0.42020444, 0.42290709, 0.44723096,\n",
       "       0.59371468, 0.40398853, 0.45479838, 0.51263513, 0.46723058,\n",
       "       0.41804232, 0.6137143 , 0.47425747, 0.50074346, 0.65317302,\n",
       "       0.13156124, 0.49912187, 0.54614801, 0.38452944, 0.4764196 ,\n",
       "       0.54939119, 0.65965938, 0.53047263, 0.47696013, 0.58128248,\n",
       "       0.64830824, 0.34453019, 0.38182679, 0.58560672, 0.55155331,\n",
       "       0.34236807, 0.43209611, 0.24074837, 0.43966353, 0.60993059,\n",
       "       0.64236241, 0.53317528, 0.82452113, 0.41047489, 0.60614688,\n",
       "       0.65371355, 0.42290709, 0.43155558, 0.48452755, 0.36831353,\n",
       "       0.44777149, 0.48506808, 0.49750028, 0.47587907, 0.39588058,\n",
       "       0.54344536, 0.53587793, 0.44074459, 0.49371657, 0.35263815,\n",
       "       0.52074308, 0.36452982, 0.52074308, 0.47912225, 0.4872302 ,\n",
       "       0.58614725, 0.68398325, 0.65155143, 0.43263664, 0.69263173,\n",
       "       0.72560408, 0.63371392, 0.38452944, 0.41371808, 0.50885142,\n",
       "       0.47047376, 0.60884953, 0.54290483, 0.52614839, 0.51155407,\n",
       "       0.52128361, 0.43479876, 0.36669194, 0.61966014, 0.57209347,\n",
       "       0.47966278, 0.67046999, 0.44398778, 0.41750179, 0.45425785,\n",
       "       0.51804043, 0.5245268 , 0.6315518 , 0.58290407, 0.61263324,\n",
       "       0.40669118, 0.44182565, 0.39750217, 0.51263513, 0.44939308,\n",
       "       0.52668892, 0.56074233, 0.39155633, 0.58290407, 0.35804345,\n",
       "       0.40452906, 0.50452717, 0.41912338, 0.50722983, 0.70614499,\n",
       "       0.57857983, 0.44777149, 0.42506921, 0.332098  , 0.67533476,\n",
       "       0.70019916, 0.54074271, 0.53641846, 0.41966391, 0.46074422,\n",
       "       0.61911961, 0.48128437, 0.34669232, 0.39479952, 0.59966051,\n",
       "       0.64776771, 0.40290747, 0.31804421, 0.35047603, 0.46290634,\n",
       "       0.32939534, 0.53317528, 0.34074648, 0.54560748, 0.53209422,\n",
       "       0.572634  , 0.50182452, 0.55047225, 0.72182037, 0.52344574,\n",
       "       0.40615065, 0.37371883, 0.44831202, 0.48668967, 0.18345215,\n",
       "       0.42777187, 0.32399004, 0.57749877, 0.47371694, 0.50722983,\n",
       "       0.73965787, 0.47587907, 0.52831051, 0.48614914, 0.69101014,\n",
       "       0.6261465 , 0.53966165, 0.05858965, 0.37263777, 0.42615027,\n",
       "       0.45804156, 0.32993587, 0.47966278, 0.48074384, 0.5353374 ,\n",
       "       0.30777413, 0.40993436, 0.20074912, 0.68344272, 0.46506846,\n",
       "       0.45858209, 0.45858209, 0.48344649, 0.51317566, 0.70830711,\n",
       "       0.33804383, 0.57047187, 0.40290747, 0.332098  , 0.52344574,\n",
       "       0.46074422, 0.4639874 , 0.5050677 , 0.63209233, 0.52831051])"
      ]
     },
     "execution_count": 45,
     "metadata": {
      "tags": []
     },
     "output_type": "execute_result"
    }
   ],
   "source": [
    "regressor.predict(X_test)"
   ]
  },
  {
   "cell_type": "code",
   "execution_count": 46,
   "metadata": {
    "colab": {
     "base_uri": "https://localhost:8080/",
     "height": 1000
    },
    "colab_type": "code",
    "id": "RYn5oXkA2Xxj",
    "outputId": "99a2d707-266e-49d1-9f7c-4b75c0fa8afe"
   },
   "outputs": [
    {
     "data": {
      "text/plain": [
       "array([0.48582474, 0.21907216, 0.23324742, 0.26030928, 0.47551546,\n",
       "       0.53865979, 0.68814433, 0.18041237, 0.20231959, 0.49097938,\n",
       "       0.40979381, 0.23324742, 0.27706186, 0.77448454, 0.30798969,\n",
       "       0.3621134 , 0.16881443, 0.2757732 , 0.56701031, 0.40463918,\n",
       "       0.19845361, 0.66752577, 0.38917526, 0.32989691, 0.68041237,\n",
       "       0.25773196, 0.22551546, 0.18041237, 0.67010309, 0.27706186,\n",
       "       0.45360825, 0.46262887, 0.56056701, 0.45876289, 0.28350515,\n",
       "       0.31314433, 0.21907216, 0.40335052, 0.84407216, 0.59407216,\n",
       "       0.31056701, 0.31185567, 0.22809278, 0.25257732, 0.26159794,\n",
       "       0.62113402, 0.39948454, 0.66752577, 0.33634021, 0.47036082,\n",
       "       0.67268041, 0.5128866 , 0.61984536, 0.54381443, 0.56958763,\n",
       "       0.29896907, 0.72809278, 0.57087629, 0.42139175, 0.55927835,\n",
       "       0.45747423, 0.45876289, 0.97680412, 0.69458763, 0.34793814,\n",
       "       0.7757732 , 0.67912371, 0.38659794, 0.50515464, 0.35695876,\n",
       "       0.56443299, 0.39561856, 0.51030928, 0.32474227, 0.57087629,\n",
       "       0.67268041, 0.48324742, 0.41365979, 0.32474227, 0.50128866,\n",
       "       0.33762887, 0.5064433 , 0.34793814, 0.22164948, 0.61726804,\n",
       "       0.32731959, 0.81958763, 0.61597938, 0.58762887, 0.26030928,\n",
       "       0.32345361, 0.29639175, 0.36597938, 0.63015464, 0.76804124,\n",
       "       0.50773196, 0.25      , 0.63273196, 0.30283505, 0.4806701 ,\n",
       "       0.28865979, 0.5193299 , 0.64690722, 0.29896907, 0.36726804,\n",
       "       0.36469072, 0.58891753, 0.50257732, 0.55283505, 0.61469072,\n",
       "       0.21520619, 0.65721649, 0.09020619, 0.71520619, 0.24484536,\n",
       "       0.14819588, 0.29896907, 0.72293814, 0.53737113, 0.32216495,\n",
       "       0.32860825, 0.24226804, 0.64304124, 0.50902062, 0.25515464,\n",
       "       0.64948454, 0.41623711, 0.25773196, 0.45103093, 0.42010309,\n",
       "       0.57731959, 0.29123711, 0.40206186, 0.83634021, 0.51675258,\n",
       "       0.69587629, 0.15463918, 0.36469072, 0.47680412, 0.5193299 ,\n",
       "       0.60824742, 0.40206186, 0.35309278, 0.7242268 , 0.56443299,\n",
       "       0.34793814, 0.67912371, 0.55412371, 0.62886598, 0.53608247,\n",
       "       0.25515464, 0.55541237, 0.71520619, 0.25386598, 0.46134021,\n",
       "       0.62886598, 0.91881443, 0.6056701 , 0.47036082, 0.70489691,\n",
       "       0.72809278, 0.27706186, 0.16752577, 0.53737113, 0.55798969,\n",
       "       0.32860825, 0.54381443, 0.24871134, 0.49742268, 0.68298969,\n",
       "       0.86984536, 0.58505155, 0.29639175, 0.27835052, 0.57087629,\n",
       "       0.72293814, 0.28479381, 0.31958763, 0.52190722, 0.28865979,\n",
       "       0.43041237, 0.28350515, 0.57087629, 0.55412371, 0.2564433 ,\n",
       "       0.64561856, 0.625     , 0.38659794, 0.56829897, 0.23969072,\n",
       "       0.68943299, 0.32603093, 0.58118557, 0.56572165, 0.3556701 ,\n",
       "       0.64690722, 0.7242268 , 0.78350515, 0.46134021, 0.96907216,\n",
       "       0.38659794, 0.76804124, 0.28221649, 0.65721649, 0.37371134,\n",
       "       0.46649485, 0.76030928, 0.6185567 , 0.58505155, 0.61984536,\n",
       "       0.58118557, 0.3621134 , 0.39690722, 0.71907216, 0.56185567,\n",
       "       0.50902062, 0.57731959, 0.28092784, 0.37628866, 0.52319588,\n",
       "       0.5064433 , 0.53608247, 0.74484536, 0.63402062, 0.5257732 ,\n",
       "       0.40463918, 0.47551546, 0.35695876, 0.58891753, 0.48195876,\n",
       "       0.70231959, 0.6314433 , 0.31572165, 0.61082474, 0.48582474,\n",
       "       0.37113402, 0.45618557, 0.39304124, 0.69329897, 0.41881443,\n",
       "       0.69329897, 0.43041237, 0.34020619, 0.21907216, 0.98840206,\n",
       "       0.31572165, 0.56958763, 0.6443299 , 0.34149485, 0.45618557,\n",
       "       0.43556701, 0.48324742, 0.44974227, 0.27706186, 0.49226804,\n",
       "       0.64304124, 0.34278351, 0.26546392, 0.55283505, 0.41365979,\n",
       "       0.31443299, 0.67139175, 0.57474227, 0.33247423, 0.6443299 ,\n",
       "       0.68556701, 0.64175258, 0.76804124, 0.76546392, 0.42268041,\n",
       "       0.28350515, 0.31185567, 0.32731959, 0.59536082, 0.25773196,\n",
       "       0.39304124, 0.3685567 , 0.6185567 , 0.34793814, 0.56829897,\n",
       "       0.59149485, 0.48453608, 0.52963918, 0.31701031, 0.51159794,\n",
       "       0.66752577, 0.47036082, 0.39948454, 0.32087629, 0.25902062,\n",
       "       0.47680412, 0.47680412, 0.4806701 , 0.45103093, 0.56829897,\n",
       "       0.31701031, 0.36597938, 0.26159794, 0.73453608, 0.52190722,\n",
       "       0.51159794, 0.50902062, 0.58118557, 0.65335052, 0.55154639,\n",
       "       0.2693299 , 0.66108247, 0.38273196, 0.27319588, 0.57603093,\n",
       "       0.46907216, 0.52963918, 0.50128866, 0.73453608, 0.54896907])"
      ]
     },
     "execution_count": 46,
     "metadata": {
      "tags": []
     },
     "output_type": "execute_result"
    }
   ],
   "source": [
    "y_test"
   ]
  },
  {
   "cell_type": "markdown",
   "metadata": {
    "colab_type": "text",
    "id": "iKMWVDF52rkL"
   },
   "source": [
    "**Plotting the regression equation**"
   ]
  },
  {
   "cell_type": "code",
   "execution_count": 48,
   "metadata": {
    "colab": {
     "base_uri": "https://localhost:8080/",
     "height": 295
    },
    "colab_type": "code",
    "id": "8nrsOjDL2qvs",
    "outputId": "867adc36-b1eb-4831-8cf9-4f451f913971"
   },
   "outputs": [
    {
     "data": {
      "image/png": "[encoded data removed]",
      "text/plain": [
       "<Figure size 432x288 with 1 Axes>"
      ]
     },
     "metadata": {
      "needs_background": "light",
      "tags": []
     },
     "output_type": "display_data"
    }
   ],
   "source": [
    "plt.scatter(data.LogKOW, data.logBCF,  color='blue',label=\"Actual\")\n",
    "plt.plot(X_train, regressor.coef_[0]*X_train + regressor.intercept_, '-r',label=\"Predicted\")\n",
    "plt.title(\"Regression plot\")\n",
    "plt.legend()\n",
    "plt.xlabel(\"LogKOW\")\n",
    "plt.ylabel(\"logBCF\")\n",
    "plt.show()"
   ]
  },
  {
   "cell_type": "markdown",
   "metadata": {
    "colab_type": "text",
    "id": "LBJumNvx3aWz"
   },
   "source": [
    " Calculate MAE, MSE and r2. What do you infer from the scores?"
   ]
  },
  {
   "cell_type": "code",
   "execution_count": 49,
   "metadata": {
    "colab": {
     "base_uri": "https://localhost:8080/",
     "height": 67
    },
    "colab_type": "code",
    "id": "YzysR9lv3ZdX",
    "outputId": "f059e063-c8d8-4015-cf11-75fe6540ddad"
   },
   "outputs": [
    {
     "name": "stdout",
     "output_type": "stream",
     "text": [
      "Mean Absolute Error: 0.09685200614831192\n",
      "Mean Squared Error: 0.017049511744675366\n",
      "Root Mean Squared Error: 0.13057377893235445\n"
     ]
    }
   ],
   "source": [
    "from sklearn import metrics\n",
    "print('Mean Absolute Error:', metrics.mean_absolute_error(y, regressor.predict(X)))\n",
    "print('Mean Squared Error:', metrics.mean_squared_error(y,regressor.predict(X)))\n",
    "print('Root Mean Squared Error:', np.sqrt(metrics.mean_squared_error(y,regressor.predict(X))))"
   ]
  },
  {
   "cell_type": "markdown",
   "metadata": {
    "colab_type": "text",
    "id": "2pmkSjFZ3x38"
   },
   "source": [
    "From the above observations , we can see that the metrics value from the above model are almost the same as the previous model .But we can infer the following from the above observations :\n",
    "\n",
    "\n",
    "1.   MAE has decreased in the second model\n",
    "2.   MSE has increased in the second model\n",
    "3. RMSE has increased in the second model\n",
    "\n"
   ]
  },
  {
   "cell_type": "markdown",
   "metadata": {
    "colab_type": "text",
    "id": "BZGNedzv5B6B"
   },
   "source": [
    "#Part-3"
   ]
  },
  {
   "cell_type": "markdown",
   "metadata": {
    "colab_type": "text",
    "id": "4GImciuX5Fv-"
   },
   "source": [
    "Perform cross – validation with 2, 3, 4 and till 14 folds with r2 as the metric"
   ]
  },
  {
   "cell_type": "code",
   "execution_count": 54,
   "metadata": {
    "colab": {
     "base_uri": "https://localhost:8080/",
     "height": 118
    },
    "colab_type": "code",
    "id": "LSCpO5h46_Xk",
    "outputId": "a79f4b0e-24bc-469a-bb11-790f5ef7b01d"
   },
   "outputs": [
    {
     "name": "stdout",
     "output_type": "stream",
     "text": [
      "Number of folds: 2  Accuracy: [0.2940963 0.4917453]\n",
      "Number of folds: 3  Accuracy: [0.32144317 0.36214809 0.49132267]\n",
      "Number of folds: 4  Accuracy: [0.12568676 0.34361067 0.48940036 0.45578078]\n",
      "Number of folds: 14  Accuracy: [ 0.36618316  0.13322445  0.12582733  0.43519506  0.45626569 -0.04868227\n",
      "  0.29745624  0.3611614   0.52179573  0.5955038   0.54876981  0.45026282\n",
      "  0.49504824  0.32313235]\n"
     ]
    }
   ],
   "source": [
    "from sklearn.model_selection import cross_val_score\n",
    "vali=[2,3,4,14]\n",
    "for i in vali:\n",
    "  accuracy=cross_val_score(regressor,X,y,cv=i,scoring=\"r2\")\n",
    "  print(\"Number of folds:\",i,\" Accuracy:\",accuracy)\n"
   ]
  },
  {
   "cell_type": "markdown",
   "metadata": {
    "colab_type": "text",
    "id": "YPhPVzWZCoKC"
   },
   "source": [
    "The above metric values show that the model is not a very good fit for the data , to give a better fit we must do further analysis.\n",
    "Some steps that can be taken to make a better fitting model:\n",
    "\n",
    "\n",
    "*   Removing the outliers\n",
    "*   Using a different model , or ensmbling the models to get more accuracy\n",
    "*  Normalising the data before predicting the values"
   ]
  }
 ],
 "metadata": {
  "colab": {
   "collapsed_sections": [],
   "name": "QSAR fish bioconcentration factor.ipynb",
   "provenance": []
  },
  "kernelspec": {
   "display_name": "Python 3",
   "language": "python",
   "name": "python3"
  },
  "language_info": {
   "codemirror_mode": {
    "name": "ipython",
    "version": 3
   },
   "file_extension": ".py",
   "mimetype": "text/x-python",
   "name": "python",
   "nbconvert_exporter": "python",
   "pygments_lexer": "ipython3",
   "version": "3.7.4"
  }
 },
 "nbformat": 4,
 "nbformat_minor": 1
}
