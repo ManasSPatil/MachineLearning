{
  "nbformat": 4,
  "nbformat_minor": 0,
  "metadata": {
    "colab": {
      "name": "StrokePrediction-HPO and Evaluation.ipynb",
      "provenance": [],
      "collapsed_sections": []
    },
    "kernelspec": {
      "name": "python3",
      "display_name": "Python 3"
    }
  },
  "cells": [
    {
      "cell_type": "code",
      "metadata": {
        "id": "QK0tC6b4xqJL",
        "colab": {
          "base_uri": "https://localhost:8080/"
        },
        "outputId": "72fbd851-1517-4be3-c3fd-8bc9d3f0f080"
      },
      "source": [
        "from google.colab import drive\n",
        "drive.mount('/content/gdrive')"
      ],
      "execution_count": null,
      "outputs": [
        {
          "output_type": "stream",
          "text": [
            "Mounted at /content/gdrive\n"
          ],
          "name": "stdout"
        }
      ]
    },
    {
      "cell_type": "code",
      "metadata": {
        "id": "D5iGpIJDlrU1"
      },
      "source": [
        "import os\n",
        "os.environ['KAGGLE_CONFIG_DIR'] = \"/content/gdrive/My Drive/kaggle/StrokePrediction\""
      ],
      "execution_count": null,
      "outputs": []
    },
    {
      "cell_type": "code",
      "metadata": {
        "id": "u52GQxTVlssU",
        "colab": {
          "base_uri": "https://localhost:8080/"
        },
        "outputId": "381bf3fd-271f-451f-b818-eb0658a9acb4"
      },
      "source": [
        "%cd /content/gdrive/My Drive/kaggle/StrokePrediction"
      ],
      "execution_count": null,
      "outputs": [
        {
          "output_type": "stream",
          "text": [
            "/content/gdrive/My Drive/kaggle/StrokePrediction\n"
          ],
          "name": "stdout"
        }
      ]
    },
    {
      "cell_type": "code",
      "metadata": {
        "id": "ppWbjJSwp7ze",
        "colab": {
          "base_uri": "https://localhost:8080/"
        },
        "outputId": "feaa8302-8090-4c16-d77f-9ab09ec9a582"
      },
      "source": [
        "!ls"
      ],
      "execution_count": null,
      "outputs": [
        {
          "output_type": "stream",
          "text": [
            "healthcare-dataset-stroke-data.csv  model_stacked.pickle  y_re.pickle\n",
            "kaggle.json\t\t\t    X_re.pickle\t\t  y_test.pickle\n",
            "model.pickle\t\t\t    X_test.pickle\n"
          ],
          "name": "stdout"
        }
      ]
    },
    {
      "cell_type": "code",
      "metadata": {
        "colab": {
          "base_uri": "https://localhost:8080/"
        },
        "id": "o_lt8vXCVx2a",
        "outputId": "88c62b5b-9fa7-46da-df26-4e47e62b4f4c"
      },
      "source": [
        "!pip install scikit-optimize"
      ],
      "execution_count": null,
      "outputs": [
        {
          "output_type": "stream",
          "text": [
            "Collecting scikit-optimize\n",
            "\u001b[?25l  Downloading https://files.pythonhosted.org/packages/8b/03/be33e89f55866065a02e515c5b319304a801a9f1027a9b311a9b1d1f8dc7/scikit_optimize-0.8.1-py2.py3-none-any.whl (101kB)\n",
            "\r\u001b[K     |███▎                            | 10kB 15.9MB/s eta 0:00:01\r\u001b[K     |██████▌                         | 20kB 13.2MB/s eta 0:00:01\r\u001b[K     |█████████▊                      | 30kB 10.0MB/s eta 0:00:01\r\u001b[K     |█████████████                   | 40kB 8.5MB/s eta 0:00:01\r\u001b[K     |████████████████▏               | 51kB 5.6MB/s eta 0:00:01\r\u001b[K     |███████████████████▍            | 61kB 5.3MB/s eta 0:00:01\r\u001b[K     |██████████████████████▊         | 71kB 5.8MB/s eta 0:00:01\r\u001b[K     |██████████████████████████      | 81kB 6.3MB/s eta 0:00:01\r\u001b[K     |█████████████████████████████▏  | 92kB 6.3MB/s eta 0:00:01\r\u001b[K     |████████████████████████████████| 102kB 4.5MB/s \n",
            "\u001b[?25hRequirement already satisfied: scikit-learn>=0.20.0 in /usr/local/lib/python3.6/dist-packages (from scikit-optimize) (0.22.2.post1)\n",
            "Collecting pyaml>=16.9\n",
            "  Downloading https://files.pythonhosted.org/packages/15/c4/1310a054d33abc318426a956e7d6df0df76a6ddfa9c66f6310274fb75d42/pyaml-20.4.0-py2.py3-none-any.whl\n",
            "Requirement already satisfied: joblib>=0.11 in /usr/local/lib/python3.6/dist-packages (from scikit-optimize) (1.0.0)\n",
            "Requirement already satisfied: numpy>=1.13.3 in /usr/local/lib/python3.6/dist-packages (from scikit-optimize) (1.19.5)\n",
            "Requirement already satisfied: scipy>=0.19.1 in /usr/local/lib/python3.6/dist-packages (from scikit-optimize) (1.4.1)\n",
            "Requirement already satisfied: PyYAML in /usr/local/lib/python3.6/dist-packages (from pyaml>=16.9->scikit-optimize) (3.13)\n",
            "Installing collected packages: pyaml, scikit-optimize\n",
            "Successfully installed pyaml-20.4.0 scikit-optimize-0.8.1\n"
          ],
          "name": "stdout"
        }
      ]
    },
    {
      "cell_type": "code",
      "metadata": {
        "colab": {
          "base_uri": "https://localhost:8080/"
        },
        "id": "CijepKQfV126",
        "outputId": "7aef427e-9678-4eea-ff54-02bb90686805"
      },
      "source": [
        "!pip install optuna"
      ],
      "execution_count": null,
      "outputs": [
        {
          "output_type": "stream",
          "text": [
            "Collecting optuna\n",
            "\u001b[?25l  Downloading https://files.pythonhosted.org/packages/91/88/9c53460b97c61bce926dfe9dce51e4887c283416ff89ed30af0b73f44efa/optuna-2.5.0-py3-none-any.whl (287kB)\n",
            "\r\u001b[K     |█▏                              | 10kB 15.7MB/s eta 0:00:01\r\u001b[K     |██▎                             | 20kB 14.6MB/s eta 0:00:01\r\u001b[K     |███▍                            | 30kB 10.5MB/s eta 0:00:01\r\u001b[K     |████▋                           | 40kB 8.9MB/s eta 0:00:01\r\u001b[K     |█████▊                          | 51kB 5.5MB/s eta 0:00:01\r\u001b[K     |██████▉                         | 61kB 5.9MB/s eta 0:00:01\r\u001b[K     |████████                        | 71kB 6.1MB/s eta 0:00:01\r\u001b[K     |█████████▏                      | 81kB 6.7MB/s eta 0:00:01\r\u001b[K     |██████████▎                     | 92kB 6.2MB/s eta 0:00:01\r\u001b[K     |███████████▍                    | 102kB 6.8MB/s eta 0:00:01\r\u001b[K     |████████████▌                   | 112kB 6.8MB/s eta 0:00:01\r\u001b[K     |█████████████▊                  | 122kB 6.8MB/s eta 0:00:01\r\u001b[K     |██████████████▉                 | 133kB 6.8MB/s eta 0:00:01\r\u001b[K     |████████████████                | 143kB 6.8MB/s eta 0:00:01\r\u001b[K     |█████████████████               | 153kB 6.8MB/s eta 0:00:01\r\u001b[K     |██████████████████▎             | 163kB 6.8MB/s eta 0:00:01\r\u001b[K     |███████████████████▍            | 174kB 6.8MB/s eta 0:00:01\r\u001b[K     |████████████████████▌           | 184kB 6.8MB/s eta 0:00:01\r\u001b[K     |█████████████████████▋          | 194kB 6.8MB/s eta 0:00:01\r\u001b[K     |██████████████████████▉         | 204kB 6.8MB/s eta 0:00:01\r\u001b[K     |████████████████████████        | 215kB 6.8MB/s eta 0:00:01\r\u001b[K     |█████████████████████████       | 225kB 6.8MB/s eta 0:00:01\r\u001b[K     |██████████████████████████▎     | 235kB 6.8MB/s eta 0:00:01\r\u001b[K     |███████████████████████████▍    | 245kB 6.8MB/s eta 0:00:01\r\u001b[K     |████████████████████████████▌   | 256kB 6.8MB/s eta 0:00:01\r\u001b[K     |█████████████████████████████▋  | 266kB 6.8MB/s eta 0:00:01\r\u001b[K     |██████████████████████████████▉ | 276kB 6.8MB/s eta 0:00:01\r\u001b[K     |████████████████████████████████| 286kB 6.8MB/s eta 0:00:01\r\u001b[K     |████████████████████████████████| 296kB 6.8MB/s \n",
            "\u001b[?25hRequirement already satisfied: joblib in /usr/local/lib/python3.6/dist-packages (from optuna) (1.0.0)\n",
            "Collecting alembic\n",
            "\u001b[?25l  Downloading https://files.pythonhosted.org/packages/a9/53/daab5c96e22e9ed1c9f8ca4e3256e72213ade42d519b6254c32e59610967/alembic-1.5.4.tar.gz (1.1MB)\n",
            "\u001b[K     |████████████████████████████████| 1.1MB 38.8MB/s \n",
            "\u001b[?25hRequirement already satisfied: sqlalchemy>=1.1.0 in /usr/local/lib/python3.6/dist-packages (from optuna) (1.3.23)\n",
            "Requirement already satisfied: tqdm in /usr/local/lib/python3.6/dist-packages (from optuna) (4.41.1)\n",
            "Collecting colorlog\n",
            "  Downloading https://files.pythonhosted.org/packages/5e/39/0230290df0519d528d8d0ffdfd900150ed24e0076d13b1f19e279444aab1/colorlog-4.7.2-py2.py3-none-any.whl\n",
            "Collecting cmaes>=0.6.0\n",
            "  Downloading https://files.pythonhosted.org/packages/21/a2/21775c7343e7dd345e5e12cc7b8432e3d3edae2043b01bc2ecf38c432ef7/cmaes-0.8.1-py3-none-any.whl\n",
            "Requirement already satisfied: scipy!=1.4.0 in /usr/local/lib/python3.6/dist-packages (from optuna) (1.4.1)\n",
            "Requirement already satisfied: numpy in /usr/local/lib/python3.6/dist-packages (from optuna) (1.19.5)\n",
            "Collecting cliff\n",
            "\u001b[?25l  Downloading https://files.pythonhosted.org/packages/a2/d6/7d9acb68a77acd140be7fececb7f2701b2a29d2da9c54184cb8f93509590/cliff-3.7.0-py3-none-any.whl (80kB)\n",
            "\u001b[K     |████████████████████████████████| 81kB 8.5MB/s \n",
            "\u001b[?25hRequirement already satisfied: packaging>=20.0 in /usr/local/lib/python3.6/dist-packages (from optuna) (20.9)\n",
            "Collecting Mako\n",
            "\u001b[?25l  Downloading https://files.pythonhosted.org/packages/5c/db/2d2d88b924aa4674a080aae83b59ea19d593250bfe5ed789947c21736785/Mako-1.1.4.tar.gz (479kB)\n",
            "\u001b[K     |████████████████████████████████| 481kB 43.7MB/s \n",
            "\u001b[?25hCollecting python-editor>=0.3\n",
            "  Downloading https://files.pythonhosted.org/packages/c6/d3/201fc3abe391bbae6606e6f1d598c15d367033332bd54352b12f35513717/python_editor-1.0.4-py3-none-any.whl\n",
            "Requirement already satisfied: python-dateutil in /usr/local/lib/python3.6/dist-packages (from alembic->optuna) (2.8.1)\n",
            "Collecting pbr!=2.1.0,>=2.0.0\n",
            "\u001b[?25l  Downloading https://files.pythonhosted.org/packages/fb/48/69046506f6ac61c1eaa9a0d42d22d54673b69e176d30ca98e3f61513e980/pbr-5.5.1-py2.py3-none-any.whl (106kB)\n",
            "\u001b[K     |████████████████████████████████| 112kB 41.5MB/s \n",
            "\u001b[?25hRequirement already satisfied: PrettyTable>=0.7.2 in /usr/local/lib/python3.6/dist-packages (from cliff->optuna) (2.0.0)\n",
            "Requirement already satisfied: PyYAML>=3.12 in /usr/local/lib/python3.6/dist-packages (from cliff->optuna) (3.13)\n",
            "Requirement already satisfied: pyparsing>=2.1.0 in /usr/local/lib/python3.6/dist-packages (from cliff->optuna) (2.4.7)\n",
            "Collecting stevedore>=2.0.1\n",
            "\u001b[?25l  Downloading https://files.pythonhosted.org/packages/d4/49/b602307aeac3df3384ff1fcd05da9c0376c622a6c48bb5325f28ab165b57/stevedore-3.3.0-py3-none-any.whl (49kB)\n",
            "\u001b[K     |████████████████████████████████| 51kB 5.4MB/s \n",
            "\u001b[?25hCollecting cmd2>=1.0.0\n",
            "\u001b[?25l  Downloading https://files.pythonhosted.org/packages/15/8b/15061b32332bb35ea2a2f6263d0f616779d576e82739ec8e7fcf3c94abf5/cmd2-1.5.0-py3-none-any.whl (133kB)\n",
            "\u001b[K     |████████████████████████████████| 143kB 30.7MB/s \n",
            "\u001b[?25hRequirement already satisfied: MarkupSafe>=0.9.2 in /usr/local/lib/python3.6/dist-packages (from Mako->alembic->optuna) (1.1.1)\n",
            "Requirement already satisfied: six>=1.5 in /usr/local/lib/python3.6/dist-packages (from python-dateutil->alembic->optuna) (1.15.0)\n",
            "Requirement already satisfied: setuptools in /usr/local/lib/python3.6/dist-packages (from PrettyTable>=0.7.2->cliff->optuna) (53.0.0)\n",
            "Requirement already satisfied: wcwidth in /usr/local/lib/python3.6/dist-packages (from PrettyTable>=0.7.2->cliff->optuna) (0.2.5)\n",
            "Requirement already satisfied: importlib-metadata>=1.7.0; python_version < \"3.8\" in /usr/local/lib/python3.6/dist-packages (from stevedore>=2.0.1->cliff->optuna) (3.4.0)\n",
            "Requirement already satisfied: attrs>=16.3.0 in /usr/local/lib/python3.6/dist-packages (from cmd2>=1.0.0->cliff->optuna) (20.3.0)\n",
            "Collecting colorama>=0.3.7\n",
            "  Downloading https://files.pythonhosted.org/packages/44/98/5b86278fbbf250d239ae0ecb724f8572af1c91f4a11edf4d36a206189440/colorama-0.4.4-py2.py3-none-any.whl\n",
            "Collecting pyperclip>=1.6\n",
            "  Downloading https://files.pythonhosted.org/packages/6f/4c/0b1d507ad7e8bc31d690d04b4f475e74c2002d060f7994ce8c09612df707/pyperclip-1.8.1.tar.gz\n",
            "Requirement already satisfied: typing-extensions>=3.6.4; python_version < \"3.8\" in /usr/local/lib/python3.6/dist-packages (from importlib-metadata>=1.7.0; python_version < \"3.8\"->stevedore>=2.0.1->cliff->optuna) (3.7.4.3)\n",
            "Requirement already satisfied: zipp>=0.5 in /usr/local/lib/python3.6/dist-packages (from importlib-metadata>=1.7.0; python_version < \"3.8\"->stevedore>=2.0.1->cliff->optuna) (3.4.0)\n",
            "Building wheels for collected packages: alembic, Mako, pyperclip\n",
            "  Building wheel for alembic (setup.py) ... \u001b[?25l\u001b[?25hdone\n",
            "  Created wheel for alembic: filename=alembic-1.5.4-py2.py3-none-any.whl size=156314 sha256=3b113c3f6bb61fcff48ff97d56b3b17cdae66137227e08d2f6e74c2676c1ee5a\n",
            "  Stored in directory: /root/.cache/pip/wheels/fd/2d/ec/5a1b1e2363ed68392d292d215facf588d5448198edd8078bc1\n",
            "  Building wheel for Mako (setup.py) ... \u001b[?25l\u001b[?25hdone\n",
            "  Created wheel for Mako: filename=Mako-1.1.4-py2.py3-none-any.whl size=75675 sha256=76191cf9e4a7d307aa5a2030c2c8d5f2445d8878eb9914663e8fd6592c2a8922\n",
            "  Stored in directory: /root/.cache/pip/wheels/ad/10/d3/aeb26e20d19045e2a68e5d3cbb57432e11b5d9c92c99f98d47\n",
            "  Building wheel for pyperclip (setup.py) ... \u001b[?25l\u001b[?25hdone\n",
            "  Created wheel for pyperclip: filename=pyperclip-1.8.1-cp36-none-any.whl size=11120 sha256=c681613e44bfe9f6d38be46f783a2e8df31d2d02be401c4726833774fd0a07e8\n",
            "  Stored in directory: /root/.cache/pip/wheels/44/10/3a/c830e9bb3db2c93274ea1f213a41fabde0d8cf3794251fad0c\n",
            "Successfully built alembic Mako pyperclip\n",
            "Installing collected packages: Mako, python-editor, alembic, colorlog, cmaes, pbr, stevedore, colorama, pyperclip, cmd2, cliff, optuna\n",
            "Successfully installed Mako-1.1.4 alembic-1.5.4 cliff-3.7.0 cmaes-0.8.1 cmd2-1.5.0 colorama-0.4.4 colorlog-4.7.2 optuna-2.5.0 pbr-5.5.1 pyperclip-1.8.1 python-editor-1.0.4 stevedore-3.3.0\n"
          ],
          "name": "stdout"
        }
      ]
    },
    {
      "cell_type": "markdown",
      "metadata": {
        "id": "IrNsTpR7TnfT"
      },
      "source": [
        "#Hyper-parameter optimisation"
      ]
    },
    {
      "cell_type": "markdown",
      "metadata": {
        "id": "8I8LFrUbp5IK"
      },
      "source": [
        "HPO is the process of finding a set of optimal hyperparameters for a learning system . HPO is an essential step in ensuring that the final model generalizes well in different situations . We are going to optimize our hyperparameters by using the following methods:\r\n",
        "\r\n",
        "\r\n",
        "1.   Bayesian optimisation\r\n",
        "2.   HPO using TPE (Hyperopt)\r\n",
        "3.   HPO using Optuna\r\n",
        "\r\n",
        "---\r\n",
        "\r\n"
      ]
    },
    {
      "cell_type": "markdown",
      "metadata": {
        "id": "pDqEYwBsUYtX"
      },
      "source": [
        "Importing essentials"
      ]
    },
    {
      "cell_type": "code",
      "metadata": {
        "id": "sG12un9OTxUv"
      },
      "source": [
        "import pandas as pd \r\n",
        "import numpy as np\r\n",
        "import pickle as pk\r\n",
        "from sklearn.linear_model import LogisticRegression\r\n",
        "from sklearn.ensemble import RandomForestClassifier\r\n",
        "from sklearn.naive_bayes import GaussianNB\r\n",
        "from sklearn.ensemble import StackingClassifier\r\n",
        "from sklearn.svm import SVC\r\n",
        "from sklearn import model_selection\r\n",
        "from sklearn import metrics\r\n",
        "from skopt import space,gp_minimize\r\n",
        "from functools import partial\r\n",
        "from hyperopt import hp,fmin,tpe,Trials\r\n",
        "from hyperopt.pyll.base import scope\r\n",
        "import optuna"
      ],
      "execution_count": null,
      "outputs": []
    },
    {
      "cell_type": "markdown",
      "metadata": {
        "id": "LMX0NIQxVQfP"
      },
      "source": [
        "Loading the training data and the test data"
      ]
    },
    {
      "cell_type": "code",
      "metadata": {
        "id": "vh4LwOoSUhT5"
      },
      "source": [
        "with open(\"X_re.pickle\",\"rb\") as f:\r\n",
        "  X_train=pk.load(f)\r\n",
        "with open('y_re.pickle',\"rb\") as f:\r\n",
        "  y_train=pk.load(f)\r\n",
        "with open(\"X_test.pickle\",\"rb\") as f:\r\n",
        "  X_test=pk.load(f)\r\n",
        "with open('y_test.pickle',\"rb\") as f:\r\n",
        "  y_test=pk.load(f)  "
      ],
      "execution_count": null,
      "outputs": []
    },
    {
      "cell_type": "code",
      "metadata": {
        "id": "POX284xPdZHI"
      },
      "source": [
        "def get_models():\r\n",
        "  models=list()\r\n",
        "  models.append((\"lr\",LogisticRegression()))\r\n",
        "  models.append((\"rf\",RandomForestClassifier()))\r\n",
        "  models.append((\"nb\",GaussianNB()))\r\n",
        "  models.append((\"svm\",SVC()))\r\n",
        "  return models"
      ],
      "execution_count": null,
      "outputs": []
    },
    {
      "cell_type": "markdown",
      "metadata": {
        "id": "rafRr9eYajye"
      },
      "source": [
        "###Bayesian Optimisation "
      ]
    },
    {
      "cell_type": "markdown",
      "metadata": {
        "id": "m-t2_KPpaqsG"
      },
      "source": [
        "Optimize function"
      ]
    },
    {
      "cell_type": "code",
      "metadata": {
        "id": "KXHoipicapuq"
      },
      "source": [
        "def optimize(params,param_names,x,y,base_models):\r\n",
        "  params=dict(zip(param_names,params))\r\n",
        "  stacked_model=RandomForestClassifier(**params)\r\n",
        "  model=StackingClassifier(estimators=base_models,final_estimator=stacked_model,cv=5)\r\n",
        "  kf=model_selection.StratifiedKFold(n_splits=5)\r\n",
        "  accuracies=[] #accuracies for all the fold\r\n",
        "  for idx in kf.split(X=x,y=y):\r\n",
        "    train_idx,test_idx=idx[0],idx[1]\r\n",
        "\r\n",
        "    #train split\r\n",
        "    xtrain=x[train_idx]\r\n",
        "    ytrain=y[train_idx]\r\n",
        "\r\n",
        "    #test split\r\n",
        "    xtest=x[test_idx]\r\n",
        "    ytest=y[test_idx]\r\n",
        "\r\n",
        "    model.fit(xtrain,ytrain) #fitting the stacked model\r\n",
        "    preds=model.predict_proba(xtest)\r\n",
        "    preds=preds[:,1]\r\n",
        "    fold_acc=metrics.roc_auc_score(ytest,preds)\r\n",
        "    accuracies.append(fold_acc) \r\n",
        "  \r\n",
        "  return -1.0*np.mean(accuracies)"
      ],
      "execution_count": null,
      "outputs": []
    },
    {
      "cell_type": "markdown",
      "metadata": {
        "id": "ew0peqCsiZFU"
      },
      "source": [
        "Defining the parameter space and the parameter names "
      ]
    },
    {
      "cell_type": "code",
      "metadata": {
        "id": "zp777QVviX-k"
      },
      "source": [
        "param_space=[\r\n",
        "             space.Integer(3,10,name=\"max_depth\"),\r\n",
        "             space.Categorical([\"gini\",\"entropy\"],name=\"criterion\"),\r\n",
        "             space.Integer(100,500,name=\"n_estimators\"),\r\n",
        "             space.Real(0.01,1,prior=\"uniform\",name=\"max_features\")\r\n",
        "]\r\n",
        "param_names=[\r\n",
        "             \"max_depth\",\r\n",
        "             \"criterion\",\r\n",
        "             \"n_estimators\",\r\n",
        "             \"max_features\"\r\n",
        "]"
      ],
      "execution_count": null,
      "outputs": []
    },
    {
      "cell_type": "markdown",
      "metadata": {
        "id": "z8KQ6fqbm7VV"
      },
      "source": [
        "Now we do optimization using gp_minimize"
      ]
    },
    {
      "cell_type": "code",
      "metadata": {
        "colab": {
          "base_uri": "https://localhost:8080/"
        },
        "id": "OMbx_vKlm0aV",
        "outputId": "ce6e230e-a1d5-4bf6-d6ee-ba05bcd96a2e"
      },
      "source": [
        "optmization_function=partial(optimize,\r\n",
        "                             param_names=param_names,\r\n",
        "                             x=X_train,\r\n",
        "                             y=y_train,\r\n",
        "                             base_models=get_models())\r\n",
        "result=gp_minimize(optmization_function,\r\n",
        "                   dimensions=param_space,\r\n",
        "                   n_calls=5,\r\n",
        "                   n_random_starts=5,\r\n",
        "                   verbose=10,\r\n",
        "                   n_jobs=-1)"
      ],
      "execution_count": null,
      "outputs": [
        {
          "output_type": "stream",
          "text": [
            "Iteration No: 1 started. Evaluating function at random point.\n",
            "Iteration No: 1 ended. Evaluation done at random point.\n",
            "Time taken: 40.7732\n",
            "Function value obtained: -0.9894\n",
            "Current minimum: -0.9894\n",
            "Iteration No: 2 started. Evaluating function at random point.\n",
            "Iteration No: 2 ended. Evaluation done at random point.\n",
            "Time taken: 36.2635\n",
            "Function value obtained: -0.9888\n",
            "Current minimum: -0.9894\n",
            "Iteration No: 3 started. Evaluating function at random point.\n",
            "Iteration No: 3 ended. Evaluation done at random point.\n",
            "Time taken: 43.5193\n",
            "Function value obtained: -0.9900\n",
            "Current minimum: -0.9900\n",
            "Iteration No: 4 started. Evaluating function at random point.\n",
            "Iteration No: 4 ended. Evaluation done at random point.\n",
            "Time taken: 43.8138\n",
            "Function value obtained: -0.9901\n",
            "Current minimum: -0.9901\n",
            "Iteration No: 5 started. Evaluating function at random point.\n",
            "Iteration No: 5 ended. Evaluation done at random point.\n",
            "Time taken: 49.6882\n",
            "Function value obtained: -0.9885\n",
            "Current minimum: -0.9901\n"
          ],
          "name": "stdout"
        }
      ]
    },
    {
      "cell_type": "markdown",
      "metadata": {
        "id": "ACHTay63njez"
      },
      "source": [
        "Final results"
      ]
    },
    {
      "cell_type": "code",
      "metadata": {
        "colab": {
          "base_uri": "https://localhost:8080/"
        },
        "id": "C6AbBOvLniIp",
        "outputId": "30b68b84-ac73-47cf-d840-f17bffd5cf16"
      },
      "source": [
        "print(dict(zip(param_names,result.x)))"
      ],
      "execution_count": null,
      "outputs": [
        {
          "output_type": "stream",
          "text": [
            "{'max_depth': 3, 'criterion': 'entropy', 'n_estimators': 295, 'max_features': 0.7979762924139232}\n"
          ],
          "name": "stdout"
        }
      ]
    },
    {
      "cell_type": "markdown",
      "metadata": {
        "id": "YKzoxpFmo1Sk"
      },
      "source": [
        "###HPO using Hyperopt"
      ]
    },
    {
      "cell_type": "markdown",
      "metadata": {
        "id": "8DKYmak1rqlp"
      },
      "source": [
        "Defining the optimize function"
      ]
    },
    {
      "cell_type": "code",
      "metadata": {
        "id": "Fr1iNRPEo65t"
      },
      "source": [
        "def optimize(params,x,y,base_models):\r\n",
        "  stacked_model=RandomForestClassifier(**params)\r\n",
        "  model=StackingClassifier(estimators=base_models,final_estimator=stacked_model,cv=5)\r\n",
        "  kf=model_selection.StratifiedKFold(n_splits=5)\r\n",
        "  accuracies=[] #accuracies for all the fold\r\n",
        "  for idx in kf.split(X=x,y=y):\r\n",
        "    train_idx,test_idx=idx[0],idx[1]\r\n",
        "\r\n",
        "    #train split\r\n",
        "    xtrain=x[train_idx]\r\n",
        "    ytrain=y[train_idx]\r\n",
        "\r\n",
        "    #test split\r\n",
        "    xtest=x[test_idx]\r\n",
        "    ytest=y[test_idx]\r\n",
        "\r\n",
        "    model.fit(xtrain,ytrain) #fitting the stacked model\r\n",
        "    preds=model.predict_proba(xtest)\r\n",
        "    preds=preds[:,1]\r\n",
        "    fold_acc=metrics.roc_auc_score(ytest,preds)\r\n",
        "    accuracies.append(fold_acc) \r\n",
        "  \r\n",
        "  return -1.0*np.mean(accuracies)"
      ],
      "execution_count": null,
      "outputs": []
    },
    {
      "cell_type": "markdown",
      "metadata": {
        "id": "wcYb04iqrx5M"
      },
      "source": [
        "Creating the parameter space"
      ]
    },
    {
      "cell_type": "code",
      "metadata": {
        "id": "gq1rayvGqgCG"
      },
      "source": [
        "param_space={\r\n",
        "    \"max_depth\":scope.int(hp.quniform(\"max_depth\",3,10,1)),\r\n",
        "    \"criterion\":hp.choice(\"criterion\",[\"gini\",\"entropy\"]),\r\n",
        "    \"n_estimators\":scope.int(hp.quniform(\"n_estimators\",100,500,1)),\r\n",
        "    \"max_features\":hp.uniform(\"max_features\",0.01,1)\r\n",
        "}"
      ],
      "execution_count": null,
      "outputs": []
    },
    {
      "cell_type": "markdown",
      "metadata": {
        "id": "LQ316JvvsPnN"
      },
      "source": [
        "Now we optimize using fmin from Hyperopt"
      ]
    },
    {
      "cell_type": "code",
      "metadata": {
        "id": "iOugCdLWsM8i"
      },
      "source": [
        "optmization_function=partial(optimize,\r\n",
        "                             x=X_train,\r\n",
        "                             y=y_train,\r\n",
        "                             base_models=get_models())"
      ],
      "execution_count": null,
      "outputs": []
    },
    {
      "cell_type": "code",
      "metadata": {
        "id": "6Rer1IfUs1f0"
      },
      "source": [
        "trials=Trials()"
      ],
      "execution_count": null,
      "outputs": []
    },
    {
      "cell_type": "code",
      "metadata": {
        "colab": {
          "base_uri": "https://localhost:8080/"
        },
        "id": "SplHkjhesUG-",
        "outputId": "d5e1d5f0-9008-46fa-f07f-e9d8b7353c9a"
      },
      "source": [
        "result=fmin(fn=optmization_function,\r\n",
        "            space=param_space,\r\n",
        "            algo=tpe.suggest,\r\n",
        "            max_evals=15,\r\n",
        "            trials=trials,\r\n",
        "            \r\n",
        ")"
      ],
      "execution_count": null,
      "outputs": [
        {
          "output_type": "stream",
          "text": [
            "100%|██████████| 15/15 [10:30<00:00, 42.04s/it, best loss: -0.9898109728841039]\n"
          ],
          "name": "stdout"
        }
      ]
    },
    {
      "cell_type": "markdown",
      "metadata": {
        "id": "kXJQOQvfu4xp"
      },
      "source": [
        "Final results"
      ]
    },
    {
      "cell_type": "code",
      "metadata": {
        "colab": {
          "base_uri": "https://localhost:8080/"
        },
        "id": "oPhHKRGRtkLs",
        "outputId": "717e602a-5635-4583-e58c-d80ca6af932f"
      },
      "source": [
        "print(result)"
      ],
      "execution_count": null,
      "outputs": [
        {
          "output_type": "stream",
          "text": [
            "{'criterion': 0, 'max_depth': 10.0, 'max_features': 0.24223551097941823, 'n_estimators': 141.0}\n"
          ],
          "name": "stdout"
        }
      ]
    },
    {
      "cell_type": "markdown",
      "metadata": {
        "id": "GUVeLIvTvklN"
      },
      "source": [
        "###HPO using Optuna"
      ]
    },
    {
      "cell_type": "markdown",
      "metadata": {
        "id": "WviRvWZmsq3f"
      },
      "source": [
        "Defining the optimize function"
      ]
    },
    {
      "cell_type": "code",
      "metadata": {
        "id": "PHdgwQNjwvmG"
      },
      "source": [
        "def optimize(trial,x,y,base_models):\r\n",
        "  criterion=trial.suggest_categorical(\"criterion\",[\"gini\",\"entropy\"])\r\n",
        "  n_estimators=trial.suggest_int(\"n_estimators\",100,500)\r\n",
        "  max_depth=trial.suggest_int(\"max_depth\",3,10)\r\n",
        "  max_features=trial.suggest_uniform(\"max_features\",0.01,1.0)\r\n",
        "\r\n",
        "  stacked_model=RandomForestClassifier(\r\n",
        "      n_estimators=n_estimators,\r\n",
        "      max_depth=max_depth,\r\n",
        "      max_features=max_features,\r\n",
        "      criterion=criterion\r\n",
        "  )\r\n",
        "  model=StackingClassifier(estimators=base_models,final_estimator=stacked_model,cv=5)\r\n",
        "  kf=model_selection.StratifiedKFold(n_splits=5)\r\n",
        "  accuracies=[] #accuracies for all the fold\r\n",
        "  for idx in kf.split(X=x,y=y):\r\n",
        "    train_idx,test_idx=idx[0],idx[1]\r\n",
        "\r\n",
        "    #train split\r\n",
        "    xtrain=x[train_idx]\r\n",
        "    ytrain=y[train_idx]\r\n",
        "\r\n",
        "    #test split\r\n",
        "    xtest=x[test_idx]\r\n",
        "    ytest=y[test_idx]\r\n",
        "\r\n",
        "    model.fit(xtrain,ytrain) #fitting the stacked model\r\n",
        "    preds=model.predict_proba(xtest)\r\n",
        "    preds=preds[:,1]\r\n",
        "    fold_acc=metrics.roc_auc_score(ytest,preds)\r\n",
        "    accuracies.append(fold_acc) \r\n",
        "  \r\n",
        "  return -1.0*np.mean(accuracies)"
      ],
      "execution_count": null,
      "outputs": []
    },
    {
      "cell_type": "markdown",
      "metadata": {
        "id": "LYq9i26OtF9g"
      },
      "source": [
        "Now we optimize using Optuna"
      ]
    },
    {
      "cell_type": "code",
      "metadata": {
        "id": "a5tdq62Vwzrh"
      },
      "source": [
        "optimization_function=partial(optimize,x=X_train,y=y_train,base_models=get_models())"
      ],
      "execution_count": null,
      "outputs": []
    },
    {
      "cell_type": "code",
      "metadata": {
        "colab": {
          "base_uri": "https://localhost:8080/"
        },
        "id": "B3_SMbuTvo6L",
        "outputId": "45bc3472-85eb-4eb8-9816-85aaaaf2af12"
      },
      "source": [
        "study= optuna.create_study(direction=\"minimize\")"
      ],
      "execution_count": null,
      "outputs": [
        {
          "output_type": "stream",
          "text": [
            "\u001b[32m[I 2021-02-17 11:48:25,987]\u001b[0m A new study created in memory with name: no-name-5f1fe833-7ad5-4165-85e4-c728fe7b0265\u001b[0m\n"
          ],
          "name": "stderr"
        }
      ]
    },
    {
      "cell_type": "markdown",
      "metadata": {
        "id": "QlDCoHc_vAbw"
      },
      "source": [
        "Final results"
      ]
    },
    {
      "cell_type": "code",
      "metadata": {
        "colab": {
          "base_uri": "https://localhost:8080/"
        },
        "id": "QyVJRY6vwiyz",
        "outputId": "e1c13e52-9723-40a5-8d71-1a2c432ea1ca"
      },
      "source": [
        "study.optimize(optimization_function,n_trials=15)"
      ],
      "execution_count": null,
      "outputs": [
        {
          "output_type": "stream",
          "text": [
            "\u001b[32m[I 2021-02-17 11:49:09,951]\u001b[0m Trial 0 finished with value: -0.9892223640690595 and parameters: {'criterion': 'entropy', 'n_estimators': 477, 'max_depth': 4, 'max_features': 0.33666211879018004}. Best is trial 0 with value: -0.9892223640690595.\u001b[0m\n",
            "\u001b[32m[I 2021-02-17 11:49:59,559]\u001b[0m Trial 1 finished with value: -0.987952647990026 and parameters: {'criterion': 'gini', 'n_estimators': 360, 'max_depth': 10, 'max_features': 0.9883961287774781}. Best is trial 0 with value: -0.9892223640690595.\u001b[0m\n",
            "\u001b[32m[I 2021-02-17 11:50:39,965]\u001b[0m Trial 2 finished with value: -0.9894500909587582 and parameters: {'criterion': 'gini', 'n_estimators': 337, 'max_depth': 6, 'max_features': 0.04242281336983184}. Best is trial 2 with value: -0.9894500909587582.\u001b[0m\n",
            "\u001b[32m[I 2021-02-17 11:51:21,928]\u001b[0m Trial 3 finished with value: -0.9902304278723563 and parameters: {'criterion': 'entropy', 'n_estimators': 324, 'max_depth': 6, 'max_features': 0.47622987153704094}. Best is trial 3 with value: -0.9902304278723563.\u001b[0m\n",
            "\u001b[32m[I 2021-02-17 11:52:15,768]\u001b[0m Trial 4 finished with value: -0.9883542212271899 and parameters: {'criterion': 'gini', 'n_estimators': 455, 'max_depth': 10, 'max_features': 0.842907037482474}. Best is trial 3 with value: -0.9902304278723563.\u001b[0m\n",
            "\u001b[32m[I 2021-02-17 11:52:56,109]\u001b[0m Trial 5 finished with value: -0.9892090712946618 and parameters: {'criterion': 'gini', 'n_estimators': 363, 'max_depth': 5, 'max_features': 0.18510150808606657}. Best is trial 3 with value: -0.9902304278723563.\u001b[0m\n",
            "\u001b[32m[I 2021-02-17 11:53:38,144]\u001b[0m Trial 6 finished with value: -0.9893556752625008 and parameters: {'criterion': 'gini', 'n_estimators': 400, 'max_depth': 7, 'max_features': 0.21402427398738227}. Best is trial 3 with value: -0.9902304278723563.\u001b[0m\n",
            "\u001b[32m[I 2021-02-17 11:54:19,922]\u001b[0m Trial 7 finished with value: -0.9896692359043389 and parameters: {'criterion': 'gini', 'n_estimators': 286, 'max_depth': 6, 'max_features': 0.5093035097625138}. Best is trial 3 with value: -0.9902304278723563.\u001b[0m\n",
            "\u001b[32m[I 2021-02-17 11:55:03,718]\u001b[0m Trial 8 finished with value: -0.9895717151513468 and parameters: {'criterion': 'gini', 'n_estimators': 488, 'max_depth': 7, 'max_features': 0.05170612312272151}. Best is trial 3 with value: -0.9902304278723563.\u001b[0m\n",
            "\u001b[32m[I 2021-02-17 11:55:40,728]\u001b[0m Trial 9 finished with value: -0.9891871458564309 and parameters: {'criterion': 'gini', 'n_estimators': 135, 'max_depth': 3, 'max_features': 0.8980767146555366}. Best is trial 3 with value: -0.9902304278723563.\u001b[0m\n",
            "\u001b[32m[I 2021-02-17 11:56:24,332]\u001b[0m Trial 10 finished with value: -0.9898072084710762 and parameters: {'criterion': 'entropy', 'n_estimators': 232, 'max_depth': 8, 'max_features': 0.6735673985323688}. Best is trial 3 with value: -0.9902304278723563.\u001b[0m\n",
            "\u001b[32m[I 2021-02-17 11:57:08,048]\u001b[0m Trial 11 finished with value: -0.9894702237391837 and parameters: {'criterion': 'entropy', 'n_estimators': 234, 'max_depth': 8, 'max_features': 0.6286527289796865}. Best is trial 3 with value: -0.9902304278723563.\u001b[0m\n",
            "\u001b[32m[I 2021-02-17 11:57:50,848]\u001b[0m Trial 12 finished with value: -0.9889157835964445 and parameters: {'criterion': 'entropy', 'n_estimators': 207, 'max_depth': 9, 'max_features': 0.6854298438604731}. Best is trial 3 with value: -0.9902304278723563.\u001b[0m\n",
            "\u001b[32m[I 2021-02-17 11:58:31,836]\u001b[0m Trial 13 finished with value: -0.9897470538369779 and parameters: {'criterion': 'entropy', 'n_estimators': 258, 'max_depth': 8, 'max_features': 0.448399010129907}. Best is trial 3 with value: -0.9902304278723563.\u001b[0m\n",
            "\u001b[32m[I 2021-02-17 11:59:11,739]\u001b[0m Trial 14 finished with value: -0.9899371239690848 and parameters: {'criterion': 'entropy', 'n_estimators': 175, 'max_depth': 5, 'max_features': 0.7057882128367959}. Best is trial 3 with value: -0.9902304278723563.\u001b[0m\n"
          ],
          "name": "stderr"
        }
      ]
    },
    {
      "cell_type": "markdown",
      "metadata": {
        "id": "OKWkA0lFua2_"
      },
      "source": [
        "#Evaluating the optimized model"
      ]
    },
    {
      "cell_type": "markdown",
      "metadata": {
        "id": "XIkpAbKXtKGS"
      },
      "source": [
        "Finally , it's time to evaluate our final model and see it performance ."
      ]
    },
    {
      "cell_type": "code",
      "metadata": {
        "id": "PDv1PQ7Om8j_"
      },
      "source": [
        "import matplotlib.pyplot as plt\n",
        "from sklearn.metrics import roc_curve\n",
        "from sklearn.metrics import roc_auc_score"
      ],
      "execution_count": null,
      "outputs": []
    },
    {
      "cell_type": "markdown",
      "metadata": {
        "id": "henFrGMvrIij"
      },
      "source": [
        "Now that we have completed HPO , we are going to use the hyperparameters suggested by **Optuna**"
      ]
    },
    {
      "cell_type": "code",
      "metadata": {
        "colab": {
          "base_uri": "https://localhost:8080/"
        },
        "id": "D3ka7LHouaYU",
        "outputId": "8b9f6ff1-badd-4fb4-9478-930e4f4d6135"
      },
      "source": [
        "meta_model=RandomForestClassifier(criterion= 'entropy', n_estimators= 324, max_depth= 6, max_features=0.476223)\r\n",
        "stacked=StackingClassifier(estimators=get_models(),final_estimator=meta_model,cv=10)\r\n",
        "stacked.fit(X_train,y_train)"
      ],
      "execution_count": null,
      "outputs": [
        {
          "output_type": "execute_result",
          "data": {
            "text/plain": [
              "StackingClassifier(cv=10,\n",
              "                   estimators=[('lr',\n",
              "                                LogisticRegression(C=1.0, class_weight=None,\n",
              "                                                   dual=False,\n",
              "                                                   fit_intercept=True,\n",
              "                                                   intercept_scaling=1,\n",
              "                                                   l1_ratio=None, max_iter=100,\n",
              "                                                   multi_class='auto',\n",
              "                                                   n_jobs=None, penalty='l2',\n",
              "                                                   random_state=None,\n",
              "                                                   solver='lbfgs', tol=0.0001,\n",
              "                                                   verbose=0,\n",
              "                                                   warm_start=False)),\n",
              "                               ('rf',\n",
              "                                RandomForestClassifier(bootstrap=True,\n",
              "                                                       ccp_alpha=0.0,\n",
              "                                                       class_weight...\n",
              "                                                          criterion='entropy',\n",
              "                                                          max_depth=6,\n",
              "                                                          max_features=0.476223,\n",
              "                                                          max_leaf_nodes=None,\n",
              "                                                          max_samples=None,\n",
              "                                                          min_impurity_decrease=0.0,\n",
              "                                                          min_impurity_split=None,\n",
              "                                                          min_samples_leaf=1,\n",
              "                                                          min_samples_split=2,\n",
              "                                                          min_weight_fraction_leaf=0.0,\n",
              "                                                          n_estimators=324,\n",
              "                                                          n_jobs=None,\n",
              "                                                          oob_score=False,\n",
              "                                                          random_state=None,\n",
              "                                                          verbose=0,\n",
              "                                                          warm_start=False),\n",
              "                   n_jobs=None, passthrough=False, stack_method='auto',\n",
              "                   verbose=0)"
            ]
          },
          "metadata": {
            "tags": []
          },
          "execution_count": 27
        }
      ]
    },
    {
      "cell_type": "markdown",
      "metadata": {
        "id": "VlEb-AC6zIrc"
      },
      "source": [
        "###Using confusion matrix and k-fold cross validation"
      ]
    },
    {
      "cell_type": "markdown",
      "metadata": {
        "id": "zM6YSbsfzQ4R"
      },
      "source": [
        "Making a confusion matrix"
      ]
    },
    {
      "cell_type": "code",
      "metadata": {
        "colab": {
          "base_uri": "https://localhost:8080/"
        },
        "id": "jsL0h6JGzi7T",
        "outputId": "a64f8b76-5d07-4b9a-9b74-6e92492930ad"
      },
      "source": [
        "from sklearn.metrics import confusion_matrix\r\n",
        "confusion_matrix(y_test,stacked.predict(X_test))"
      ],
      "execution_count": null,
      "outputs": [
        {
          "output_type": "execute_result",
          "data": {
            "text/plain": [
              "array([[952,   8],\n",
              "       [ 57,   5]])"
            ]
          },
          "metadata": {
            "tags": []
          },
          "execution_count": 35
        }
      ]
    },
    {
      "cell_type": "markdown",
      "metadata": {
        "id": "ctEh15sO2lGK"
      },
      "source": [
        "K-fold cross validation"
      ]
    },
    {
      "cell_type": "code",
      "metadata": {
        "colab": {
          "base_uri": "https://localhost:8080/"
        },
        "id": "KXtrW-uL2nV8",
        "outputId": "b281e3b7-48bb-4d70-ea26-35863f28d50d"
      },
      "source": [
        "from sklearn.model_selection import cross_val_score\r\n",
        "scores=cross_val_score(stacked,X_train,y_train,cv=10)\r\n",
        "scores"
      ],
      "execution_count": null,
      "outputs": [
        {
          "output_type": "execute_result",
          "data": {
            "text/plain": [
              "array([0.83226633, 0.97695262, 0.98974359, 0.98205128, 0.97179487,\n",
              "       0.99230769, 0.98974359, 0.99230769, 0.99230769, 0.9974359 ])"
            ]
          },
          "metadata": {
            "tags": []
          },
          "execution_count": 36
        }
      ]
    },
    {
      "cell_type": "code",
      "metadata": {
        "colab": {
          "base_uri": "https://localhost:8080/"
        },
        "id": "-8BJR-s94URF",
        "outputId": "bf5627f8-501f-4688-e8fb-4b467f4e4a51"
      },
      "source": [
        "print(\"%0.2f accuracy with a standard deviation of %0.2f\" % (scores.mean(), scores.std()))"
      ],
      "execution_count": null,
      "outputs": [
        {
          "output_type": "stream",
          "text": [
            "0.97 accuracy with a standard deviation of 0.05\n"
          ],
          "name": "stdout"
        }
      ]
    },
    {
      "cell_type": "markdown",
      "metadata": {
        "id": "AsQSA46pzDLW"
      },
      "source": [
        "###Using AUC and ROC"
      ]
    },
    {
      "cell_type": "markdown",
      "metadata": {
        "id": "zopYN9yPzSQg"
      },
      "source": [
        "Defining the function to plot the ROC curve"
      ]
    },
    {
      "cell_type": "code",
      "metadata": {
        "id": "cYrzLUWZns9A"
      },
      "source": [
        "def plot_roc_curve(fpr, tpr):\n",
        "  # tpr=True Positive Rate\n",
        "  # fpr=False Positive Rate\n",
        "    plt.plot(fpr, tpr, color='orange', label='ROC')\n",
        "    plt.plot([0, 1], [0, 1], color='darkblue', linestyle='--') #diagonal line\n",
        "    plt.xlabel('False Positive Rate')\n",
        "    plt.ylabel('True Positive Rate')\n",
        "    plt.title('Receiver Operating Characteristic (ROC) Curve')\n",
        "    plt.legend()\n",
        "    plt.show()"
      ],
      "execution_count": null,
      "outputs": []
    },
    {
      "cell_type": "markdown",
      "metadata": {
        "id": "g1ZnqHyMpgNB"
      },
      "source": [
        "Predicting the probablities of the testing set"
      ]
    },
    {
      "cell_type": "code",
      "metadata": {
        "id": "oUzshK2WpLlO"
      },
      "source": [
        "probs=stacked.predict_proba(X_test)"
      ],
      "execution_count": null,
      "outputs": []
    },
    {
      "cell_type": "code",
      "metadata": {
        "id": "uOB-Txwloa3A"
      },
      "source": [
        "prob_positive=probs[:,1] # keeping the probablities of the positive class only"
      ],
      "execution_count": null,
      "outputs": []
    },
    {
      "cell_type": "markdown",
      "metadata": {
        "id": "NgpW5_0BMsBP"
      },
      "source": [
        "**Area under the curve (AUC)**"
      ]
    },
    {
      "cell_type": "code",
      "metadata": {
        "id": "3Utm53KqpEIh",
        "colab": {
          "base_uri": "https://localhost:8080/"
        },
        "outputId": "0c11a2c5-0e04-4eb7-dd82-8604180c67bd"
      },
      "source": [
        "auc=roc_auc_score(y_test,prob_positive)\n",
        "print(\"AUC:%.2f\"% auc)"
      ],
      "execution_count": null,
      "outputs": [
        {
          "output_type": "stream",
          "text": [
            "AUC:0.83\n"
          ],
          "name": "stdout"
        }
      ]
    },
    {
      "cell_type": "markdown",
      "metadata": {
        "id": "TgTqQ8UAMzg5"
      },
      "source": [
        "**ROC curve**"
      ]
    },
    {
      "cell_type": "code",
      "metadata": {
        "id": "d2-raSUjp3Hf"
      },
      "source": [
        "fpr, tpr, thresholds = roc_curve(y_test, prob_positive)"
      ],
      "execution_count": null,
      "outputs": []
    },
    {
      "cell_type": "code",
      "metadata": {
        "id": "5ynyOUYHp7gW",
        "colab": {
          "base_uri": "https://localhost:8080/",
          "height": 295
        },
        "outputId": "0e404b1e-9ed2-466e-b37f-96b313f83a20"
      },
      "source": [
        "plot_roc_curve(fpr, tpr)"
      ],
      "execution_count": null,
      "outputs": [
        {
          "output_type": "display_data",
          "data": {
            "image/png": "[encoded data removed]",
            "text/plain": [
              "<Figure size 432x288 with 1 Axes>"
            ]
          },
          "metadata": {
            "tags": [],
            "needs_background": "light"
          }
        }
      ]
    }
  ]
}