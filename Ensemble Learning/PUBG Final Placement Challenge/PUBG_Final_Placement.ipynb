{
  "nbformat": 4,
  "nbformat_minor": 0,
  "metadata": {
    "colab": {
      "name": "PUBG_Final_Placement.ipynb",
      "provenance": [],
      "collapsed_sections": [
        "cRM-vUrnqYAo",
        "wkyf_2Tv67QF"
      ],
      "machine_shape": "hm"
    },
    "kernelspec": {
      "name": "python3",
      "display_name": "Python 3"
    }
  },
  "cells": [
    {
      "cell_type": "code",
      "metadata": {
        "id": "vuADsFzHmhrb",
        "colab_type": "code",
        "colab": {}
      },
      "source": [
        "from google.colab import files\n",
        "files.upload()"
      ],
      "execution_count": null,
      "outputs": []
    },
    {
      "cell_type": "code",
      "metadata": {
        "id": "aS35Tn3AnM2M",
        "colab_type": "code",
        "colab": {}
      },
      "source": [
        "!pip install -q kaggle\n",
        "!mkdir -p ~/.kaggle\n",
        "!cp kaggle.json ~/.kaggle"
      ],
      "execution_count": 2,
      "outputs": []
    },
    {
      "cell_type": "code",
      "metadata": {
        "id": "9sSQ8dm9ngeV",
        "colab_type": "code",
        "colab": {
          "base_uri": "https://localhost:8080/",
          "height": 34
        },
        "outputId": "2879780a-4233-4706-c962-54a9223e6947"
      },
      "source": [
        "!ls ~/.kaggle\n",
        "!chmod 600 /root/.kaggle/kaggle.json"
      ],
      "execution_count": 3,
      "outputs": [
        {
          "output_type": "stream",
          "text": [
            "kaggle.json\n"
          ],
          "name": "stdout"
        }
      ]
    },
    {
      "cell_type": "code",
      "metadata": {
        "id": "u8Jo1paDsQan",
        "colab_type": "code",
        "colab": {
          "base_uri": "https://localhost:8080/",
          "height": 185
        },
        "outputId": "3ccd73e0-43ea-4d73-e689-4d87a9de11e7"
      },
      "source": [
        "!kaggle competitions download -c pubg-finish-placement-prediction"
      ],
      "execution_count": 4,
      "outputs": [
        {
          "output_type": "stream",
          "text": [
            "Warning: Looks like you're using an outdated API Version, please consider updating (server 1.5.6 / client 1.5.4)\n",
            "Downloading sample_submission_V2.csv.zip to /content\n",
            " 65% 11.0M/17.0M [00:00<00:00, 16.8MB/s]\n",
            "100% 17.0M/17.0M [00:00<00:00, 31.4MB/s]\n",
            "Downloading train_V2.csv.zip to /content\n",
            " 96% 233M/244M [00:05<00:00, 35.9MB/s]\n",
            "100% 244M/244M [00:05<00:00, 44.6MB/s]\n",
            "Downloading test_V2.csv.zip to /content\n",
            " 89% 89.0M/100M [00:01<00:00, 35.8MB/s]\n",
            "100% 100M/100M [00:01<00:00, 56.1MB/s] \n"
          ],
          "name": "stdout"
        }
      ]
    },
    {
      "cell_type": "code",
      "metadata": {
        "id": "Nt6WlzX_Dbxd",
        "colab_type": "code",
        "colab": {
          "base_uri": "https://localhost:8080/",
          "height": 84
        },
        "outputId": "e7ef7693-6a6a-4591-804b-688789d8e253"
      },
      "source": [
        "!unzip train_V2.csv.zip\n",
        "!unzip test_V2.csv.zip"
      ],
      "execution_count": 5,
      "outputs": [
        {
          "output_type": "stream",
          "text": [
            "Archive:  train_V2.csv.zip\n",
            "  inflating: train_V2.csv            \n",
            "Archive:  test_V2.csv.zip\n",
            "  inflating: test_V2.csv             \n"
          ],
          "name": "stdout"
        }
      ]
    },
    {
      "cell_type": "code",
      "metadata": {
        "id": "NsWtcKHppz4U",
        "colab_type": "code",
        "colab": {
          "base_uri": "https://localhost:8080/",
          "height": 50
        },
        "outputId": "bc8332b3-1ee8-4095-bcd4-033296eb2c2a"
      },
      "source": [
        "!ls"
      ],
      "execution_count": 6,
      "outputs": [
        {
          "output_type": "stream",
          "text": [
            "kaggle.json  sample_submission_V2.csv.zip  test_V2.csv.zip  train_V2.csv.zip\n",
            "sample_data  test_V2.csv\t\t   train_V2.csv\n"
          ],
          "name": "stdout"
        }
      ]
    },
    {
      "cell_type": "markdown",
      "metadata": {
        "id": "x9I9EX_pD3Vy",
        "colab_type": "text"
      },
      "source": [
        "#Importing the dataset"
      ]
    },
    {
      "cell_type": "markdown",
      "metadata": {
        "id": "FydEFl92D9j3",
        "colab_type": "text"
      },
      "source": [
        "Import the libraries"
      ]
    },
    {
      "cell_type": "code",
      "metadata": {
        "id": "ibsrnGGJDwEd",
        "colab_type": "code",
        "colab": {}
      },
      "source": [
        "import numpy as np\n",
        "import pandas as pd\n",
        "import seaborn as sns"
      ],
      "execution_count": 70,
      "outputs": []
    },
    {
      "cell_type": "code",
      "metadata": {
        "id": "-Tu_TkFdEJhJ",
        "colab_type": "code",
        "colab": {
          "base_uri": "https://localhost:8080/",
          "height": 422
        },
        "outputId": "5f55e713-847a-4857-d7c9-aa5a126c0d0d"
      },
      "source": [
        "train=pd.read_csv(\"train_V2.csv\")\n",
        "train"
      ],
      "execution_count": 71,
      "outputs": [
        {
          "output_type": "execute_result",
          "data": {
            "text/html": [
              "<div>\n",
              "<style scoped>\n",
              "    .dataframe tbody tr th:only-of-type {\n",
              "        vertical-align: middle;\n",
              "    }\n",
              "\n",
              "    .dataframe tbody tr th {\n",
              "        vertical-align: top;\n",
              "    }\n",
              "\n",
              "    .dataframe thead th {\n",
              "        text-align: right;\n",
              "    }\n",
              "</style>\n",
              "<table border=\"1\" class=\"dataframe\">\n",
              "  <thead>\n",
              "    <tr style=\"text-align: right;\">\n",
              "      <th></th>\n",
              "      <th>Id</th>\n",
              "      <th>groupId</th>\n",
              "      <th>matchId</th>\n",
              "      <th>assists</th>\n",
              "      <th>boosts</th>\n",
              "      <th>damageDealt</th>\n",
              "      <th>DBNOs</th>\n",
              "      <th>headshotKills</th>\n",
              "      <th>heals</th>\n",
              "      <th>killPlace</th>\n",
              "      <th>killPoints</th>\n",
              "      <th>kills</th>\n",
              "      <th>killStreaks</th>\n",
              "      <th>longestKill</th>\n",
              "      <th>matchDuration</th>\n",
              "      <th>matchType</th>\n",
              "      <th>maxPlace</th>\n",
              "      <th>numGroups</th>\n",
              "      <th>rankPoints</th>\n",
              "      <th>revives</th>\n",
              "      <th>rideDistance</th>\n",
              "      <th>roadKills</th>\n",
              "      <th>swimDistance</th>\n",
              "      <th>teamKills</th>\n",
              "      <th>vehicleDestroys</th>\n",
              "      <th>walkDistance</th>\n",
              "      <th>weaponsAcquired</th>\n",
              "      <th>winPoints</th>\n",
              "      <th>winPlacePerc</th>\n",
              "    </tr>\n",
              "  </thead>\n",
              "  <tbody>\n",
              "    <tr>\n",
              "      <th>0</th>\n",
              "      <td>7f96b2f878858a</td>\n",
              "      <td>4d4b580de459be</td>\n",
              "      <td>a10357fd1a4a91</td>\n",
              "      <td>0</td>\n",
              "      <td>0</td>\n",
              "      <td>0.00</td>\n",
              "      <td>0</td>\n",
              "      <td>0</td>\n",
              "      <td>0</td>\n",
              "      <td>60</td>\n",
              "      <td>1241</td>\n",
              "      <td>0</td>\n",
              "      <td>0</td>\n",
              "      <td>0.00</td>\n",
              "      <td>1306</td>\n",
              "      <td>squad-fpp</td>\n",
              "      <td>28</td>\n",
              "      <td>26</td>\n",
              "      <td>-1</td>\n",
              "      <td>0</td>\n",
              "      <td>0.0000</td>\n",
              "      <td>0</td>\n",
              "      <td>0.000</td>\n",
              "      <td>0</td>\n",
              "      <td>0</td>\n",
              "      <td>244.80</td>\n",
              "      <td>1</td>\n",
              "      <td>1466</td>\n",
              "      <td>0.4444</td>\n",
              "    </tr>\n",
              "    <tr>\n",
              "      <th>1</th>\n",
              "      <td>eef90569b9d03c</td>\n",
              "      <td>684d5656442f9e</td>\n",
              "      <td>aeb375fc57110c</td>\n",
              "      <td>0</td>\n",
              "      <td>0</td>\n",
              "      <td>91.47</td>\n",
              "      <td>0</td>\n",
              "      <td>0</td>\n",
              "      <td>0</td>\n",
              "      <td>57</td>\n",
              "      <td>0</td>\n",
              "      <td>0</td>\n",
              "      <td>0</td>\n",
              "      <td>0.00</td>\n",
              "      <td>1777</td>\n",
              "      <td>squad-fpp</td>\n",
              "      <td>26</td>\n",
              "      <td>25</td>\n",
              "      <td>1484</td>\n",
              "      <td>0</td>\n",
              "      <td>0.0045</td>\n",
              "      <td>0</td>\n",
              "      <td>11.040</td>\n",
              "      <td>0</td>\n",
              "      <td>0</td>\n",
              "      <td>1434.00</td>\n",
              "      <td>5</td>\n",
              "      <td>0</td>\n",
              "      <td>0.6400</td>\n",
              "    </tr>\n",
              "    <tr>\n",
              "      <th>2</th>\n",
              "      <td>1eaf90ac73de72</td>\n",
              "      <td>6a4a42c3245a74</td>\n",
              "      <td>110163d8bb94ae</td>\n",
              "      <td>1</td>\n",
              "      <td>0</td>\n",
              "      <td>68.00</td>\n",
              "      <td>0</td>\n",
              "      <td>0</td>\n",
              "      <td>0</td>\n",
              "      <td>47</td>\n",
              "      <td>0</td>\n",
              "      <td>0</td>\n",
              "      <td>0</td>\n",
              "      <td>0.00</td>\n",
              "      <td>1318</td>\n",
              "      <td>duo</td>\n",
              "      <td>50</td>\n",
              "      <td>47</td>\n",
              "      <td>1491</td>\n",
              "      <td>0</td>\n",
              "      <td>0.0000</td>\n",
              "      <td>0</td>\n",
              "      <td>0.000</td>\n",
              "      <td>0</td>\n",
              "      <td>0</td>\n",
              "      <td>161.80</td>\n",
              "      <td>2</td>\n",
              "      <td>0</td>\n",
              "      <td>0.7755</td>\n",
              "    </tr>\n",
              "    <tr>\n",
              "      <th>3</th>\n",
              "      <td>4616d365dd2853</td>\n",
              "      <td>a930a9c79cd721</td>\n",
              "      <td>f1f1f4ef412d7e</td>\n",
              "      <td>0</td>\n",
              "      <td>0</td>\n",
              "      <td>32.90</td>\n",
              "      <td>0</td>\n",
              "      <td>0</td>\n",
              "      <td>0</td>\n",
              "      <td>75</td>\n",
              "      <td>0</td>\n",
              "      <td>0</td>\n",
              "      <td>0</td>\n",
              "      <td>0.00</td>\n",
              "      <td>1436</td>\n",
              "      <td>squad-fpp</td>\n",
              "      <td>31</td>\n",
              "      <td>30</td>\n",
              "      <td>1408</td>\n",
              "      <td>0</td>\n",
              "      <td>0.0000</td>\n",
              "      <td>0</td>\n",
              "      <td>0.000</td>\n",
              "      <td>0</td>\n",
              "      <td>0</td>\n",
              "      <td>202.70</td>\n",
              "      <td>3</td>\n",
              "      <td>0</td>\n",
              "      <td>0.1667</td>\n",
              "    </tr>\n",
              "    <tr>\n",
              "      <th>4</th>\n",
              "      <td>315c96c26c9aac</td>\n",
              "      <td>de04010b3458dd</td>\n",
              "      <td>6dc8ff871e21e6</td>\n",
              "      <td>0</td>\n",
              "      <td>0</td>\n",
              "      <td>100.00</td>\n",
              "      <td>0</td>\n",
              "      <td>0</td>\n",
              "      <td>0</td>\n",
              "      <td>45</td>\n",
              "      <td>0</td>\n",
              "      <td>1</td>\n",
              "      <td>1</td>\n",
              "      <td>58.53</td>\n",
              "      <td>1424</td>\n",
              "      <td>solo-fpp</td>\n",
              "      <td>97</td>\n",
              "      <td>95</td>\n",
              "      <td>1560</td>\n",
              "      <td>0</td>\n",
              "      <td>0.0000</td>\n",
              "      <td>0</td>\n",
              "      <td>0.000</td>\n",
              "      <td>0</td>\n",
              "      <td>0</td>\n",
              "      <td>49.75</td>\n",
              "      <td>2</td>\n",
              "      <td>0</td>\n",
              "      <td>0.1875</td>\n",
              "    </tr>\n",
              "    <tr>\n",
              "      <th>...</th>\n",
              "      <td>...</td>\n",
              "      <td>...</td>\n",
              "      <td>...</td>\n",
              "      <td>...</td>\n",
              "      <td>...</td>\n",
              "      <td>...</td>\n",
              "      <td>...</td>\n",
              "      <td>...</td>\n",
              "      <td>...</td>\n",
              "      <td>...</td>\n",
              "      <td>...</td>\n",
              "      <td>...</td>\n",
              "      <td>...</td>\n",
              "      <td>...</td>\n",
              "      <td>...</td>\n",
              "      <td>...</td>\n",
              "      <td>...</td>\n",
              "      <td>...</td>\n",
              "      <td>...</td>\n",
              "      <td>...</td>\n",
              "      <td>...</td>\n",
              "      <td>...</td>\n",
              "      <td>...</td>\n",
              "      <td>...</td>\n",
              "      <td>...</td>\n",
              "      <td>...</td>\n",
              "      <td>...</td>\n",
              "      <td>...</td>\n",
              "      <td>...</td>\n",
              "    </tr>\n",
              "    <tr>\n",
              "      <th>4446961</th>\n",
              "      <td>afff7f652dbc10</td>\n",
              "      <td>d238e426f50de7</td>\n",
              "      <td>18492834ce5635</td>\n",
              "      <td>0</td>\n",
              "      <td>0</td>\n",
              "      <td>0.00</td>\n",
              "      <td>0</td>\n",
              "      <td>0</td>\n",
              "      <td>0</td>\n",
              "      <td>74</td>\n",
              "      <td>1029</td>\n",
              "      <td>0</td>\n",
              "      <td>0</td>\n",
              "      <td>0.00</td>\n",
              "      <td>1873</td>\n",
              "      <td>squad-fpp</td>\n",
              "      <td>29</td>\n",
              "      <td>28</td>\n",
              "      <td>-1</td>\n",
              "      <td>0</td>\n",
              "      <td>1292.0000</td>\n",
              "      <td>0</td>\n",
              "      <td>0.000</td>\n",
              "      <td>0</td>\n",
              "      <td>0</td>\n",
              "      <td>1019.00</td>\n",
              "      <td>3</td>\n",
              "      <td>1507</td>\n",
              "      <td>0.1786</td>\n",
              "    </tr>\n",
              "    <tr>\n",
              "      <th>4446962</th>\n",
              "      <td>f4197cf374e6c0</td>\n",
              "      <td>408cdb5c46b2ac</td>\n",
              "      <td>ee854b837376d9</td>\n",
              "      <td>0</td>\n",
              "      <td>1</td>\n",
              "      <td>44.15</td>\n",
              "      <td>0</td>\n",
              "      <td>0</td>\n",
              "      <td>0</td>\n",
              "      <td>69</td>\n",
              "      <td>0</td>\n",
              "      <td>0</td>\n",
              "      <td>0</td>\n",
              "      <td>0.00</td>\n",
              "      <td>1435</td>\n",
              "      <td>solo</td>\n",
              "      <td>93</td>\n",
              "      <td>93</td>\n",
              "      <td>1501</td>\n",
              "      <td>0</td>\n",
              "      <td>0.0000</td>\n",
              "      <td>0</td>\n",
              "      <td>0.000</td>\n",
              "      <td>0</td>\n",
              "      <td>0</td>\n",
              "      <td>81.70</td>\n",
              "      <td>6</td>\n",
              "      <td>0</td>\n",
              "      <td>0.2935</td>\n",
              "    </tr>\n",
              "    <tr>\n",
              "      <th>4446963</th>\n",
              "      <td>e1948b1295c88a</td>\n",
              "      <td>e26ac84bdf7cef</td>\n",
              "      <td>6d0cd12784f1ab</td>\n",
              "      <td>0</td>\n",
              "      <td>0</td>\n",
              "      <td>59.06</td>\n",
              "      <td>0</td>\n",
              "      <td>0</td>\n",
              "      <td>0</td>\n",
              "      <td>66</td>\n",
              "      <td>0</td>\n",
              "      <td>0</td>\n",
              "      <td>0</td>\n",
              "      <td>0.00</td>\n",
              "      <td>1321</td>\n",
              "      <td>squad-fpp</td>\n",
              "      <td>28</td>\n",
              "      <td>28</td>\n",
              "      <td>1500</td>\n",
              "      <td>0</td>\n",
              "      <td>0.0000</td>\n",
              "      <td>0</td>\n",
              "      <td>2.184</td>\n",
              "      <td>0</td>\n",
              "      <td>0</td>\n",
              "      <td>788.70</td>\n",
              "      <td>4</td>\n",
              "      <td>0</td>\n",
              "      <td>0.4815</td>\n",
              "    </tr>\n",
              "    <tr>\n",
              "      <th>4446964</th>\n",
              "      <td>cc032cdd73b7ac</td>\n",
              "      <td>c2223f35411394</td>\n",
              "      <td>c9c701d0ad758a</td>\n",
              "      <td>0</td>\n",
              "      <td>4</td>\n",
              "      <td>180.40</td>\n",
              "      <td>1</td>\n",
              "      <td>1</td>\n",
              "      <td>2</td>\n",
              "      <td>11</td>\n",
              "      <td>0</td>\n",
              "      <td>2</td>\n",
              "      <td>1</td>\n",
              "      <td>98.50</td>\n",
              "      <td>1373</td>\n",
              "      <td>squad-fpp</td>\n",
              "      <td>26</td>\n",
              "      <td>25</td>\n",
              "      <td>1418</td>\n",
              "      <td>2</td>\n",
              "      <td>0.0000</td>\n",
              "      <td>0</td>\n",
              "      <td>0.000</td>\n",
              "      <td>0</td>\n",
              "      <td>0</td>\n",
              "      <td>2748.00</td>\n",
              "      <td>8</td>\n",
              "      <td>0</td>\n",
              "      <td>0.8000</td>\n",
              "    </tr>\n",
              "    <tr>\n",
              "      <th>4446965</th>\n",
              "      <td>0d8e7ed728b6fd</td>\n",
              "      <td>8c74f72fedf5ff</td>\n",
              "      <td>62a16aabcc095c</td>\n",
              "      <td>0</td>\n",
              "      <td>2</td>\n",
              "      <td>268.00</td>\n",
              "      <td>0</td>\n",
              "      <td>0</td>\n",
              "      <td>1</td>\n",
              "      <td>18</td>\n",
              "      <td>0</td>\n",
              "      <td>2</td>\n",
              "      <td>1</td>\n",
              "      <td>78.25</td>\n",
              "      <td>1766</td>\n",
              "      <td>solo-fpp</td>\n",
              "      <td>98</td>\n",
              "      <td>94</td>\n",
              "      <td>1590</td>\n",
              "      <td>0</td>\n",
              "      <td>1369.0000</td>\n",
              "      <td>0</td>\n",
              "      <td>0.000</td>\n",
              "      <td>0</td>\n",
              "      <td>0</td>\n",
              "      <td>1244.00</td>\n",
              "      <td>5</td>\n",
              "      <td>0</td>\n",
              "      <td>0.5464</td>\n",
              "    </tr>\n",
              "  </tbody>\n",
              "</table>\n",
              "<p>4446966 rows × 29 columns</p>\n",
              "</div>"
            ],
            "text/plain": [
              "                     Id         groupId  ... winPoints  winPlacePerc\n",
              "0        7f96b2f878858a  4d4b580de459be  ...      1466        0.4444\n",
              "1        eef90569b9d03c  684d5656442f9e  ...         0        0.6400\n",
              "2        1eaf90ac73de72  6a4a42c3245a74  ...         0        0.7755\n",
              "3        4616d365dd2853  a930a9c79cd721  ...         0        0.1667\n",
              "4        315c96c26c9aac  de04010b3458dd  ...         0        0.1875\n",
              "...                 ...             ...  ...       ...           ...\n",
              "4446961  afff7f652dbc10  d238e426f50de7  ...      1507        0.1786\n",
              "4446962  f4197cf374e6c0  408cdb5c46b2ac  ...         0        0.2935\n",
              "4446963  e1948b1295c88a  e26ac84bdf7cef  ...         0        0.4815\n",
              "4446964  cc032cdd73b7ac  c2223f35411394  ...         0        0.8000\n",
              "4446965  0d8e7ed728b6fd  8c74f72fedf5ff  ...         0        0.5464\n",
              "\n",
              "[4446966 rows x 29 columns]"
            ]
          },
          "metadata": {
            "tags": []
          },
          "execution_count": 71
        }
      ]
    },
    {
      "cell_type": "code",
      "metadata": {
        "id": "srILb6NnESD3",
        "colab_type": "code",
        "colab": {
          "base_uri": "https://localhost:8080/",
          "height": 422
        },
        "outputId": "e0244503-d621-4a44-9815-0f34feb155d3"
      },
      "source": [
        "test=pd.read_csv(\"test_V2.csv\")\n",
        "test"
      ],
      "execution_count": 72,
      "outputs": [
        {
          "output_type": "execute_result",
          "data": {
            "text/html": [
              "<div>\n",
              "<style scoped>\n",
              "    .dataframe tbody tr th:only-of-type {\n",
              "        vertical-align: middle;\n",
              "    }\n",
              "\n",
              "    .dataframe tbody tr th {\n",
              "        vertical-align: top;\n",
              "    }\n",
              "\n",
              "    .dataframe thead th {\n",
              "        text-align: right;\n",
              "    }\n",
              "</style>\n",
              "<table border=\"1\" class=\"dataframe\">\n",
              "  <thead>\n",
              "    <tr style=\"text-align: right;\">\n",
              "      <th></th>\n",
              "      <th>Id</th>\n",
              "      <th>groupId</th>\n",
              "      <th>matchId</th>\n",
              "      <th>assists</th>\n",
              "      <th>boosts</th>\n",
              "      <th>damageDealt</th>\n",
              "      <th>DBNOs</th>\n",
              "      <th>headshotKills</th>\n",
              "      <th>heals</th>\n",
              "      <th>killPlace</th>\n",
              "      <th>killPoints</th>\n",
              "      <th>kills</th>\n",
              "      <th>killStreaks</th>\n",
              "      <th>longestKill</th>\n",
              "      <th>matchDuration</th>\n",
              "      <th>matchType</th>\n",
              "      <th>maxPlace</th>\n",
              "      <th>numGroups</th>\n",
              "      <th>rankPoints</th>\n",
              "      <th>revives</th>\n",
              "      <th>rideDistance</th>\n",
              "      <th>roadKills</th>\n",
              "      <th>swimDistance</th>\n",
              "      <th>teamKills</th>\n",
              "      <th>vehicleDestroys</th>\n",
              "      <th>walkDistance</th>\n",
              "      <th>weaponsAcquired</th>\n",
              "      <th>winPoints</th>\n",
              "    </tr>\n",
              "  </thead>\n",
              "  <tbody>\n",
              "    <tr>\n",
              "      <th>0</th>\n",
              "      <td>9329eb41e215eb</td>\n",
              "      <td>676b23c24e70d6</td>\n",
              "      <td>45b576ab7daa7f</td>\n",
              "      <td>0</td>\n",
              "      <td>0</td>\n",
              "      <td>51.46</td>\n",
              "      <td>0</td>\n",
              "      <td>0</td>\n",
              "      <td>0</td>\n",
              "      <td>73</td>\n",
              "      <td>0</td>\n",
              "      <td>0</td>\n",
              "      <td>0</td>\n",
              "      <td>0.00</td>\n",
              "      <td>1884</td>\n",
              "      <td>squad-fpp</td>\n",
              "      <td>28</td>\n",
              "      <td>28</td>\n",
              "      <td>1500</td>\n",
              "      <td>0</td>\n",
              "      <td>0.0</td>\n",
              "      <td>0</td>\n",
              "      <td>0.000</td>\n",
              "      <td>0</td>\n",
              "      <td>0</td>\n",
              "      <td>588.00</td>\n",
              "      <td>1</td>\n",
              "      <td>0</td>\n",
              "    </tr>\n",
              "    <tr>\n",
              "      <th>1</th>\n",
              "      <td>639bd0dcd7bda8</td>\n",
              "      <td>430933124148dd</td>\n",
              "      <td>42a9a0b906c928</td>\n",
              "      <td>0</td>\n",
              "      <td>4</td>\n",
              "      <td>179.10</td>\n",
              "      <td>0</td>\n",
              "      <td>0</td>\n",
              "      <td>2</td>\n",
              "      <td>11</td>\n",
              "      <td>0</td>\n",
              "      <td>2</td>\n",
              "      <td>1</td>\n",
              "      <td>361.90</td>\n",
              "      <td>1811</td>\n",
              "      <td>duo-fpp</td>\n",
              "      <td>48</td>\n",
              "      <td>47</td>\n",
              "      <td>1503</td>\n",
              "      <td>2</td>\n",
              "      <td>4669.0</td>\n",
              "      <td>0</td>\n",
              "      <td>0.000</td>\n",
              "      <td>0</td>\n",
              "      <td>0</td>\n",
              "      <td>2017.00</td>\n",
              "      <td>6</td>\n",
              "      <td>0</td>\n",
              "    </tr>\n",
              "    <tr>\n",
              "      <th>2</th>\n",
              "      <td>63d5c8ef8dfe91</td>\n",
              "      <td>0b45f5db20ba99</td>\n",
              "      <td>87e7e4477a048e</td>\n",
              "      <td>1</td>\n",
              "      <td>0</td>\n",
              "      <td>23.40</td>\n",
              "      <td>0</td>\n",
              "      <td>0</td>\n",
              "      <td>4</td>\n",
              "      <td>49</td>\n",
              "      <td>0</td>\n",
              "      <td>0</td>\n",
              "      <td>0</td>\n",
              "      <td>0.00</td>\n",
              "      <td>1793</td>\n",
              "      <td>squad-fpp</td>\n",
              "      <td>28</td>\n",
              "      <td>27</td>\n",
              "      <td>1565</td>\n",
              "      <td>0</td>\n",
              "      <td>0.0</td>\n",
              "      <td>0</td>\n",
              "      <td>0.000</td>\n",
              "      <td>0</td>\n",
              "      <td>0</td>\n",
              "      <td>787.80</td>\n",
              "      <td>4</td>\n",
              "      <td>0</td>\n",
              "    </tr>\n",
              "    <tr>\n",
              "      <th>3</th>\n",
              "      <td>cf5b81422591d1</td>\n",
              "      <td>b7497dbdc77f4a</td>\n",
              "      <td>1b9a94f1af67f1</td>\n",
              "      <td>0</td>\n",
              "      <td>0</td>\n",
              "      <td>65.52</td>\n",
              "      <td>0</td>\n",
              "      <td>0</td>\n",
              "      <td>0</td>\n",
              "      <td>54</td>\n",
              "      <td>0</td>\n",
              "      <td>0</td>\n",
              "      <td>0</td>\n",
              "      <td>0.00</td>\n",
              "      <td>1834</td>\n",
              "      <td>duo-fpp</td>\n",
              "      <td>45</td>\n",
              "      <td>44</td>\n",
              "      <td>1465</td>\n",
              "      <td>0</td>\n",
              "      <td>0.0</td>\n",
              "      <td>0</td>\n",
              "      <td>0.000</td>\n",
              "      <td>0</td>\n",
              "      <td>0</td>\n",
              "      <td>1812.00</td>\n",
              "      <td>3</td>\n",
              "      <td>0</td>\n",
              "    </tr>\n",
              "    <tr>\n",
              "      <th>4</th>\n",
              "      <td>ee6a295187ba21</td>\n",
              "      <td>6604ce20a1d230</td>\n",
              "      <td>40754a93016066</td>\n",
              "      <td>0</td>\n",
              "      <td>4</td>\n",
              "      <td>330.20</td>\n",
              "      <td>1</td>\n",
              "      <td>2</td>\n",
              "      <td>1</td>\n",
              "      <td>7</td>\n",
              "      <td>0</td>\n",
              "      <td>3</td>\n",
              "      <td>1</td>\n",
              "      <td>60.06</td>\n",
              "      <td>1326</td>\n",
              "      <td>squad-fpp</td>\n",
              "      <td>28</td>\n",
              "      <td>27</td>\n",
              "      <td>1480</td>\n",
              "      <td>1</td>\n",
              "      <td>0.0</td>\n",
              "      <td>0</td>\n",
              "      <td>0.000</td>\n",
              "      <td>0</td>\n",
              "      <td>0</td>\n",
              "      <td>2963.00</td>\n",
              "      <td>4</td>\n",
              "      <td>0</td>\n",
              "    </tr>\n",
              "    <tr>\n",
              "      <th>...</th>\n",
              "      <td>...</td>\n",
              "      <td>...</td>\n",
              "      <td>...</td>\n",
              "      <td>...</td>\n",
              "      <td>...</td>\n",
              "      <td>...</td>\n",
              "      <td>...</td>\n",
              "      <td>...</td>\n",
              "      <td>...</td>\n",
              "      <td>...</td>\n",
              "      <td>...</td>\n",
              "      <td>...</td>\n",
              "      <td>...</td>\n",
              "      <td>...</td>\n",
              "      <td>...</td>\n",
              "      <td>...</td>\n",
              "      <td>...</td>\n",
              "      <td>...</td>\n",
              "      <td>...</td>\n",
              "      <td>...</td>\n",
              "      <td>...</td>\n",
              "      <td>...</td>\n",
              "      <td>...</td>\n",
              "      <td>...</td>\n",
              "      <td>...</td>\n",
              "      <td>...</td>\n",
              "      <td>...</td>\n",
              "      <td>...</td>\n",
              "    </tr>\n",
              "    <tr>\n",
              "      <th>1934169</th>\n",
              "      <td>a316c3a13887d5</td>\n",
              "      <td>80e82180c90951</td>\n",
              "      <td>f276da5fd73536</td>\n",
              "      <td>1</td>\n",
              "      <td>2</td>\n",
              "      <td>381.00</td>\n",
              "      <td>3</td>\n",
              "      <td>0</td>\n",
              "      <td>7</td>\n",
              "      <td>4</td>\n",
              "      <td>1294</td>\n",
              "      <td>4</td>\n",
              "      <td>2</td>\n",
              "      <td>69.27</td>\n",
              "      <td>1292</td>\n",
              "      <td>squad-fpp</td>\n",
              "      <td>22</td>\n",
              "      <td>20</td>\n",
              "      <td>-1</td>\n",
              "      <td>1</td>\n",
              "      <td>0.0</td>\n",
              "      <td>0</td>\n",
              "      <td>0.000</td>\n",
              "      <td>0</td>\n",
              "      <td>0</td>\n",
              "      <td>1799.00</td>\n",
              "      <td>5</td>\n",
              "      <td>1526</td>\n",
              "    </tr>\n",
              "    <tr>\n",
              "      <th>1934170</th>\n",
              "      <td>5312146b27d875</td>\n",
              "      <td>147264a127c56e</td>\n",
              "      <td>fb77cbfe094a6b</td>\n",
              "      <td>0</td>\n",
              "      <td>0</td>\n",
              "      <td>0.00</td>\n",
              "      <td>0</td>\n",
              "      <td>0</td>\n",
              "      <td>0</td>\n",
              "      <td>64</td>\n",
              "      <td>1449</td>\n",
              "      <td>0</td>\n",
              "      <td>0</td>\n",
              "      <td>0.00</td>\n",
              "      <td>1301</td>\n",
              "      <td>squad-fpp</td>\n",
              "      <td>27</td>\n",
              "      <td>26</td>\n",
              "      <td>-1</td>\n",
              "      <td>0</td>\n",
              "      <td>0.0</td>\n",
              "      <td>0</td>\n",
              "      <td>0.000</td>\n",
              "      <td>0</td>\n",
              "      <td>0</td>\n",
              "      <td>1195.00</td>\n",
              "      <td>3</td>\n",
              "      <td>1496</td>\n",
              "    </tr>\n",
              "    <tr>\n",
              "      <th>1934171</th>\n",
              "      <td>fc8818b5b32ad3</td>\n",
              "      <td>7bbb4779ebedd5</td>\n",
              "      <td>efb74d5f6e9779</td>\n",
              "      <td>0</td>\n",
              "      <td>0</td>\n",
              "      <td>91.96</td>\n",
              "      <td>0</td>\n",
              "      <td>0</td>\n",
              "      <td>3</td>\n",
              "      <td>24</td>\n",
              "      <td>0</td>\n",
              "      <td>1</td>\n",
              "      <td>1</td>\n",
              "      <td>25.38</td>\n",
              "      <td>1314</td>\n",
              "      <td>squad-fpp</td>\n",
              "      <td>29</td>\n",
              "      <td>29</td>\n",
              "      <td>1482</td>\n",
              "      <td>0</td>\n",
              "      <td>0.0</td>\n",
              "      <td>0</td>\n",
              "      <td>7.798</td>\n",
              "      <td>1</td>\n",
              "      <td>0</td>\n",
              "      <td>3327.00</td>\n",
              "      <td>3</td>\n",
              "      <td>0</td>\n",
              "    </tr>\n",
              "    <tr>\n",
              "      <th>1934172</th>\n",
              "      <td>a0f91e35f8458f</td>\n",
              "      <td>149a506a64c2b1</td>\n",
              "      <td>3a2cf335bc302f</td>\n",
              "      <td>1</td>\n",
              "      <td>2</td>\n",
              "      <td>138.60</td>\n",
              "      <td>0</td>\n",
              "      <td>0</td>\n",
              "      <td>12</td>\n",
              "      <td>25</td>\n",
              "      <td>0</td>\n",
              "      <td>1</td>\n",
              "      <td>1</td>\n",
              "      <td>67.89</td>\n",
              "      <td>1333</td>\n",
              "      <td>duo-fpp</td>\n",
              "      <td>49</td>\n",
              "      <td>48</td>\n",
              "      <td>1456</td>\n",
              "      <td>1</td>\n",
              "      <td>0.0</td>\n",
              "      <td>0</td>\n",
              "      <td>0.000</td>\n",
              "      <td>0</td>\n",
              "      <td>0</td>\n",
              "      <td>1893.00</td>\n",
              "      <td>4</td>\n",
              "      <td>0</td>\n",
              "    </tr>\n",
              "    <tr>\n",
              "      <th>1934173</th>\n",
              "      <td>3696fc9f3a42b2</td>\n",
              "      <td>c770d7feaf020f</td>\n",
              "      <td>9d4e2b6d506fd0</td>\n",
              "      <td>0</td>\n",
              "      <td>0</td>\n",
              "      <td>19.80</td>\n",
              "      <td>0</td>\n",
              "      <td>0</td>\n",
              "      <td>0</td>\n",
              "      <td>86</td>\n",
              "      <td>1380</td>\n",
              "      <td>0</td>\n",
              "      <td>0</td>\n",
              "      <td>0.00</td>\n",
              "      <td>1863</td>\n",
              "      <td>squad-fpp</td>\n",
              "      <td>28</td>\n",
              "      <td>27</td>\n",
              "      <td>-1</td>\n",
              "      <td>0</td>\n",
              "      <td>0.0</td>\n",
              "      <td>0</td>\n",
              "      <td>0.000</td>\n",
              "      <td>0</td>\n",
              "      <td>0</td>\n",
              "      <td>68.89</td>\n",
              "      <td>0</td>\n",
              "      <td>1551</td>\n",
              "    </tr>\n",
              "  </tbody>\n",
              "</table>\n",
              "<p>1934174 rows × 28 columns</p>\n",
              "</div>"
            ],
            "text/plain": [
              "                     Id         groupId  ... weaponsAcquired  winPoints\n",
              "0        9329eb41e215eb  676b23c24e70d6  ...               1          0\n",
              "1        639bd0dcd7bda8  430933124148dd  ...               6          0\n",
              "2        63d5c8ef8dfe91  0b45f5db20ba99  ...               4          0\n",
              "3        cf5b81422591d1  b7497dbdc77f4a  ...               3          0\n",
              "4        ee6a295187ba21  6604ce20a1d230  ...               4          0\n",
              "...                 ...             ...  ...             ...        ...\n",
              "1934169  a316c3a13887d5  80e82180c90951  ...               5       1526\n",
              "1934170  5312146b27d875  147264a127c56e  ...               3       1496\n",
              "1934171  fc8818b5b32ad3  7bbb4779ebedd5  ...               3          0\n",
              "1934172  a0f91e35f8458f  149a506a64c2b1  ...               4          0\n",
              "1934173  3696fc9f3a42b2  c770d7feaf020f  ...               0       1551\n",
              "\n",
              "[1934174 rows x 28 columns]"
            ]
          },
          "metadata": {
            "tags": []
          },
          "execution_count": 72
        }
      ]
    },
    {
      "cell_type": "code",
      "metadata": {
        "id": "pW_y84Ag9uab",
        "colab_type": "code",
        "colab": {}
      },
      "source": [
        "train=train.sample(n=100000)"
      ],
      "execution_count": 73,
      "outputs": []
    },
    {
      "cell_type": "markdown",
      "metadata": {
        "id": "hUCtV_oSVzro",
        "colab_type": "text"
      },
      "source": [
        "Deleting missing data"
      ]
    },
    {
      "cell_type": "code",
      "metadata": {
        "id": "-ZkJ3Hz1WWYM",
        "colab_type": "code",
        "colab": {
          "base_uri": "https://localhost:8080/",
          "height": 34
        },
        "outputId": "d2073f9f-55ca-4283-8f45-371221eff172"
      },
      "source": [
        "delete=train[train[\"winPlacePerc\"].isnull()].index\n",
        "delete"
      ],
      "execution_count": 74,
      "outputs": [
        {
          "output_type": "execute_result",
          "data": {
            "text/plain": [
              "Int64Index([], dtype='int64')"
            ]
          },
          "metadata": {
            "tags": []
          },
          "execution_count": 74
        }
      ]
    },
    {
      "cell_type": "code",
      "metadata": {
        "id": "9T1aa9S3XzWd",
        "colab_type": "code",
        "colab": {}
      },
      "source": [
        "train.drop(delete,inplace=True)"
      ],
      "execution_count": 75,
      "outputs": []
    },
    {
      "cell_type": "markdown",
      "metadata": {
        "id": "xkvgixGRGx32",
        "colab_type": "text"
      },
      "source": [
        "Removing the unnecessary columns from the dataset"
      ]
    },
    {
      "cell_type": "code",
      "metadata": {
        "id": "TOaKn2D4E2YT",
        "colab_type": "code",
        "colab": {}
      },
      "source": [
        "y=train[\"winPlacePerc\"]\n",
        "train.drop(columns=[\"Id\",\"groupId\",\"matchId\",\"winPlacePerc\"],inplace=True)\n",
        "test.drop(columns=[\"Id\",\"groupId\",\"matchId\"],inplace=True)"
      ],
      "execution_count": 76,
      "outputs": []
    },
    {
      "cell_type": "markdown",
      "metadata": {
        "id": "K0Fd3y4UIPhR",
        "colab_type": "text"
      },
      "source": [
        " # Dividing into training set and test set"
      ]
    },
    {
      "cell_type": "markdown",
      "metadata": {
        "id": "KiwsDVsjm51c",
        "colab_type": "text"
      },
      "source": [
        "Dividing into training set and testing set (not normalised)"
      ]
    },
    {
      "cell_type": "code",
      "metadata": {
        "id": "fRUB-roRnFUw",
        "colab_type": "code",
        "colab": {}
      },
      "source": [
        "from sklearn.model_selection import train_test_split\n",
        "X_train,X_test,y_train,y_test=train_test_split(train,y,test_size=0.2,random_state=1)"
      ],
      "execution_count": 77,
      "outputs": []
    },
    {
      "cell_type": "markdown",
      "metadata": {
        "id": "Bqt0rY1EnlOM",
        "colab_type": "text"
      },
      "source": [
        "# Making pipelines"
      ]
    },
    {
      "cell_type": "markdown",
      "metadata": {
        "id": "Sq6Y19BGoJay",
        "colab_type": "text"
      },
      "source": [
        "Pipelines are an excellent way to organise your code .So here we will make multiple pipelines with some differences and evaluate their performance"
      ]
    },
    {
      "cell_type": "markdown",
      "metadata": {
        "id": "cRM-vUrnqYAo",
        "colab_type": "text"
      },
      "source": [
        "### **Pipeline 1:** <br>\n",
        "> This pipeline uses **multiple linear regression** as the machine learning model to predict the winPlacePerc .\n",
        "\n"
      ]
    },
    {
      "cell_type": "code",
      "metadata": {
        "id": "vjC-IfeWnjaK",
        "colab_type": "code",
        "colab": {}
      },
      "source": [
        "cat_col=[cname for cname in X_train.columns if X_train[cname].dtype==\"object\"]\n",
        "num_col=[cname for cname in X_train.columns if X_train[cname].dtype !=\"object\"]"
      ],
      "execution_count": 78,
      "outputs": []
    },
    {
      "cell_type": "markdown",
      "metadata": {
        "id": "KXwN1HqbrcZq",
        "colab_type": "text"
      },
      "source": [
        "Importing libraries"
      ]
    },
    {
      "cell_type": "code",
      "metadata": {
        "id": "e3vsqr6YrZie",
        "colab_type": "code",
        "colab": {}
      },
      "source": [
        "from sklearn.compose import ColumnTransformer\n",
        "from sklearn.pipeline import Pipeline\n",
        "from sklearn.impute import SimpleImputer\n",
        "from sklearn.preprocessing import OneHotEncoder\n",
        "from sklearn.linear_model import LinearRegression"
      ],
      "execution_count": 79,
      "outputs": []
    },
    {
      "cell_type": "markdown",
      "metadata": {
        "id": "CCin7nx1tEok",
        "colab_type": "text"
      },
      "source": [
        "Preprocessing the data"
      ]
    },
    {
      "cell_type": "code",
      "metadata": {
        "id": "njPQ-sVYsJ1C",
        "colab_type": "code",
        "colab": {}
      },
      "source": [
        "num_tranformer=SimpleImputer(strategy=\"constant\") #preprocessing numerical data\n",
        "cat_tranformer=Pipeline(\n",
        "    steps=[\n",
        "           (\"imputer\",SimpleImputer(strategy=\"most_frequent\")),\n",
        "           (\"onehot\",OneHotEncoder(handle_unknown=\"ignore\"))\n",
        "    ]\n",
        ") #preprocessing categorical data"
      ],
      "execution_count": 80,
      "outputs": []
    },
    {
      "cell_type": "code",
      "metadata": {
        "id": "MsonjZIRtH7q",
        "colab_type": "code",
        "colab": {}
      },
      "source": [
        "preprocessor=ColumnTransformer(\n",
        "    transformers=[\n",
        "                 (\"num\",num_tranformer,num_col),\n",
        "                 (\"cat\",cat_tranformer,cat_col)\n",
        "    ]\n",
        ")"
      ],
      "execution_count": 81,
      "outputs": []
    },
    {
      "cell_type": "markdown",
      "metadata": {
        "id": "DsfVvG39vi-f",
        "colab_type": "text"
      },
      "source": [
        "Building the model"
      ]
    },
    {
      "cell_type": "code",
      "metadata": {
        "id": "91NQRfhovbld",
        "colab_type": "code",
        "colab": {}
      },
      "source": [
        "model=LinearRegression()"
      ],
      "execution_count": 82,
      "outputs": []
    },
    {
      "cell_type": "markdown",
      "metadata": {
        "id": "6lYOhWgrwnXI",
        "colab_type": "text"
      },
      "source": [
        "Making the pipeline"
      ]
    },
    {
      "cell_type": "code",
      "metadata": {
        "id": "Ck2xyj_2wmQC",
        "colab_type": "code",
        "colab": {}
      },
      "source": [
        "clf=Pipeline(steps=[\n",
        "                    ('preprocessor',preprocessor),\n",
        "                    ('model',model)\n",
        "])"
      ],
      "execution_count": 83,
      "outputs": []
    },
    {
      "cell_type": "markdown",
      "metadata": {
        "id": "mHjxE0DuxBj2",
        "colab_type": "text"
      },
      "source": [
        "Fitting the model"
      ]
    },
    {
      "cell_type": "code",
      "metadata": {
        "id": "QTdS8GFKw4nK",
        "colab_type": "code",
        "colab": {
          "base_uri": "https://localhost:8080/",
          "height": 588
        },
        "outputId": "47c0f03b-f3c0-44cd-f370-18292d8ebc95"
      },
      "source": [
        "clf.fit(X_train,y_train)"
      ],
      "execution_count": 84,
      "outputs": [
        {
          "output_type": "execute_result",
          "data": {
            "text/plain": [
              "Pipeline(memory=None,\n",
              "         steps=[('preprocessor',\n",
              "                 ColumnTransformer(n_jobs=None, remainder='drop',\n",
              "                                   sparse_threshold=0.3,\n",
              "                                   transformer_weights=None,\n",
              "                                   transformers=[('num',\n",
              "                                                  SimpleImputer(add_indicator=False,\n",
              "                                                                copy=True,\n",
              "                                                                fill_value=None,\n",
              "                                                                missing_values=nan,\n",
              "                                                                strategy='constant',\n",
              "                                                                verbose=0),\n",
              "                                                  ['assists', 'boosts',\n",
              "                                                   'damageDealt', 'DBNOs',\n",
              "                                                   'headshotKills', 'heals',\n",
              "                                                   'killPlace', 'kil...\n",
              "                                                                                 copy=True,\n",
              "                                                                                 fill_value=None,\n",
              "                                                                                 missing_values=nan,\n",
              "                                                                                 strategy='most_frequent',\n",
              "                                                                                 verbose=0)),\n",
              "                                                                  ('onehot',\n",
              "                                                                   OneHotEncoder(categories='auto',\n",
              "                                                                                 drop=None,\n",
              "                                                                                 dtype=<class 'numpy.float64'>,\n",
              "                                                                                 handle_unknown='ignore',\n",
              "                                                                                 sparse=True))],\n",
              "                                                           verbose=False),\n",
              "                                                  ['matchType'])],\n",
              "                                   verbose=False)),\n",
              "                ('model',\n",
              "                 LinearRegression(copy_X=True, fit_intercept=True, n_jobs=None,\n",
              "                                  normalize=False))],\n",
              "         verbose=False)"
            ]
          },
          "metadata": {
            "tags": []
          },
          "execution_count": 84
        }
      ]
    },
    {
      "cell_type": "markdown",
      "metadata": {
        "id": "CsD_d21SxExH",
        "colab_type": "text"
      },
      "source": [
        "Making predictions"
      ]
    },
    {
      "cell_type": "code",
      "metadata": {
        "id": "pynQuJJUxAdB",
        "colab_type": "code",
        "colab": {}
      },
      "source": [
        "preds=clf.predict(X_test)"
      ],
      "execution_count": 85,
      "outputs": []
    },
    {
      "cell_type": "code",
      "metadata": {
        "id": "ZHEOkJDzxPuV",
        "colab_type": "code",
        "colab": {
          "base_uri": "https://localhost:8080/",
          "height": 34
        },
        "outputId": "add2f842-8439-44a3-a7b2-4faaa88c48ec"
      },
      "source": [
        "from sklearn.metrics import mean_absolute_error\n",
        "mean_absolute_error(y_test,preds)"
      ],
      "execution_count": 86,
      "outputs": [
        {
          "output_type": "execute_result",
          "data": {
            "text/plain": [
              "0.08974781255004279"
            ]
          },
          "metadata": {
            "tags": []
          },
          "execution_count": 86
        }
      ]
    },
    {
      "cell_type": "markdown",
      "metadata": {
        "id": "wkyf_2Tv67QF",
        "colab_type": "text"
      },
      "source": [
        "### **Pipeline 2** <br>\n",
        ">Clearly,linear models are not working well for this problem. So this pipeline uses **Random Forest Regression** to make predictions.From the observation above we can use any data (normalised or non-normalised)."
      ]
    },
    {
      "cell_type": "code",
      "metadata": {
        "colab_type": "code",
        "id": "Bl7sgmQWE-LK",
        "colab": {}
      },
      "source": [
        "cat_col=[cname for cname in X_train.columns if X_train[cname].dtype==\"object\"]\n",
        "num_col=[cname for cname in X_train.columns if X_train[cname].dtype !=\"object\"]"
      ],
      "execution_count": 87,
      "outputs": []
    },
    {
      "cell_type": "code",
      "metadata": {
        "id": "wFSQD57-491t",
        "colab_type": "code",
        "colab": {
          "base_uri": "https://localhost:8080/",
          "height": 420
        },
        "outputId": "9b5cdbcb-c9eb-4998-db22-a5490ea8035c"
      },
      "source": [
        "num_col"
      ],
      "execution_count": 88,
      "outputs": [
        {
          "output_type": "execute_result",
          "data": {
            "text/plain": [
              "['assists',\n",
              " 'boosts',\n",
              " 'damageDealt',\n",
              " 'DBNOs',\n",
              " 'headshotKills',\n",
              " 'heals',\n",
              " 'killPlace',\n",
              " 'killPoints',\n",
              " 'kills',\n",
              " 'killStreaks',\n",
              " 'longestKill',\n",
              " 'matchDuration',\n",
              " 'maxPlace',\n",
              " 'numGroups',\n",
              " 'rankPoints',\n",
              " 'revives',\n",
              " 'rideDistance',\n",
              " 'roadKills',\n",
              " 'swimDistance',\n",
              " 'teamKills',\n",
              " 'vehicleDestroys',\n",
              " 'walkDistance',\n",
              " 'weaponsAcquired',\n",
              " 'winPoints']"
            ]
          },
          "metadata": {
            "tags": []
          },
          "execution_count": 88
        }
      ]
    },
    {
      "cell_type": "code",
      "metadata": {
        "id": "pa46q9Mb4_JK",
        "colab_type": "code",
        "colab": {
          "base_uri": "https://localhost:8080/",
          "height": 34
        },
        "outputId": "fbd505ac-d459-423b-f965-87b11b833885"
      },
      "source": [
        "cat_col"
      ],
      "execution_count": 89,
      "outputs": [
        {
          "output_type": "execute_result",
          "data": {
            "text/plain": [
              "['matchType']"
            ]
          },
          "metadata": {
            "tags": []
          },
          "execution_count": 89
        }
      ]
    },
    {
      "cell_type": "markdown",
      "metadata": {
        "colab_type": "text",
        "id": "rSfBiV1SE-LR"
      },
      "source": [
        "Importing libraries"
      ]
    },
    {
      "cell_type": "code",
      "metadata": {
        "colab_type": "code",
        "id": "D-_ru9g4E-LS",
        "colab": {}
      },
      "source": [
        "from sklearn.compose import ColumnTransformer\n",
        "from sklearn.pipeline import Pipeline\n",
        "from sklearn.impute import SimpleImputer\n",
        "from sklearn.preprocessing import OneHotEncoder,StandardScaler\n",
        "from sklearn.ensemble import RandomForestRegressor"
      ],
      "execution_count": 90,
      "outputs": []
    },
    {
      "cell_type": "markdown",
      "metadata": {
        "colab_type": "text",
        "id": "FTMd3rNUE-Lc"
      },
      "source": [
        "Preprocessing the data"
      ]
    },
    {
      "cell_type": "code",
      "metadata": {
        "colab_type": "code",
        "id": "ypVYLEduE-Le",
        "colab": {}
      },
      "source": [
        "num_tranformer=SimpleImputer(strategy=\"constant\") #preprocessing numerical data\n",
        "cat_tranformer=Pipeline(\n",
        "    steps=[\n",
        "           (\"imputer\",SimpleImputer(strategy=\"most_frequent\")),\n",
        "           (\"onehot\",OneHotEncoder(handle_unknown=\"ignore\"))\n",
        "    ]\n",
        ") #preprocessing categorical data"
      ],
      "execution_count": 91,
      "outputs": []
    },
    {
      "cell_type": "code",
      "metadata": {
        "colab_type": "code",
        "id": "cDJogmbFE-Lk",
        "colab": {}
      },
      "source": [
        "preprocessor=ColumnTransformer(\n",
        "    transformers=[\n",
        "                 (\"num\",num_tranformer,num_col),\n",
        "                 (\"cat\",cat_tranformer,cat_col)\n",
        "    ]\n",
        ")"
      ],
      "execution_count": 92,
      "outputs": []
    },
    {
      "cell_type": "markdown",
      "metadata": {
        "colab_type": "text",
        "id": "0KMGAD4rE-Lv"
      },
      "source": [
        "Building the model"
      ]
    },
    {
      "cell_type": "code",
      "metadata": {
        "colab_type": "code",
        "id": "k-NtH7HhE-Lw",
        "colab": {}
      },
      "source": [
        "regressor=RandomForestRegressor(n_estimators=500,random_state=1,n_jobs=-1) # Random Forest Regressor"
      ],
      "execution_count": 93,
      "outputs": []
    },
    {
      "cell_type": "markdown",
      "metadata": {
        "colab_type": "text",
        "id": "dp2qClRsE-L3"
      },
      "source": [
        "Making the pipeline"
      ]
    },
    {
      "cell_type": "code",
      "metadata": {
        "colab_type": "code",
        "id": "5x8M18hQE-L5",
        "colab": {}
      },
      "source": [
        "clf=Pipeline(steps=[\n",
        "                    ('preprocessor',preprocessor),\n",
        "                    ('model',regressor)\n",
        "])"
      ],
      "execution_count": 94,
      "outputs": []
    },
    {
      "cell_type": "markdown",
      "metadata": {
        "colab_type": "text",
        "id": "JVEflePWE-MA"
      },
      "source": [
        "Fitting the model"
      ]
    },
    {
      "cell_type": "code",
      "metadata": {
        "colab_type": "code",
        "id": "jm3OVDaKE-MF",
        "colab": {
          "base_uri": "https://localhost:8080/",
          "height": 487
        },
        "outputId": "7fe56e8a-032b-4db7-f82f-574f027ec844"
      },
      "source": [
        "clf.fit(X_train,y_train)"
      ],
      "execution_count": 95,
      "outputs": [
        {
          "output_type": "execute_result",
          "data": {
            "text/plain": [
              "Pipeline(memory=None,\n",
              "         steps=[('preprocessor',\n",
              "                 ColumnTransformer(n_jobs=None, remainder='drop',\n",
              "                                   sparse_threshold=0.3,\n",
              "                                   transformer_weights=None,\n",
              "                                   transformers=[('num',\n",
              "                                                  SimpleImputer(add_indicator=False,\n",
              "                                                                copy=True,\n",
              "                                                                fill_value=None,\n",
              "                                                                missing_values=nan,\n",
              "                                                                strategy='constant',\n",
              "                                                                verbose=0),\n",
              "                                                  ['assists', 'boosts',\n",
              "                                                   'damageDealt', 'DBNOs',\n",
              "                                                   'headshotKills', 'heals',\n",
              "                                                   'killPlace', 'kil...\n",
              "                 RandomForestRegressor(bootstrap=True, ccp_alpha=0.0,\n",
              "                                       criterion='mse', max_depth=None,\n",
              "                                       max_features='auto', max_leaf_nodes=None,\n",
              "                                       max_samples=None,\n",
              "                                       min_impurity_decrease=0.0,\n",
              "                                       min_impurity_split=None,\n",
              "                                       min_samples_leaf=1, min_samples_split=2,\n",
              "                                       min_weight_fraction_leaf=0.0,\n",
              "                                       n_estimators=500, n_jobs=-1,\n",
              "                                       oob_score=False, random_state=1,\n",
              "                                       verbose=0, warm_start=False))],\n",
              "         verbose=False)"
            ]
          },
          "metadata": {
            "tags": []
          },
          "execution_count": 95
        }
      ]
    },
    {
      "cell_type": "markdown",
      "metadata": {
        "colab_type": "text",
        "id": "38k0GzjIE-MP"
      },
      "source": [
        "Making predictions"
      ]
    },
    {
      "cell_type": "code",
      "metadata": {
        "colab_type": "code",
        "id": "O7EFbKsqE-MQ",
        "colab": {}
      },
      "source": [
        "preds=clf.predict(X_test)"
      ],
      "execution_count": 96,
      "outputs": []
    },
    {
      "cell_type": "code",
      "metadata": {
        "colab_type": "code",
        "id": "2aNXvVByE-MU",
        "colab": {
          "base_uri": "https://localhost:8080/",
          "height": 34
        },
        "outputId": "ab36a6ce-7055-4402-837f-54c2159d60bc"
      },
      "source": [
        "from sklearn.metrics import mean_absolute_error\n",
        "mean_absolute_error(y_test,preds)"
      ],
      "execution_count": 97,
      "outputs": [
        {
          "output_type": "execute_result",
          "data": {
            "text/plain": [
              "0.0618662408685793"
            ]
          },
          "metadata": {
            "tags": []
          },
          "execution_count": 97
        }
      ]
    },
    {
      "cell_type": "markdown",
      "metadata": {
        "id": "MLVZL6l21QRF",
        "colab_type": "text"
      },
      "source": [
        "### **Pipeline 3**\n",
        "This pipelines experiments with **esembling** . We can ensemble different models together and get predictions from them."
      ]
    },
    {
      "cell_type": "code",
      "metadata": {
        "colab_type": "code",
        "id": "cQYXTp471rJs",
        "colab": {}
      },
      "source": [
        "cat_col=[cname for cname in X_train.columns if X_train[cname].dtype==\"object\"]\n",
        "num_col=[cname for cname in X_train.columns if X_train[cname].dtype !=\"object\"]"
      ],
      "execution_count": 174,
      "outputs": []
    },
    {
      "cell_type": "code",
      "metadata": {
        "colab_type": "code",
        "id": "3CSOTs1f1rJz",
        "colab": {
          "base_uri": "https://localhost:8080/",
          "height": 420
        },
        "outputId": "a3755514-d93e-422a-a150-22d99f45e766"
      },
      "source": [
        "num_col"
      ],
      "execution_count": 175,
      "outputs": [
        {
          "output_type": "execute_result",
          "data": {
            "text/plain": [
              "['assists',\n",
              " 'boosts',\n",
              " 'damageDealt',\n",
              " 'DBNOs',\n",
              " 'headshotKills',\n",
              " 'heals',\n",
              " 'killPlace',\n",
              " 'killPoints',\n",
              " 'kills',\n",
              " 'killStreaks',\n",
              " 'longestKill',\n",
              " 'matchDuration',\n",
              " 'maxPlace',\n",
              " 'numGroups',\n",
              " 'rankPoints',\n",
              " 'revives',\n",
              " 'rideDistance',\n",
              " 'roadKills',\n",
              " 'swimDistance',\n",
              " 'teamKills',\n",
              " 'vehicleDestroys',\n",
              " 'walkDistance',\n",
              " 'weaponsAcquired',\n",
              " 'winPoints']"
            ]
          },
          "metadata": {
            "tags": []
          },
          "execution_count": 175
        }
      ]
    },
    {
      "cell_type": "code",
      "metadata": {
        "colab_type": "code",
        "id": "zpC0JFPC1rJ4",
        "colab": {
          "base_uri": "https://localhost:8080/",
          "height": 34
        },
        "outputId": "dc520a66-fe4d-4c59-e804-6a49bd4e521d"
      },
      "source": [
        "cat_col"
      ],
      "execution_count": 176,
      "outputs": [
        {
          "output_type": "execute_result",
          "data": {
            "text/plain": [
              "['matchType']"
            ]
          },
          "metadata": {
            "tags": []
          },
          "execution_count": 176
        }
      ]
    },
    {
      "cell_type": "markdown",
      "metadata": {
        "colab_type": "text",
        "id": "pZK8wVyn1rJ7"
      },
      "source": [
        "Importing libraries"
      ]
    },
    {
      "cell_type": "code",
      "metadata": {
        "colab_type": "code",
        "id": "uJPPAe161rJ8",
        "colab": {}
      },
      "source": [
        "from sklearn.compose import ColumnTransformer\n",
        "from sklearn.pipeline import Pipeline\n",
        "from sklearn.impute import SimpleImputer\n",
        "from sklearn.preprocessing import OneHotEncoder,StandardScaler\n",
        "from sklearn.ensemble import RandomForestRegressor,GradientBoostingRegressor,VotingRegressor\n",
        "from xgboost import XGBRegressor"
      ],
      "execution_count": 177,
      "outputs": []
    },
    {
      "cell_type": "markdown",
      "metadata": {
        "colab_type": "text",
        "id": "N6_kTMcs1rJ_"
      },
      "source": [
        "Preprocessing the data"
      ]
    },
    {
      "cell_type": "code",
      "metadata": {
        "colab_type": "code",
        "id": "HQlRBR_q1rJ_",
        "colab": {}
      },
      "source": [
        "num_tranformer=SimpleImputer(strategy=\"constant\") #preprocessing numerical data\n",
        "cat_tranformer=Pipeline(\n",
        "    steps=[\n",
        "           (\"imputer\",SimpleImputer(strategy=\"most_frequent\")),\n",
        "           (\"onehot\",OneHotEncoder(handle_unknown=\"ignore\"))\n",
        "    ]\n",
        ") #preprocessing categorical data"
      ],
      "execution_count": 178,
      "outputs": []
    },
    {
      "cell_type": "code",
      "metadata": {
        "colab_type": "code",
        "id": "Fyubmn661rKC",
        "colab": {}
      },
      "source": [
        "preprocessor=ColumnTransformer(\n",
        "    transformers=[\n",
        "                 (\"num\",num_tranformer,num_col),\n",
        "                 (\"cat\",cat_tranformer,cat_col)\n",
        "    ]\n",
        ")"
      ],
      "execution_count": 179,
      "outputs": []
    },
    {
      "cell_type": "markdown",
      "metadata": {
        "colab_type": "text",
        "id": "sOpZSolz1rKE"
      },
      "source": [
        "Building the model"
      ]
    },
    {
      "cell_type": "code",
      "metadata": {
        "colab_type": "code",
        "id": "UVmn3Z2M1rKF",
        "colab": {}
      },
      "source": [
        "r1=RandomForestRegressor(n_estimators=300,random_state=1,n_jobs=-1) # Random Forest Regressor\n",
        "r2=XGBRegressor(n_estimators=300,learning_rate=0.05,objective='reg:squarederror')\n",
        "r3=GradientBoostingRegressor(random_state=1,n_estimators=300,learning_rate=0.05)\n",
        "regressor=VotingRegressor(\n",
        "    estimators=[\n",
        "     (\"r1\",r1),\n",
        "     (\"r2\",r2),\n",
        "     (\"r3\",r3)\n",
        "    ]\n",
        ")"
      ],
      "execution_count": 180,
      "outputs": []
    },
    {
      "cell_type": "markdown",
      "metadata": {
        "colab_type": "text",
        "id": "jokGzrGS1rKI"
      },
      "source": [
        "Making the pipeline"
      ]
    },
    {
      "cell_type": "code",
      "metadata": {
        "colab_type": "code",
        "id": "N1HkY2Ag1rKJ",
        "colab": {}
      },
      "source": [
        "clf=Pipeline(steps=[\n",
        "                    ('preprocessor',preprocessor),\n",
        "                    ('model',regressor)\n",
        "])"
      ],
      "execution_count": 181,
      "outputs": []
    },
    {
      "cell_type": "markdown",
      "metadata": {
        "colab_type": "text",
        "id": "aw_78QIU1rKL"
      },
      "source": [
        "Fitting the model"
      ]
    },
    {
      "cell_type": "code",
      "metadata": {
        "colab_type": "code",
        "id": "ogUrMt3n1rKM",
        "colab": {
          "base_uri": "https://localhost:8080/",
          "height": 588
        },
        "outputId": "aacd1c1d-fea1-4938-eda5-ac9feb61c0c3"
      },
      "source": [
        "clf.fit(X_train,y_train)"
      ],
      "execution_count": 182,
      "outputs": [
        {
          "output_type": "execute_result",
          "data": {
            "text/plain": [
              "Pipeline(memory=None,\n",
              "         steps=[('preprocessor',\n",
              "                 ColumnTransformer(n_jobs=None, remainder='drop',\n",
              "                                   sparse_threshold=0.3,\n",
              "                                   transformer_weights=None,\n",
              "                                   transformers=[('num',\n",
              "                                                  SimpleImputer(add_indicator=False,\n",
              "                                                                copy=True,\n",
              "                                                                fill_value=None,\n",
              "                                                                missing_values=nan,\n",
              "                                                                strategy='constant',\n",
              "                                                                verbose=0),\n",
              "                                                  ['assists', 'boosts',\n",
              "                                                   'damageDealt', 'DBNOs',\n",
              "                                                   'headshotKills', 'heals',\n",
              "                                                   'killPlace', 'kil...\n",
              "                                                                        max_features=None,\n",
              "                                                                        max_leaf_nodes=None,\n",
              "                                                                        min_impurity_decrease=0.0,\n",
              "                                                                        min_impurity_split=None,\n",
              "                                                                        min_samples_leaf=1,\n",
              "                                                                        min_samples_split=2,\n",
              "                                                                        min_weight_fraction_leaf=0.0,\n",
              "                                                                        n_estimators=300,\n",
              "                                                                        n_iter_no_change=None,\n",
              "                                                                        presort='deprecated',\n",
              "                                                                        random_state=1,\n",
              "                                                                        subsample=1.0,\n",
              "                                                                        tol=0.0001,\n",
              "                                                                        validation_fraction=0.1,\n",
              "                                                                        verbose=0,\n",
              "                                                                        warm_start=False))],\n",
              "                                 n_jobs=None, weights=None))],\n",
              "         verbose=False)"
            ]
          },
          "metadata": {
            "tags": []
          },
          "execution_count": 182
        }
      ]
    },
    {
      "cell_type": "markdown",
      "metadata": {
        "colab_type": "text",
        "id": "19tZ7Ink1rKO"
      },
      "source": [
        "Making predictions"
      ]
    },
    {
      "cell_type": "code",
      "metadata": {
        "colab_type": "code",
        "id": "Viq6vN001rKP",
        "colab": {}
      },
      "source": [
        "preds=clf.predict(X_test)"
      ],
      "execution_count": 183,
      "outputs": []
    },
    {
      "cell_type": "code",
      "metadata": {
        "colab_type": "code",
        "id": "vX5hVk0u1rKR",
        "colab": {
          "base_uri": "https://localhost:8080/",
          "height": 34
        },
        "outputId": "6c756148-82bc-44f0-8247-7ff496b528bd"
      },
      "source": [
        "from sklearn.metrics import mean_absolute_error\n",
        "mean_absolute_error(y_test,preds)"
      ],
      "execution_count": 184,
      "outputs": [
        {
          "output_type": "execute_result",
          "data": {
            "text/plain": [
              "0.06361929520044292"
            ]
          },
          "metadata": {
            "tags": []
          },
          "execution_count": 184
        }
      ]
    },
    {
      "cell_type": "markdown",
      "metadata": {
        "id": "uX5ZcEnSeqNm",
        "colab_type": "text"
      },
      "source": [
        "# Evaluating performance"
      ]
    },
    {
      "cell_type": "markdown",
      "metadata": {
        "id": "MCFyyjiK0-mP",
        "colab_type": "text"
      },
      "source": [
        "To evaluate the model we will look at various regression metrics and see what information they provide us with "
      ]
    },
    {
      "cell_type": "markdown",
      "metadata": {
        "id": "b58VU0xO10Mq",
        "colab_type": "text"
      },
      "source": [
        "**Explained Variance**"
      ]
    },
    {
      "cell_type": "code",
      "metadata": {
        "id": "cW9_4W6m0bOq",
        "colab_type": "code",
        "colab": {
          "base_uri": "https://localhost:8080/",
          "height": 34
        },
        "outputId": "353d81f6-9217-4e19-c225-24024df06a18"
      },
      "source": [
        "from sklearn.metrics import explained_variance_score\n",
        "explained_variance_score(y_test,preds)"
      ],
      "execution_count": 185,
      "outputs": [
        {
          "output_type": "execute_result",
          "data": {
            "text/plain": [
              "0.915917620568069"
            ]
          },
          "metadata": {
            "tags": []
          },
          "execution_count": 185
        }
      ]
    },
    {
      "cell_type": "markdown",
      "metadata": {
        "id": "HanwL19e2R7e",
        "colab_type": "text"
      },
      "source": [
        "From the above score we can see that our model explains 91% of the variance in the data."
      ]
    },
    {
      "cell_type": "markdown",
      "metadata": {
        "id": "L03owpiU3FZn",
        "colab_type": "text"
      },
      "source": [
        "**R2 score**"
      ]
    },
    {
      "cell_type": "code",
      "metadata": {
        "id": "i2p67Gqs3qe3",
        "colab_type": "code",
        "colab": {
          "base_uri": "https://localhost:8080/",
          "height": 34
        },
        "outputId": "56793506-1eca-4a16-d67f-2a60d35f11d9"
      },
      "source": [
        "from sklearn.metrics import r2_score\n",
        "r2_score(y_test,preds)"
      ],
      "execution_count": 186,
      "outputs": [
        {
          "output_type": "execute_result",
          "data": {
            "text/plain": [
              "0.9159174619971939"
            ]
          },
          "metadata": {
            "tags": []
          },
          "execution_count": 186
        }
      ]
    },
    {
      "cell_type": "markdown",
      "metadata": {
        "id": "nJSVfdPv30i-",
        "colab_type": "text"
      },
      "source": [
        "R2 square is pretty close to the explained variance  score of the model.This model is pretty accurate but can be improved. "
      ]
    },
    {
      "cell_type": "markdown",
      "metadata": {
        "id": "StEIHwJ94Q5C",
        "colab_type": "text"
      },
      "source": [
        "**RMS (Root mean squared error)**"
      ]
    },
    {
      "cell_type": "code",
      "metadata": {
        "id": "tb_h5V8a4XpP",
        "colab_type": "code",
        "colab": {
          "base_uri": "https://localhost:8080/",
          "height": 34
        },
        "outputId": "1f77d34c-eb7e-47c0-c4c4-a532c3012acd"
      },
      "source": [
        "from sklearn.metrics import mean_squared_error\n",
        "np.sqrt(mean_squared_error(y_test,preds))"
      ],
      "execution_count": 187,
      "outputs": [
        {
          "output_type": "execute_result",
          "data": {
            "text/plain": [
              "0.08923642566854123"
            ]
          },
          "metadata": {
            "tags": []
          },
          "execution_count": 187
        }
      ]
    },
    {
      "cell_type": "markdown",
      "metadata": {
        "id": "PkwGwaIHnzpY",
        "colab_type": "text"
      },
      "source": [
        "# Output on test data"
      ]
    },
    {
      "cell_type": "markdown",
      "metadata": {
        "id": "eytO2LWPrIfA",
        "colab_type": "text"
      },
      "source": [
        "Using the model to make the final predictions "
      ]
    },
    {
      "cell_type": "code",
      "metadata": {
        "id": "njCwYvWHn9KI",
        "colab_type": "code",
        "colab": {}
      },
      "source": [
        "final_pred=clf.predict(test)"
      ],
      "execution_count": 188,
      "outputs": []
    },
    {
      "cell_type": "code",
      "metadata": {
        "id": "MpaYsCabpkyh",
        "colab_type": "code",
        "colab": {}
      },
      "source": [
        "output=pd.DataFrame()\n",
        "output[\"prediction\"]=final_pred"
      ],
      "execution_count": 189,
      "outputs": []
    },
    {
      "cell_type": "code",
      "metadata": {
        "id": "UanXudHjqU81",
        "colab_type": "code",
        "colab": {
          "base_uri": "https://localhost:8080/",
          "height": 402
        },
        "outputId": "90ccaec5-098f-4cb6-abf7-bd5bfeb17f5c"
      },
      "source": [
        "output"
      ],
      "execution_count": 190,
      "outputs": [
        {
          "output_type": "execute_result",
          "data": {
            "text/html": [
              "<div>\n",
              "<style scoped>\n",
              "    .dataframe tbody tr th:only-of-type {\n",
              "        vertical-align: middle;\n",
              "    }\n",
              "\n",
              "    .dataframe tbody tr th {\n",
              "        vertical-align: top;\n",
              "    }\n",
              "\n",
              "    .dataframe thead th {\n",
              "        text-align: right;\n",
              "    }\n",
              "</style>\n",
              "<table border=\"1\" class=\"dataframe\">\n",
              "  <thead>\n",
              "    <tr style=\"text-align: right;\">\n",
              "      <th></th>\n",
              "      <th>prediction</th>\n",
              "    </tr>\n",
              "  </thead>\n",
              "  <tbody>\n",
              "    <tr>\n",
              "      <th>0</th>\n",
              "      <td>0.245904</td>\n",
              "    </tr>\n",
              "    <tr>\n",
              "      <th>1</th>\n",
              "      <td>0.888984</td>\n",
              "    </tr>\n",
              "    <tr>\n",
              "      <th>2</th>\n",
              "      <td>0.610949</td>\n",
              "    </tr>\n",
              "    <tr>\n",
              "      <th>3</th>\n",
              "      <td>0.549823</td>\n",
              "    </tr>\n",
              "    <tr>\n",
              "      <th>4</th>\n",
              "      <td>0.915475</td>\n",
              "    </tr>\n",
              "    <tr>\n",
              "      <th>...</th>\n",
              "      <td>...</td>\n",
              "    </tr>\n",
              "    <tr>\n",
              "      <th>1934169</th>\n",
              "      <td>0.707640</td>\n",
              "    </tr>\n",
              "    <tr>\n",
              "      <th>1934170</th>\n",
              "      <td>0.406476</td>\n",
              "    </tr>\n",
              "    <tr>\n",
              "      <th>1934171</th>\n",
              "      <td>0.870378</td>\n",
              "    </tr>\n",
              "    <tr>\n",
              "      <th>1934172</th>\n",
              "      <td>0.828065</td>\n",
              "    </tr>\n",
              "    <tr>\n",
              "      <th>1934173</th>\n",
              "      <td>0.072400</td>\n",
              "    </tr>\n",
              "  </tbody>\n",
              "</table>\n",
              "<p>1934174 rows × 1 columns</p>\n",
              "</div>"
            ],
            "text/plain": [
              "         prediction\n",
              "0          0.245904\n",
              "1          0.888984\n",
              "2          0.610949\n",
              "3          0.549823\n",
              "4          0.915475\n",
              "...             ...\n",
              "1934169    0.707640\n",
              "1934170    0.406476\n",
              "1934171    0.870378\n",
              "1934172    0.828065\n",
              "1934173    0.072400\n",
              "\n",
              "[1934174 rows x 1 columns]"
            ]
          },
          "metadata": {
            "tags": []
          },
          "execution_count": 190
        }
      ]
    }
  ]
}