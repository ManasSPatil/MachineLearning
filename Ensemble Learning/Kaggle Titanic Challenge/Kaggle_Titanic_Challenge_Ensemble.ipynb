{
  "nbformat": 4,
  "nbformat_minor": 0,
  "metadata": {
    "colab": {
      "name": "Kaggle_Titanic_Challenge_Ensemble.ipynb",
      "provenance": [],
      "collapsed_sections": []
    },
    "kernelspec": {
      "name": "python3",
      "display_name": "Python 3"
    }
  },
  "cells": [
    {
      "cell_type": "markdown",
      "metadata": {
        "id": "97PEG-WNpkaK",
        "colab_type": "text"
      },
      "source": [
        "#Data Pre-processing"
      ]
    },
    {
      "cell_type": "code",
      "metadata": {
        "id": "tjxEfY-6tSzn",
        "colab_type": "code",
        "colab": {}
      },
      "source": [
        "import numpy as np\n",
        "import pandas as pd\n",
        "import matplotlib.pyplot as plt"
      ],
      "execution_count": 0,
      "outputs": []
    },
    {
      "cell_type": "markdown",
      "metadata": {
        "id": "T6n8g9M2tot0",
        "colab_type": "text"
      },
      "source": [
        "Import the dataset"
      ]
    },
    {
      "cell_type": "code",
      "metadata": {
        "id": "m_IuDNOEuZ7L",
        "colab_type": "code",
        "outputId": "9b7372d8-ffaa-4452-893f-0b89d3984a34",
        "colab": {
          "base_uri": "https://localhost:8080/",
          "height": 402
        }
      },
      "source": [
        "#importing the dataset\n",
        "dataset=pd.read_csv(\"train_formatted.csv\")\n",
        "dataset"
      ],
      "execution_count": 6,
      "outputs": [
        {
          "output_type": "execute_result",
          "data": {
            "text/html": [
              "<div>\n",
              "<style scoped>\n",
              "    .dataframe tbody tr th:only-of-type {\n",
              "        vertical-align: middle;\n",
              "    }\n",
              "\n",
              "    .dataframe tbody tr th {\n",
              "        vertical-align: top;\n",
              "    }\n",
              "\n",
              "    .dataframe thead th {\n",
              "        text-align: right;\n",
              "    }\n",
              "</style>\n",
              "<table border=\"1\" class=\"dataframe\">\n",
              "  <thead>\n",
              "    <tr style=\"text-align: right;\">\n",
              "      <th></th>\n",
              "      <th>Survived</th>\n",
              "      <th>Pclass</th>\n",
              "      <th>Name</th>\n",
              "      <th>Sex</th>\n",
              "      <th>Age</th>\n",
              "      <th>SibSp</th>\n",
              "      <th>Parch</th>\n",
              "      <th>Ticket</th>\n",
              "      <th>Fare</th>\n",
              "      <th>Cabin</th>\n",
              "      <th>Embarked</th>\n",
              "    </tr>\n",
              "  </thead>\n",
              "  <tbody>\n",
              "    <tr>\n",
              "      <th>0</th>\n",
              "      <td>0</td>\n",
              "      <td>3</td>\n",
              "      <td>Braund, Mr. Owen Harris</td>\n",
              "      <td>male</td>\n",
              "      <td>22.0</td>\n",
              "      <td>1</td>\n",
              "      <td>0</td>\n",
              "      <td>A/5 21171</td>\n",
              "      <td>7.2500</td>\n",
              "      <td>unknown</td>\n",
              "      <td>S</td>\n",
              "    </tr>\n",
              "    <tr>\n",
              "      <th>1</th>\n",
              "      <td>1</td>\n",
              "      <td>1</td>\n",
              "      <td>Cumings, Mrs. John Bradley (Florence Briggs Th...</td>\n",
              "      <td>female</td>\n",
              "      <td>38.0</td>\n",
              "      <td>1</td>\n",
              "      <td>0</td>\n",
              "      <td>PC 17599</td>\n",
              "      <td>71.2833</td>\n",
              "      <td>C</td>\n",
              "      <td>C</td>\n",
              "    </tr>\n",
              "    <tr>\n",
              "      <th>2</th>\n",
              "      <td>1</td>\n",
              "      <td>3</td>\n",
              "      <td>Heikkinen, Miss. Laina</td>\n",
              "      <td>female</td>\n",
              "      <td>26.0</td>\n",
              "      <td>0</td>\n",
              "      <td>0</td>\n",
              "      <td>STON/O2. 3101282</td>\n",
              "      <td>7.9250</td>\n",
              "      <td>unknown</td>\n",
              "      <td>S</td>\n",
              "    </tr>\n",
              "    <tr>\n",
              "      <th>3</th>\n",
              "      <td>1</td>\n",
              "      <td>1</td>\n",
              "      <td>Futrelle, Mrs. Jacques Heath (Lily May Peel)</td>\n",
              "      <td>female</td>\n",
              "      <td>35.0</td>\n",
              "      <td>1</td>\n",
              "      <td>0</td>\n",
              "      <td>113803</td>\n",
              "      <td>53.1000</td>\n",
              "      <td>C</td>\n",
              "      <td>S</td>\n",
              "    </tr>\n",
              "    <tr>\n",
              "      <th>4</th>\n",
              "      <td>0</td>\n",
              "      <td>3</td>\n",
              "      <td>Allen, Mr. William Henry</td>\n",
              "      <td>male</td>\n",
              "      <td>35.0</td>\n",
              "      <td>0</td>\n",
              "      <td>0</td>\n",
              "      <td>373450</td>\n",
              "      <td>8.0500</td>\n",
              "      <td>unknown</td>\n",
              "      <td>S</td>\n",
              "    </tr>\n",
              "    <tr>\n",
              "      <th>...</th>\n",
              "      <td>...</td>\n",
              "      <td>...</td>\n",
              "      <td>...</td>\n",
              "      <td>...</td>\n",
              "      <td>...</td>\n",
              "      <td>...</td>\n",
              "      <td>...</td>\n",
              "      <td>...</td>\n",
              "      <td>...</td>\n",
              "      <td>...</td>\n",
              "      <td>...</td>\n",
              "    </tr>\n",
              "    <tr>\n",
              "      <th>886</th>\n",
              "      <td>0</td>\n",
              "      <td>2</td>\n",
              "      <td>Montvila, Rev. Juozas</td>\n",
              "      <td>male</td>\n",
              "      <td>27.0</td>\n",
              "      <td>0</td>\n",
              "      <td>0</td>\n",
              "      <td>211536</td>\n",
              "      <td>13.0000</td>\n",
              "      <td>unknown</td>\n",
              "      <td>S</td>\n",
              "    </tr>\n",
              "    <tr>\n",
              "      <th>887</th>\n",
              "      <td>1</td>\n",
              "      <td>1</td>\n",
              "      <td>Graham, Miss. Margaret Edith</td>\n",
              "      <td>female</td>\n",
              "      <td>19.0</td>\n",
              "      <td>0</td>\n",
              "      <td>0</td>\n",
              "      <td>112053</td>\n",
              "      <td>30.0000</td>\n",
              "      <td>B</td>\n",
              "      <td>S</td>\n",
              "    </tr>\n",
              "    <tr>\n",
              "      <th>888</th>\n",
              "      <td>0</td>\n",
              "      <td>3</td>\n",
              "      <td>Johnston, Miss. Catherine Helen \"Carrie\"</td>\n",
              "      <td>female</td>\n",
              "      <td>NaN</td>\n",
              "      <td>1</td>\n",
              "      <td>2</td>\n",
              "      <td>W./C. 6607</td>\n",
              "      <td>23.4500</td>\n",
              "      <td>unknown</td>\n",
              "      <td>S</td>\n",
              "    </tr>\n",
              "    <tr>\n",
              "      <th>889</th>\n",
              "      <td>1</td>\n",
              "      <td>1</td>\n",
              "      <td>Behr, Mr. Karl Howell</td>\n",
              "      <td>male</td>\n",
              "      <td>26.0</td>\n",
              "      <td>0</td>\n",
              "      <td>0</td>\n",
              "      <td>111369</td>\n",
              "      <td>30.0000</td>\n",
              "      <td>C</td>\n",
              "      <td>C</td>\n",
              "    </tr>\n",
              "    <tr>\n",
              "      <th>890</th>\n",
              "      <td>0</td>\n",
              "      <td>3</td>\n",
              "      <td>Dooley, Mr. Patrick</td>\n",
              "      <td>male</td>\n",
              "      <td>32.0</td>\n",
              "      <td>0</td>\n",
              "      <td>0</td>\n",
              "      <td>370376</td>\n",
              "      <td>7.7500</td>\n",
              "      <td>unknown</td>\n",
              "      <td>Q</td>\n",
              "    </tr>\n",
              "  </tbody>\n",
              "</table>\n",
              "<p>891 rows × 11 columns</p>\n",
              "</div>"
            ],
            "text/plain": [
              "     Survived  Pclass  ...    Cabin Embarked\n",
              "0           0       3  ...  unknown        S\n",
              "1           1       1  ...        C        C\n",
              "2           1       3  ...  unknown        S\n",
              "3           1       1  ...        C        S\n",
              "4           0       3  ...  unknown        S\n",
              "..        ...     ...  ...      ...      ...\n",
              "886         0       2  ...  unknown        S\n",
              "887         1       1  ...        B        S\n",
              "888         0       3  ...  unknown        S\n",
              "889         1       1  ...        C        C\n",
              "890         0       3  ...  unknown        Q\n",
              "\n",
              "[891 rows x 11 columns]"
            ]
          },
          "metadata": {
            "tags": []
          },
          "execution_count": 6
        }
      ]
    },
    {
      "cell_type": "markdown",
      "metadata": {
        "id": "JIvMTcBHF5YD",
        "colab_type": "text"
      },
      "source": [
        "Extracting matrix of features and dependent variable"
      ]
    },
    {
      "cell_type": "code",
      "metadata": {
        "id": "CUeMor3Vu0m8",
        "colab_type": "code",
        "colab": {}
      },
      "source": [
        "X=dataset.iloc[:,[1,3,4,5,6,7,8,9,10]].values\n",
        "y=dataset.iloc[:,0].values"
      ],
      "execution_count": 0,
      "outputs": []
    },
    {
      "cell_type": "code",
      "metadata": {
        "id": "fnvNb0AHvWCL",
        "colab_type": "code",
        "outputId": "8dde7f2b-9a79-47f9-ab8b-6898591f2644",
        "colab": {
          "base_uri": "https://localhost:8080/",
          "height": 134
        }
      },
      "source": [
        "X"
      ],
      "execution_count": 8,
      "outputs": [
        {
          "output_type": "execute_result",
          "data": {
            "text/plain": [
              "array([[3, 'male', 22.0, ..., 7.25, 'unknown', 'S'],\n",
              "       [1, 'female', 38.0, ..., 71.2833, 'C', 'C'],\n",
              "       [3, 'female', 26.0, ..., 7.925, 'unknown', 'S'],\n",
              "       ...,\n",
              "       [3, 'female', nan, ..., 23.45, 'unknown', 'S'],\n",
              "       [1, 'male', 26.0, ..., 30.0, 'C', 'C'],\n",
              "       [3, 'male', 32.0, ..., 7.75, 'unknown', 'Q']], dtype=object)"
            ]
          },
          "metadata": {
            "tags": []
          },
          "execution_count": 8
        }
      ]
    },
    {
      "cell_type": "markdown",
      "metadata": {
        "id": "P9Y0aRi9GBbz",
        "colab_type": "text"
      },
      "source": [
        "Dealing with Missing Values"
      ]
    },
    {
      "cell_type": "code",
      "metadata": {
        "id": "9DhqM5kQy7sf",
        "colab_type": "code",
        "colab": {}
      },
      "source": [
        "#dealing with missing values\n",
        "from sklearn.impute import SimpleImputer\n",
        "imputer=SimpleImputer(missing_values=np.nan,strategy='mean')\n",
        "imputer=imputer.fit(X[:,2:3])\n",
        "X[:,2:3]=imputer.transform(X[:,2:3])"
      ],
      "execution_count": 0,
      "outputs": []
    },
    {
      "cell_type": "code",
      "metadata": {
        "id": "Y_N5isBxwBrK",
        "colab_type": "code",
        "outputId": "27c91a8b-e9dc-4246-bab3-5eadc919cc77",
        "colab": {
          "base_uri": "https://localhost:8080/",
          "height": 134
        }
      },
      "source": [
        "X"
      ],
      "execution_count": 10,
      "outputs": [
        {
          "output_type": "execute_result",
          "data": {
            "text/plain": [
              "array([[3, 'male', 22.0, ..., 7.25, 'unknown', 'S'],\n",
              "       [1, 'female', 38.0, ..., 71.2833, 'C', 'C'],\n",
              "       [3, 'female', 26.0, ..., 7.925, 'unknown', 'S'],\n",
              "       ...,\n",
              "       [3, 'female', 29.69911764705882, ..., 23.45, 'unknown', 'S'],\n",
              "       [1, 'male', 26.0, ..., 30.0, 'C', 'C'],\n",
              "       [3, 'male', 32.0, ..., 7.75, 'unknown', 'Q']], dtype=object)"
            ]
          },
          "metadata": {
            "tags": []
          },
          "execution_count": 10
        }
      ]
    },
    {
      "cell_type": "markdown",
      "metadata": {
        "id": "guZBdCIBHelc",
        "colab_type": "text"
      },
      "source": [
        "Encoding categorical variables"
      ]
    },
    {
      "cell_type": "code",
      "metadata": {
        "id": "DbVNU0m2vHU-",
        "colab_type": "code",
        "colab": {}
      },
      "source": [
        "#categorical encoding \n",
        "from sklearn.preprocessing import LabelEncoder,OneHotEncoder\n",
        "labelencoder_X=LabelEncoder()\n",
        "X[:,0]=labelencoder_X.fit_transform(X[:,0])\n",
        "X[:,1]=labelencoder_X.fit_transform(X[:,1])\n",
        "X[:,7]=labelencoder_X.fit_transform(X[:,7])\n",
        "X[:,8]=labelencoder_X.fit_transform(X[:,8])"
      ],
      "execution_count": 0,
      "outputs": []
    },
    {
      "cell_type": "code",
      "metadata": {
        "id": "9uOJKw47vHih",
        "colab_type": "code",
        "colab": {}
      },
      "source": [
        "#Removing ticket column\n",
        "X=X[:,[0,1,2,3,4,6,7,8]]"
      ],
      "execution_count": 0,
      "outputs": []
    },
    {
      "cell_type": "markdown",
      "metadata": {
        "id": "5hendKzoGLss",
        "colab_type": "text"
      },
      "source": [
        "Dummy coding categorical variables with more than 2 categories"
      ]
    },
    {
      "cell_type": "code",
      "metadata": {
        "id": "_ycIeYZCwRxk",
        "colab_type": "code",
        "colab": {}
      },
      "source": [
        "#Dummy coding using OneHotEncoder\n",
        "#X\n",
        "from sklearn.compose import ColumnTransformer\n",
        "\n",
        "transformer = ColumnTransformer(\n",
        "    transformers=[\n",
        "        (\"OneHot\",        # Just a name\n",
        "         OneHotEncoder(), # The transformer class\n",
        "         [0]              # The column(s) to be applied on.\n",
        "         )\n",
        "    ],\n",
        "    remainder='passthrough' # donot apply anything to the remaining columns\n",
        ")\n",
        "X = transformer.fit_transform(X.tolist())\n",
        "X = X.astype('float64')\n",
        "\n",
        "# To avoid the dummy variable trap , we remove one  of the dummy variables \n",
        "X=X[:,1:]"
      ],
      "execution_count": 0,
      "outputs": []
    },
    {
      "cell_type": "code",
      "metadata": {
        "id": "dBuPeX8YwVoU",
        "colab_type": "code",
        "colab": {}
      },
      "source": [
        "#Dummy coding using OneHotEncoder\n",
        "#X\n",
        "from sklearn.compose import ColumnTransformer\n",
        "\n",
        "transformer = ColumnTransformer(\n",
        "    transformers=[\n",
        "        (\"OneHot\",        # Just a name\n",
        "         OneHotEncoder(), # The transformer class\n",
        "         [7]              # The column(s) to be applied on.\n",
        "         )\n",
        "    ],\n",
        "    remainder='passthrough' # donot apply anything to the remaining columns\n",
        ")\n",
        "X = transformer.fit_transform(X.tolist())\n",
        "X = X.astype('float64')\n",
        "\n",
        "# To avoid the dummy variable trap , we remove one  of the dummy variables \n",
        "X=X[:,1:]"
      ],
      "execution_count": 0,
      "outputs": []
    },
    {
      "cell_type": "code",
      "metadata": {
        "id": "LEAWWqclwWmi",
        "colab_type": "code",
        "colab": {}
      },
      "source": [
        "#Dummy coding using OneHotEncoder\n",
        "#X\n",
        "from sklearn.compose import ColumnTransformer\n",
        "\n",
        "transformer = ColumnTransformer(\n",
        "    transformers=[\n",
        "        (\"OneHot\",        # Just a name\n",
        "         OneHotEncoder(), # The transformer class\n",
        "         [15]              # The column(s) to be applied on.\n",
        "         )\n",
        "    ],\n",
        "    remainder='passthrough' # donot apply anything to the remaining columns\n",
        ")\n",
        "X = transformer.fit_transform(X.tolist())\n",
        "X = X.astype('float64')\n",
        "\n",
        "# To avoid the dummy variable trap , we remove one  of the dummy variables \n",
        "X=X[:,1:]"
      ],
      "execution_count": 0,
      "outputs": []
    },
    {
      "cell_type": "code",
      "metadata": {
        "id": "HJDAgP8Pwhnm",
        "colab_type": "code",
        "outputId": "22c6b3b1-bc07-4678-9a73-3391b64c8fe7",
        "colab": {
          "base_uri": "https://localhost:8080/",
          "height": 67
        }
      },
      "source": [
        "X[1,:]"
      ],
      "execution_count": 16,
      "outputs": [
        {
          "output_type": "execute_result",
          "data": {
            "text/plain": [
              "array([ 0.    ,  0.    ,  0.    ,  0.    ,  1.    ,  0.    ,  0.    ,\n",
              "        0.    ,  0.    ,  0.    ,  0.    ,  0.    ,  0.    ,  0.    ,\n",
              "       38.    ,  1.    ,  0.    , 71.2833])"
            ]
          },
          "metadata": {
            "tags": []
          },
          "execution_count": 16
        }
      ]
    },
    {
      "cell_type": "markdown",
      "metadata": {
        "id": "08zfeYURGTlX",
        "colab_type": "text"
      },
      "source": [
        "Splitting the dataset into training set and test set"
      ]
    },
    {
      "cell_type": "code",
      "metadata": {
        "id": "fjvY1JKzvH3s",
        "colab_type": "code",
        "colab": {}
      },
      "source": [
        "#splitting the dataset into training and test set\n",
        "from sklearn.model_selection import train_test_split\n",
        "X_train,X_test,y_train,y_test=train_test_split(X,y,test_size=0.2,random_state=0)"
      ],
      "execution_count": 0,
      "outputs": []
    },
    {
      "cell_type": "markdown",
      "metadata": {
        "id": "PKCb1n4qGYzp",
        "colab_type": "text"
      },
      "source": [
        "Applying feature scaling"
      ]
    },
    {
      "cell_type": "code",
      "metadata": {
        "id": "mDYvFMwbvQ9e",
        "colab_type": "code",
        "colab": {}
      },
      "source": [
        "from sklearn.preprocessing import StandardScaler\n",
        "sc_X2=StandardScaler()\n",
        "# scaling dummy variables\n",
        "X_train=sc_X2.fit_transform(X_train)\n",
        "X_test=sc_X2.transform(X_test)"
      ],
      "execution_count": 0,
      "outputs": []
    },
    {
      "cell_type": "code",
      "metadata": {
        "id": "cqrQX_DH8yan",
        "colab_type": "code",
        "outputId": "98118bcc-f036-4fd7-9095-730032686ca2",
        "colab": {
          "base_uri": "https://localhost:8080/",
          "height": 84
        }
      },
      "source": [
        "X_train[1,:]"
      ],
      "execution_count": 19,
      "outputs": [
        {
          "output_type": "execute_result",
          "data": {
            "text/plain": [
              "array([-0.31426968,  0.61414657, -0.05307449, -0.23076923, -0.25664813,\n",
              "       -0.19468147, -0.20973381, -0.10660036, -0.06504853, -0.03750293,\n",
              "        0.54488848,  1.96893685, -1.11944833,  0.72882288,  0.09662937,\n",
              "       -0.46445234, -0.47741019, -0.42640542])"
            ]
          },
          "metadata": {
            "tags": []
          },
          "execution_count": 19
        }
      ]
    },
    {
      "cell_type": "code",
      "metadata": {
        "id": "_94GOrLylqBi",
        "colab_type": "code",
        "colab": {
          "base_uri": "https://localhost:8080/",
          "height": 34
        },
        "outputId": "f2cab225-8716-468c-e945-49486a0a79d8"
      },
      "source": [
        "X_train.shape"
      ],
      "execution_count": 37,
      "outputs": [
        {
          "output_type": "execute_result",
          "data": {
            "text/plain": [
              "(712, 18)"
            ]
          },
          "metadata": {
            "tags": []
          },
          "execution_count": 37
        }
      ]
    },
    {
      "cell_type": "markdown",
      "metadata": {
        "id": "A3v3LZVAp56I",
        "colab_type": "text"
      },
      "source": [
        "#Applying Ensemble Learning "
      ]
    },
    {
      "cell_type": "code",
      "metadata": {
        "id": "L3OgHXYtiec0",
        "colab_type": "code",
        "colab": {
          "base_uri": "https://localhost:8080/",
          "height": 521
        },
        "outputId": "76d71910-7995-4543-df76-432fd0dad773"
      },
      "source": [
        "from sklearn.ensemble import VotingClassifier\n",
        "from sklearn.ensemble import RandomForestClassifier\n",
        "from sklearn.svm import SVC\n",
        "from sklearn.neighbors import KNeighborsClassifier\n",
        "clf1=KNeighborsClassifier(n_neighbors=5,p=2,metric=\"minkowski\")\n",
        "clf2=SVC(kernel='rbf',random_state=0)\n",
        "clf3=RandomForestClassifier(n_estimators=200,criterion=\"entropy\",random_state=0)\n",
        "eclf1 = VotingClassifier(estimators=[('knn', clf1), ('svc', clf2), ('rf', clf3)], voting='hard')\n",
        "eclf1.fit(X_train,y_train)\n",
        "\n"
      ],
      "execution_count": 20,
      "outputs": [
        {
          "output_type": "execute_result",
          "data": {
            "text/plain": [
              "VotingClassifier(estimators=[('knn',\n",
              "                              KNeighborsClassifier(algorithm='auto',\n",
              "                                                   leaf_size=30,\n",
              "                                                   metric='minkowski',\n",
              "                                                   metric_params=None,\n",
              "                                                   n_jobs=None, n_neighbors=5,\n",
              "                                                   p=2, weights='uniform')),\n",
              "                             ('svc',\n",
              "                              SVC(C=1.0, break_ties=False, cache_size=200,\n",
              "                                  class_weight=None, coef0=0.0,\n",
              "                                  decision_function_shape='ovr', degree=3,\n",
              "                                  gamma='scale', kernel='rbf', max_iter=-1,\n",
              "                                  probability=False, ra...\n",
              "                                                     criterion='entropy',\n",
              "                                                     max_depth=None,\n",
              "                                                     max_features='auto',\n",
              "                                                     max_leaf_nodes=None,\n",
              "                                                     max_samples=None,\n",
              "                                                     min_impurity_decrease=0.0,\n",
              "                                                     min_impurity_split=None,\n",
              "                                                     min_samples_leaf=1,\n",
              "                                                     min_samples_split=2,\n",
              "                                                     min_weight_fraction_leaf=0.0,\n",
              "                                                     n_estimators=200,\n",
              "                                                     n_jobs=None,\n",
              "                                                     oob_score=False,\n",
              "                                                     random_state=0, verbose=0,\n",
              "                                                     warm_start=False))],\n",
              "                 flatten_transform=True, n_jobs=None, voting='hard',\n",
              "                 weights=None)"
            ]
          },
          "metadata": {
            "tags": []
          },
          "execution_count": 20
        }
      ]
    },
    {
      "cell_type": "markdown",
      "metadata": {
        "id": "6dc7uSNKqW8p",
        "colab_type": "text"
      },
      "source": [
        "#Making Predictions and checking accuracy"
      ]
    },
    {
      "cell_type": "markdown",
      "metadata": {
        "id": "VURC6UWBqdfX",
        "colab_type": "text"
      },
      "source": [
        "Making predictions using classifier"
      ]
    },
    {
      "cell_type": "code",
      "metadata": {
        "id": "NbSEZqJ5imjw",
        "colab_type": "code",
        "colab": {}
      },
      "source": [
        "#predicting results\n",
        "y_pred=eclf1.predict(X_test)\n"
      ],
      "execution_count": 0,
      "outputs": []
    },
    {
      "cell_type": "markdown",
      "metadata": {
        "id": "b50f9foLqhsK",
        "colab_type": "text"
      },
      "source": [
        "Building confusion matrix"
      ]
    },
    {
      "cell_type": "code",
      "metadata": {
        "id": "BOawkdPnioNA",
        "colab_type": "code",
        "colab": {
          "base_uri": "https://localhost:8080/",
          "height": 50
        },
        "outputId": "8f7ecfcc-bbd3-4abc-a3d7-1a15e12f6c1e"
      },
      "source": [
        "#seeing accuracy\n",
        "from sklearn.metrics import confusion_matrix\n",
        "cm=confusion_matrix(y_test,y_pred)\n",
        "pred_true=cm[0,0]+cm[1,1]\n",
        "pred_false=cm[0,1]+cm[1,0]\n",
        "print(\"correct predictions:\"+str(pred_true))\n",
        "print(\"incorrect predictions:\"+str(pred_false))"
      ],
      "execution_count": 22,
      "outputs": [
        {
          "output_type": "stream",
          "text": [
            "correct predictions:146\n",
            "incorrect predictions:33\n"
          ],
          "name": "stdout"
        }
      ]
    },
    {
      "cell_type": "markdown",
      "metadata": {
        "id": "OJadL2atqm_m",
        "colab_type": "text"
      },
      "source": [
        "Applying k-fold cross validation"
      ]
    },
    {
      "cell_type": "code",
      "metadata": {
        "colab_type": "code",
        "id": "CANYrNyHnoSd",
        "colab": {}
      },
      "source": [
        "from sklearn.model_selection import cross_val_score\n",
        "'''this will return the k accuracies of the k experiments '''\n",
        "accuracies=cross_val_score(estimator=eclf1,X=X_train,y=y_train,cv=10)"
      ],
      "execution_count": 0,
      "outputs": []
    },
    {
      "cell_type": "code",
      "metadata": {
        "id": "Xwt4x0XSnqG_",
        "colab_type": "code",
        "colab": {
          "base_uri": "https://localhost:8080/",
          "height": 34
        },
        "outputId": "df7d9372-27a7-457b-e9c6-bf920b6ac0f0"
      },
      "source": [
        "accuracies.std()"
      ],
      "execution_count": 42,
      "outputs": [
        {
          "output_type": "execute_result",
          "data": {
            "text/plain": [
              "0.022307881150360073"
            ]
          },
          "metadata": {
            "tags": []
          },
          "execution_count": 42
        }
      ]
    },
    {
      "cell_type": "code",
      "metadata": {
        "id": "OEwwtBUYnilp",
        "colab_type": "code",
        "colab": {
          "base_uri": "https://localhost:8080/",
          "height": 34
        },
        "outputId": "199f6538-a6c4-4ef1-a619-acb1e575756c"
      },
      "source": [
        "accuracies.mean()"
      ],
      "execution_count": 43,
      "outputs": [
        {
          "output_type": "execute_result",
          "data": {
            "text/plain": [
              "0.8076291079812206"
            ]
          },
          "metadata": {
            "tags": []
          },
          "execution_count": 43
        }
      ]
    }
  ]
}